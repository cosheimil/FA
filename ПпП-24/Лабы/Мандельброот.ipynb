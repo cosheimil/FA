{
 "cells": [
  {
   "cell_type": "code",
   "execution_count": 1,
   "metadata": {},
   "outputs": [
    {
     "name": "stdout",
     "output_type": "stream",
     "text": [
      "[Taichi] version 1.7.2, llvm 15.0.4, commit 0131dce9, linux, python 3.11.8\n"
     ]
    },
    {
     "name": "stderr",
     "output_type": "stream",
     "text": [
      "[I 10/06/24 18:18:38.989 46697] [shell.py:_shell_pop_print@23] Graphical python shell detected, using wrapped sys.stdout\n"
     ]
    }
   ],
   "source": [
    "import taichi as ti\n",
    "from numpy import linspace, array\n",
    "from scipy.interpolate import pchip_interpolate"
   ]
  },
  {
   "cell_type": "code",
   "execution_count": 4,
   "metadata": {},
   "outputs": [
    {
     "name": "stdout",
     "output_type": "stream",
     "text": [
      "[Taichi] Starting on arch=x64\n"
     ]
    }
   ],
   "source": [
    "import taichi as ti\n",
    "import math\n",
    "\n",
    "ti.init(arch=ti.cpu)\n",
    "\n",
    "n = 400  # pixels of | orientation\n",
    "aspect_ratio = 1\n",
    "max_iterations = 300  # The more this value is, the figure is finer\n",
    "pixels = ti.field(ti.f64, shape=(int(aspect_ratio*n), n))\n",
    "\n",
    "@ti.func\n",
    "def complex_sqr(z):\n",
    "    return ti.Vector([z[0]**2 - z[1]**2, z[1] * z[0] * 2])\n",
    "\n",
    "@ti.kernel\n",
    "def paint(cx: ti.f64, cy: ti.f64, r:ti.f64):\n",
    "    for i, j in pixels:  # Parallized over all pixels\n",
    "        c = ti.Vector([-0.8, 0.2])\n",
    "        z = ti.Vector([i / n * r - aspect_ratio*0.5*r + cx,\n",
    "                       j / n * r - 0.5*r + cy])\n",
    "        iterations = 0\n",
    "        while z.norm() < 3:\n",
    "            z = complex_sqr(z) + c\n",
    "            iterations += 1\n",
    "        pixels[i, j] = 1 - iterations / max_iterations\n",
    "\n",
    "\n",
    "gui = ti.GUI(\"My Mandelbrot Set\", res=(aspect_ratio*n, n))\n",
    "steps = 100\n",
    "cx_start, cx_end = -1, -1.31\n",
    "cx_step = (cx_end - cx_start) / steps\n",
    "r_start, r_end = 0.5, 0.12\n",
    "r_step = (r_end - r_start) / steps\n",
    "for i in range(steps+1):\n",
    "    # distance from bound to center\n",
    "    r = r_start + r_step * i\n",
    "    # x coordinate of center\n",
    "    cx = cx_start + cx_step*i\n",
    "    # y coordinate of center\n",
    "    cy = 0.\n",
    "    paint(cx, cy, r)\n",
    "    gui.set_image(pixels)\n",
    "    # gui.show()\n",
    "    gui.show(\"../frame/{:04d}.png\".format(i))\n",
    "gui.close()"
   ]
  },
  {
   "cell_type": "code",
   "execution_count": null,
   "metadata": {},
   "outputs": [],
   "source": []
  }
 ],
 "metadata": {
  "kernelspec": {
   "display_name": "venv",
   "language": "python",
   "name": "python3"
  },
  "language_info": {
   "codemirror_mode": {
    "name": "ipython",
    "version": 3
   },
   "file_extension": ".py",
   "mimetype": "text/x-python",
   "name": "python",
   "nbconvert_exporter": "python",
   "pygments_lexer": "ipython3",
   "version": "3.11.8"
  }
 },
 "nbformat": 4,
 "nbformat_minor": 2
}
