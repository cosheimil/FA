{
 "cells": [
  {
   "cell_type": "code",
   "execution_count": 5,
   "metadata": {},
   "outputs": [],
   "source": [
    "from tkinter import *\n",
    "from itertools import combinations\n",
    "import math"
   ]
  },
  {
   "cell_type": "code",
   "execution_count": 10,
   "metadata": {},
   "outputs": [],
   "source": [
    "width, height = 600, 600\n",
    "starting_points = ((0, 600), (300, 600 - 600 * 0.5 * (3**0.5)), (600, 600))"
   ]
  },
  {
   "cell_type": "code",
   "execution_count": 11,
   "metadata": {},
   "outputs": [
    {
     "data": {
      "text/plain": [
       "([((0, 600), (150.0, 340.1923788646684), (300.0, 600.0)),\n",
       "  ((150.0, 340.1923788646684),\n",
       "   (300, 80.3847577293368),\n",
       "   (450.0, 340.1923788646684)),\n",
       "  ((300.0, 600.0), (600, 600), (450.0, 340.1923788646684))],\n",
       " [(150.0, 340.1923788646684), (450.0, 340.1923788646684), (300.0, 600.0)])"
      ]
     },
     "execution_count": 11,
     "metadata": {},
     "output_type": "execute_result"
    }
   ],
   "source": [
    "def calculate_new_triangles(p):\n",
    "    new_p = list()\n",
    "    for p1, p2 in combinations(p, r=2):\n",
    "        x = (p1[0] + p2[0])/ 2\n",
    "        y = (p1[1] + p2[1])/ 2\n",
    "        new_p.append((x, y))\n",
    "        \n",
    "    new_p += p\n",
    "    left, left_center, bot_center, top, right_center, right = sorted(new_p, key=lambda x: x[0])\n",
    "\n",
    "    new_triangles = list()\n",
    "    new_triangles += [(left, left_center, bot_center),\n",
    "                      (left_center, top, right_center),\n",
    "                      (bot_center, right, right_center)]\n",
    "    \n",
    "    center_triangle = [left_center, right_center, bot_center]\n",
    "\n",
    "    return new_triangles, center_triangle\n",
    "\n",
    "calculate_new_triangles(starting_points)"
   ]
  },
  {
   "cell_type": "code",
   "execution_count": 13,
   "metadata": {},
   "outputs": [],
   "source": [
    "root = Tk()\n",
    "c = Canvas(root, bg='black', width=width, height=height)\n",
    "c.pack()\n",
    "\n",
    "iters = 0\n",
    "n = 9\n",
    "\n",
    "def build(iters, p):\n",
    "    iters += 1\n",
    "    if iters >= n:\n",
    "        return\n",
    "    \n",
    "    new_triangles, center_triangle = calculate_new_triangles(p)\n",
    "    for triangle in new_triangles:\n",
    "        c.create_polygon(*triangle, fill='white')\n",
    "    \n",
    "    c.create_polygon(*center_triangle, fill='black')\n",
    "\n",
    "    for triangle in new_triangles:\n",
    "        root.after(500, build, iters, triangle)\n",
    "\n",
    "\n",
    "build(iters, starting_points)\n",
    "\n",
    "root.mainloop()"
   ]
  },
  {
   "cell_type": "markdown",
   "metadata": {},
   "source": [
    "Снежинка Коха"
   ]
  },
  {
   "cell_type": "code",
   "execution_count": 6,
   "metadata": {},
   "outputs": [],
   "source": [
    "def rotpi3(xa,ya,xb,yb):\n",
    "    sin, cos = math.sqrt(3)/2, 0.5\n",
    "    xc = cos*(xb-xa) - sin*(yb-ya) + xa\n",
    "    yc = sin*(xb-xa) + cos*(yb-ya) + ya\n",
    "    return xc, yc\n",
    "\n",
    "def trisec(x0,y0,x1,y1):\n",
    "    xa,ya = (2*x0+x1)/3.0, (2*y0+y1)/3.0\n",
    "    xb,yb = (x0+2*x1)/3.0, (y0+2*y1)/3.0\n",
    "    return xa,ya,xb,yb\n"
   ]
  },
  {
   "cell_type": "code",
   "execution_count": 14,
   "metadata": {},
   "outputs": [],
   "source": [
    "def next_iteration(path):\n",
    "    new_path = list()\n",
    "    for x0,y0,x1,y1 in path:\n",
    "            xa,ya,xb,yb = trisec(x0,y0,x1,y1)\n",
    "            xc,yc = rotpi3(xa,ya,xb,yb)\n",
    "            new_path += [(x0,y0,xa,ya),(xa,ya,xc,yc),(xc,yc,xb,yb),(xb,yb,x1,y1)]\n",
    "    \n",
    "    return new_path"
   ]
  },
  {
   "cell_type": "code",
   "execution_count": 15,
   "metadata": {},
   "outputs": [],
   "source": [
    "path = [(100, 475, 475, 475),\n",
    "        (475, 475, 287.5, 150),\n",
    "        (287.5, 150, 100, 475)]"
   ]
  },
  {
   "cell_type": "code",
   "execution_count": 16,
   "metadata": {},
   "outputs": [],
   "source": [
    "root = Tk()\n",
    "c = Canvas(root, bg='white', width=600, height=600)\n",
    "c.pack()\n",
    "\n",
    "n = 9\n",
    "iters = 0\n",
    "\n",
    "def build(path, iters):\n",
    "    c.delete('all')\n",
    "    for coords in path:\n",
    "        c.create_line(*coords)\n",
    "\n",
    "    new_path = next_iteration(path)\n",
    "    iters += 1\n",
    "    \n",
    "    root.after(500, build, new_path, iters)\n",
    "\n",
    "build(path, iters)\n",
    "\n",
    "\n",
    "root.mainloop()"
   ]
  },
  {
   "cell_type": "code",
   "execution_count": null,
   "metadata": {},
   "outputs": [],
   "source": []
  }
 ],
 "metadata": {
  "kernelspec": {
   "display_name": "Python 3",
   "language": "python",
   "name": "python3"
  },
  "language_info": {
   "codemirror_mode": {
    "name": "ipython",
    "version": 3
   },
   "file_extension": ".py",
   "mimetype": "text/x-python",
   "name": "python",
   "nbconvert_exporter": "python",
   "pygments_lexer": "ipython3",
   "version": "3.11.8"
  }
 },
 "nbformat": 4,
 "nbformat_minor": 2
}
