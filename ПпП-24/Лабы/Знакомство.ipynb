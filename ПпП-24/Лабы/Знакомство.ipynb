{
 "cells": [
  {
   "cell_type": "code",
   "execution_count": 1,
   "metadata": {},
   "outputs": [],
   "source": [
    "from tkinter import *\n",
    " \n",
    "root = Tk()\n",
    "c = Canvas(root, width=300, height=200, bg=\"white\")\n",
    "c.pack()\n",
    " \n",
    "ball = c.create_oval(0, 100, 40, 140, fill='green')\n",
    " \n",
    "def motion():\n",
    "    c.move(ball, 1, 0)\n",
    "    if c.coords(ball)[2] < 300:\n",
    "        root.after(10, motion)\n",
    " \n",
    "motion()\n",
    " \n",
    "root.mainloop()"
   ]
  },
  {
   "cell_type": "code",
   "execution_count": 5,
   "metadata": {},
   "outputs": [
    {
     "name": "stdout",
     "output_type": "stream",
     "text": [
      "Клик!\n",
      "Клик!\n",
      "Клик!\n",
      "Клик!\n",
      "Клик!\n",
      "Клик!\n",
      "Клик!\n",
      "Клик!\n"
     ]
    }
   ],
   "source": [
    "from tkinter import *\n",
    "def button_clicked():\n",
    "    print (u\"Клик!\")\n",
    "root=Tk()\n",
    "# кнопка по умолчанию\n",
    "button1 = Button()\n",
    "button1.pack()\n",
    "# кнопка с указанием родительского виджета и несколькими аргументами\n",
    "button2 = Button(root, bg=\"red\", text=u\"Кликни меня!\", command=button_clicked)\n",
    "button2.pack()\n",
    "root.mainloop()"
   ]
  },
  {
   "cell_type": "markdown",
   "metadata": {},
   "source": [
    "Напишите программу, которая отображает квадратное окно размером 600 на 600, полностью заполненное областью для рисования. По центру области должна отображаться окружность радиусом 200. Вдоль этой окружности по часовой стрелке должна двигаться точка. "
   ]
  },
  {
   "cell_type": "code",
   "execution_count": 22,
   "metadata": {},
   "outputs": [],
   "source": [
    "size = {'width': 600, 'height': 600} # Размеры окна\n",
    "radius = 200 # Радиус окружности\n",
    "ball_radius = 20 # Радиус шарика\n",
    "omega = 10\n",
    "\n",
    "_t = 0"
   ]
  },
  {
   "cell_type": "code",
   "execution_count": 23,
   "metadata": {},
   "outputs": [],
   "source": [
    "from tkinter import *\n",
    "from math import cos, sin\n",
    "\n",
    "root = Tk()\n",
    "c = Canvas(root, bg=\"white\", **size)\n",
    "c.pack()\n",
    "\n",
    "size_div = {key: value // 2 for key, value in size.items()}\n",
    "_x0, _y0 = size_div.values()\n",
    "\n",
    "circle = c.create_oval(\n",
    "    size_div['width'] - radius,\n",
    "    size_div['height'] + radius,\n",
    "    size_div['width'] + radius,\n",
    "    size_div['height'] - radius,\n",
    "    fill='white',\n",
    "    outline='black',\n",
    "    width=5\n",
    ")\n",
    "\n",
    "ball = c.create_oval(\n",
    "    size_div['width'] - ball_radius,\n",
    "    size_div['height'] + ball_radius,\n",
    "    size_div['width'] + ball_radius,\n",
    "    size_div['height'] - ball_radius,\n",
    "    fill='orange',\n",
    "    width=10,\n",
    ")\n",
    "\n",
    "def motion():\n",
    "    global _t, _x0, _y0\n",
    "    x = radius * cos(omega * _t) + size_div['width']\n",
    "    y = radius * sin(omega * _t) + size_div['height']\n",
    "\n",
    "    dx = x - _x0\n",
    "    dy = y - _y0\n",
    "\n",
    "    _x0 = x\n",
    "    _y0 = y\n",
    "    _t += 0.001\n",
    "\n",
    "    c.move(ball, dx, dy)\n",
    "    root.after(10, motion)\n",
    "motion()\n",
    " \n",
    "root.mainloop()"
   ]
  },
  {
   "cell_type": "code",
   "execution_count": null,
   "metadata": {},
   "outputs": [],
   "source": []
  }
 ],
 "metadata": {
  "kernelspec": {
   "display_name": "venv",
   "language": "python",
   "name": "python3"
  },
  "language_info": {
   "codemirror_mode": {
    "name": "ipython",
    "version": 3
   },
   "file_extension": ".py",
   "mimetype": "text/x-python",
   "name": "python",
   "nbconvert_exporter": "python",
   "pygments_lexer": "ipython3",
   "version": "3.11.8"
  }
 },
 "nbformat": 4,
 "nbformat_minor": 2
}
