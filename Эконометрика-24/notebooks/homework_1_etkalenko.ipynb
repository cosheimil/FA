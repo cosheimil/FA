{
 "cells": [
  {
   "cell_type": "markdown",
   "metadata": {},
   "source": [
    "#### Домашнее задание. Линейная регрессия. Закон Оукена. Кирилл Эткаленко ПМ23_1"
   ]
  },
  {
   "cell_type": "code",
   "execution_count": 301,
   "metadata": {},
   "outputs": [],
   "source": [
    "import pandas as pd \n",
    "import seaborn as sns \n",
    "import matplotlib.pyplot as plt \n",
    "import numpy as np\n",
    "from scipy.stats import *\n",
    "from sklearn.linear_model import LinearRegression"
   ]
  },
  {
   "cell_type": "markdown",
   "metadata": {},
   "source": [
    "Получаем датасет со всеми ВВП стран с 1960 до 2023 года"
   ]
  },
  {
   "cell_type": "code",
   "execution_count": 4,
   "metadata": {},
   "outputs": [],
   "source": [
    "gdp = pd.read_csv('gdp_netherlands.csv', skiprows=3)"
   ]
  },
  {
   "cell_type": "code",
   "execution_count": 6,
   "metadata": {},
   "outputs": [
    {
     "data": {
      "text/html": [
       "<div>\n",
       "<style scoped>\n",
       "    .dataframe tbody tr th:only-of-type {\n",
       "        vertical-align: middle;\n",
       "    }\n",
       "\n",
       "    .dataframe tbody tr th {\n",
       "        vertical-align: top;\n",
       "    }\n",
       "\n",
       "    .dataframe thead th {\n",
       "        text-align: right;\n",
       "    }\n",
       "</style>\n",
       "<table border=\"1\" class=\"dataframe\">\n",
       "  <thead>\n",
       "    <tr style=\"text-align: right;\">\n",
       "      <th></th>\n",
       "      <th>Country Name</th>\n",
       "      <th>Country Code</th>\n",
       "      <th>Indicator Name</th>\n",
       "      <th>Indicator Code</th>\n",
       "      <th>1960</th>\n",
       "      <th>1961</th>\n",
       "      <th>1962</th>\n",
       "      <th>1963</th>\n",
       "      <th>1964</th>\n",
       "      <th>1965</th>\n",
       "      <th>...</th>\n",
       "      <th>2015</th>\n",
       "      <th>2016</th>\n",
       "      <th>2017</th>\n",
       "      <th>2018</th>\n",
       "      <th>2019</th>\n",
       "      <th>2020</th>\n",
       "      <th>2021</th>\n",
       "      <th>2022</th>\n",
       "      <th>2023</th>\n",
       "      <th>Unnamed: 68</th>\n",
       "    </tr>\n",
       "  </thead>\n",
       "  <tbody>\n",
       "    <tr>\n",
       "      <th>0</th>\n",
       "      <td>Aruba</td>\n",
       "      <td>ABW</td>\n",
       "      <td>GDP per capita (current US$)</td>\n",
       "      <td>NY.GDP.PCAP.CD</td>\n",
       "      <td>NaN</td>\n",
       "      <td>NaN</td>\n",
       "      <td>NaN</td>\n",
       "      <td>NaN</td>\n",
       "      <td>NaN</td>\n",
       "      <td>NaN</td>\n",
       "      <td>...</td>\n",
       "      <td>28419.264534</td>\n",
       "      <td>28449.712946</td>\n",
       "      <td>29329.081747</td>\n",
       "      <td>30918.483584</td>\n",
       "      <td>31902.809818</td>\n",
       "      <td>24008.127822</td>\n",
       "      <td>29127.759384</td>\n",
       "      <td>33300.838819</td>\n",
       "      <td>NaN</td>\n",
       "      <td>NaN</td>\n",
       "    </tr>\n",
       "    <tr>\n",
       "      <th>1</th>\n",
       "      <td>Africa Eastern and Southern</td>\n",
       "      <td>AFE</td>\n",
       "      <td>GDP per capita (current US$)</td>\n",
       "      <td>NY.GDP.PCAP.CD</td>\n",
       "      <td>162.342517</td>\n",
       "      <td>166.263682</td>\n",
       "      <td>171.961916</td>\n",
       "      <td>182.018479</td>\n",
       "      <td>192.639989</td>\n",
       "      <td>202.847824</td>\n",
       "      <td>...</td>\n",
       "      <td>1498.805084</td>\n",
       "      <td>1346.301281</td>\n",
       "      <td>1485.753579</td>\n",
       "      <td>1558.612079</td>\n",
       "      <td>1508.486886</td>\n",
       "      <td>1356.088871</td>\n",
       "      <td>1545.956697</td>\n",
       "      <td>1642.432039</td>\n",
       "      <td>1672.505957</td>\n",
       "      <td>NaN</td>\n",
       "    </tr>\n",
       "    <tr>\n",
       "      <th>2</th>\n",
       "      <td>Afghanistan</td>\n",
       "      <td>AFG</td>\n",
       "      <td>GDP per capita (current US$)</td>\n",
       "      <td>NY.GDP.PCAP.CD</td>\n",
       "      <td>NaN</td>\n",
       "      <td>NaN</td>\n",
       "      <td>NaN</td>\n",
       "      <td>NaN</td>\n",
       "      <td>NaN</td>\n",
       "      <td>NaN</td>\n",
       "      <td>...</td>\n",
       "      <td>566.881130</td>\n",
       "      <td>523.053012</td>\n",
       "      <td>526.140801</td>\n",
       "      <td>492.090631</td>\n",
       "      <td>497.741431</td>\n",
       "      <td>512.055098</td>\n",
       "      <td>355.777826</td>\n",
       "      <td>352.603733</td>\n",
       "      <td>NaN</td>\n",
       "      <td>NaN</td>\n",
       "    </tr>\n",
       "    <tr>\n",
       "      <th>3</th>\n",
       "      <td>Africa Western and Central</td>\n",
       "      <td>AFW</td>\n",
       "      <td>GDP per capita (current US$)</td>\n",
       "      <td>NY.GDP.PCAP.CD</td>\n",
       "      <td>122.193931</td>\n",
       "      <td>127.732834</td>\n",
       "      <td>134.130071</td>\n",
       "      <td>139.291222</td>\n",
       "      <td>148.821355</td>\n",
       "      <td>156.314136</td>\n",
       "      <td>...</td>\n",
       "      <td>1882.518808</td>\n",
       "      <td>1648.920269</td>\n",
       "      <td>1590.555785</td>\n",
       "      <td>1735.445833</td>\n",
       "      <td>1813.609146</td>\n",
       "      <td>1688.470871</td>\n",
       "      <td>1769.171853</td>\n",
       "      <td>1788.875347</td>\n",
       "      <td>1584.333285</td>\n",
       "      <td>NaN</td>\n",
       "    </tr>\n",
       "    <tr>\n",
       "      <th>4</th>\n",
       "      <td>Angola</td>\n",
       "      <td>AGO</td>\n",
       "      <td>GDP per capita (current US$)</td>\n",
       "      <td>NY.GDP.PCAP.CD</td>\n",
       "      <td>NaN</td>\n",
       "      <td>NaN</td>\n",
       "      <td>NaN</td>\n",
       "      <td>NaN</td>\n",
       "      <td>NaN</td>\n",
       "      <td>NaN</td>\n",
       "      <td>...</td>\n",
       "      <td>3217.339240</td>\n",
       "      <td>1809.709377</td>\n",
       "      <td>2439.374439</td>\n",
       "      <td>2540.508879</td>\n",
       "      <td>2191.347764</td>\n",
       "      <td>1450.905111</td>\n",
       "      <td>1927.474078</td>\n",
       "      <td>2933.484644</td>\n",
       "      <td>2309.521620</td>\n",
       "      <td>NaN</td>\n",
       "    </tr>\n",
       "  </tbody>\n",
       "</table>\n",
       "<p>5 rows × 69 columns</p>\n",
       "</div>"
      ],
      "text/plain": [
       "                  Country Name Country Code                Indicator Name  \\\n",
       "0                        Aruba          ABW  GDP per capita (current US$)   \n",
       "1  Africa Eastern and Southern          AFE  GDP per capita (current US$)   \n",
       "2                  Afghanistan          AFG  GDP per capita (current US$)   \n",
       "3   Africa Western and Central          AFW  GDP per capita (current US$)   \n",
       "4                       Angola          AGO  GDP per capita (current US$)   \n",
       "\n",
       "   Indicator Code        1960        1961        1962        1963        1964  \\\n",
       "0  NY.GDP.PCAP.CD         NaN         NaN         NaN         NaN         NaN   \n",
       "1  NY.GDP.PCAP.CD  162.342517  166.263682  171.961916  182.018479  192.639989   \n",
       "2  NY.GDP.PCAP.CD         NaN         NaN         NaN         NaN         NaN   \n",
       "3  NY.GDP.PCAP.CD  122.193931  127.732834  134.130071  139.291222  148.821355   \n",
       "4  NY.GDP.PCAP.CD         NaN         NaN         NaN         NaN         NaN   \n",
       "\n",
       "         1965  ...          2015          2016          2017          2018  \\\n",
       "0         NaN  ...  28419.264534  28449.712946  29329.081747  30918.483584   \n",
       "1  202.847824  ...   1498.805084   1346.301281   1485.753579   1558.612079   \n",
       "2         NaN  ...    566.881130    523.053012    526.140801    492.090631   \n",
       "3  156.314136  ...   1882.518808   1648.920269   1590.555785   1735.445833   \n",
       "4         NaN  ...   3217.339240   1809.709377   2439.374439   2540.508879   \n",
       "\n",
       "           2019          2020          2021          2022         2023  \\\n",
       "0  31902.809818  24008.127822  29127.759384  33300.838819          NaN   \n",
       "1   1508.486886   1356.088871   1545.956697   1642.432039  1672.505957   \n",
       "2    497.741431    512.055098    355.777826    352.603733          NaN   \n",
       "3   1813.609146   1688.470871   1769.171853   1788.875347  1584.333285   \n",
       "4   2191.347764   1450.905111   1927.474078   2933.484644  2309.521620   \n",
       "\n",
       "   Unnamed: 68  \n",
       "0          NaN  \n",
       "1          NaN  \n",
       "2          NaN  \n",
       "3          NaN  \n",
       "4          NaN  \n",
       "\n",
       "[5 rows x 69 columns]"
      ]
     },
     "execution_count": 6,
     "metadata": {},
     "output_type": "execute_result"
    }
   ],
   "source": [
    "gdp.head()"
   ]
  },
  {
   "cell_type": "markdown",
   "metadata": {},
   "source": [
    "Берем только Нидерланды"
   ]
  },
  {
   "cell_type": "code",
   "execution_count": 19,
   "metadata": {},
   "outputs": [],
   "source": [
    "nl_gdp = gdp[gdp['Country Code'] == 'NLD'].copy()"
   ]
  },
  {
   "cell_type": "markdown",
   "metadata": {},
   "source": [
    "Очищаем данные"
   ]
  },
  {
   "cell_type": "code",
   "execution_count": 20,
   "metadata": {},
   "outputs": [],
   "source": [
    "nl_gdp.drop(columns=['Unnamed: 68'], inplace=True)"
   ]
  },
  {
   "cell_type": "code",
   "execution_count": 25,
   "metadata": {},
   "outputs": [
    {
     "data": {
      "text/html": [
       "<div>\n",
       "<style scoped>\n",
       "    .dataframe tbody tr th:only-of-type {\n",
       "        vertical-align: middle;\n",
       "    }\n",
       "\n",
       "    .dataframe tbody tr th {\n",
       "        vertical-align: top;\n",
       "    }\n",
       "\n",
       "    .dataframe thead th {\n",
       "        text-align: right;\n",
       "    }\n",
       "</style>\n",
       "<table border=\"1\" class=\"dataframe\">\n",
       "  <thead>\n",
       "    <tr style=\"text-align: right;\">\n",
       "      <th></th>\n",
       "      <th>Country Name</th>\n",
       "      <th>Country Code</th>\n",
       "      <th>Indicator Name</th>\n",
       "      <th>Indicator Code</th>\n",
       "      <th>1960</th>\n",
       "      <th>1961</th>\n",
       "      <th>1962</th>\n",
       "      <th>1963</th>\n",
       "      <th>1964</th>\n",
       "      <th>1965</th>\n",
       "      <th>...</th>\n",
       "      <th>2014</th>\n",
       "      <th>2015</th>\n",
       "      <th>2016</th>\n",
       "      <th>2017</th>\n",
       "      <th>2018</th>\n",
       "      <th>2019</th>\n",
       "      <th>2020</th>\n",
       "      <th>2021</th>\n",
       "      <th>2022</th>\n",
       "      <th>2023</th>\n",
       "    </tr>\n",
       "  </thead>\n",
       "  <tbody>\n",
       "    <tr>\n",
       "      <th>176</th>\n",
       "      <td>Netherlands</td>\n",
       "      <td>NLD</td>\n",
       "      <td>GDP per capita (current US$)</td>\n",
       "      <td>NY.GDP.PCAP.CD</td>\n",
       "      <td>1154.686609</td>\n",
       "      <td>1252.576848</td>\n",
       "      <td>1340.395593</td>\n",
       "      <td>1434.775681</td>\n",
       "      <td>1665.879163</td>\n",
       "      <td>1845.38214</td>\n",
       "      <td>...</td>\n",
       "      <td>52900.537415</td>\n",
       "      <td>45193.403219</td>\n",
       "      <td>46039.105928</td>\n",
       "      <td>48675.222335</td>\n",
       "      <td>53044.532435</td>\n",
       "      <td>52476.273253</td>\n",
       "      <td>52162.570115</td>\n",
       "      <td>58727.870547</td>\n",
       "      <td>57025.012456</td>\n",
       "      <td>62536.73203</td>\n",
       "    </tr>\n",
       "  </tbody>\n",
       "</table>\n",
       "<p>1 rows × 68 columns</p>\n",
       "</div>"
      ],
      "text/plain": [
       "    Country Name Country Code                Indicator Name  Indicator Code  \\\n",
       "176  Netherlands          NLD  GDP per capita (current US$)  NY.GDP.PCAP.CD   \n",
       "\n",
       "            1960         1961         1962         1963         1964  \\\n",
       "176  1154.686609  1252.576848  1340.395593  1434.775681  1665.879163   \n",
       "\n",
       "           1965  ...          2014          2015          2016          2017  \\\n",
       "176  1845.38214  ...  52900.537415  45193.403219  46039.105928  48675.222335   \n",
       "\n",
       "             2018          2019          2020          2021          2022  \\\n",
       "176  53044.532435  52476.273253  52162.570115  58727.870547  57025.012456   \n",
       "\n",
       "            2023  \n",
       "176  62536.73203  \n",
       "\n",
       "[1 rows x 68 columns]"
      ]
     },
     "execution_count": 25,
     "metadata": {},
     "output_type": "execute_result"
    }
   ],
   "source": [
    "nl_gdp"
   ]
  },
  {
   "cell_type": "code",
   "execution_count": 30,
   "metadata": {},
   "outputs": [
    {
     "data": {
      "text/plain": [
       "1960     1154.686609\n",
       "1961     1252.576848\n",
       "1962     1340.395593\n",
       "1963     1434.775681\n",
       "1964     1665.879163\n",
       "            ...     \n",
       "2019    52476.273253\n",
       "2020    52162.570115\n",
       "2021    58727.870547\n",
       "2022    57025.012456\n",
       "2023    62536.732030\n",
       "Name: 176, Length: 64, dtype: float64"
      ]
     },
     "execution_count": 30,
     "metadata": {},
     "output_type": "execute_result"
    }
   ],
   "source": [
    "nl_gdp = nl_gdp.iloc[:, 4:].squeeze(axis=0)\n",
    "nl_gdp"
   ]
  },
  {
   "cell_type": "code",
   "execution_count": 38,
   "metadata": {},
   "outputs": [
    {
     "data": {
      "text/plain": [
       "<Axes: >"
      ]
     },
     "execution_count": 38,
     "metadata": {},
     "output_type": "execute_result"
    },
    {
     "data": {
      "image/png": "[encoded data removed]",
      "text/plain": [
       "<Figure size 640x480 with 1 Axes>"
      ]
     },
     "metadata": {},
     "output_type": "display_data"
    }
   ],
   "source": [
    "nl_gdp.loc['2000':'2015'].plot()"
   ]
  },
  {
   "cell_type": "markdown",
   "metadata": {},
   "source": [
    "## Безработица"
   ]
  },
  {
   "cell_type": "code",
   "execution_count": 42,
   "metadata": {},
   "outputs": [
    {
     "data": {
      "text/html": [
       "<div>\n",
       "<style scoped>\n",
       "    .dataframe tbody tr th:only-of-type {\n",
       "        vertical-align: middle;\n",
       "    }\n",
       "\n",
       "    .dataframe tbody tr th {\n",
       "        vertical-align: top;\n",
       "    }\n",
       "\n",
       "    .dataframe thead th {\n",
       "        text-align: right;\n",
       "    }\n",
       "</style>\n",
       "<table border=\"1\" class=\"dataframe\">\n",
       "  <thead>\n",
       "    <tr style=\"text-align: right;\">\n",
       "      <th></th>\n",
       "      <th>Country Name</th>\n",
       "      <th>Country Code</th>\n",
       "      <th>Indicator Name</th>\n",
       "      <th>Indicator Code</th>\n",
       "      <th>1960</th>\n",
       "      <th>1961</th>\n",
       "      <th>1962</th>\n",
       "      <th>1963</th>\n",
       "      <th>1964</th>\n",
       "      <th>1965</th>\n",
       "      <th>...</th>\n",
       "      <th>2015</th>\n",
       "      <th>2016</th>\n",
       "      <th>2017</th>\n",
       "      <th>2018</th>\n",
       "      <th>2019</th>\n",
       "      <th>2020</th>\n",
       "      <th>2021</th>\n",
       "      <th>2022</th>\n",
       "      <th>2023</th>\n",
       "      <th>Unnamed: 68</th>\n",
       "    </tr>\n",
       "  </thead>\n",
       "  <tbody>\n",
       "    <tr>\n",
       "      <th>0</th>\n",
       "      <td>Aruba</td>\n",
       "      <td>ABW</td>\n",
       "      <td>Unemployment, total (% of total labor force) (...</td>\n",
       "      <td>SL.UEM.TOTL.NE.ZS</td>\n",
       "      <td>NaN</td>\n",
       "      <td>NaN</td>\n",
       "      <td>NaN</td>\n",
       "      <td>NaN</td>\n",
       "      <td>NaN</td>\n",
       "      <td>NaN</td>\n",
       "      <td>...</td>\n",
       "      <td>NaN</td>\n",
       "      <td>NaN</td>\n",
       "      <td>NaN</td>\n",
       "      <td>NaN</td>\n",
       "      <td>NaN</td>\n",
       "      <td>NaN</td>\n",
       "      <td>NaN</td>\n",
       "      <td>NaN</td>\n",
       "      <td>NaN</td>\n",
       "      <td>NaN</td>\n",
       "    </tr>\n",
       "    <tr>\n",
       "      <th>1</th>\n",
       "      <td>Africa Eastern and Southern</td>\n",
       "      <td>AFE</td>\n",
       "      <td>Unemployment, total (% of total labor force) (...</td>\n",
       "      <td>SL.UEM.TOTL.NE.ZS</td>\n",
       "      <td>NaN</td>\n",
       "      <td>NaN</td>\n",
       "      <td>NaN</td>\n",
       "      <td>NaN</td>\n",
       "      <td>NaN</td>\n",
       "      <td>NaN</td>\n",
       "      <td>...</td>\n",
       "      <td>NaN</td>\n",
       "      <td>NaN</td>\n",
       "      <td>NaN</td>\n",
       "      <td>NaN</td>\n",
       "      <td>NaN</td>\n",
       "      <td>NaN</td>\n",
       "      <td>NaN</td>\n",
       "      <td>NaN</td>\n",
       "      <td>NaN</td>\n",
       "      <td>NaN</td>\n",
       "    </tr>\n",
       "    <tr>\n",
       "      <th>2</th>\n",
       "      <td>Afghanistan</td>\n",
       "      <td>AFG</td>\n",
       "      <td>Unemployment, total (% of total labor force) (...</td>\n",
       "      <td>SL.UEM.TOTL.NE.ZS</td>\n",
       "      <td>NaN</td>\n",
       "      <td>NaN</td>\n",
       "      <td>NaN</td>\n",
       "      <td>NaN</td>\n",
       "      <td>NaN</td>\n",
       "      <td>NaN</td>\n",
       "      <td>...</td>\n",
       "      <td>NaN</td>\n",
       "      <td>NaN</td>\n",
       "      <td>11.184000</td>\n",
       "      <td>NaN</td>\n",
       "      <td>NaN</td>\n",
       "      <td>11.71</td>\n",
       "      <td>5.679</td>\n",
       "      <td>NaN</td>\n",
       "      <td>NaN</td>\n",
       "      <td>NaN</td>\n",
       "    </tr>\n",
       "    <tr>\n",
       "      <th>3</th>\n",
       "      <td>Africa Western and Central</td>\n",
       "      <td>AFW</td>\n",
       "      <td>Unemployment, total (% of total labor force) (...</td>\n",
       "      <td>SL.UEM.TOTL.NE.ZS</td>\n",
       "      <td>NaN</td>\n",
       "      <td>NaN</td>\n",
       "      <td>NaN</td>\n",
       "      <td>NaN</td>\n",
       "      <td>NaN</td>\n",
       "      <td>NaN</td>\n",
       "      <td>...</td>\n",
       "      <td>NaN</td>\n",
       "      <td>NaN</td>\n",
       "      <td>6.991771</td>\n",
       "      <td>NaN</td>\n",
       "      <td>7.120584</td>\n",
       "      <td>NaN</td>\n",
       "      <td>NaN</td>\n",
       "      <td>3.031437</td>\n",
       "      <td>NaN</td>\n",
       "      <td>NaN</td>\n",
       "    </tr>\n",
       "    <tr>\n",
       "      <th>4</th>\n",
       "      <td>Angola</td>\n",
       "      <td>AGO</td>\n",
       "      <td>Unemployment, total (% of total labor force) (...</td>\n",
       "      <td>SL.UEM.TOTL.NE.ZS</td>\n",
       "      <td>NaN</td>\n",
       "      <td>NaN</td>\n",
       "      <td>NaN</td>\n",
       "      <td>NaN</td>\n",
       "      <td>NaN</td>\n",
       "      <td>NaN</td>\n",
       "      <td>...</td>\n",
       "      <td>NaN</td>\n",
       "      <td>NaN</td>\n",
       "      <td>NaN</td>\n",
       "      <td>NaN</td>\n",
       "      <td>16.497000</td>\n",
       "      <td>NaN</td>\n",
       "      <td>15.799</td>\n",
       "      <td>NaN</td>\n",
       "      <td>NaN</td>\n",
       "      <td>NaN</td>\n",
       "    </tr>\n",
       "  </tbody>\n",
       "</table>\n",
       "<p>5 rows × 69 columns</p>\n",
       "</div>"
      ],
      "text/plain": [
       "                  Country Name Country Code  \\\n",
       "0                        Aruba          ABW   \n",
       "1  Africa Eastern and Southern          AFE   \n",
       "2                  Afghanistan          AFG   \n",
       "3   Africa Western and Central          AFW   \n",
       "4                       Angola          AGO   \n",
       "\n",
       "                                      Indicator Name     Indicator Code  1960  \\\n",
       "0  Unemployment, total (% of total labor force) (...  SL.UEM.TOTL.NE.ZS   NaN   \n",
       "1  Unemployment, total (% of total labor force) (...  SL.UEM.TOTL.NE.ZS   NaN   \n",
       "2  Unemployment, total (% of total labor force) (...  SL.UEM.TOTL.NE.ZS   NaN   \n",
       "3  Unemployment, total (% of total labor force) (...  SL.UEM.TOTL.NE.ZS   NaN   \n",
       "4  Unemployment, total (% of total labor force) (...  SL.UEM.TOTL.NE.ZS   NaN   \n",
       "\n",
       "   1961  1962  1963  1964  1965  ...  2015  2016       2017  2018       2019  \\\n",
       "0   NaN   NaN   NaN   NaN   NaN  ...   NaN   NaN        NaN   NaN        NaN   \n",
       "1   NaN   NaN   NaN   NaN   NaN  ...   NaN   NaN        NaN   NaN        NaN   \n",
       "2   NaN   NaN   NaN   NaN   NaN  ...   NaN   NaN  11.184000   NaN        NaN   \n",
       "3   NaN   NaN   NaN   NaN   NaN  ...   NaN   NaN   6.991771   NaN   7.120584   \n",
       "4   NaN   NaN   NaN   NaN   NaN  ...   NaN   NaN        NaN   NaN  16.497000   \n",
       "\n",
       "    2020    2021      2022  2023  Unnamed: 68  \n",
       "0    NaN     NaN       NaN   NaN          NaN  \n",
       "1    NaN     NaN       NaN   NaN          NaN  \n",
       "2  11.71   5.679       NaN   NaN          NaN  \n",
       "3    NaN     NaN  3.031437   NaN          NaN  \n",
       "4    NaN  15.799       NaN   NaN          NaN  \n",
       "\n",
       "[5 rows x 69 columns]"
      ]
     },
     "execution_count": 42,
     "metadata": {},
     "output_type": "execute_result"
    }
   ],
   "source": [
    "unemployment = pd.read_csv('./unemployment_netherlands.csv', skiprows=3)\n",
    "unemployment.head()"
   ]
  },
  {
   "cell_type": "code",
   "execution_count": 49,
   "metadata": {},
   "outputs": [
    {
     "data": {
      "text/plain": [
       "1960      NaN\n",
       "1961      NaN\n",
       "1962      NaN\n",
       "1963      NaN\n",
       "1964      NaN\n",
       "        ...  \n",
       "2019    3.379\n",
       "2020    3.820\n",
       "2021    4.209\n",
       "2022    3.526\n",
       "2023    3.537\n",
       "Name: 176, Length: 64, dtype: float64"
      ]
     },
     "execution_count": 49,
     "metadata": {},
     "output_type": "execute_result"
    }
   ],
   "source": [
    "nl_unemp = unemployment[unemployment['Country Code'] == 'NLD'].iloc[:, 4:-1].squeeze(axis=0)\n",
    "nl_unemp"
   ]
  },
  {
   "cell_type": "code",
   "execution_count": 51,
   "metadata": {},
   "outputs": [
    {
     "data": {
      "text/plain": [
       "1960     True\n",
       "1961     True\n",
       "1962     True\n",
       "1963     True\n",
       "1964     True\n",
       "        ...  \n",
       "2019    False\n",
       "2020    False\n",
       "2021    False\n",
       "2022    False\n",
       "2023    False\n",
       "Name: 176, Length: 64, dtype: bool"
      ]
     },
     "execution_count": 51,
     "metadata": {},
     "output_type": "execute_result"
    }
   ],
   "source": [
    "nl_unemp.isna()"
   ]
  },
  {
   "cell_type": "code",
   "execution_count": 58,
   "metadata": {},
   "outputs": [],
   "source": [
    "nl_unemp.drop(labels=nl_unemp[nl_unemp.isna() == True].index, inplace=True)"
   ]
  },
  {
   "cell_type": "code",
   "execution_count": 61,
   "metadata": {},
   "outputs": [
    {
     "data": {
      "text/plain": [
       "1975     6.000\n",
       "1977     5.880\n",
       "1979     6.160\n",
       "1981     7.920\n",
       "1983    11.851\n",
       "1985    10.480\n",
       "1987     9.898\n",
       "1988     9.369\n",
       "1989     8.704\n",
       "1990     7.671\n",
       "Name: 176, dtype: float64"
      ]
     },
     "execution_count": 61,
     "metadata": {},
     "output_type": "execute_result"
    }
   ],
   "source": [
    "nl_unemp.head(10)"
   ]
  },
  {
   "cell_type": "code",
   "execution_count": 71,
   "metadata": {},
   "outputs": [
    {
     "data": {
      "text/plain": [
       "Index(['1975', '1977', '1979', '1981', '1983', '1985', '1987', '1988', '1989',\n",
       "       '1990', '1991', '1992', '1993', '1994', '1995', '1996', '1997', '1998',\n",
       "       '1999', '2000', '2001', '2002', '2003', '2004', '2005', '2006', '2007',\n",
       "       '2008', '2009', '2010', '2011', '2012', '2013', '2014', '2015', '2016',\n",
       "       '2017', '2018', '2019', '2020', '2021', '2022', '2023'],\n",
       "      dtype='object')"
      ]
     },
     "execution_count": 71,
     "metadata": {},
     "output_type": "execute_result"
    }
   ],
   "source": [
    "nl_unemp.index"
   ]
  },
  {
   "cell_type": "code",
   "execution_count": 185,
   "metadata": {},
   "outputs": [
    {
     "data": {
      "text/plain": [
       "1975     7335.508997\n",
       "1977     9166.808195\n",
       "1979    12798.543246\n",
       "1981    11520.447872\n",
       "1983    10680.359042\n",
       "1985     9926.129971\n",
       "1987    16709.559677\n",
       "1988    17744.501384\n",
       "1989    17397.691683\n",
       "1990    21290.860383\n",
       "1991    21732.230762\n",
       "1992    23904.037415\n",
       "1993    23122.410767\n",
       "1994    24646.314310\n",
       "1995    29258.134349\n",
       "1996    29006.809445\n",
       "1997    26700.537134\n",
       "1998    27885.808382\n",
       "1999    28272.643249\n",
       "2000    26214.498550\n",
       "2001    26896.548111\n",
       "2002    29343.244996\n",
       "2003    35750.974663\n",
       "2004    40436.618231\n",
       "2005    41994.713531\n",
       "2006    44900.938144\n",
       "2007    51799.208552\n",
       "2008    57879.943755\n",
       "2009    52722.213057\n",
       "2010    50999.745117\n",
       "2011    54230.312903\n",
       "2012    50070.141605\n",
       "2013    52198.897561\n",
       "2014    52900.537415\n",
       "2015    45193.403219\n",
       "2016    46039.105928\n",
       "2017    48675.222335\n",
       "2018    53044.532435\n",
       "2019    52476.273253\n",
       "2020    52162.570115\n",
       "2021    58727.870547\n",
       "2022    57025.012456\n",
       "2023    62536.732030\n",
       "Name: 176, dtype: float64"
      ]
     },
     "execution_count": 185,
     "metadata": {},
     "output_type": "execute_result"
    }
   ],
   "source": [
    "nl_gdp = nl_gdp[nl_unemp.index]\n",
    "nl_gdp"
   ]
  },
  {
   "cell_type": "markdown",
   "metadata": {},
   "source": [
    " Строим графики"
   ]
  },
  {
   "cell_type": "code",
   "execution_count": 512,
   "metadata": {},
   "outputs": [
    {
     "data": {
      "image/png": "[encoded data removed]",
      "text/plain": [
       "<Figure size 1200x600 with 2 Axes>"
      ]
     },
     "metadata": {},
     "output_type": "display_data"
    }
   ],
   "source": [
    "fig, ax1 = plt.subplots(figsize=(12, 6))\n",
    "\n",
    "start_year = '1980'\n",
    "\n",
    "ax1.set_xlabel('year')\n",
    "ax1.set_ylabel('GDP (millions $)')\n",
    "ax1.plot(nl_gdp[start_year:'2020'], marker='o', color='b', label='GDP')\n",
    "ax1.tick_params(axis='y', labelcolor='b')\n",
    "\n",
    "xticks = map(str, np.arange(1980, 2021, 3))\n",
    "ax1.set_xticks(list(xticks))\n",
    "\n",
    "\n",
    "ax2= ax1.twinx()\n",
    "ax2.set_ylabel('Unemployment (%)')\n",
    "ax2.plot(nl_unemp[start_year:'2020'], marker='o', color='r', label='Unemployment')\n",
    "ax2.tick_params(axis='y', labelcolor='r')\n",
    "\n",
    "ax1.legend(loc='upper left')\n",
    "ax2.legend(loc='upper right')\n",
    "fig.tight_layout()\n",
    "fig.savefig('GDP_Unemployment.jpg');"
   ]
  },
  {
   "cell_type": "markdown",
   "metadata": {},
   "source": [
    "На графиках видно, как ВВП влияет на безработицу. Чем больше ВВП, тем меньше процент безработицы. Такая зависимость называется обратная пропорциональность"
   ]
  },
  {
   "cell_type": "markdown",
   "metadata": {},
   "source": [
    "Рассчитаем коэффициент корреляции Пирсона"
   ]
  },
  {
   "cell_type": "markdown",
   "metadata": {},
   "source": [
    "## Выдвинем основную и альтернативную гипотезу"
   ]
  },
  {
   "cell_type": "markdown",
   "metadata": {},
   "source": [
    "H0 : $\\rho_{xy} = 0$    \n",
    "H1 : $\\rho_{xy} \\neq 0$ "
   ]
  },
  {
   "cell_type": "code",
   "execution_count": 348,
   "metadata": {},
   "outputs": [],
   "source": [
    "start = '1980'"
   ]
  },
  {
   "cell_type": "code",
   "execution_count": 349,
   "metadata": {},
   "outputs": [],
   "source": [
    "gdp_from = nl_gdp[start:'2020']"
   ]
  },
  {
   "cell_type": "code",
   "execution_count": 350,
   "metadata": {},
   "outputs": [],
   "source": [
    "unemp_from = nl_unemp[start:'2020']"
   ]
  },
  {
   "cell_type": "code",
   "execution_count": 351,
   "metadata": {},
   "outputs": [
    {
     "name": "stdout",
     "output_type": "stream",
     "text": [
      "Коэффицент корреляции: -0.5528404148342652\n",
      "Расчетное распределение стъюдента: 4.738115856359611\n",
      "Табличное распределение стъюдента: 2.1603686564610127\n"
     ]
    }
   ],
   "source": [
    "corr, p_value  = pearsonr(gdp_from, unemp_from)\n",
    "print(f'Коэффицент корреляции: {corr}')\n",
    "\n",
    "t_rasch = t.ppf(1 - p_value / 2, 13)\n",
    "print(f'Расчетное распределение стъюдента: {t_rasch}')\n",
    "\n",
    "alpha = 0.05\n",
    "t_tabl = t.ppf(1 - alpha / 2, 13)\n",
    "print(f'Табличное распределение стъюдента: {t_tabl}')"
   ]
  },
  {
   "cell_type": "markdown",
   "metadata": {},
   "source": [
    "$ T_{расч} > T_{табл} \\Rightarrow H_0$ отвергается   \n",
    "Тогда $\\rho_{xy} $    статистически значим "
   ]
  },
  {
   "cell_type": "markdown",
   "metadata": {},
   "source": [
    "## Строим регрессию"
   ]
  },
  {
   "cell_type": "code",
   "execution_count": 407,
   "metadata": {},
   "outputs": [],
   "source": [
    "def predict_y(b0, b1, x):\n",
    "    return b0 + b1*x"
   ]
  },
  {
   "cell_type": "code",
   "execution_count": 408,
   "metadata": {},
   "outputs": [],
   "source": [
    "def regression_std(y, y_pred, n):\n",
    "    return (np.sum((y - y_pred)**2) / (n - 2))**0.5"
   ]
  },
  {
   "cell_type": "code",
   "execution_count": 409,
   "metadata": {},
   "outputs": [],
   "source": [
    "def create_S_b0(S, x, n):\n",
    "    return S * (np.sum(x**2) / (n * np.sum((x - x.mean())**2)))**0.5"
   ]
  },
  {
   "cell_type": "code",
   "execution_count": 410,
   "metadata": {},
   "outputs": [],
   "source": [
    "def create_S_b1(S, x):\n",
    "    return S * (1 / np.sum((x - x.mean())**2))**0.5"
   ]
  },
  {
   "cell_type": "code",
   "execution_count": 411,
   "metadata": {},
   "outputs": [],
   "source": [
    "model = LinearRegression(  )"
   ]
  },
  {
   "cell_type": "code",
   "execution_count": 412,
   "metadata": {},
   "outputs": [
    {
     "data": {
      "text/html": [
       "<style>#sk-container-id-9 {color: black;}#sk-container-id-9 pre{padding: 0;}#sk-container-id-9 div.sk-toggleable {background-color: white;}#sk-container-id-9 label.sk-toggleable__label {cursor: pointer;display: block;width: 100%;margin-bottom: 0;padding: 0.3em;box-sizing: border-box;text-align: center;}#sk-container-id-9 label.sk-toggleable__label-arrow:before {content: \"▸\";float: left;margin-right: 0.25em;color: #696969;}#sk-container-id-9 label.sk-toggleable__label-arrow:hover:before {color: black;}#sk-container-id-9 div.sk-estimator:hover label.sk-toggleable__label-arrow:before {color: black;}#sk-container-id-9 div.sk-toggleable__content {max-height: 0;max-width: 0;overflow: hidden;text-align: left;background-color: #f0f8ff;}#sk-container-id-9 div.sk-toggleable__content pre {margin: 0.2em;color: black;border-radius: 0.25em;background-color: #f0f8ff;}#sk-container-id-9 input.sk-toggleable__control:checked~div.sk-toggleable__content {max-height: 200px;max-width: 100%;overflow: auto;}#sk-container-id-9 input.sk-toggleable__control:checked~label.sk-toggleable__label-arrow:before {content: \"▾\";}#sk-container-id-9 div.sk-estimator input.sk-toggleable__control:checked~label.sk-toggleable__label {background-color: #d4ebff;}#sk-container-id-9 div.sk-label input.sk-toggleable__control:checked~label.sk-toggleable__label {background-color: #d4ebff;}#sk-container-id-9 input.sk-hidden--visually {border: 0;clip: rect(1px 1px 1px 1px);clip: rect(1px, 1px, 1px, 1px);height: 1px;margin: -1px;overflow: hidden;padding: 0;position: absolute;width: 1px;}#sk-container-id-9 div.sk-estimator {font-family: monospace;background-color: #f0f8ff;border: 1px dotted black;border-radius: 0.25em;box-sizing: border-box;margin-bottom: 0.5em;}#sk-container-id-9 div.sk-estimator:hover {background-color: #d4ebff;}#sk-container-id-9 div.sk-parallel-item::after {content: \"\";width: 100%;border-bottom: 1px solid gray;flex-grow: 1;}#sk-container-id-9 div.sk-label:hover label.sk-toggleable__label {background-color: #d4ebff;}#sk-container-id-9 div.sk-serial::before {content: \"\";position: absolute;border-left: 1px solid gray;box-sizing: border-box;top: 0;bottom: 0;left: 50%;z-index: 0;}#sk-container-id-9 div.sk-serial {display: flex;flex-direction: column;align-items: center;background-color: white;padding-right: 0.2em;padding-left: 0.2em;position: relative;}#sk-container-id-9 div.sk-item {position: relative;z-index: 1;}#sk-container-id-9 div.sk-parallel {display: flex;align-items: stretch;justify-content: center;background-color: white;position: relative;}#sk-container-id-9 div.sk-item::before, #sk-container-id-9 div.sk-parallel-item::before {content: \"\";position: absolute;border-left: 1px solid gray;box-sizing: border-box;top: 0;bottom: 0;left: 50%;z-index: -1;}#sk-container-id-9 div.sk-parallel-item {display: flex;flex-direction: column;z-index: 1;position: relative;background-color: white;}#sk-container-id-9 div.sk-parallel-item:first-child::after {align-self: flex-end;width: 50%;}#sk-container-id-9 div.sk-parallel-item:last-child::after {align-self: flex-start;width: 50%;}#sk-container-id-9 div.sk-parallel-item:only-child::after {width: 0;}#sk-container-id-9 div.sk-dashed-wrapped {border: 1px dashed gray;margin: 0 0.4em 0.5em 0.4em;box-sizing: border-box;padding-bottom: 0.4em;background-color: white;}#sk-container-id-9 div.sk-label label {font-family: monospace;font-weight: bold;display: inline-block;line-height: 1.2em;}#sk-container-id-9 div.sk-label-container {text-align: center;}#sk-container-id-9 div.sk-container {/* jupyter's `normalize.less` sets `[hidden] { display: none; }` but bootstrap.min.css set `[hidden] { display: none !important; }` so we also need the `!important` here to be able to override the default hidden behavior on the sphinx rendered scikit-learn.org. See: https://github.com/scikit-learn/scikit-learn/issues/21755 */display: inline-block !important;position: relative;}#sk-container-id-9 div.sk-text-repr-fallback {display: none;}</style><div id=\"sk-container-id-9\" class=\"sk-top-container\"><div class=\"sk-text-repr-fallback\"><pre>LinearRegression()</pre><b>In a Jupyter environment, please rerun this cell to show the HTML representation or trust the notebook. <br />On GitHub, the HTML representation is unable to render, please try loading this page with nbviewer.org.</b></div><div class=\"sk-container\" hidden><div class=\"sk-item\"><div class=\"sk-estimator sk-toggleable\"><input class=\"sk-toggleable__control sk-hidden--visually\" id=\"sk-estimator-id-9\" type=\"checkbox\" checked><label for=\"sk-estimator-id-9\" class=\"sk-toggleable__label sk-toggleable__label-arrow\">LinearRegression</label><div class=\"sk-toggleable__content\"><pre>LinearRegression()</pre></div></div></div></div></div>"
      ],
      "text/plain": [
       "LinearRegression()"
      ]
     },
     "execution_count": 412,
     "metadata": {},
     "output_type": "execute_result"
    }
   ],
   "source": [
    "model.fit(unemp_from.values.reshape(-1, 1), gdp_from.values.reshape(-1, 1))"
   ]
  },
  {
   "cell_type": "code",
   "execution_count": 413,
   "metadata": {},
   "outputs": [
    {
     "data": {
      "text/plain": [
       "56331.35869479604"
      ]
     },
     "execution_count": 413,
     "metadata": {},
     "output_type": "execute_result"
    }
   ],
   "source": [
    "b0 = model.intercept_[0]\n",
    "b0"
   ]
  },
  {
   "cell_type": "code",
   "execution_count": 414,
   "metadata": {},
   "outputs": [
    {
     "data": {
      "text/plain": [
       "-3585.029390069283"
      ]
     },
     "execution_count": 414,
     "metadata": {},
     "output_type": "execute_result"
    }
   ],
   "source": [
    "b1 = model.coef_[0][0]\n",
    "b1"
   ]
  },
  {
   "cell_type": "code",
   "execution_count": 415,
   "metadata": {},
   "outputs": [],
   "source": [
    "y_pred = predict_y(b0, b1, unemp_from)"
   ]
  },
  {
   "cell_type": "code",
   "execution_count": 416,
   "metadata": {},
   "outputs": [
    {
     "data": {
      "text/plain": [
       "20617.84057131195"
      ]
     },
     "execution_count": 416,
     "metadata": {},
     "output_type": "execute_result"
    }
   ],
   "source": [
    "S = regression_std(gdp_from, y_pred, 15)\n",
    "S"
   ]
  },
  {
   "cell_type": "code",
   "execution_count": 417,
   "metadata": {},
   "outputs": [
    {
     "data": {
      "text/plain": [
       "14805.27006894682"
      ]
     },
     "execution_count": 417,
     "metadata": {},
     "output_type": "execute_result"
    }
   ],
   "source": [
    "S_b0 = create_S_b0(S, unemp_from, 15)\n",
    "S_b0"
   ]
  },
  {
   "cell_type": "code",
   "execution_count": 418,
   "metadata": {},
   "outputs": [
    {
     "data": {
      "text/plain": [
       "1498.704271630212"
      ]
     },
     "execution_count": 418,
     "metadata": {},
     "output_type": "execute_result"
    }
   ],
   "source": [
    "S_b1 = create_S_b1(S, unemp_from)\n",
    "S_b1"
   ]
  },
  {
   "cell_type": "code",
   "execution_count": 419,
   "metadata": {},
   "outputs": [
    {
     "data": {
      "text/plain": [
       "(3.8048180433363212, 2.1603686564610127)"
      ]
     },
     "execution_count": 419,
     "metadata": {},
     "output_type": "execute_result"
    }
   ],
   "source": [
    "t_rasch_b0 = b0 / S_b0\n",
    "t_rasch_b0, t_tabl"
   ]
  },
  {
   "cell_type": "code",
   "execution_count": 420,
   "metadata": {},
   "outputs": [
    {
     "data": {
      "text/plain": [
       "(2.3920859224413076, 2.1603686564610127)"
      ]
     },
     "execution_count": 420,
     "metadata": {},
     "output_type": "execute_result"
    }
   ],
   "source": [
    "t_rasch_b1 = b1 / S_b1\n",
    "abs(t_rasch_b1), t_tabl"
   ]
  },
  {
   "cell_type": "markdown",
   "metadata": {},
   "source": [
    "$ B_{0_{расч}} > B_{0_{табл}} \\Rightarrow B_0 $ статистически значимо"
   ]
  },
  {
   "cell_type": "markdown",
   "metadata": {},
   "source": [
    "$ B_{1_{расч}} > B_{1_{табл}} \\Rightarrow B_1 $ статистически значимо"
   ]
  },
  {
   "cell_type": "markdown",
   "metadata": {},
   "source": [
    "## Проверим значимость уравнения"
   ]
  },
  {
   "cell_type": "code",
   "execution_count": 421,
   "metadata": {},
   "outputs": [],
   "source": [
    "alpha = 0.95\n",
    "nu_1 = 1\n",
    "F_tabl = f.ppf(alpha, nu_1, 13)"
   ]
  },
  {
   "cell_type": "code",
   "execution_count": 422,
   "metadata": {},
   "outputs": [
    {
     "data": {
      "text/plain": [
       "(5.722075060341882, 4.667192731826848)"
      ]
     },
     "execution_count": 422,
     "metadata": {},
     "output_type": "execute_result"
    }
   ],
   "source": [
    "F_rasch = (13)*corr**2 / (1 - corr**2)\n",
    "F_rasch, F_tabl"
   ]
  },
  {
   "cell_type": "markdown",
   "metadata": {},
   "source": [
    "$F_{расч} > F_{табл} \\Rightarrow $ уравнение регрессии статистически значимо"
   ]
  },
  {
   "cell_type": "markdown",
   "metadata": {},
   "source": [
    "## Построим график и посчитаем точность модели"
   ]
  },
  {
   "cell_type": "code",
   "execution_count": 511,
   "metadata": {},
   "outputs": [
    {
     "data": {
      "image/png": "[encoded data removed]",
      "text/plain": [
       "<Figure size 640x480 with 1 Axes>"
      ]
     },
     "metadata": {},
     "output_type": "display_data"
    }
   ],
   "source": [
    "color = 'b'\n",
    "plt.scatter(unemp_from, gdp_from, color=color)\n",
    "xx = np.linspace(unemp_from.min(), unemp_from.max(), 100).reshape(-1, 1)\n",
    "plt.plot(xx, model.predict(xx), color='r')\n",
    "plt.tight_layout()\n",
    "plt.savefig('regression.jpg')\n",
    "plt.show()\n"
   ]
  },
  {
   "cell_type": "code",
   "execution_count": 424,
   "metadata": {},
   "outputs": [
    {
     "data": {
      "text/plain": [
       "0.30563252427412224"
      ]
     },
     "execution_count": 424,
     "metadata": {},
     "output_type": "execute_result"
    }
   ],
   "source": [
    "model.score(unemp_from.values.reshape(-1, 1), gdp_from)"
   ]
  },
  {
   "cell_type": "code",
   "execution_count": 442,
   "metadata": {},
   "outputs": [
    {
     "data": {
      "text/html": [
       "<div>\n",
       "<style scoped>\n",
       "    .dataframe tbody tr th:only-of-type {\n",
       "        vertical-align: middle;\n",
       "    }\n",
       "\n",
       "    .dataframe tbody tr th {\n",
       "        vertical-align: top;\n",
       "    }\n",
       "\n",
       "    .dataframe thead th {\n",
       "        text-align: right;\n",
       "    }\n",
       "</style>\n",
       "<table border=\"1\" class=\"dataframe\">\n",
       "  <thead>\n",
       "    <tr style=\"text-align: right;\">\n",
       "      <th></th>\n",
       "      <th>GDP</th>\n",
       "      <th>Unemployment %</th>\n",
       "    </tr>\n",
       "  </thead>\n",
       "  <tbody>\n",
       "    <tr>\n",
       "      <th>1981</th>\n",
       "      <td>11520.447872</td>\n",
       "      <td>7.920</td>\n",
       "    </tr>\n",
       "    <tr>\n",
       "      <th>1983</th>\n",
       "      <td>10680.359042</td>\n",
       "      <td>11.851</td>\n",
       "    </tr>\n",
       "    <tr>\n",
       "      <th>1985</th>\n",
       "      <td>9926.129971</td>\n",
       "      <td>10.480</td>\n",
       "    </tr>\n",
       "    <tr>\n",
       "      <th>1987</th>\n",
       "      <td>16709.559677</td>\n",
       "      <td>9.898</td>\n",
       "    </tr>\n",
       "    <tr>\n",
       "      <th>1988</th>\n",
       "      <td>17744.501384</td>\n",
       "      <td>9.369</td>\n",
       "    </tr>\n",
       "    <tr>\n",
       "      <th>1989</th>\n",
       "      <td>17397.691683</td>\n",
       "      <td>8.704</td>\n",
       "    </tr>\n",
       "    <tr>\n",
       "      <th>1990</th>\n",
       "      <td>21290.860383</td>\n",
       "      <td>7.671</td>\n",
       "    </tr>\n",
       "    <tr>\n",
       "      <th>1991</th>\n",
       "      <td>21732.230762</td>\n",
       "      <td>7.285</td>\n",
       "    </tr>\n",
       "    <tr>\n",
       "      <th>1992</th>\n",
       "      <td>23904.037415</td>\n",
       "      <td>5.555</td>\n",
       "    </tr>\n",
       "    <tr>\n",
       "      <th>1993</th>\n",
       "      <td>23122.410767</td>\n",
       "      <td>6.287</td>\n",
       "    </tr>\n",
       "    <tr>\n",
       "      <th>1994</th>\n",
       "      <td>24646.314310</td>\n",
       "      <td>7.159</td>\n",
       "    </tr>\n",
       "    <tr>\n",
       "      <th>1995</th>\n",
       "      <td>29258.134349</td>\n",
       "      <td>7.158</td>\n",
       "    </tr>\n",
       "    <tr>\n",
       "      <th>1996</th>\n",
       "      <td>29006.809445</td>\n",
       "      <td>6.421</td>\n",
       "    </tr>\n",
       "    <tr>\n",
       "      <th>1997</th>\n",
       "      <td>26700.537134</td>\n",
       "      <td>5.511</td>\n",
       "    </tr>\n",
       "    <tr>\n",
       "      <th>1998</th>\n",
       "      <td>27885.808382</td>\n",
       "      <td>4.394</td>\n",
       "    </tr>\n",
       "  </tbody>\n",
       "</table>\n",
       "</div>"
      ],
      "text/plain": [
       "               GDP  Unemployment %\n",
       "1981  11520.447872           7.920\n",
       "1983  10680.359042          11.851\n",
       "1985   9926.129971          10.480\n",
       "1987  16709.559677           9.898\n",
       "1988  17744.501384           9.369\n",
       "1989  17397.691683           8.704\n",
       "1990  21290.860383           7.671\n",
       "1991  21732.230762           7.285\n",
       "1992  23904.037415           5.555\n",
       "1993  23122.410767           6.287\n",
       "1994  24646.314310           7.159\n",
       "1995  29258.134349           7.158\n",
       "1996  29006.809445           6.421\n",
       "1997  26700.537134           5.511\n",
       "1998  27885.808382           4.394"
      ]
     },
     "execution_count": 442,
     "metadata": {},
     "output_type": "execute_result"
    }
   ],
   "source": [
    "df = pd.concat([gdp_from, unemp_from], axis=1)\n",
    "df.columns = ['GDP', 'Unemployment %']\n",
    "df.head(15)"
   ]
  },
  {
   "cell_type": "code",
   "execution_count": 445,
   "metadata": {},
   "outputs": [],
   "source": [
    "df['GDP increase rate'] = round(df['GDP'].pct_change(periods=1) * 100, 3)"
   ]
  },
  {
   "cell_type": "code",
   "execution_count": 446,
   "metadata": {},
   "outputs": [
    {
     "data": {
      "text/html": [
       "<div>\n",
       "<style scoped>\n",
       "    .dataframe tbody tr th:only-of-type {\n",
       "        vertical-align: middle;\n",
       "    }\n",
       "\n",
       "    .dataframe tbody tr th {\n",
       "        vertical-align: top;\n",
       "    }\n",
       "\n",
       "    .dataframe thead th {\n",
       "        text-align: right;\n",
       "    }\n",
       "</style>\n",
       "<table border=\"1\" class=\"dataframe\">\n",
       "  <thead>\n",
       "    <tr style=\"text-align: right;\">\n",
       "      <th></th>\n",
       "      <th>GDP</th>\n",
       "      <th>Unemployment %</th>\n",
       "      <th>GDP increase rate</th>\n",
       "    </tr>\n",
       "  </thead>\n",
       "  <tbody>\n",
       "    <tr>\n",
       "      <th>1981</th>\n",
       "      <td>11520.447872</td>\n",
       "      <td>7.920</td>\n",
       "      <td>NaN</td>\n",
       "    </tr>\n",
       "    <tr>\n",
       "      <th>1983</th>\n",
       "      <td>10680.359042</td>\n",
       "      <td>11.851</td>\n",
       "      <td>-7.292</td>\n",
       "    </tr>\n",
       "    <tr>\n",
       "      <th>1985</th>\n",
       "      <td>9926.129971</td>\n",
       "      <td>10.480</td>\n",
       "      <td>-7.062</td>\n",
       "    </tr>\n",
       "    <tr>\n",
       "      <th>1987</th>\n",
       "      <td>16709.559677</td>\n",
       "      <td>9.898</td>\n",
       "      <td>68.339</td>\n",
       "    </tr>\n",
       "    <tr>\n",
       "      <th>1988</th>\n",
       "      <td>17744.501384</td>\n",
       "      <td>9.369</td>\n",
       "      <td>6.194</td>\n",
       "    </tr>\n",
       "  </tbody>\n",
       "</table>\n",
       "</div>"
      ],
      "text/plain": [
       "               GDP  Unemployment %  GDP increase rate\n",
       "1981  11520.447872           7.920                NaN\n",
       "1983  10680.359042          11.851             -7.292\n",
       "1985   9926.129971          10.480             -7.062\n",
       "1987  16709.559677           9.898             68.339\n",
       "1988  17744.501384           9.369              6.194"
      ]
     },
     "execution_count": 446,
     "metadata": {},
     "output_type": "execute_result"
    }
   ],
   "source": [
    "df.head()"
   ]
  },
  {
   "cell_type": "code",
   "execution_count": 448,
   "metadata": {},
   "outputs": [],
   "source": [
    "df['Unemployment diff'] = df['Unemployment %'].diff(periods=1)"
   ]
  },
  {
   "cell_type": "code",
   "execution_count": 449,
   "metadata": {},
   "outputs": [
    {
     "data": {
      "text/html": [
       "<div>\n",
       "<style scoped>\n",
       "    .dataframe tbody tr th:only-of-type {\n",
       "        vertical-align: middle;\n",
       "    }\n",
       "\n",
       "    .dataframe tbody tr th {\n",
       "        vertical-align: top;\n",
       "    }\n",
       "\n",
       "    .dataframe thead th {\n",
       "        text-align: right;\n",
       "    }\n",
       "</style>\n",
       "<table border=\"1\" class=\"dataframe\">\n",
       "  <thead>\n",
       "    <tr style=\"text-align: right;\">\n",
       "      <th></th>\n",
       "      <th>GDP</th>\n",
       "      <th>Unemployment %</th>\n",
       "      <th>GDP increase rate</th>\n",
       "      <th>Unemployment diff</th>\n",
       "    </tr>\n",
       "  </thead>\n",
       "  <tbody>\n",
       "    <tr>\n",
       "      <th>1981</th>\n",
       "      <td>11520.447872</td>\n",
       "      <td>7.920</td>\n",
       "      <td>NaN</td>\n",
       "      <td>NaN</td>\n",
       "    </tr>\n",
       "    <tr>\n",
       "      <th>1983</th>\n",
       "      <td>10680.359042</td>\n",
       "      <td>11.851</td>\n",
       "      <td>-7.292</td>\n",
       "      <td>3.931</td>\n",
       "    </tr>\n",
       "    <tr>\n",
       "      <th>1985</th>\n",
       "      <td>9926.129971</td>\n",
       "      <td>10.480</td>\n",
       "      <td>-7.062</td>\n",
       "      <td>-1.371</td>\n",
       "    </tr>\n",
       "    <tr>\n",
       "      <th>1987</th>\n",
       "      <td>16709.559677</td>\n",
       "      <td>9.898</td>\n",
       "      <td>68.339</td>\n",
       "      <td>-0.582</td>\n",
       "    </tr>\n",
       "    <tr>\n",
       "      <th>1988</th>\n",
       "      <td>17744.501384</td>\n",
       "      <td>9.369</td>\n",
       "      <td>6.194</td>\n",
       "      <td>-0.529</td>\n",
       "    </tr>\n",
       "  </tbody>\n",
       "</table>\n",
       "</div>"
      ],
      "text/plain": [
       "               GDP  Unemployment %  GDP increase rate  Unemployment diff\n",
       "1981  11520.447872           7.920                NaN                NaN\n",
       "1983  10680.359042          11.851             -7.292              3.931\n",
       "1985   9926.129971          10.480             -7.062             -1.371\n",
       "1987  16709.559677           9.898             68.339             -0.582\n",
       "1988  17744.501384           9.369              6.194             -0.529"
      ]
     },
     "execution_count": 449,
     "metadata": {},
     "output_type": "execute_result"
    }
   ],
   "source": [
    "df.head()"
   ]
  },
  {
   "cell_type": "code",
   "execution_count": 450,
   "metadata": {},
   "outputs": [],
   "source": [
    "df['Normal GDP'] = 2.5"
   ]
  },
  {
   "cell_type": "code",
   "execution_count": 451,
   "metadata": {},
   "outputs": [
    {
     "data": {
      "text/html": [
       "<div>\n",
       "<style scoped>\n",
       "    .dataframe tbody tr th:only-of-type {\n",
       "        vertical-align: middle;\n",
       "    }\n",
       "\n",
       "    .dataframe tbody tr th {\n",
       "        vertical-align: top;\n",
       "    }\n",
       "\n",
       "    .dataframe thead th {\n",
       "        text-align: right;\n",
       "    }\n",
       "</style>\n",
       "<table border=\"1\" class=\"dataframe\">\n",
       "  <thead>\n",
       "    <tr style=\"text-align: right;\">\n",
       "      <th></th>\n",
       "      <th>GDP</th>\n",
       "      <th>Unemployment %</th>\n",
       "      <th>GDP increase rate</th>\n",
       "      <th>Unemployment diff</th>\n",
       "      <th>Normal GDP</th>\n",
       "    </tr>\n",
       "  </thead>\n",
       "  <tbody>\n",
       "    <tr>\n",
       "      <th>1981</th>\n",
       "      <td>11520.447872</td>\n",
       "      <td>7.920</td>\n",
       "      <td>NaN</td>\n",
       "      <td>NaN</td>\n",
       "      <td>2.5</td>\n",
       "    </tr>\n",
       "    <tr>\n",
       "      <th>1983</th>\n",
       "      <td>10680.359042</td>\n",
       "      <td>11.851</td>\n",
       "      <td>-7.292</td>\n",
       "      <td>3.931</td>\n",
       "      <td>2.5</td>\n",
       "    </tr>\n",
       "    <tr>\n",
       "      <th>1985</th>\n",
       "      <td>9926.129971</td>\n",
       "      <td>10.480</td>\n",
       "      <td>-7.062</td>\n",
       "      <td>-1.371</td>\n",
       "      <td>2.5</td>\n",
       "    </tr>\n",
       "    <tr>\n",
       "      <th>1987</th>\n",
       "      <td>16709.559677</td>\n",
       "      <td>9.898</td>\n",
       "      <td>68.339</td>\n",
       "      <td>-0.582</td>\n",
       "      <td>2.5</td>\n",
       "    </tr>\n",
       "    <tr>\n",
       "      <th>1988</th>\n",
       "      <td>17744.501384</td>\n",
       "      <td>9.369</td>\n",
       "      <td>6.194</td>\n",
       "      <td>-0.529</td>\n",
       "      <td>2.5</td>\n",
       "    </tr>\n",
       "  </tbody>\n",
       "</table>\n",
       "</div>"
      ],
      "text/plain": [
       "               GDP  Unemployment %  GDP increase rate  Unemployment diff  \\\n",
       "1981  11520.447872           7.920                NaN                NaN   \n",
       "1983  10680.359042          11.851             -7.292              3.931   \n",
       "1985   9926.129971          10.480             -7.062             -1.371   \n",
       "1987  16709.559677           9.898             68.339             -0.582   \n",
       "1988  17744.501384           9.369              6.194             -0.529   \n",
       "\n",
       "      Normal GDP  \n",
       "1981         2.5  \n",
       "1983         2.5  \n",
       "1985         2.5  \n",
       "1987         2.5  \n",
       "1988         2.5  "
      ]
     },
     "execution_count": 451,
     "metadata": {},
     "output_type": "execute_result"
    }
   ],
   "source": [
    "df.head()"
   ]
  },
  {
   "cell_type": "code",
   "execution_count": 461,
   "metadata": {},
   "outputs": [],
   "source": [
    "df['Ouken coefficient'] = -1 * df['Unemployment diff'] / (df['GDP increase rate'] - df['Normal GDP'])"
   ]
  },
  {
   "cell_type": "code",
   "execution_count": 462,
   "metadata": {},
   "outputs": [
    {
     "data": {
      "text/html": [
       "<div>\n",
       "<style scoped>\n",
       "    .dataframe tbody tr th:only-of-type {\n",
       "        vertical-align: middle;\n",
       "    }\n",
       "\n",
       "    .dataframe tbody tr th {\n",
       "        vertical-align: top;\n",
       "    }\n",
       "\n",
       "    .dataframe thead th {\n",
       "        text-align: right;\n",
       "    }\n",
       "</style>\n",
       "<table border=\"1\" class=\"dataframe\">\n",
       "  <thead>\n",
       "    <tr style=\"text-align: right;\">\n",
       "      <th></th>\n",
       "      <th>GDP</th>\n",
       "      <th>Unemployment %</th>\n",
       "      <th>GDP increase rate</th>\n",
       "      <th>Unemployment diff</th>\n",
       "      <th>Normal GDP</th>\n",
       "      <th>Ouken coefficient</th>\n",
       "    </tr>\n",
       "  </thead>\n",
       "  <tbody>\n",
       "    <tr>\n",
       "      <th>1981</th>\n",
       "      <td>11520.447872</td>\n",
       "      <td>7.920</td>\n",
       "      <td>NaN</td>\n",
       "      <td>NaN</td>\n",
       "      <td>2.5</td>\n",
       "      <td>NaN</td>\n",
       "    </tr>\n",
       "    <tr>\n",
       "      <th>1983</th>\n",
       "      <td>10680.359042</td>\n",
       "      <td>11.851</td>\n",
       "      <td>-7.292</td>\n",
       "      <td>3.931</td>\n",
       "      <td>2.5</td>\n",
       "      <td>0.401450</td>\n",
       "    </tr>\n",
       "    <tr>\n",
       "      <th>1985</th>\n",
       "      <td>9926.129971</td>\n",
       "      <td>10.480</td>\n",
       "      <td>-7.062</td>\n",
       "      <td>-1.371</td>\n",
       "      <td>2.5</td>\n",
       "      <td>-0.143380</td>\n",
       "    </tr>\n",
       "    <tr>\n",
       "      <th>1987</th>\n",
       "      <td>16709.559677</td>\n",
       "      <td>9.898</td>\n",
       "      <td>68.339</td>\n",
       "      <td>-0.582</td>\n",
       "      <td>2.5</td>\n",
       "      <td>0.008840</td>\n",
       "    </tr>\n",
       "    <tr>\n",
       "      <th>1988</th>\n",
       "      <td>17744.501384</td>\n",
       "      <td>9.369</td>\n",
       "      <td>6.194</td>\n",
       "      <td>-0.529</td>\n",
       "      <td>2.5</td>\n",
       "      <td>0.143205</td>\n",
       "    </tr>\n",
       "  </tbody>\n",
       "</table>\n",
       "</div>"
      ],
      "text/plain": [
       "               GDP  Unemployment %  GDP increase rate  Unemployment diff  \\\n",
       "1981  11520.447872           7.920                NaN                NaN   \n",
       "1983  10680.359042          11.851             -7.292              3.931   \n",
       "1985   9926.129971          10.480             -7.062             -1.371   \n",
       "1987  16709.559677           9.898             68.339             -0.582   \n",
       "1988  17744.501384           9.369              6.194             -0.529   \n",
       "\n",
       "      Normal GDP  Ouken coefficient  \n",
       "1981         2.5                NaN  \n",
       "1983         2.5           0.401450  \n",
       "1985         2.5          -0.143380  \n",
       "1987         2.5           0.008840  \n",
       "1988         2.5           0.143205  "
      ]
     },
     "execution_count": 462,
     "metadata": {},
     "output_type": "execute_result"
    }
   ],
   "source": [
    "df.head()"
   ]
  },
  {
   "cell_type": "code",
   "execution_count": 466,
   "metadata": {},
   "outputs": [
    {
     "data": {
      "text/plain": [
       "0.08048861444886087"
      ]
     },
     "execution_count": 466,
     "metadata": {},
     "output_type": "execute_result"
    }
   ],
   "source": [
    "df['Ouken coefficient'].mean()"
   ]
  },
  {
   "cell_type": "code",
   "execution_count": 467,
   "metadata": {},
   "outputs": [],
   "source": [
    "df['mean Ouken coefficient'] = df['Ouken coefficient'].mean()"
   ]
  },
  {
   "cell_type": "code",
   "execution_count": 488,
   "metadata": {},
   "outputs": [],
   "source": [
    "df.dropna(inplace=True)"
   ]
  },
  {
   "cell_type": "code",
   "execution_count": 500,
   "metadata": {},
   "outputs": [
    {
     "data": {
      "text/plain": [
       "Index(['1983', '1985', '1987', '1988', '1989', '1990', '1991', '1992', '1993',\n",
       "       '1994', '1995', '1996', '1997', '1998', '1999', '2000', '2001', '2002',\n",
       "       '2003', '2004', '2005', '2006', '2007', '2008', '2009', '2010', '2011',\n",
       "       '2012', '2013', '2014', '2015', '2016', '2017', '2018', '2019', '2020'],\n",
       "      dtype='object')"
      ]
     },
     "execution_count": 500,
     "metadata": {},
     "output_type": "execute_result"
    }
   ],
   "source": [
    "df.index"
   ]
  },
  {
   "cell_type": "code",
   "execution_count": 509,
   "metadata": {},
   "outputs": [
    {
     "data": {
      "image/png": "[encoded data removed]",
      "text/plain": [
       "<Figure size 1200x600 with 1 Axes>"
      ]
     },
     "metadata": {},
     "output_type": "display_data"
    }
   ],
   "source": [
    "fig, ax = plt.subplots(figsize=(12, 6))\n",
    "\n",
    "ax.plot(df['Ouken coefficient'], marker='o', label='Ouken coefficient')\n",
    "ax.plot(df['mean Ouken coefficient'], label='mean Ouken coefficient')\n",
    "ax.set_xticks(df.index[::2])\n",
    "ax.set_ylabel('Ouken coefficient')\n",
    "ax.set_xlabel('Year')\n",
    "ax.legend()\n",
    "fig.tight_layout()\n",
    "\n",
    "fig.savefig('ouken.jpg');"
   ]
  },
  {
   "cell_type": "markdown",
   "metadata": {},
   "source": [
    "За 40 лет видим всего несколько больших отклонений от среднего коэффициента Оукена"
   ]
  },
  {
   "cell_type": "markdown",
   "metadata": {},
   "source": []
  }
 ],
 "metadata": {
  "kernelspec": {
   "display_name": "base",
   "language": "python",
   "name": "python3"
  },
  "language_info": {
   "codemirror_mode": {
    "name": "ipython",
    "version": 3
   },
   "file_extension": ".py",
   "mimetype": "text/x-python",
   "name": "python",
   "nbconvert_exporter": "python",
   "pygments_lexer": "ipython3",
   "version": "3.11.5"
  }
 },
 "nbformat": 4,
 "nbformat_minor": 2
}
