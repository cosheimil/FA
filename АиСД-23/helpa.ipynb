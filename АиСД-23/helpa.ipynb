{
 "cells": [
  {
   "cell_type": "markdown",
   "metadata": {},
   "source": [
    "# 1"
   ]
  },
  {
   "cell_type": "code",
   "execution_count": 1,
   "metadata": {},
   "outputs": [],
   "source": [
    "from datetime import datetime\n",
    "class Person:\n",
    "    def __init__(self, first_name, second_name, birth_day):\n",
    "        self.first_name = first_name\n",
    "        self.second_name = second_name\n",
    "        self.birth_day = birth_day\n",
    "\n",
    "    def __repr__(self):\n",
    "        return f\"Person(Name: {self.first_name} {self.second_name}, birthday: {self.birth_day})\"\n",
    "    \n",
    "    def get_age(self):\n",
    "        now = datetime.now().date()\n",
    "        return (now - self.birth_day).days // 365"
   ]
  },
  {
   "cell_type": "code",
   "execution_count": 2,
   "metadata": {},
   "outputs": [],
   "source": [
    "class Abiturient(Person):\n",
    "    def __init__(self, last_name, birth_day, faculty) -> None:\n",
    "        self.last_name = last_name\n",
    "        self.birth_day = birth_day\n",
    "        self.faculty = faculty\n",
    "\n",
    "\n",
    "    def __repr__(self) -> str:\n",
    "        return f\"Abiturient(Last Name: {self.last_name}, birthday: {self.birth_day}, faculty: {self.faculty}\"\n",
    "\n",
    "class Student(Person):\n",
    "    def __init__(self, last_name, birth_day, faculty, course) -> None:\n",
    "        self.last_name = last_name\n",
    "        self.birth_day = birth_day\n",
    "        self.faculty = faculty\n",
    "        self.course = course\n",
    "\n",
    "\n",
    "    def __repr__(self) -> str:\n",
    "        return f\"Student(Last Name: {self.last_name}, birthday: {self.birth_day}, faculty: {self.faculty}, course: {self.course}\"\n",
    "\n",
    "class Teacher(Person):\n",
    "    def __init__(self, last_name, birth_day, post, experience) -> None:\n",
    "        self.last_name = last_name\n",
    "        self.birth_day = birth_day\n",
    "        self.post = post\n",
    "        self.experience = experience\n",
    "\n",
    "\n",
    "    def __repr__(self) -> str:\n",
    "        return f\"Teacher(Last Name: {self.last_name}, birthday: {self.birth_day}, post: {self.post}, experience: {self.experience}\""
   ]
  },
  {
   "cell_type": "code",
   "execution_count": 3,
   "metadata": {},
   "outputs": [
    {
     "name": "stdout",
     "output_type": "stream",
     "text": [
      "zsh:1: command not found: pip\n"
     ]
    }
   ],
   "source": [
    "!pip install faker"
   ]
  },
  {
   "cell_type": "code",
   "execution_count": 4,
   "metadata": {},
   "outputs": [],
   "source": [
    "from faker import Faker\n",
    "from random import randint\n",
    "# Библиотеки для генерации данных"
   ]
  },
  {
   "cell_type": "code",
   "execution_count": 5,
   "metadata": {},
   "outputs": [
    {
     "data": {
      "text/plain": [
       "'Культуролог'"
      ]
     },
     "execution_count": 5,
     "metadata": {},
     "output_type": "execute_result"
    }
   ],
   "source": [
    "fake = Faker(\"ru_RU\")\n",
    "fake.job()"
   ]
  },
  {
   "cell_type": "code",
   "execution_count": 6,
   "metadata": {},
   "outputs": [],
   "source": [
    "n = 150"
   ]
  },
  {
   "cell_type": "code",
   "execution_count": 7,
   "metadata": {},
   "outputs": [
    {
     "data": {
      "text/plain": [
       "[Abiturient(Last Name: Бирюков, birthday: 1998-04-18, faculty: 8,\n",
       " Student(Last Name: Наумов, birthday: 2013-06-15, faculty: 7, course: 5,\n",
       " Teacher(Last Name: Миронова, birthday: 1977-07-24, post: Сценарист, experience: 49,\n",
       " Abiturient(Last Name: Самойлова, birthday: 1939-04-26, faculty: 10,\n",
       " Student(Last Name: Журавлев, birthday: 1965-01-20, faculty: 5, course: 1,\n",
       " Teacher(Last Name: Панова, birthday: 1984-08-08, post: Пограничник, experience: 12,\n",
       " Abiturient(Last Name: Жуков, birthday: 1991-06-20, faculty: 3,\n",
       " Student(Last Name: Никонова, birthday: 1935-10-17, faculty: 5, course: 3,\n",
       " Teacher(Last Name: Овчинникова, birthday: 1966-06-13, post: Географ, experience: 36,\n",
       " Abiturient(Last Name: Белоусов, birthday: 2009-01-18, faculty: 1,\n",
       " Student(Last Name: Борисов, birthday: 1928-12-07, faculty: 4, course: 4,\n",
       " Teacher(Last Name: Королев, birthday: 1962-03-10, post: Религиовед, experience: 59,\n",
       " Abiturient(Last Name: Сысоева, birthday: 1940-04-29, faculty: 3,\n",
       " Student(Last Name: Калинин, birthday: 1929-02-02, faculty: 3, course: 6,\n",
       " Teacher(Last Name: Титов, birthday: 2011-03-05, post: Дефектолог, experience: 42,\n",
       " Abiturient(Last Name: Григорьев, birthday: 1958-07-07, faculty: 8,\n",
       " Student(Last Name: Тимофеев, birthday: 1913-09-13, faculty: 5, course: 5,\n",
       " Teacher(Last Name: Матвеева, birthday: 1931-12-18, post: Пульмонолог, experience: 54,\n",
       " Abiturient(Last Name: Козлов, birthday: 1910-09-16, faculty: 3,\n",
       " Student(Last Name: Смирнова, birthday: 1976-02-22, faculty: 8, course: 2,\n",
       " Teacher(Last Name: Белоусова, birthday: 2020-07-31, post: Маляр, experience: 36,\n",
       " Abiturient(Last Name: Горбачева, birthday: 1973-02-13, faculty: 7,\n",
       " Student(Last Name: Некрасов, birthday: 1947-07-08, faculty: 5, course: 1,\n",
       " Teacher(Last Name: Ширяева, birthday: 1984-02-13, post: Переводчик, experience: 52,\n",
       " Abiturient(Last Name: Самойлов, birthday: 1913-11-26, faculty: 4,\n",
       " Student(Last Name: Егорова, birthday: 1971-11-11, faculty: 5, course: 6,\n",
       " Teacher(Last Name: Белозерова, birthday: 1968-12-10, post: Кодер, experience: 48,\n",
       " Abiturient(Last Name: Герасимов, birthday: 1915-04-27, faculty: 5,\n",
       " Student(Last Name: Романов, birthday: 2017-07-28, faculty: 1, course: 5,\n",
       " Teacher(Last Name: Панова, birthday: 1944-02-01, post: Архивариус, experience: 14,\n",
       " Abiturient(Last Name: Туров, birthday: 1912-09-22, faculty: 10,\n",
       " Student(Last Name: Беляков, birthday: 1974-01-13, faculty: 8, course: 5,\n",
       " Teacher(Last Name: Лыткина, birthday: 1976-11-09, post: Биоинженер, experience: 20,\n",
       " Abiturient(Last Name: Васильева, birthday: 1959-05-06, faculty: 1,\n",
       " Student(Last Name: Гуляева, birthday: 2011-12-16, faculty: 7, course: 2,\n",
       " Teacher(Last Name: Кулагин, birthday: 2000-12-31, post: Комбайнер, experience: 49,\n",
       " Abiturient(Last Name: Федоров, birthday: 1989-02-14, faculty: 10,\n",
       " Student(Last Name: Аксенов, birthday: 1939-04-04, faculty: 3, course: 6,\n",
       " Teacher(Last Name: Константинов, birthday: 1962-06-01, post: Патологоанатом, experience: 40,\n",
       " Abiturient(Last Name: Фомичева, birthday: 2006-11-13, faculty: 10,\n",
       " Student(Last Name: Костин, birthday: 1938-07-27, faculty: 3, course: 3,\n",
       " Teacher(Last Name: Кузьмин, birthday: 1988-05-13, post: Танатолог, experience: 55,\n",
       " Abiturient(Last Name: Зыков, birthday: 2018-10-11, faculty: 3,\n",
       " Student(Last Name: Лобанов, birthday: 1999-10-18, faculty: 7, course: 1,\n",
       " Teacher(Last Name: Елисеев, birthday: 1970-04-23, post: Врач функциональной диагностики, experience: 28,\n",
       " Abiturient(Last Name: Мухина, birthday: 2008-01-17, faculty: 10,\n",
       " Student(Last Name: Стрелков, birthday: 1965-03-16, faculty: 3, course: 3,\n",
       " Teacher(Last Name: Рогов, birthday: 1961-05-25, post: Моторист, experience: 40,\n",
       " Abiturient(Last Name: Александрова, birthday: 1941-12-30, faculty: 10,\n",
       " Student(Last Name: Савин, birthday: 1997-05-13, faculty: 6, course: 6,\n",
       " Teacher(Last Name: Анисимов, birthday: 1955-05-03, post: Фармацевт, experience: 47,\n",
       " Abiturient(Last Name: Трофимова, birthday: 1989-06-12, faculty: 3,\n",
       " Student(Last Name: Меркушев, birthday: 1919-03-28, faculty: 3, course: 4,\n",
       " Teacher(Last Name: Куликова, birthday: 1952-02-07, post: Топограф, experience: 34,\n",
       " Abiturient(Last Name: Абрамов, birthday: 1923-12-26, faculty: 5,\n",
       " Student(Last Name: Воронова, birthday: 1986-03-05, faculty: 7, course: 6,\n",
       " Teacher(Last Name: Лазарева, birthday: 1949-02-02, post: Формовщик, experience: 36,\n",
       " Abiturient(Last Name: Игнатова, birthday: 1961-01-08, faculty: 2,\n",
       " Student(Last Name: Цветков, birthday: 1973-11-18, faculty: 7, course: 3,\n",
       " Teacher(Last Name: Александров, birthday: 1989-02-10, post: Дилер, experience: 23,\n",
       " Abiturient(Last Name: Маркова, birthday: 1961-02-04, faculty: 9,\n",
       " Student(Last Name: Фокин, birthday: 1930-04-23, faculty: 9, course: 6,\n",
       " Teacher(Last Name: Афанасьев, birthday: 1932-12-24, post: Ревматолог, experience: 55,\n",
       " Abiturient(Last Name: Журавлев, birthday: 1940-12-18, faculty: 7,\n",
       " Student(Last Name: Наумова, birthday: 1951-07-14, faculty: 1, course: 5,\n",
       " Teacher(Last Name: Доронина, birthday: 1954-09-07, post: Кардиолог, experience: 31,\n",
       " Abiturient(Last Name: Андреев, birthday: 1953-04-11, faculty: 3,\n",
       " Student(Last Name: Уваров, birthday: 1970-03-25, faculty: 2, course: 2,\n",
       " Teacher(Last Name: Самойлова, birthday: 1961-12-16, post: Психиатр, experience: 26,\n",
       " Abiturient(Last Name: Меркушев, birthday: 1921-04-21, faculty: 5,\n",
       " Student(Last Name: Русакова, birthday: 1944-03-19, faculty: 6, course: 2,\n",
       " Teacher(Last Name: Красильникова, birthday: 1988-02-17, post: Кондитер, experience: 12,\n",
       " Abiturient(Last Name: Баранов, birthday: 1975-06-10, faculty: 1,\n",
       " Student(Last Name: Савельева, birthday: 2021-07-29, faculty: 10, course: 2,\n",
       " Teacher(Last Name: Кондратьев, birthday: 1951-07-09, post: Музыкант, experience: 56,\n",
       " Abiturient(Last Name: Тетерин, birthday: 1965-09-04, faculty: 9,\n",
       " Student(Last Name: Волкова, birthday: 1912-04-02, faculty: 1, course: 3,\n",
       " Teacher(Last Name: Сидоров, birthday: 1973-12-07, post: Шорник, experience: 26,\n",
       " Abiturient(Last Name: Шарапов, birthday: 1989-04-29, faculty: 1,\n",
       " Student(Last Name: Суворов, birthday: 1941-10-05, faculty: 5, course: 4,\n",
       " Teacher(Last Name: Бирюков, birthday: 1972-10-21, post: Метрдотель, experience: 55,\n",
       " Abiturient(Last Name: Щербакова, birthday: 1926-03-06, faculty: 3,\n",
       " Student(Last Name: Козлова, birthday: 1973-12-19, faculty: 4, course: 4,\n",
       " Teacher(Last Name: Трофимов, birthday: 1963-04-24, post: Булочник, experience: 60,\n",
       " Abiturient(Last Name: Белякова, birthday: 1949-12-12, faculty: 4,\n",
       " Student(Last Name: Марков, birthday: 2002-07-30, faculty: 4, course: 4,\n",
       " Teacher(Last Name: Поляков, birthday: 1979-08-20, post: Дилер, experience: 30,\n",
       " Abiturient(Last Name: Кудряшов, birthday: 1948-06-04, faculty: 9,\n",
       " Student(Last Name: Маслов, birthday: 1961-12-30, faculty: 6, course: 2,\n",
       " Teacher(Last Name: Елисеева, birthday: 1937-01-24, post: Рихтовщик, experience: 30,\n",
       " Abiturient(Last Name: Гришина, birthday: 1971-08-02, faculty: 4,\n",
       " Student(Last Name: Симонов, birthday: 1914-12-30, faculty: 4, course: 6,\n",
       " Teacher(Last Name: Кулакова, birthday: 1978-04-09, post: Критик, experience: 14,\n",
       " Abiturient(Last Name: Киселева, birthday: 1930-04-11, faculty: 4,\n",
       " Student(Last Name: Петухова, birthday: 1960-10-25, faculty: 6, course: 1,\n",
       " Teacher(Last Name: Виноградов, birthday: 1943-09-30, post: Заряжающий, experience: 51,\n",
       " Abiturient(Last Name: Кононова, birthday: 1992-06-04, faculty: 7,\n",
       " Student(Last Name: Колобов, birthday: 1968-01-23, faculty: 5, course: 1,\n",
       " Teacher(Last Name: Лобанова, birthday: 1965-11-03, post: Фортификатор, experience: 21,\n",
       " Abiturient(Last Name: Кононова, birthday: 1916-02-08, faculty: 7,\n",
       " Student(Last Name: Кабанов, birthday: 1918-08-31, faculty: 7, course: 3,\n",
       " Teacher(Last Name: Носов, birthday: 1950-07-16, post: Монтажник радиоэлектронной аппаратуры и приборов, experience: 54,\n",
       " Abiturient(Last Name: Кулагин, birthday: 1963-06-24, faculty: 2,\n",
       " Student(Last Name: Савин, birthday: 1975-07-07, faculty: 1, course: 6,\n",
       " Teacher(Last Name: Антонова, birthday: 2012-01-04, post: Тракторист, experience: 25,\n",
       " Abiturient(Last Name: Рогова, birthday: 1984-10-15, faculty: 10,\n",
       " Student(Last Name: Воронова, birthday: 1909-04-14, faculty: 3, course: 3,\n",
       " Teacher(Last Name: Ефимов, birthday: 1910-04-16, post: Пульмонолог, experience: 39,\n",
       " Abiturient(Last Name: Лазарев, birthday: 1977-01-04, faculty: 8,\n",
       " Student(Last Name: Колесникова, birthday: 2017-04-09, faculty: 8, course: 5,\n",
       " Teacher(Last Name: Александров, birthday: 2001-05-18, post: Кардиохирург, experience: 28,\n",
       " Abiturient(Last Name: Белов, birthday: 1952-08-07, faculty: 5,\n",
       " Student(Last Name: Назарова, birthday: 1937-09-07, faculty: 7, course: 3,\n",
       " Teacher(Last Name: Игнатова, birthday: 2013-12-01, post: Иконописец, experience: 14,\n",
       " Abiturient(Last Name: Смирнова, birthday: 1949-12-11, faculty: 8,\n",
       " Student(Last Name: Зуев, birthday: 2014-10-22, faculty: 7, course: 1,\n",
       " Teacher(Last Name: Блинова, birthday: 1954-04-10, post: Огнемётчик, experience: 51,\n",
       " Abiturient(Last Name: Кошелев, birthday: 1994-08-08, faculty: 4,\n",
       " Student(Last Name: Аксенов, birthday: 1926-06-06, faculty: 0, course: 6,\n",
       " Teacher(Last Name: Коновалова, birthday: 1937-10-09, post: Энтомолог, experience: 39,\n",
       " Abiturient(Last Name: Самойлова, birthday: 1948-12-23, faculty: 6,\n",
       " Student(Last Name: Кулагин, birthday: 1954-01-16, faculty: 2, course: 2,\n",
       " Teacher(Last Name: Артемьева, birthday: 1950-11-25, post: Сметчик, experience: 55,\n",
       " Abiturient(Last Name: Пономарева, birthday: 2005-12-26, faculty: 2,\n",
       " Student(Last Name: Владимирова, birthday: 1978-07-31, faculty: 8, course: 1,\n",
       " Teacher(Last Name: Овчинников, birthday: 1915-06-15, post: Интендант, experience: 33,\n",
       " Abiturient(Last Name: Брагин, birthday: 1947-12-22, faculty: 10,\n",
       " Student(Last Name: Соловьева, birthday: 1964-03-13, faculty: 5, course: 6,\n",
       " Teacher(Last Name: Анисимова, birthday: 1955-08-17, post: Инженер-физик, experience: 11,\n",
       " Abiturient(Last Name: Бирюкова, birthday: 2000-04-04, faculty: 10,\n",
       " Student(Last Name: Борисов, birthday: 1937-11-06, faculty: 0, course: 4,\n",
       " Teacher(Last Name: Гурьев, birthday: 1981-01-05, post: Кинодраматург, experience: 58,\n",
       " Abiturient(Last Name: Третьякова, birthday: 2005-01-13, faculty: 2,\n",
       " Student(Last Name: Капустина, birthday: 1911-09-30, faculty: 6, course: 6,\n",
       " Teacher(Last Name: Кудряшова, birthday: 2015-03-28, post: Токсиколог, experience: 39,\n",
       " Abiturient(Last Name: Лобанов, birthday: 1950-11-27, faculty: 1,\n",
       " Student(Last Name: Самсонова, birthday: 2021-10-13, faculty: 0, course: 1,\n",
       " Teacher(Last Name: Блохин, birthday: 1925-04-26, post: Кинооператор, experience: 42,\n",
       " Abiturient(Last Name: Никонов, birthday: 1925-07-02, faculty: 9,\n",
       " Student(Last Name: Гусева, birthday: 1915-04-16, faculty: 8, course: 5,\n",
       " Teacher(Last Name: Авдеева, birthday: 1965-02-28, post: Гример, experience: 26,\n",
       " Abiturient(Last Name: Третьякова, birthday: 1996-12-19, faculty: 1,\n",
       " Student(Last Name: Шестаков, birthday: 1995-05-07, faculty: 6, course: 1,\n",
       " Teacher(Last Name: Доронина, birthday: 1996-11-05, post: Торговый представитель, experience: 18,\n",
       " Abiturient(Last Name: Харитонов, birthday: 1941-06-30, faculty: 9,\n",
       " Student(Last Name: Куликов, birthday: 1978-03-24, faculty: 0, course: 4,\n",
       " Teacher(Last Name: Миронов, birthday: 1988-06-11, post: Инженер-гидравлик, experience: 19,\n",
       " Abiturient(Last Name: Козлова, birthday: 2022-02-23, faculty: 1,\n",
       " Student(Last Name: Ефремова, birthday: 1947-04-26, faculty: 2, course: 6,\n",
       " Teacher(Last Name: Маслова, birthday: 2017-06-21, post: Швея, experience: 37]"
      ]
     },
     "execution_count": 7,
     "metadata": {},
     "output_type": "execute_result"
    }
   ],
   "source": [
    "person_list = []\n",
    "for _ in range(n // 3):\n",
    "    abiturient = Abiturient(fake.last_name(), fake.date_of_birth(), str(randint(0, 10)))\n",
    "    student = Student(fake.last_name(), fake.date_of_birth(), str(randint(0, 10)), randint(1, 6))\n",
    "    teacher = Teacher(fake.last_name(), fake.date_of_birth(), fake.job(), randint(10, 60))\n",
    "    person_list.append(abiturient)\n",
    "    person_list.append(student)\n",
    "    person_list.append(teacher)\n",
    "person_list"
   ]
  },
  {
   "cell_type": "code",
   "execution_count": 8,
   "metadata": {},
   "outputs": [
    {
     "data": {
      "text/plain": [
       "[Abiturient(Last Name: Бирюков, birthday: 1998-04-18, faculty: 8,\n",
       " Teacher(Last Name: Миронова, birthday: 1977-07-24, post: Сценарист, experience: 49,\n",
       " Teacher(Last Name: Панова, birthday: 1984-08-08, post: Пограничник, experience: 12,\n",
       " Abiturient(Last Name: Жуков, birthday: 1991-06-20, faculty: 3,\n",
       " Student(Last Name: Смирнова, birthday: 1976-02-22, faculty: 8, course: 2,\n",
       " Teacher(Last Name: Ширяева, birthday: 1984-02-13, post: Переводчик, experience: 52,\n",
       " Student(Last Name: Беляков, birthday: 1974-01-13, faculty: 8, course: 5,\n",
       " Teacher(Last Name: Лыткина, birthday: 1976-11-09, post: Биоинженер, experience: 20,\n",
       " Teacher(Last Name: Кулагин, birthday: 2000-12-31, post: Комбайнер, experience: 49,\n",
       " Abiturient(Last Name: Федоров, birthday: 1989-02-14, faculty: 10,\n",
       " Teacher(Last Name: Кузьмин, birthday: 1988-05-13, post: Танатолог, experience: 55,\n",
       " Student(Last Name: Лобанов, birthday: 1999-10-18, faculty: 7, course: 1,\n",
       " Student(Last Name: Савин, birthday: 1997-05-13, faculty: 6, course: 6,\n",
       " Abiturient(Last Name: Трофимова, birthday: 1989-06-12, faculty: 3,\n",
       " Student(Last Name: Воронова, birthday: 1986-03-05, faculty: 7, course: 6,\n",
       " Student(Last Name: Цветков, birthday: 1973-11-18, faculty: 7, course: 3,\n",
       " Teacher(Last Name: Александров, birthday: 1989-02-10, post: Дилер, experience: 23,\n",
       " Teacher(Last Name: Красильникова, birthday: 1988-02-17, post: Кондитер, experience: 12,\n",
       " Abiturient(Last Name: Баранов, birthday: 1975-06-10, faculty: 1,\n",
       " Teacher(Last Name: Сидоров, birthday: 1973-12-07, post: Шорник, experience: 26,\n",
       " Abiturient(Last Name: Шарапов, birthday: 1989-04-29, faculty: 1,\n",
       " Student(Last Name: Козлова, birthday: 1973-12-19, faculty: 4, course: 4,\n",
       " Student(Last Name: Марков, birthday: 2002-07-30, faculty: 4, course: 4,\n",
       " Teacher(Last Name: Поляков, birthday: 1979-08-20, post: Дилер, experience: 30,\n",
       " Teacher(Last Name: Кулакова, birthday: 1978-04-09, post: Критик, experience: 14,\n",
       " Abiturient(Last Name: Кононова, birthday: 1992-06-04, faculty: 7,\n",
       " Student(Last Name: Савин, birthday: 1975-07-07, faculty: 1, course: 6,\n",
       " Abiturient(Last Name: Рогова, birthday: 1984-10-15, faculty: 10,\n",
       " Abiturient(Last Name: Лазарев, birthday: 1977-01-04, faculty: 8,\n",
       " Teacher(Last Name: Александров, birthday: 2001-05-18, post: Кардиохирург, experience: 28,\n",
       " Abiturient(Last Name: Кошелев, birthday: 1994-08-08, faculty: 4,\n",
       " Student(Last Name: Владимирова, birthday: 1978-07-31, faculty: 8, course: 1,\n",
       " Abiturient(Last Name: Бирюкова, birthday: 2000-04-04, faculty: 10,\n",
       " Teacher(Last Name: Гурьев, birthday: 1981-01-05, post: Кинодраматург, experience: 58,\n",
       " Abiturient(Last Name: Третьякова, birthday: 1996-12-19, faculty: 1,\n",
       " Student(Last Name: Шестаков, birthday: 1995-05-07, faculty: 6, course: 1,\n",
       " Teacher(Last Name: Доронина, birthday: 1996-11-05, post: Торговый представитель, experience: 18,\n",
       " Student(Last Name: Куликов, birthday: 1978-03-24, faculty: 0, course: 4,\n",
       " Teacher(Last Name: Миронов, birthday: 1988-06-11, post: Инженер-гидравлик, experience: 19]"
      ]
     },
     "execution_count": 8,
     "metadata": {},
     "output_type": "execute_result"
    }
   ],
   "source": [
    "a, b = 20, 50\n",
    "list(filter(lambda x: a <= x.get_age() <= b, person_list))"
   ]
  },
  {
   "cell_type": "markdown",
   "metadata": {},
   "source": [
    "# 2"
   ]
  },
  {
   "cell_type": "code",
   "execution_count": 9,
   "metadata": {},
   "outputs": [],
   "source": [
    "class BinaryTree:\n",
    "   def __init__(self, data):\n",
    "      self.left = None\n",
    "      self.right = None\n",
    "      self.data = data\n",
    "\n",
    "   def insert(self, data):\n",
    "      if self.data:\n",
    "         if data < self.data:\n",
    "            if self.left is None:\n",
    "               self.left = BinaryTree(data)\n",
    "            else:\n",
    "               self.left.insert(data)\n",
    "         elif data > self.data:\n",
    "            if self.right is None:\n",
    "               self.right = BinaryTree(data)\n",
    "            else:\n",
    "               self.right.insert(data)\n",
    "         else:\n",
    "            self.data = data\n",
    "   \n",
    "   def exists(self, data):\n",
    "      if data == self.data:\n",
    "         return True\n",
    "      \n",
    "      if data < self.data:\n",
    "         if self.left == None:\n",
    "               return False\n",
    "         return self.left.exists(data)\n",
    "      \n",
    "      if self.right == None:\n",
    "         return False\n",
    "\n",
    "      return self.right.exists(data)\n",
    "\n",
    "\n",
    "   def print_tree(self):\n",
    "      if self.left:\n",
    "         self.left.print_tree()\n",
    "      print(self.data)\n",
    "      if self.right:\n",
    "         self.right.print_tree()"
   ]
  },
  {
   "cell_type": "code",
   "execution_count": 10,
   "metadata": {},
   "outputs": [],
   "source": [
    "from random import randint\n",
    "bt = BinaryTree(-2)\n",
    "bt.insert(10)\n",
    "bt.insert(-10)"
   ]
  },
  {
   "cell_type": "code",
   "execution_count": 11,
   "metadata": {},
   "outputs": [
    {
     "name": "stdout",
     "output_type": "stream",
     "text": [
      "-10\n",
      "-2\n",
      "10\n"
     ]
    }
   ],
   "source": [
    "bt.print_tree()"
   ]
  },
  {
   "cell_type": "code",
   "execution_count": 12,
   "metadata": {},
   "outputs": [
    {
     "data": {
      "text/plain": [
       "False"
      ]
     },
     "execution_count": 12,
     "metadata": {},
     "output_type": "execute_result"
    }
   ],
   "source": [
    "bt.exists(-100)"
   ]
  },
  {
   "cell_type": "code",
   "execution_count": 13,
   "metadata": {},
   "outputs": [
    {
     "data": {
      "text/plain": [
       "True"
      ]
     },
     "execution_count": 13,
     "metadata": {},
     "output_type": "execute_result"
    }
   ],
   "source": [
    "bt.exists(10)"
   ]
  },
  {
   "cell_type": "code",
   "execution_count": null,
   "metadata": {},
   "outputs": [],
   "source": []
  }
 ],
 "metadata": {
  "kernelspec": {
   "display_name": "Python 3",
   "language": "python",
   "name": "python3"
  },
  "language_info": {
   "codemirror_mode": {
    "name": "ipython",
    "version": 3
   },
   "file_extension": ".py",
   "mimetype": "text/x-python",
   "name": "python",
   "nbconvert_exporter": "python",
   "pygments_lexer": "ipython3",
   "version": "3.11.9"
  }
 },
 "nbformat": 4,
 "nbformat_minor": 2
}
