{
 "cells": [
  {
   "cell_type": "markdown",
   "metadata": {},
   "source": [
    "## Оптимизация выполнения кода, векторизация, Numba"
   ]
  },
  {
   "cell_type": "markdown",
   "metadata": {},
   "source": [
    "Материалы:\n",
    "* Макрушин С.В. Лекция 3: Оптимизация выполнения кода, векторизация, Numba\n",
    "* IPython Cookbook, Second Edition (2018), глава 4\n",
    "* https://numba.pydata.org/numba-doc/latest/user/5minguide.html"
   ]
  },
  {
   "cell_type": "markdown",
   "metadata": {},
   "source": [
    "## Задачи для совместного разбора"
   ]
  },
  {
   "cell_type": "markdown",
   "metadata": {},
   "source": [
    "1. Сгенерируйте массив `A` из `N=1млн` случайных целых чисел на отрезке от 0 до 1000. Пусть `B[i] = A[i] + 100`. Посчитайте среднее значение массива `B`. \n",
    "Задание выполнить несколькими способами (\"naive\" Python, numpy, с использованием numba декоратора @njit) Проверить время выполнения каждого способа %time или %%time"
   ]
  },
  {
   "cell_type": "code",
   "execution_count": null,
   "metadata": {},
   "outputs": [],
   "source": []
  },
  {
   "cell_type": "markdown",
   "metadata": {},
   "source": [
    "2. Создайте таблицу 2млн строк и с 4 столбцами, заполненными случайными числами. Добавьте столбец `key`, которые содержит элементы из множества английских букв. Выберите из таблицы подмножество строк, для которых в столбце `key` указаны первые 5 английских букв. Задание выполнить несколькими способами (\"naive\" Python, numpy, с использованием numba декоратора @njit - оценить возможность). Проверить время выполнения каждого способа %time или %%time"
   ]
  },
  {
   "cell_type": "markdown",
   "metadata": {},
   "source": [
    "## Лабораторная работа 3"
   ]
  },
  {
   "cell_type": "code",
   "execution_count": 1,
   "metadata": {},
   "outputs": [],
   "source": [
    "import pandas as pd\n",
    "import numpy as np"
   ]
  },
  {
   "cell_type": "markdown",
   "metadata": {},
   "source": [
    "###### 1. В файлах `recipes_sample.csv` и `reviews_sample.csv` (__ЛР 2__) находится информация об рецептах блюд и отзывах на эти рецепты соответственно. Загрузите данные из файлов в виде `pd.DataFrame` с названиями `recipes` и `reviews`. Обратите внимание на корректное считывание столбца(ов) с индексами. Приведите столбцы к нужным типам.\n",
    "\n",
    "Реализуйте несколько вариантов функции подсчета среднего значения столбца `rating` из таблицы `reviews` для отзывов, оставленных в 2010 году.\n",
    "\n",
    "A. С использованием метода `DataFrame.iterrows` исходной таблицы;\n",
    "\n",
    "Б. С использованием метода `DataFrame.iterrows` таблицы, в которой сохранены только отзывы за 2010 год;\n",
    "\n",
    "В. С использованием метода `Series.mean`.\n",
    "\n",
    "Проверьте, что результаты работы всех написанных функций корректны и совпадают. Измерьте выполнения всех написанных функций.\n"
   ]
  },
  {
   "cell_type": "code",
   "execution_count": 3,
   "metadata": {},
   "outputs": [],
   "source": [
    "recipes = pd.read_csv('data/recipes_sample.csv')\n",
    "reviews = pd.read_csv('data/reviews_sample.csv', index_col=0)"
   ]
  },
  {
   "cell_type": "code",
   "execution_count": 4,
   "metadata": {},
   "outputs": [],
   "source": [
    "reviews.date = pd.to_datetime(reviews.date)\n",
    "my_reviews = reviews[reviews.date.dt.year == 2010]"
   ]
  },
  {
   "cell_type": "markdown",
   "metadata": {},
   "source": [
    "### a"
   ]
  },
  {
   "cell_type": "code",
   "execution_count": 31,
   "metadata": {},
   "outputs": [
    {
     "name": "stdout",
     "output_type": "stream",
     "text": [
      "3.4 s ± 42.7 ms per loop (mean ± std. dev. of 7 runs, 1 loop each)\n"
     ]
    }
   ],
   "source": [
    "%%timeit\n",
    "\n",
    "\n",
    "ex = list()\n",
    "\n",
    "for index, row in reviews.iterrows():\n",
    "    if row.date.year == 2010:\n",
    "        ex.append(row.rating)\n",
    "        \n",
    "sum(ex) / len(ex)     "
   ]
  },
  {
   "cell_type": "code",
   "execution_count": 38,
   "metadata": {},
   "outputs": [
    {
     "name": "stdout",
     "output_type": "stream",
     "text": [
      " "
     ]
    }
   ],
   "source": [
    "%%prun\n",
    "\n",
    "\n",
    "ex = list()\n",
    "\n",
    "for index, row in reviews.iterrows():\n",
    "    if row.date.year == 2010:\n",
    "        ex.append(row.rating)\n",
    "        \n",
    "sum(ex) / len(ex)     "
   ]
  },
  {
   "cell_type": "markdown",
   "metadata": {},
   "source": [
    "### b"
   ]
  },
  {
   "cell_type": "code",
   "execution_count": 33,
   "metadata": {},
   "outputs": [
    {
     "name": "stdout",
     "output_type": "stream",
     "text": [
      "905 ms ± 146 ms per loop (mean ± std. dev. of 7 runs, 1 loop each)\n"
     ]
    }
   ],
   "source": [
    "%%timeit\n",
    "\n",
    "ex = list()\n",
    "for index, row in my_reviews.iterrows():\n",
    "    ex.append(row.rating)\n",
    "    \n",
    "sum(ex) / len(ex)"
   ]
  },
  {
   "cell_type": "markdown",
   "metadata": {},
   "source": [
    "### v"
   ]
  },
  {
   "cell_type": "code",
   "execution_count": 37,
   "metadata": {},
   "outputs": [
    {
     "name": "stdout",
     "output_type": "stream",
     "text": [
      "258 µs ± 8.36 µs per loop (mean ± std. dev. of 7 runs, 1,000 loops each)\n"
     ]
    }
   ],
   "source": [
    "%%timeit\n",
    "\n",
    "reviews.rating.mean()"
   ]
  },
  {
   "cell_type": "markdown",
   "metadata": {},
   "source": [
    "2. Какая из созданных функций выполняется медленнее? Что наиболее сильно влияет на скорость выполнения? Для ответа использовать профайлер `line_profiler`. Сохраните результаты работы профайлера в отдельную текстовую ячейку и прокомментируйте результаты его работы.\n",
    "\n",
    "(*). Сможете ли вы ускорить работу функции 1Б, отказавшись от использования метода `iterrows`, но не используя метод `mean`?"
   ]
  },
  {
   "cell_type": "code",
   "execution_count": 44,
   "metadata": {},
   "outputs": [],
   "source": [
    "%lprun?"
   ]
  },
  {
   "cell_type": "code",
   "execution_count": 46,
   "metadata": {},
   "outputs": [],
   "source": [
    "from a_solution import a_solution"
   ]
  },
  {
   "cell_type": "code",
   "execution_count": 47,
   "metadata": {},
   "outputs": [],
   "source": [
    "%lprun -f a_solution a_solution(reviews)"
   ]
  },
  {
   "cell_type": "markdown",
   "metadata": {},
   "source": [
    "### a"
   ]
  },
  {
   "cell_type": "code",
   "execution_count": 41,
   "metadata": {},
   "outputs": [
    {
     "name": "stdout",
     "output_type": "stream",
     "text": [
      "Writing a_solution.py\n"
     ]
    }
   ],
   "source": [
    "%%writefile a_solution.py\n",
    "\n",
    "def a_solution(reviews):\n",
    "    ex = list()\n",
    "\n",
    "    for index, row in reviews.iterrows():\n",
    "        if row.date.year == 2010:\n",
    "            ex.append(row.rating)\n",
    "\n",
    "    return sum(ex) / len(ex)     "
   ]
  },
  {
   "cell_type": "raw",
   "metadata": {},
   "source": [
    "Timer unit: 1e-09 s\n",
    "\n",
    "Total time: 12.6958 s\n",
    "File: /home/kir/MLpractice/tod/занятие 8/a_solution.py\n",
    "Function: a_solution at line 2\n",
    "\n",
    "Line #      Hits         Time  Per Hit   % Time  Line Contents\n",
    "==============================================================\n",
    "     2                                           def a_solution(reviews):\n",
    "     3         1       3777.0   3777.0      0.0      ex = list()\n",
    "     4                                           \n",
    "     5    126697        1e+10  81264.3     81.1      for index, row in reviews.iterrows():\n",
    "     6    126696 2245419104.0  17722.9     17.7          if row.date.year == 2010:\n",
    "     7     12094  154428563.0  12769.0      1.2              ex.append(row.rating)\n",
    "     8                                           \n",
    "     9         1      43271.0  43271.0      0.0      return sum(ex) / len(ex)"
   ]
  },
  {
   "cell_type": "markdown",
   "metadata": {},
   "source": [
    "Большую часть времени (80%) тратится на итерирование по строкам таблицы и 17% времени на сравнения года"
   ]
  },
  {
   "cell_type": "code",
   "execution_count": null,
   "metadata": {},
   "outputs": [],
   "source": []
  },
  {
   "cell_type": "markdown",
   "metadata": {},
   "source": [
    "### b"
   ]
  },
  {
   "cell_type": "code",
   "execution_count": 42,
   "metadata": {},
   "outputs": [
    {
     "name": "stdout",
     "output_type": "stream",
     "text": [
      "Writing b_solution.py\n"
     ]
    }
   ],
   "source": [
    "%%writefile b_solution.py\n",
    "\n",
    "\n",
    "def b_solution(my_reviews):\n",
    "    ex = list()\n",
    "    for index, row in my_reviews.iterrows():\n",
    "        ex.append(row.rating)\n",
    "\n",
    "    return sum(ex) / len(ex)"
   ]
  },
  {
   "cell_type": "code",
   "execution_count": 49,
   "metadata": {},
   "outputs": [],
   "source": [
    "from b_solution import b_solution"
   ]
  },
  {
   "cell_type": "code",
   "execution_count": 50,
   "metadata": {},
   "outputs": [],
   "source": [
    "%lprun -f b_solution b_solution(my_reviews)"
   ]
  },
  {
   "cell_type": "raw",
   "metadata": {},
   "source": [
    "# Timer unit: 1e-09 s\n",
    "\n",
    "Total time: 1.98139 s\n",
    "File: /home/kir/MLpractice/tod/занятие 8/b_solution.py\n",
    "Function: b_solution at line 3\n",
    "\n",
    "Line #      Hits         Time  Per Hit   % Time  Line Contents\n",
    "==============================================================\n",
    "     3                                           def b_solution(my_reviews):\n",
    "     4         1       6021.0   6021.0      0.0      ex = list()\n",
    "     5     12095 1613985890.0 133442.4     81.5      for index, row in my_reviews.iterrows():\n",
    "     6     12094  367142002.0  30357.4     18.5          ex.append(row.rating)\n",
    "     7                                           \n",
    "     8         1     251954.0 251954.0      0.0      return sum(ex) / len(ex)"
   ]
  },
  {
   "cell_type": "markdown",
   "metadata": {},
   "source": [
    "Аналогично с пунктом а, большая часть времени тратится на итерирование по строкам."
   ]
  },
  {
   "cell_type": "markdown",
   "metadata": {},
   "source": [
    "### fixed b"
   ]
  },
  {
   "cell_type": "code",
   "execution_count": 57,
   "metadata": {},
   "outputs": [
    {
     "name": "stdout",
     "output_type": "stream",
     "text": [
      "Writing fixed_b_solution.py\n"
     ]
    }
   ],
   "source": [
    "%%writefile fixed_b_solution.py\n",
    "\n",
    "def fixed_b_solution(my_reviews):\n",
    "    ex = list()\n",
    "    for el in my_reviews.rating:\n",
    "        ex.append(el)\n",
    "        \n",
    "    return sum(ex) / len(ex)"
   ]
  },
  {
   "cell_type": "code",
   "execution_count": 58,
   "metadata": {},
   "outputs": [],
   "source": [
    "from fixed_b_solution import fixed_b_solution "
   ]
  },
  {
   "cell_type": "code",
   "execution_count": 61,
   "metadata": {},
   "outputs": [
    {
     "name": "stdout",
     "output_type": "stream",
     "text": [
      "1.12 ms ± 443 µs per loop (mean ± std. dev. of 7 runs, 1,000 loops each)\n"
     ]
    }
   ],
   "source": [
    "%%timeit \n",
    "\n",
    "fixed_b_solution(my_reviews)"
   ]
  },
  {
   "cell_type": "code",
   "execution_count": 62,
   "metadata": {},
   "outputs": [],
   "source": [
    "%lprun -f fixed_b_solution fixed_b_solution(my_reviews)"
   ]
  },
  {
   "cell_type": "raw",
   "metadata": {},
   "source": [
    "Timer unit: 1e-09 s\n",
    "\n",
    "Total time: 0.0116198 s\n",
    "File: /home/kir/MLpractice/tod/занятие 8/fixed_b_solution.py\n",
    "Function: fixed_b_solution at line 2\n",
    "\n",
    "Line #      Hits         Time  Per Hit   % Time  Line Contents\n",
    "==============================================================\n",
    "     2                                           def fixed_b_solution(my_reviews):\n",
    "     3         1       2766.0   2766.0      0.0      ex = list()\n",
    "     4     12095    4908460.0    405.8     42.2      for el in my_reviews.rating:\n",
    "     5     12094    6553108.0    541.8     56.4          ex.append(el)\n",
    "     6                                                   \n",
    "     7         1     155463.0 155463.0      1.3      return sum(ex) / len(ex)"
   ]
  },
  {
   "cell_type": "markdown",
   "metadata": {},
   "source": [
    "### v"
   ]
  },
  {
   "cell_type": "code",
   "execution_count": 43,
   "metadata": {},
   "outputs": [
    {
     "name": "stdout",
     "output_type": "stream",
     "text": [
      "Writing v_solution.py\n"
     ]
    }
   ],
   "source": [
    "%%writefile v_solution.py\n",
    "\n",
    "def v_solution(reviews):\n",
    "    return reviews.rating.mean()"
   ]
  },
  {
   "cell_type": "code",
   "execution_count": 51,
   "metadata": {},
   "outputs": [],
   "source": [
    "from v_solution import v_solution"
   ]
  },
  {
   "cell_type": "code",
   "execution_count": 53,
   "metadata": {},
   "outputs": [],
   "source": [
    "%lprun -f v_solution v_solution(reviews)"
   ]
  },
  {
   "cell_type": "raw",
   "metadata": {},
   "source": [
    "Timer unit: 1e-09 s\n",
    "\n",
    "Total time: 0.00183812 s\n",
    "File: /home/kir/MLpractice/tod/занятие 8/v_solution.py\n",
    "Function: v_solution at line 2\n",
    "\n",
    "Line #      Hits         Time  Per Hit   % Time  Line Contents\n",
    "==============================================================\n",
    "     2                                           def v_solution(reviews):\n",
    "     3         1    1838119.0    2e+06    100.0      return reviews.rating.mean()"
   ]
  },
  {
   "cell_type": "markdown",
   "metadata": {},
   "source": [
    "###### 3. Вам предлагается воспользоваться функцией, которая собирает статистику о том, сколько отзывов содержат то или иное слово. Измерьте время выполнения этой функции. Сможете ли вы найти узкие места в коде, используя профайлер? Выпишите (словами), что в имеющемся коде реализовано неоптимально. Оптимизируйте функцию и добейтесь значительного (как минимум, на один порядок) прироста в скорости выполнения."
   ]
  },
  {
   "cell_type": "code",
   "execution_count": 68,
   "metadata": {},
   "outputs": [
    {
     "name": "stdout",
     "output_type": "stream",
     "text": [
      "Writing word_count.py\n"
     ]
    }
   ],
   "source": [
    "%%writefile word_count.py\n",
    "\n",
    "\n",
    "def get_word_reviews_count(df):\n",
    "    word_reviews = {}\n",
    "    for _, row in df.dropna(subset=['review']).iterrows():\n",
    "        recipe_id, review = row['recipe_id'], row['review']\n",
    "        words = review.split(' ')\n",
    "        for word in words:\n",
    "            if word not in word_reviews:\n",
    "                word_reviews[word] = []\n",
    "            word_reviews[word].append(recipe_id)\n",
    "    \n",
    "    word_reviews_count = {}\n",
    "    for _, row in df.dropna(subset=['review']).iterrows():\n",
    "        review = row['review']\n",
    "        words = review.split(' ')\n",
    "        for word in words:\n",
    "            word_reviews_count[word] = len(word_reviews[word])\n",
    "    return word_reviews_count"
   ]
  },
  {
   "cell_type": "code",
   "execution_count": 66,
   "metadata": {},
   "outputs": [
    {
     "name": "stdout",
     "output_type": "stream",
     "text": [
      "1.31 s ± 684 ms per loop (mean ± std. dev. of 7 runs, 1 loop each)\n"
     ]
    }
   ],
   "source": [
    "%%timeit\n",
    "\n",
    "get_word_reviews_count(my_reviews)"
   ]
  },
  {
   "cell_type": "code",
   "execution_count": 69,
   "metadata": {},
   "outputs": [],
   "source": [
    "%lprun -f get_word_reviews_count get_word_reviews_count(my_reviews)"
   ]
  },
  {
   "cell_type": "raw",
   "metadata": {},
   "source": [
    "Timer unit: 1e-09 s\n",
    "\n",
    "Total time: 5.86805 s\n",
    "File: /tmp/ipykernel_7172/2826575548.py\n",
    "Function: get_word_reviews_count at line 1\n",
    "\n",
    "Line #      Hits         Time  Per Hit   % Time  Line Contents\n",
    "==============================================================\n",
    "     1                                           def get_word_reviews_count(df):\n",
    "     2         1       2495.0   2495.0      0.0      word_reviews = {}\n",
    "     3     12095 1706437404.0 141086.2     29.1      for _, row in df.dropna(subset=['review']).iterrows():\n",
    "     4     12094  347862394.0  28763.2      5.9          recipe_id, review = row['recipe_id'], row['review']\n",
    "     5     12094   88285499.0   7299.9      1.5          words = review.split(' ')\n",
    "     6    677014  214724109.0    317.2      3.7          for word in words:\n",
    "     7    664920  333072339.0    500.9      5.7              if word not in word_reviews:\n",
    "     8     36435   20526586.0    563.4      0.3                  word_reviews[word] = []\n",
    "     9    664920  421937140.0    634.6      7.2              word_reviews[word].append(recipe_id)\n",
    "    10                                               \n",
    "    11         1        751.0    751.0      0.0      word_reviews_count = {}\n",
    "    12     12095 1675687446.0 138543.8     28.6      for _, row in df.dropna(subset=['review']).iterrows():\n",
    "    13     12094  223759292.0  18501.7      3.8          review = row['review']\n",
    "    14     12094   78043532.0   6453.1      1.3          words = review.split(' ')\n",
    "    15    677014  193567676.0    285.9      3.3          for word in words:\n",
    "    16    664920  564144499.0    848.4      9.6              word_reviews_count[word] = len(word_reviews[word])\n",
    "    17         1        231.0    231.0      0.0      return word_reviews_count"
   ]
  },
  {
   "cell_type": "markdown",
   "metadata": {},
   "source": [
    "Во-первых, нет смысла два раза итерироваться по одному и тому же обьекту\n",
    "\n",
    "Во-вторых, можно заменить iterrows на итерирование по Series"
   ]
  },
  {
   "cell_type": "markdown",
   "metadata": {},
   "source": [
    "### fixed_solution"
   ]
  },
  {
   "cell_type": "code",
   "execution_count": null,
   "metadata": {},
   "outputs": [],
   "source": [
    "\n",
    "def get_word_reviews_count(df):\n",
    "    word_reviews = {}\n",
    "    for _, row in df.dropna(subset=['review']).iterrows():\n",
    "        recipe_id, review = row['recipe_id'], row['review']\n",
    "        words = review.split(' ')\n",
    "        for word in words:\n",
    "            if word not in word_reviews:\n",
    "                word_reviews[word] = []\n",
    "            word_reviews[word].append(recipe_id)\n",
    "    \n",
    "    word_reviews_count = {}\n",
    "    for _, row in df.dropna(subset=['review']).iterrows():\n",
    "        review = row['review']\n",
    "        words = review.split(' ')\n",
    "        for word in words:\n",
    "            word_reviews_count[word] = len(word_reviews[word])\n",
    "    return word_reviews_count"
   ]
  },
  {
   "cell_type": "code",
   "execution_count": 10,
   "metadata": {},
   "outputs": [
    {
     "name": "stdout",
     "output_type": "stream",
     "text": [
      "Writing get_word_reviews.py\n"
     ]
    }
   ],
   "source": [
    "%%writefile get_word_reviews.py\n",
    "\n",
    "\n",
    "def get_word_reviews_count(df):\n",
    "    word_reviews_count = dict()\n",
    "    for description in df.review:\n",
    "        words = description.split(' ')\n",
    "        for word in words:\n",
    "            if word not in word_reviews_count:\n",
    "                word_reviews_count[word] = 0\n",
    "            word_reviews_count[word] += 1\n",
    "            \n",
    "    return word_reviews_count"
   ]
  },
  {
   "cell_type": "code",
   "execution_count": 11,
   "metadata": {},
   "outputs": [],
   "source": [
    "from get_word_reviews import get_word_reviews_count"
   ]
  },
  {
   "cell_type": "code",
   "execution_count": 12,
   "metadata": {},
   "outputs": [
    {
     "name": "stdout",
     "output_type": "stream",
     "text": [
      "117 ms ± 1.91 ms per loop (mean ± std. dev. of 7 runs, 10 loops each)\n"
     ]
    }
   ],
   "source": [
    "%%timeit\n",
    "\n",
    "get_word_reviews_count(my_reviews)"
   ]
  },
  {
   "cell_type": "code",
   "execution_count": 16,
   "metadata": {},
   "outputs": [],
   "source": [
    "%lprun -f get_word_reviews_count get_word_reviews_count(my_reviews)"
   ]
  },
  {
   "cell_type": "code",
   "execution_count": 14,
   "metadata": {},
   "outputs": [],
   "source": [
    "%load_ext line_profiler"
   ]
  },
  {
   "cell_type": "raw",
   "metadata": {},
   "source": [
    "Timer unit: 1e-09 s\n",
    "\n",
    "Total time: 0.475435 s\n",
    "File: /home/kir/MLpractice/tod/занятие 8/get_word_reviews.py\n",
    "Function: get_word_reviews_count at line 3\n",
    "\n",
    "Line #      Hits         Time  Per Hit   % Time  Line Contents\n",
    "==============================================================\n",
    "     3                                           def get_word_reviews_count(df):\n",
    "     4         1       1533.0   1533.0      0.0      word_reviews_count = dict()\n",
    "     5     12095    5439925.0    449.8      1.1      for description in df.review:\n",
    "     6     12094   31857795.0   2634.2      6.7          words = description.split(' ')\n",
    "     7    677014   96827489.0    143.0     20.4          for word in words:\n",
    "     8    664920  147368770.0    221.6     31.0              if word not in word_reviews_count:\n",
    "     9     36435    7636358.0    209.6      1.6                  word_reviews_count[word] = 0\n",
    "    10    664920  186302645.0    280.2     39.2              word_reviews_count[word] += 1\n",
    "    11                                                       \n",
    "    12         1        441.0    441.0      0.0      return word_reviews_count"
   ]
  },
  {
   "cell_type": "markdown",
   "metadata": {},
   "source": [
    "4. Напишите несколько версий функции `MAPE` (см. [MAPE](https://en.wikipedia.org/wiki/Mean_absolute_percentage_error)) для расчета среднего абсолютного процентного отклонения значения рейтинга отзыва на рецепт от среднего значения рейтинга по всем отзывам для этого рецепта. \n",
    "    1. Без использования векторизованных операций и методов массивов `numpy` и без использования `numba`\n",
    "    2. Без использования векторизованных операций и методов массивов `numpy`, но с использованием `numba`\n",
    "    3. С использованием векторизованных операций и методов массивов `numpy`, но без использования `numba`\n",
    "    4. C использованием векторизованных операций и методов массивов `numpy` и `numba`\n",
    "    \n",
    "Измерьте время выполнения каждой из реализаций.\n",
    "\n",
    "Замечание: удалите из выборки отзывы с нулевым рейтингом.\n"
   ]
  },
  {
   "cell_type": "code",
   "execution_count": 449,
   "metadata": {},
   "outputs": [],
   "source": [
    "given_id = 27208"
   ]
  },
  {
   "cell_type": "code",
   "execution_count": 450,
   "metadata": {},
   "outputs": [],
   "source": [
    "array = np.array(reviews[(reviews.recipe_id == given_id) & (reviews.rating != 0)].rating)\n",
    "\n",
    "value = reviews[reviews.recipe_id == given_id].rating.iloc[0]"
   ]
  },
  {
   "cell_type": "markdown",
   "metadata": {},
   "source": [
    "# A"
   ]
  },
  {
   "cell_type": "code",
   "execution_count": 454,
   "metadata": {},
   "outputs": [],
   "source": [
    "def a_mape(rarr, mean):\n",
    "    n = 0\n",
    "    summa = 0\n",
    "    for el in rarr:\n",
    "        summa += np.abs((el - mean) / el)\n",
    "        n += 1\n",
    "    \n",
    "    return 100 * (summa / n)\n",
    "        \n",
    "    "
   ]
  },
  {
   "cell_type": "code",
   "execution_count": 455,
   "metadata": {},
   "outputs": [
    {
     "name": "stdout",
     "output_type": "stream",
     "text": [
      "2.72 ms ± 198 µs per loop (mean ± std. dev. of 7 runs, 100 loops each)\n"
     ]
    }
   ],
   "source": [
    "%%timeit\n",
    "\n",
    "a_mape(array, value)"
   ]
  },
  {
   "cell_type": "markdown",
   "metadata": {},
   "source": [
    "# B"
   ]
  },
  {
   "cell_type": "code",
   "execution_count": 456,
   "metadata": {},
   "outputs": [],
   "source": [
    "from numba import njit, jit, vectorize"
   ]
  },
  {
   "cell_type": "code",
   "execution_count": 457,
   "metadata": {},
   "outputs": [],
   "source": [
    "@njit\n",
    "def b_mape(rarr, mean):\n",
    "    n = 0\n",
    "    summa = 0\n",
    "    for el in rarr:\n",
    "        summa += np.abs((el - mean) / el)\n",
    "        n += 1\n",
    "    \n",
    "    return 100 * (summa / n)    "
   ]
  },
  {
   "cell_type": "code",
   "execution_count": 459,
   "metadata": {},
   "outputs": [
    {
     "name": "stdout",
     "output_type": "stream",
     "text": [
      "4.72 µs ± 64.1 ns per loop (mean ± std. dev. of 7 runs, 100,000 loops each)\n"
     ]
    }
   ],
   "source": [
    "%%timeit\n",
    "\n",
    "b_mape(array, value)"
   ]
  },
  {
   "cell_type": "markdown",
   "metadata": {},
   "source": [
    "# C"
   ]
  },
  {
   "cell_type": "code",
   "execution_count": 460,
   "metadata": {},
   "outputs": [],
   "source": [
    "def b_mape(rarr, mean):\n",
    "    n = 0\n",
    "    summa = 0\n",
    "    for el in rarr:\n",
    "        summa += np.abs((el - mean) / el)\n",
    "        n += 1\n",
    "    \n",
    "    return 100 * (summa / n) "
   ]
  },
  {
   "cell_type": "code",
   "execution_count": 461,
   "metadata": {},
   "outputs": [],
   "source": [
    "c_mape = np.vectorize(b_mape, signature='(i),()->()')"
   ]
  },
  {
   "cell_type": "code",
   "execution_count": 462,
   "metadata": {},
   "outputs": [
    {
     "name": "stdout",
     "output_type": "stream",
     "text": [
      "2.81 ms ± 71.8 µs per loop (mean ± std. dev. of 7 runs, 100 loops each)\n"
     ]
    }
   ],
   "source": [
    "%%timeit\n",
    "\n",
    "c_mape(array, value)"
   ]
  },
  {
   "cell_type": "markdown",
   "metadata": {},
   "source": [
    "# D"
   ]
  },
  {
   "cell_type": "code",
   "execution_count": 483,
   "metadata": {},
   "outputs": [],
   "source": [
    "import numba\n",
    "from numba import vectorize, guvectorize, float64, int64"
   ]
  },
  {
   "cell_type": "code",
   "execution_count": 484,
   "metadata": {},
   "outputs": [
    {
     "data": {
      "text/plain": [
       "int64"
      ]
     },
     "execution_count": 484,
     "metadata": {},
     "output_type": "execute_result"
    }
   ],
   "source": [
    "numba.typeof(array[0])"
   ]
  },
  {
   "cell_type": "code",
   "execution_count": 488,
   "metadata": {},
   "outputs": [],
   "source": [
    "\n",
    "@guvectorize(['void(int64[:], int64, float64[:])'], '(i),()->()')\n",
    "def d_mape(rarr, mean, out):\n",
    "    n = 0\n",
    "    summa = 0\n",
    "    for el in rarr:\n",
    "        summa += np.abs((el - mean) / el)\n",
    "        n += 1\n",
    "    \n",
    "    out[0] = 100 * (summa / n) "
   ]
  },
  {
   "cell_type": "code",
   "execution_count": 489,
   "metadata": {},
   "outputs": [],
   "source": [
    "out =  np.ndarray(1)"
   ]
  },
  {
   "cell_type": "code",
   "execution_count": 490,
   "metadata": {},
   "outputs": [
    {
     "name": "stdout",
     "output_type": "stream",
     "text": [
      "7.91 µs ± 107 ns per loop (mean ± std. dev. of 7 runs, 100,000 loops each)\n"
     ]
    }
   ],
   "source": [
    "%%timeit\n",
    "\n",
    "d_mape(array, value, out)"
   ]
  },
  {
   "cell_type": "code",
   "execution_count": 439,
   "metadata": {},
   "outputs": [
    {
     "data": {
      "text/plain": [
       "array([44.44444444])"
      ]
     },
     "execution_count": 439,
     "metadata": {},
     "output_type": "execute_result"
    }
   ],
   "source": [
    "out"
   ]
  }
 ],
 "metadata": {
  "kernelspec": {
   "display_name": "Python 3 (ipykernel)",
   "language": "python",
   "name": "python3"
  },
  "language_info": {
   "codemirror_mode": {
    "name": "ipython",
    "version": 3
   },
   "file_extension": ".py",
   "mimetype": "text/x-python",
   "name": "python",
   "nbconvert_exporter": "python",
   "pygments_lexer": "ipython3",
   "version": "3.11.5"
  }
 },
 "nbformat": 4,
 "nbformat_minor": 4
}
