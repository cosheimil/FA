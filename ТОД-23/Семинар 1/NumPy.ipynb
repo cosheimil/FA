{
  "cells": [
    {
      "cell_type": "code",
      "execution_count": null,
      "metadata": {
        "colab": {
          "base_uri": "https://localhost:8080/",
          "height": 35
        },
        "id": "SHCfrAI-Gpys",
        "outputId": "f27077a5-98ec-43b5-b1b7-04c476052719"
      },
      "outputs": [
        {
          "data": {
            "application/vnd.google.colaboratory.intrinsic+json": {
              "type": "string"
            },
            "text/plain": [
              "'1.25.2'"
            ]
          },
          "execution_count": 1,
          "metadata": {},
          "output_type": "execute_result"
        }
      ],
      "source": [
        "# Версия Numpy\n",
        "import numpy as np\n",
        "np.__version__"
      ]
    },
    {
      "cell_type": "code",
      "execution_count": null,
      "metadata": {
        "id": "1laHYjpkasPq"
      },
      "outputs": [],
      "source": [
        "# Встроенная документация\n",
        "np?"
      ]
    },
    {
      "cell_type": "markdown",
      "metadata": {
        "id": "L1vtUh4WIU-O"
      },
      "source": [
        "# Введение в массивы\n"
      ]
    },
    {
      "cell_type": "markdown",
      "metadata": {
        "id": "FcAy3PmM5F5l"
      },
      "source": [
        "#Создание массивов"
      ]
    },
    {
      "cell_type": "code",
      "execution_count": null,
      "metadata": {
        "colab": {
          "base_uri": "https://localhost:8080/"
        },
        "id": "pptcJAkFG6PK",
        "outputId": "c0f78fe8-9357-4b99-e3de-d434dce8631d"
      },
      "outputs": [
        {
          "data": {
            "text/plain": [
              "array([1, 4, 2, 5, 3])"
            ]
          },
          "execution_count": 2,
          "metadata": {},
          "output_type": "execute_result"
        }
      ],
      "source": [
        "# Создание массива целочисленных значений из обычного списка:\n",
        "data = [1, 4, 2, 5, 3]\n",
        "np.array(data)\n",
        "# или сразу\n",
        "# np.array([1, 4, 5])"
      ]
    },
    {
      "cell_type": "code",
      "execution_count": null,
      "metadata": {
        "colab": {
          "base_uri": "https://localhost:8080/"
        },
        "id": "ktzDK8FsKFyw",
        "outputId": "c49bb0ed-b26d-491e-87c5-3e7bd5e703a0"
      },
      "outputs": [
        {
          "data": {
            "text/plain": [
              "array([3.14, 4.  , 2.  , 3.  ])"
            ]
          },
          "execution_count": 12,
          "metadata": {},
          "output_type": "execute_result"
        }
      ],
      "source": [
        "# В отличие от списков в Python, библиотека Numpy ограничивается массивами с элементами одного типа.\n",
        "# В случае несовпадения типов переменных, numpy повышает приведение типов:\n",
        "np.array([3.14, 4, 2, 3])"
      ]
    },
    {
      "cell_type": "code",
      "execution_count": null,
      "metadata": {
        "colab": {
          "base_uri": "https://localhost:8080/"
        },
        "id": "qAgRsWL3LVMG",
        "outputId": "d5500c43-82e5-4627-f468-3dca06509d92"
      },
      "outputs": [
        {
          "data": {
            "text/plain": [
              "array([1., 2., 3., 4.], dtype=float32)"
            ]
          },
          "execution_count": 4,
          "metadata": {},
          "output_type": "execute_result"
        }
      ],
      "source": [
        "# Задание типа данных явным образом:\n",
        "np.array([1, 2, 3, 4], dtype='float32')\n",
        "# или\n",
        "np.array([1, 2, 3, 4], dtype=np.float32)"
      ]
    },
    {
      "cell_type": "code",
      "execution_count": null,
      "metadata": {
        "id": "_sWeQlbxFG9V"
      },
      "outputs": [],
      "source": [
        "# или\n",
        "data = np.array([1, 2, 5], dtype=np.float)\n",
        "print(data)\n",
        "print(data.astype(np.int64))"
      ]
    },
    {
      "cell_type": "code",
      "execution_count": null,
      "metadata": {
        "colab": {
          "base_uri": "https://localhost:8080/"
        },
        "id": "8Zlz9Zkg_ILN",
        "outputId": "6ce32aa8-0938-4f3f-e3b3-5cccab8539cb"
      },
      "outputs": [
        {
          "data": {
            "text/plain": [
              "{'int': [numpy.int8, numpy.int16, numpy.int32, numpy.int64],\n",
              " 'uint': [numpy.uint8, numpy.uint16, numpy.uint32, numpy.uint64],\n",
              " 'float': [numpy.float16, numpy.float32, numpy.float64, numpy.float128],\n",
              " 'complex': [numpy.complex64, numpy.complex128, numpy.complex256],\n",
              " 'others': [bool, object, bytes, str, numpy.void]}"
            ]
          },
          "execution_count": 17,
          "metadata": {},
          "output_type": "execute_result"
        }
      ],
      "source": [
        "# Все доступные типы можно найти в словаре sctypes\n",
        "np.sctypes"
      ]
    },
    {
      "cell_type": "code",
      "execution_count": null,
      "metadata": {
        "colab": {
          "base_uri": "https://localhost:8080/"
        },
        "id": "zpX0WRcxNNo1",
        "outputId": "9c54c24b-8a52-4bdd-b687-a8a0de8f2d1f"
      },
      "outputs": [
        {
          "data": {
            "text/plain": [
              "array([[2, 3, 4],\n",
              "       [4, 5, 6],\n",
              "       [6, 7, 8]])"
            ]
          },
          "execution_count": 3,
          "metadata": {},
          "output_type": "execute_result"
        }
      ],
      "source": [
        "# Вложенные списки преобразуются в массив:\n",
        "np.array([range(i, i + 3) for i in [2, 4, 6]])"
      ]
    },
    {
      "cell_type": "code",
      "execution_count": null,
      "metadata": {
        "colab": {
          "base_uri": "https://localhost:8080/"
        },
        "id": "96ta4d6pNjz3",
        "outputId": "8c5ebc3e-5b39-4cd6-81db-8c78eaf1bf4c"
      },
      "outputs": [
        {
          "data": {
            "text/plain": [
              "array([0, 0, 0, 0, 0, 0, 0, 0, 0, 0])"
            ]
          },
          "execution_count": 8,
          "metadata": {},
          "output_type": "execute_result"
        }
      ],
      "source": [
        "# Создание массива целых чисел длины 10, заполненного нулями:\n",
        "np.zeros(10, dtype=int)"
      ]
    },
    {
      "cell_type": "code",
      "execution_count": null,
      "metadata": {
        "colab": {
          "base_uri": "https://localhost:8080/"
        },
        "id": "fpKgIvYV7-iX",
        "outputId": "7531927b-0615-49f6-fa52-f14e854101d4"
      },
      "outputs": [
        {
          "data": {
            "text/plain": [
              "array([[1., 1., 1., 1., 1.],\n",
              "       [1., 1., 1., 1., 1.],\n",
              "       [1., 1., 1., 1., 1.]])"
            ]
          },
          "execution_count": 9,
          "metadata": {},
          "output_type": "execute_result"
        }
      ],
      "source": [
        "# Создание массива размером 3х5 значений с плавающей точкой, заполненного единицами:\n",
        "np.ones((3,5), dtype=float)"
      ]
    },
    {
      "cell_type": "code",
      "execution_count": null,
      "metadata": {
        "colab": {
          "base_uri": "https://localhost:8080/"
        },
        "id": "XhX1SpXu8VjH",
        "outputId": "cd07ee72-3b1b-427c-c093-13ab5c1b863a"
      },
      "outputs": [
        {
          "data": {
            "text/plain": [
              "array([[3.14, 3.14, 3.14, 3.14, 3.14],\n",
              "       [3.14, 3.14, 3.14, 3.14, 3.14],\n",
              "       [3.14, 3.14, 3.14, 3.14, 3.14]])"
            ]
          },
          "execution_count": 13,
          "metadata": {},
          "output_type": "execute_result"
        }
      ],
      "source": [
        "# Создание массива размером 3х5 заполненного значением 3.14:\n",
        "np.full((3,5), 3.14)"
      ]
    },
    {
      "cell_type": "code",
      "execution_count": null,
      "metadata": {
        "colab": {
          "base_uri": "https://localhost:8080/"
        },
        "id": "D_QURsJQ-oMx",
        "outputId": "818a9319-8b4a-429e-b69a-c7835f9ec56f"
      },
      "outputs": [
        {
          "data": {
            "text/plain": [
              "array([0.  , 0.25, 0.5 , 0.75, 1.  ])"
            ]
          },
          "execution_count": 17,
          "metadata": {},
          "output_type": "execute_result"
        }
      ],
      "source": [
        "# Создание массива из 5 значений, равномерно располагающихся между 0 и 1:\n",
        "np.linspace(0, 1, 5)"
      ]
    },
    {
      "cell_type": "code",
      "execution_count": null,
      "metadata": {
        "colab": {
          "base_uri": "https://localhost:8080/"
        },
        "id": "_jnpdK3-8ofA",
        "outputId": "07b9ed85-dafe-49fc-b75f-196fbbbc2ed6"
      },
      "outputs": [
        {
          "name": "stdout",
          "output_type": "stream",
          "text": [
            "[ 0  2  4  6  8 10 12 14 16 18]\n",
            "[ 2.   3.6  5.2  6.8  8.4 10.  11.6 13.2 14.8 16.4 18.  19.6 21.2 22.8\n",
            " 24.4 26.  27.6 29.2]\n"
          ]
        }
      ],
      "source": [
        "# Создание массива, заполненного линейной последовательностью с 0 до 20, с шагом 2 (аналогично встроенной функции range),\n",
        "# но отличие от питоновского range в том, что arange работает с дробными числами:\n",
        "print(np.arange(0, 20, 2))\n",
        "print(np.arange(2, 30.5, 1.6))"
      ]
    },
    {
      "cell_type": "code",
      "execution_count": null,
      "metadata": {
        "colab": {
          "base_uri": "https://localhost:8080/"
        },
        "id": "waOSL3RNHPK_",
        "outputId": "c70c9e76-1f22-4323-ffd5-cda79334b047"
      },
      "outputs": [
        {
          "data": {
            "text/plain": [
              "array([[1., 0., 0.],\n",
              "       [0., 1., 0.],\n",
              "       [0., 0., 1.]])"
            ]
          },
          "execution_count": 20,
          "metadata": {},
          "output_type": "execute_result"
        }
      ],
      "source": [
        "# Создание единичной матрицы размером 3х3:\n",
        "np.eye(3)"
      ]
    },
    {
      "cell_type": "markdown",
      "metadata": {
        "id": "4_OFZ1kVB9Y6"
      },
      "source": [
        "**Создание массивов из случайных значений**"
      ]
    },
    {
      "cell_type": "code",
      "execution_count": null,
      "metadata": {
        "colab": {
          "base_uri": "https://localhost:8080/"
        },
        "id": "sZM8UD-DB8bp",
        "outputId": "f0e04a47-1847-462c-da0c-719e32bc4a7c"
      },
      "outputs": [
        {
          "data": {
            "text/plain": [
              "array([6, 5, 1, 1, 5])"
            ]
          },
          "execution_count": 24,
          "metadata": {},
          "output_type": "execute_result"
        }
      ],
      "source": [
        "# Если мы хотим создать массив из 5 случайных чисел типа int в numpy в промежутке [0, 10)\n",
        "data = np.random.randint(0, 10, 5)\n",
        "data"
      ]
    },
    {
      "cell_type": "code",
      "execution_count": null,
      "metadata": {
        "colab": {
          "base_uri": "https://localhost:8080/"
        },
        "id": "UKoAob2WG1iy",
        "outputId": "bfce4d0c-aa94-458b-95c7-e99089d788e8"
      },
      "outputs": [
        {
          "data": {
            "text/plain": [
              "array([[4, 2, 0],\n",
              "       [5, 5, 5],\n",
              "       [8, 1, 8]])"
            ]
          },
          "execution_count": 25,
          "metadata": {},
          "output_type": "execute_result"
        }
      ],
      "source": [
        "# Создание массива размером 3х3 случайных числа int в промежутке [0, 10):\n",
        "np.random.randint(0, 10, (3,3))"
      ]
    },
    {
      "cell_type": "code",
      "execution_count": null,
      "metadata": {
        "colab": {
          "base_uri": "https://localhost:8080/"
        },
        "id": "WSxz8zj0-_Xf",
        "outputId": "31b80d0e-8619-48c8-d086-e8b862c10b5b"
      },
      "outputs": [
        {
          "data": {
            "text/plain": [
              "array([[0.42392067, 0.20582377, 0.84690639],\n",
              "       [0.50993544, 0.81595933, 0.46405701],\n",
              "       [0.55588236, 0.58140888, 0.3710227 ]])"
            ]
          },
          "execution_count": 8,
          "metadata": {},
          "output_type": "execute_result"
        }
      ],
      "source": [
        "# Создание массива размером 3х3 равномерно распределенных случайных значений от 0 до 1\n",
        "np.random.random((3,3))"
      ]
    },
    {
      "cell_type": "code",
      "execution_count": null,
      "metadata": {
        "colab": {
          "base_uri": "https://localhost:8080/"
        },
        "id": "LHUUMO1QmhDg",
        "outputId": "b55ca499-81f7-4566-ead1-ace75ed1d9a4"
      },
      "outputs": [
        {
          "data": {
            "text/plain": [
              "array([[ 0.79582328, -0.12557266,  0.04888833],\n",
              "       [-1.42205634,  0.73269595,  2.13099923]])"
            ]
          },
          "execution_count": 21,
          "metadata": {},
          "output_type": "execute_result"
        }
      ],
      "source": [
        "# Создание массива размером 2х3 случайных чисел с нормальным распределением\n",
        "np.random.randn(2,3)"
      ]
    },
    {
      "cell_type": "code",
      "execution_count": null,
      "metadata": {
        "colab": {
          "base_uri": "https://localhost:8080/"
        },
        "id": "xigBWQPW_ZUq",
        "outputId": "57696699-c8f3-44f4-f582-f052fdf29316"
      },
      "outputs": [
        {
          "data": {
            "text/plain": [
              "array([[ 0.19944536, -0.02088617,  1.87978981],\n",
              "       [-0.03156301, -0.13150179,  0.55519253],\n",
              "       [ 2.44547849, -0.58711398, -0.44875072]])"
            ]
          },
          "execution_count": 18,
          "metadata": {},
          "output_type": "execute_result"
        }
      ],
      "source": [
        "# Создание массива размером 3х3 нормально распределенных случайных значений с медианой 0 и стандартным отклонением 1:\n",
        "np.random.normal(0, 1, (3,3))"
      ]
    },
    {
      "cell_type": "code",
      "execution_count": null,
      "metadata": {
        "colab": {
          "base_uri": "https://localhost:8080/"
        },
        "id": "BDS27mR_C_2i",
        "outputId": "d0d3e5cb-3594-4d2f-b1e7-a45680279c2f"
      },
      "outputs": [
        {
          "name": "stdout",
          "output_type": "stream",
          "text": [
            "[0.79172504 0.52889492 0.56804456 0.92559664 0.07103606]\n",
            "[[0.0871293  0.0202184  0.83261985 0.77815675]\n",
            " [0.87001215 0.97861834 0.79915856 0.46147936]\n",
            " [0.78052918 0.11827443 0.63992102 0.14335329]]\n"
          ]
        }
      ],
      "source": [
        "# Случайные числа типа float\n",
        "data = np.random.sample(5)\n",
        "print(data)\n",
        "\n",
        "data = np.random.sample((3,4))\n",
        "print(data)"
      ]
    },
    {
      "cell_type": "code",
      "execution_count": null,
      "metadata": {
        "colab": {
          "base_uri": "https://localhost:8080/"
        },
        "id": "res7uRNAWPkx",
        "outputId": "487f9bb4-fc7f-48a3-aa48-3f1f57196353"
      },
      "outputs": [
        {
          "name": "stdout",
          "output_type": "stream",
          "text": [
            "[5 0 3 3 7 9]\n",
            "[[3 5 2 4]\n",
            " [7 6 8 8]\n",
            " [1 6 7 7]]\n",
            "[[[8 1 5 9 8]\n",
            "  [9 4 3 0 3]\n",
            "  [5 0 2 3 8]\n",
            "  [1 3 3 3 7]]\n",
            "\n",
            " [[0 1 9 9 0]\n",
            "  [4 7 3 2 7]\n",
            "  [2 0 0 4 5]\n",
            "  [5 6 8 4 1]]\n",
            "\n",
            " [[4 9 8 1 1]\n",
            "  [7 9 9 3 6]\n",
            "  [7 2 0 3 5]\n",
            "  [9 4 4 6 4]]]\n"
          ]
        }
      ],
      "source": [
        "# Генератор случайных чисел с заданным начальным значением, чтобы гарантировать\n",
        "# генерацию одних и тех же массивов при каждом выполнении\n",
        "np.random.seed(0)\n",
        "\n",
        "x1 = np.random.randint(10, size=6) # одномерный массив\n",
        "x2 = np.random.randint(10, size=(3, 4)) # двумерный массив\n",
        "x3 = np.random.randint(10, size=(3, 4, 5)) # трехмерный массив\n",
        "\n",
        "print(x1)\n",
        "print(x2)\n",
        "print(x3)\n",
        "\n",
        "# data = np.random.randn(2,3)\n",
        "# print(data)\n",
        "\n",
        "# data = np.random.randint(0, 10, (2,3))\n",
        "# print(data)"
      ]
    },
    {
      "cell_type": "markdown",
      "metadata": {
        "id": "0caSdjPMELwP"
      },
      "source": [
        "**Атрибуты numpy-массива**"
      ]
    },
    {
      "cell_type": "code",
      "execution_count": null,
      "metadata": {
        "colab": {
          "base_uri": "https://localhost:8080/"
        },
        "id": "Qg_XIeX-EN_g",
        "outputId": "e9233150-d110-4577-8ceb-4b7aa04882e5"
      },
      "outputs": [
        {
          "name": "stdout",
          "output_type": "stream",
          "text": [
            "x3 ndim: 3\n",
            "x3 shape: (3, 4, 5)\n",
            "x3 size: 60\n",
            "dtype: int64\n",
            "itemsize: 8 bytes\n",
            "nbytes: 480 bytes\n"
          ]
        }
      ],
      "source": [
        "print('x3 ndim:', x3.ndim) # размерность\n",
        "print('x3 shape:', x3.shape) # размер каждого измерения\n",
        "print('x3 size:', x3.size) # общий размер массива\n",
        "print('dtype:', x3.dtype) # тип данных массива\n",
        "print('itemsize:', x3.itemsize, 'bytes') # выводит размер в байтах каждого элемента массива\n",
        "print('nbytes:', x3.nbytes, 'bytes') # полный размер массива в байтах nbytes = itemsize * size"
      ]
    },
    {
      "cell_type": "markdown",
      "metadata": {
        "id": "BsKtG4rF_kwP"
      },
      "source": [
        "### Упражнения"
      ]
    },
    {
      "cell_type": "markdown",
      "metadata": {
        "id": "TuLB0Xbo_sOx"
      },
      "source": [
        "1. Импортируйте библиотеку NumPy и выведите ее версию.\n",
        "2. Создайте массив размерностью 3х3 из вложенного списка Python.\n",
        "3. Создайте массив размером 5х5 случайных чисел int в промежутке [0, 15).\n",
        "4. Создайте массив из 10 значений, равномерно располагающихся между 0 и 25.\n",
        "5. Создайте массив размером 5х6 случайных чисел с нормальным распределением.\n",
        "6. Создайте единичную матрицу, размером 5х5.\n",
        "7. Создайте матрицу размерностью 4х5, заполненную нулями.\n",
        "8. Создайте массив размерностью 5х5, заполненный числом 2.7.\n",
        "9. Создайте массив из 7 случайных чисел типа int в numpy в промежутке [0, 15)\n",
        "10. Заставьте массив из задания 9 при каждом новом выводе не менять значения элементов массива.\n"
      ]
    },
    {
      "cell_type": "code",
      "execution_count": 1,
      "metadata": {},
      "outputs": [
        {
          "data": {
            "text/plain": [
              "'1.26.3'"
            ]
          },
          "execution_count": 1,
          "metadata": {},
          "output_type": "execute_result"
        }
      ],
      "source": [
        "import numpy as np\n",
        "np.__version__"
      ]
    },
    {
      "cell_type": "code",
      "execution_count": 2,
      "metadata": {},
      "outputs": [
        {
          "data": {
            "text/plain": [
              "array([[1, 2, 3],\n",
              "       [4, 5, 6],\n",
              "       [7, 8, 9]])"
            ]
          },
          "execution_count": 2,
          "metadata": {},
          "output_type": "execute_result"
        }
      ],
      "source": [
        "np.array([[1, 2, 3], [4, 5, 6], [7, 8, 9]] )"
      ]
    },
    {
      "cell_type": "code",
      "execution_count": 3,
      "metadata": {},
      "outputs": [
        {
          "data": {
            "text/plain": [
              "array([[13.65499662, 13.19340219,  3.02297534, 10.83807586,  4.11014071],\n",
              "       [ 5.65199059,  1.73194024,  0.81595957,  1.23980543, 12.34309576],\n",
              "       [ 5.98940611,  0.82327314, 10.64728918,  2.42103794,  6.34667869],\n",
              "       [12.73417878,  5.55361592,  1.26147245, 12.91348013,  6.15850237],\n",
              "       [ 6.75329366,  5.13023227, 14.40551786,  7.71364331, 12.65353533]])"
            ]
          },
          "execution_count": 3,
          "metadata": {},
          "output_type": "execute_result"
        }
      ],
      "source": [
        "np.random.uniform(0, 15, (5, 5))"
      ]
    },
    {
      "cell_type": "code",
      "execution_count": 11,
      "metadata": {},
      "outputs": [
        {
          "data": {
            "text/plain": [
              "array([ 0.        ,  2.77777778,  5.55555556,  8.33333333, 11.11111111,\n",
              "       13.88888889, 16.66666667, 19.44444444, 22.22222222, 25.        ])"
            ]
          },
          "execution_count": 11,
          "metadata": {},
          "output_type": "execute_result"
        }
      ],
      "source": [
        "np.linspace(0, 25, 10)"
      ]
    },
    {
      "cell_type": "code",
      "execution_count": 5,
      "metadata": {},
      "outputs": [
        {
          "data": {
            "text/plain": [
              "array([[ 0.22157644,  0.11277548,  1.44604459,  0.36525418, -1.08375314],\n",
              "       [ 0.32032876,  1.17209122, -0.02568672, -0.318517  , -1.16382256],\n",
              "       [ 1.0260254 , -0.42206878, -1.50917133,  0.62657258,  1.59324696],\n",
              "       [ 1.12157296,  0.78716072,  2.93617922,  0.2085275 , -0.43538662],\n",
              "       [-0.75395023,  0.2368963 , -0.33816648, -1.40903433,  0.6142229 ]])"
            ]
          },
          "execution_count": 5,
          "metadata": {},
          "output_type": "execute_result"
        }
      ],
      "source": [
        "np.random.normal(size=(5, 5))"
      ]
    },
    {
      "cell_type": "code",
      "execution_count": 6,
      "metadata": {},
      "outputs": [
        {
          "data": {
            "text/plain": [
              "array([[1., 1., 1., 1., 1.],\n",
              "       [1., 1., 1., 1., 1.],\n",
              "       [1., 1., 1., 1., 1.],\n",
              "       [1., 1., 1., 1., 1.],\n",
              "       [1., 1., 1., 1., 1.]])"
            ]
          },
          "execution_count": 6,
          "metadata": {},
          "output_type": "execute_result"
        }
      ],
      "source": [
        "np.ones((5, 5))"
      ]
    },
    {
      "cell_type": "code",
      "execution_count": 12,
      "metadata": {},
      "outputs": [
        {
          "data": {
            "text/plain": [
              "array([[1., 0., 0., 0., 0.],\n",
              "       [0., 1., 0., 0., 0.],\n",
              "       [0., 0., 1., 0., 0.],\n",
              "       [0., 0., 0., 1., 0.],\n",
              "       [0., 0., 0., 0., 1.]])"
            ]
          },
          "execution_count": 12,
          "metadata": {},
          "output_type": "execute_result"
        }
      ],
      "source": [
        "np.eye(5)"
      ]
    },
    {
      "cell_type": "code",
      "execution_count": 7,
      "metadata": {},
      "outputs": [
        {
          "data": {
            "text/plain": [
              "array([[0., 0., 0., 0., 0.],\n",
              "       [0., 0., 0., 0., 0.],\n",
              "       [0., 0., 0., 0., 0.],\n",
              "       [0., 0., 0., 0., 0.]])"
            ]
          },
          "execution_count": 7,
          "metadata": {},
          "output_type": "execute_result"
        }
      ],
      "source": [
        "np.zeros((4, 5))"
      ]
    },
    {
      "cell_type": "code",
      "execution_count": 8,
      "metadata": {},
      "outputs": [
        {
          "data": {
            "text/plain": [
              "array([[2.7, 2.7, 2.7, 2.7, 2.7],\n",
              "       [2.7, 2.7, 2.7, 2.7, 2.7],\n",
              "       [2.7, 2.7, 2.7, 2.7, 2.7],\n",
              "       [2.7, 2.7, 2.7, 2.7, 2.7],\n",
              "       [2.7, 2.7, 2.7, 2.7, 2.7]])"
            ]
          },
          "execution_count": 8,
          "metadata": {},
          "output_type": "execute_result"
        }
      ],
      "source": [
        "np.full((5, 5), 2.7)"
      ]
    },
    {
      "cell_type": "code",
      "execution_count": 9,
      "metadata": {},
      "outputs": [
        {
          "data": {
            "text/plain": [
              "array([ 1, 14, 11,  3,  2, 12,  0])"
            ]
          },
          "execution_count": 9,
          "metadata": {},
          "output_type": "execute_result"
        }
      ],
      "source": [
        "np.random.randint(0, 15, 7)"
      ]
    },
    {
      "cell_type": "code",
      "execution_count": 10,
      "metadata": {},
      "outputs": [],
      "source": [
        "np.random.seed(42)"
      ]
    },
    {
      "cell_type": "markdown",
      "metadata": {
        "id": "pTsxXBy1KItx"
      },
      "source": [
        "# Простые операции с массивами"
      ]
    },
    {
      "cell_type": "markdown",
      "metadata": {
        "id": "bE7qSUH-apAV"
      },
      "source": [
        "**Индексация массива: доступ к отдельным элементам**"
      ]
    },
    {
      "cell_type": "code",
      "execution_count": null,
      "metadata": {
        "colab": {
          "base_uri": "https://localhost:8080/"
        },
        "id": "eZ-VsaS8a-7o",
        "outputId": "df4f5d61-32aa-4c17-82e2-240aade43f8a"
      },
      "outputs": [
        {
          "name": "stdout",
          "output_type": "stream",
          "text": [
            "[5 0 3 3 7 9]\n",
            "5\n",
            "7\n",
            "9\n",
            "[[3 5 2 4]\n",
            " [7 6 8 8]\n",
            " [1 6 7 7]]\n",
            "3\n",
            "1\n",
            "[[12  5  2  4]\n",
            " [ 7  6  8  8]\n",
            " [ 1  6  7  7]]\n",
            "[9 0 3 3 7 9]\n"
          ]
        }
      ],
      "source": [
        "print(x1)\n",
        "print(x1[0])\n",
        "print(x1[4])\n",
        "print(x1[-1])\n",
        "\n",
        "print(x2)\n",
        "print(x2[0,0])\n",
        "print(x2[2,0])\n",
        "\n",
        "x2[0,0] = 12\n",
        "print(x2)\n",
        "\n",
        "# В отличие от списков языка Python , у массивов NumPy фиксированный тип данных, при вставке\n",
        "# в массив числа с плавающей точкой, оно будет усечено:\n",
        "x1[0] = 9.243\n",
        "print(x1)"
      ]
    },
    {
      "cell_type": "markdown",
      "metadata": {
        "id": "PDEZFxQBfEFF"
      },
      "source": [
        "**Срезы массивов, доступ к подмассивам**"
      ]
    },
    {
      "cell_type": "markdown",
      "metadata": {
        "id": "AxHHU1mbiN4E"
      },
      "source": [
        "1.Одномерные подмассивы"
      ]
    },
    {
      "cell_type": "code",
      "execution_count": null,
      "metadata": {
        "colab": {
          "base_uri": "https://localhost:8080/"
        },
        "id": "2ZP6Z2zmfLW0",
        "outputId": "ace36850-2665-4bbe-cae3-f328fb913db4"
      },
      "outputs": [
        {
          "name": "stdout",
          "output_type": "stream",
          "text": [
            "[0 1 2 3 4 5 6 7 8 9]\n",
            "[0 1 2 3 4]\n",
            "[5 6 7 8 9]\n",
            "[4 5 6]\n",
            "[0 2 4 6 8]\n",
            "[1 3 5 7 9]\n",
            "[9 8 7 6 5 4 3 2 1 0]\n",
            "[5 3 1]\n"
          ]
        }
      ],
      "source": [
        "# Срезы как в Python\n",
        "x = np.arange(10)\n",
        "print(x)\n",
        "print(x[:5]) # первые 5 элементов\n",
        "print(x[5:]) # после индекса = 5\n",
        "print(x[4:7]) # подмассив из середины\n",
        "print(x[::2]) # каждый второй элемент\n",
        "print(x[1::2]) # каждый второй, начиная с индекса 1\n",
        "print(x[::-1]) # в обратном порядке\n",
        "print(x[5::-2]) # каждый второй в обратном порядке, начиная с индекса 5"
      ]
    },
    {
      "cell_type": "markdown",
      "metadata": {
        "id": "XdfRF4kCg6CW"
      },
      "source": [
        "2.Многомерные подмассивы"
      ]
    },
    {
      "cell_type": "code",
      "execution_count": null,
      "metadata": {
        "colab": {
          "base_uri": "https://localhost:8080/"
        },
        "id": "JXnJqUT6g8U0",
        "outputId": "b601270c-3e52-4418-846b-8628c7317cd1"
      },
      "outputs": [
        {
          "name": "stdout",
          "output_type": "stream",
          "text": [
            "[[12  5  2  4]\n",
            " [ 7  6  8  8]\n",
            " [ 1  6  7  7]]\n",
            "[[12  5  2]\n",
            " [ 7  6  8]]\n",
            "[[12  2]\n",
            " [ 7  8]\n",
            " [ 1  7]]\n",
            "[[ 7  7  6  1]\n",
            " [ 8  8  6  7]\n",
            " [ 4  2  5 12]]\n"
          ]
        }
      ],
      "source": [
        "# многомерные срезы создаются похожим образом, с разделением срезов запятыми\n",
        "print(x2)\n",
        "print(x2[:2, :3]) # две строки, три столбца\n",
        "print(x2[:3, ::2]) # три строки, каждый второй столбец\n",
        "print(x2[::-1, ::-1]) # измерения подмассивов также можно переворачивать"
      ]
    },
    {
      "cell_type": "markdown",
      "metadata": {
        "id": "q6OVRw-DgHup"
      },
      "source": [
        "3.Доступ к строкам и столбцам массива"
      ]
    },
    {
      "cell_type": "code",
      "execution_count": null,
      "metadata": {
        "colab": {
          "base_uri": "https://localhost:8080/"
        },
        "id": "XW1sWwThgQhq",
        "outputId": "4b3d5780-c674-4276-f97e-fc4e1fb60c92"
      },
      "outputs": [
        {
          "name": "stdout",
          "output_type": "stream",
          "text": [
            "[[12  5  2  4]\n",
            " [ 7  6  8  8]\n",
            " [ 1  6  7  7]]\n",
            "[12  7  1]\n",
            "[12  5  2  4]\n",
            "[12  5  2  4]\n"
          ]
        }
      ],
      "source": [
        "print(x2)\n",
        "print(x2[:, 0]) # первый столбец массива x2\n",
        "print(x2[0, :]) # первая строка массива x2\n",
        "print(x2[0]) # в случае вывода строки можно написать проще"
      ]
    },
    {
      "cell_type": "markdown",
      "metadata": {
        "id": "VR31T4uejVpX"
      },
      "source": [
        "4.Подмассивы, предназначенные только для чтения представления"
      ]
    },
    {
      "cell_type": "code",
      "execution_count": null,
      "metadata": {
        "colab": {
          "base_uri": "https://localhost:8080/"
        },
        "id": "BZnzajsvjcNo",
        "outputId": "e5b01974-4e52-428f-85ce-094d1d2d9a1f"
      },
      "outputs": [
        {
          "name": "stdout",
          "output_type": "stream",
          "text": [
            "[[99  5  2  4]\n",
            " [ 7  6  8  8]\n",
            " [ 1  6  7  7]]\n",
            "[[99  5]\n",
            " [ 7  6]]\n",
            "[[55  5]\n",
            " [ 7  6]]\n",
            "[[55  5  2  4]\n",
            " [ 7  6  8  8]\n",
            " [ 1  6  7  7]]\n"
          ]
        }
      ],
      "source": [
        "# Срезы массивов возвращают представления (views), а не копии (copies) данных массивов. Это отличие от срезов списков Python,\n",
        "# где возвращаются копии.\n",
        "print(x2)\n",
        "x2_sub = x2[:2, :2]\n",
        "print(x2_sub)\n",
        "\n",
        "# Теперь, если изменим этот массив, то увидим, что исходный массив поменялся:\n",
        "x2_sub[0,0] = 55\n",
        "print(x2_sub)\n",
        "print(x2)"
      ]
    },
    {
      "cell_type": "markdown",
      "metadata": {
        "id": "8XhbcBBVlJae"
      },
      "source": [
        "5.Создание копий массивов"
      ]
    },
    {
      "cell_type": "code",
      "execution_count": null,
      "metadata": {
        "colab": {
          "base_uri": "https://localhost:8080/"
        },
        "id": "HHdMDqtAlONa",
        "outputId": "55b7c1a9-4174-4acc-fc70-dbbd2eb13b04"
      },
      "outputs": [
        {
          "name": "stdout",
          "output_type": "stream",
          "text": [
            "[[55  5]\n",
            " [ 7  6]]\n",
            "[[42  5]\n",
            " [ 7  6]]\n",
            "[[55  5  2  4]\n",
            " [ 7  6  8  8]\n",
            " [ 1  6  7  7]]\n"
          ]
        }
      ],
      "source": [
        "x2_sub_copy = x2[:2, :2].copy()\n",
        "print(x2_sub_copy)\n",
        "\n",
        "# Если теперь поменяем массив, то исходный останется неизменным:\n",
        "x2_sub_copy[0, 0] = 42\n",
        "print(x2_sub_copy)\n",
        "print(x2)"
      ]
    },
    {
      "cell_type": "markdown",
      "metadata": {
        "id": "wwrBIHVvqG0h"
      },
      "source": [
        "**Изменение формы массивов**"
      ]
    },
    {
      "cell_type": "code",
      "execution_count": null,
      "metadata": {
        "colab": {
          "base_uri": "https://localhost:8080/"
        },
        "id": "_F5MQ5tIqR6L",
        "outputId": "6509b368-65f8-413e-9558-ddd814e076ca"
      },
      "outputs": [
        {
          "name": "stdout",
          "output_type": "stream",
          "text": [
            "[[1 2 3]\n",
            " [4 5 6]\n",
            " [7 8 9]]\n"
          ]
        }
      ],
      "source": [
        "grid = np.arange(1, 10).reshape((3, 3))\n",
        "print(grid)"
      ]
    },
    {
      "cell_type": "code",
      "execution_count": null,
      "metadata": {
        "colab": {
          "base_uri": "https://localhost:8080/"
        },
        "id": "5pF7aiUdrEJp",
        "outputId": "5f351208-c6af-4a3c-ce57-73d9f4de7121"
      },
      "outputs": [
        {
          "data": {
            "text/plain": [
              "array([[1, 2, 3]])"
            ]
          },
          "execution_count": 41,
          "metadata": {},
          "output_type": "execute_result"
        }
      ],
      "source": [
        "x = np.array([1, 2, 3])\n",
        "x.reshape((1, 3)) # преобразование в вектор-строку с помощью reshape\n",
        "# x[np.newaxis, :] # преобразование в вектор-строку с помощью newaxis\n",
        "\n",
        "# x.reshape((3, 1)) # преобразование в вектор-столбец с помощью reshape\n",
        "# x[:, np.newaxis] # преобразование в вектор-столбец с помощью newaxis"
      ]
    },
    {
      "cell_type": "code",
      "execution_count": null,
      "metadata": {
        "colab": {
          "base_uri": "https://localhost:8080/"
        },
        "id": "LqdF0s4rNbWZ",
        "outputId": "5670b456-f8db-4403-d627-5879f8f979ae"
      },
      "outputs": [
        {
          "name": "stdout",
          "output_type": "stream",
          "text": [
            "[[1 2 3]\n",
            " [4 5 6]]\n",
            "[[1 2]\n",
            " [3 4]]\n",
            "[[1 2 3]]\n",
            "[[1 2 3 4 5]\n",
            " [6 1 2 3 4]\n",
            " [5 6 1 2 3]]\n"
          ]
        }
      ],
      "source": [
        "x = np.array([(1, 2, 3), (4, 5, 6)])\n",
        "print(x)\n",
        "print(np.resize(x, (2, 2))) # вырезает часть матрицы\n",
        "print(np.resize(x, (1,3)))\n",
        "print(np.resize(x, (3,5)))"
      ]
    },
    {
      "cell_type": "markdown",
      "metadata": {
        "id": "WIS8Lpw0s0nD"
      },
      "source": [
        "**Слияние и разбиение массивов**"
      ]
    },
    {
      "cell_type": "markdown",
      "metadata": {
        "id": "xvi6zhk2t1KA"
      },
      "source": [
        "1.Слияние массивов"
      ]
    },
    {
      "cell_type": "code",
      "execution_count": null,
      "metadata": {
        "colab": {
          "base_uri": "https://localhost:8080/"
        },
        "id": "4aEWopkVs6kg",
        "outputId": "d7c5513f-58ed-42c9-f623-f7e48a974cae"
      },
      "outputs": [
        {
          "name": "stdout",
          "output_type": "stream",
          "text": [
            "[1 2 3 3 2 1]\n",
            "[ 1  2  3  3  2  1 99 99 99]\n"
          ]
        }
      ],
      "source": [
        "x = np.array([1, 2, 3])\n",
        "y = np.array([3, 2, 1])\n",
        "print(np.concatenate([x, y]))\n",
        "\n",
        "z = [99, 99, 99]\n",
        "print(np.concatenate([x, y, z]))"
      ]
    },
    {
      "cell_type": "code",
      "execution_count": null,
      "metadata": {
        "colab": {
          "base_uri": "https://localhost:8080/"
        },
        "id": "R5NLejsVuzoG",
        "outputId": "163e4878-14ca-4e91-e7e7-de73e1d63c94"
      },
      "outputs": [
        {
          "name": "stdout",
          "output_type": "stream",
          "text": [
            "[[1 2 3]\n",
            " [4 5 6]\n",
            " [1 2 3]\n",
            " [4 5 6]]\n",
            "[[1 2 3 1 2 3]\n",
            " [4 5 6 4 5 6]]\n"
          ]
        }
      ],
      "source": [
        "grid = np.array([[1, 2, 3],\n",
        "                 [4, 5, 6]])\n",
        "print(np.concatenate([grid, grid])) # слияние по первой оси координат\n",
        "print(np.concatenate([grid, grid], axis=1)) # слияние по второй оси координат"
      ]
    },
    {
      "cell_type": "code",
      "execution_count": null,
      "metadata": {
        "colab": {
          "base_uri": "https://localhost:8080/"
        },
        "id": "vHGZPeySw-tL",
        "outputId": "c5260ce5-9e18-4519-8ada-4713b211bd42"
      },
      "outputs": [
        {
          "name": "stdout",
          "output_type": "stream",
          "text": [
            "[[1 2 3]\n",
            " [9 8 7]\n",
            " [6 5 4]]\n"
          ]
        }
      ],
      "source": [
        "x = np.array([1, 2, 3])\n",
        "grid = np.array([[9, 8, 7],\n",
        "                 [6, 5, 4]])\n",
        "print(np.vstack([x, grid]))"
      ]
    },
    {
      "cell_type": "code",
      "execution_count": null,
      "metadata": {
        "colab": {
          "base_uri": "https://localhost:8080/"
        },
        "id": "4aaQh-V-xcCV",
        "outputId": "8c303e29-425a-4fd4-8ffc-076b9c6951e0"
      },
      "outputs": [
        {
          "data": {
            "text/plain": [
              "array([[ 9,  8,  7, 99],\n",
              "       [ 6,  5,  4, 99]])"
            ]
          },
          "execution_count": 27,
          "metadata": {},
          "output_type": "execute_result"
        }
      ],
      "source": [
        "y = np.array([[99],\n",
        "              [99]])\n",
        "np.hstack([grid, y])"
      ]
    },
    {
      "cell_type": "markdown",
      "metadata": {
        "id": "LYGf4LHxxzca"
      },
      "source": [
        "2.Разбиение массивов"
      ]
    },
    {
      "cell_type": "code",
      "execution_count": null,
      "metadata": {
        "colab": {
          "base_uri": "https://localhost:8080/"
        },
        "id": "RsNqrg-wx2ie",
        "outputId": "2e97404a-04af-4607-cd0a-0d8d4b23dd49"
      },
      "outputs": [
        {
          "name": "stdout",
          "output_type": "stream",
          "text": [
            "[1 2 3] [99 99] [3 2 1]\n"
          ]
        }
      ],
      "source": [
        "x = [1, 2, 3, 99, 99, 3, 2, 1]\n",
        "x1, x2, x3 = np.split(x, [3, 5])\n",
        "print(x1, x2, x3)"
      ]
    },
    {
      "cell_type": "code",
      "execution_count": null,
      "metadata": {
        "colab": {
          "base_uri": "https://localhost:8080/"
        },
        "id": "QygU7Zbb1EfU",
        "outputId": "4a00e13b-6c6b-4ea9-a7b1-53063df94ce7"
      },
      "outputs": [
        {
          "name": "stdout",
          "output_type": "stream",
          "text": [
            "[[ 0  1  2  3]\n",
            " [ 4  5  6  7]\n",
            " [ 8  9 10 11]\n",
            " [12 13 14 15]]\n",
            "[[0 1 2 3]\n",
            " [4 5 6 7]]\n",
            "[[ 8  9 10 11]\n",
            " [12 13 14 15]]\n",
            "[[ 0  1]\n",
            " [ 4  5]\n",
            " [ 8  9]\n",
            " [12 13]]\n",
            "[[ 2  3]\n",
            " [ 6  7]\n",
            " [10 11]\n",
            " [14 15]]\n"
          ]
        }
      ],
      "source": [
        "grid = np.arange(16).reshape((4, 4))\n",
        "print(grid)\n",
        "\n",
        "upper, lower = np.vsplit(grid, [2])\n",
        "print(upper)\n",
        "print(lower)\n",
        "\n",
        "left, right = np.hsplit(grid, [2])\n",
        "print(left)\n",
        "print(right)"
      ]
    },
    {
      "cell_type": "markdown",
      "metadata": {
        "id": "pB0yoA4p99tc"
      },
      "source": [
        "# Выполнение вычислений над массивами: универсальные функции"
      ]
    },
    {
      "cell_type": "markdown",
      "metadata": {
        "id": "Cfs1pYff_CEH"
      },
      "source": [
        "**Введение в универсальные функции**"
      ]
    },
    {
      "cell_type": "markdown",
      "metadata": {
        "id": "QrPbSr0LrII4"
      },
      "source": [
        "На языке Python для обхода массива значений приходится в цикле каждый раз вызывать функцию и делать одни и те же вычисления. Это невыгодно каждый раз вычислять одну и ту же функцию, поэтому в NumPy ввели универсальные функции (ufuncs), которые осуществляют компилируемые процедуры со статической типизацией (векторизованная операция). Векторизованный подход спроектирован так, чтобы переносить цикл в скомпилированный слой, лежащий в основе библиотеки NumPy, что обеспечивает высокую производительность."
      ]
    },
    {
      "cell_type": "code",
      "execution_count": null,
      "metadata": {
        "colab": {
          "base_uri": "https://localhost:8080/"
        },
        "id": "BVyXRQmFG-SI",
        "outputId": "7be94836-b1d7-42fc-c048-0fd04f0c25a2"
      },
      "outputs": [
        {
          "data": {
            "text/plain": [
              "array([  2.71828183,   7.3890561 ,  20.08553692,  54.59815003,\n",
              "       148.4131591 ])"
            ]
          },
          "execution_count": 3,
          "metadata": {},
          "output_type": "execute_result"
        }
      ],
      "source": [
        "arr = np.array([1, 2, 3, 4, 5])\n",
        "np.sqrt(arr)\n",
        "np.sin(arr)\n",
        "np.cos(arr)\n",
        "np.log(arr)\n",
        "np.exp(arr)"
      ]
    },
    {
      "cell_type": "markdown",
      "metadata": {
        "id": "A_zCw7aceDzW"
      },
      "source": [
        "# Агрегирование: минимум, максимум и все, что посередине"
      ]
    },
    {
      "cell_type": "markdown",
      "metadata": {
        "id": "g78LkRaggaf7"
      },
      "source": [
        "Очень часто при работе с большими объемами данных первый шаг заключается в вычислении сводных статистических показателей по этим данным: среднее значение, стандартное отклонение, сумма, произведение, медиана, минимум и максимум, квантили и т.д."
      ]
    },
    {
      "cell_type": "markdown",
      "metadata": {
        "id": "2_Tm3fIohBzW"
      },
      "source": [
        "**Сумма значений из массива**"
      ]
    },
    {
      "cell_type": "code",
      "execution_count": null,
      "metadata": {
        "colab": {
          "base_uri": "https://localhost:8080/"
        },
        "id": "HHEAgZnfeMqG",
        "outputId": "3e662533-dc2b-4425-ad3a-811df5687f88"
      },
      "outputs": [
        {
          "name": "stdout",
          "output_type": "stream",
          "text": [
            "54.60397054740112\n",
            "54.60397054740111\n"
          ]
        }
      ],
      "source": [
        "import numpy as np\n",
        "L = np.random.random(100)\n",
        "print(sum(L)) # средствами Python\n",
        "print(np.sum(L)) # средствами NumPy"
      ]
    },
    {
      "cell_type": "code",
      "execution_count": null,
      "metadata": {
        "colab": {
          "base_uri": "https://localhost:8080/"
        },
        "id": "QanD2glYjLqV",
        "outputId": "5e8061f1-3e64-45be-f543-b20d94a7195f"
      },
      "outputs": [
        {
          "name": "stdout",
          "output_type": "stream",
          "text": [
            "10 loops, best of 5: 86.7 ms per loop\n",
            "1000 loops, best of 5: 368 µs per loop\n"
          ]
        }
      ],
      "source": [
        "big_array = np.random.rand(1000000)\n",
        "%timeit sum(big_array)\n",
        "%timeit np.sum(big_array)"
      ]
    },
    {
      "cell_type": "markdown",
      "metadata": {
        "id": "pZmAZRXV9yjF"
      },
      "source": [
        "**Минимум и максимум**"
      ]
    },
    {
      "cell_type": "code",
      "execution_count": null,
      "metadata": {
        "colab": {
          "base_uri": "https://localhost:8080/"
        },
        "id": "X7H_V7xU93aO",
        "outputId": "bf6a1c02-7722-4989-e8a1-ce3b51f69b40"
      },
      "outputs": [
        {
          "data": {
            "text/plain": [
              "(7.488882143302789e-07, 0.9999987530563781)"
            ]
          },
          "execution_count": 8,
          "metadata": {},
          "output_type": "execute_result"
        }
      ],
      "source": [
        "min(big_array), max(big_array) # Python"
      ]
    },
    {
      "cell_type": "code",
      "execution_count": null,
      "metadata": {
        "colab": {
          "base_uri": "https://localhost:8080/"
        },
        "id": "6eU5attG-JZE",
        "outputId": "4d65c677-da17-43b5-bd5c-7d4768601823"
      },
      "outputs": [
        {
          "data": {
            "text/plain": [
              "(7.488882143302789e-07, 0.9999987530563781)"
            ]
          },
          "execution_count": 9,
          "metadata": {},
          "output_type": "execute_result"
        }
      ],
      "source": [
        "np.min(big_array), np.max(big_array) # NumPy"
      ]
    },
    {
      "cell_type": "code",
      "execution_count": null,
      "metadata": {
        "colab": {
          "base_uri": "https://localhost:8080/"
        },
        "id": "Az7sWJ9g-XOm",
        "outputId": "d1f618da-a130-465a-b043-8a3454a81a1c"
      },
      "outputs": [
        {
          "name": "stdout",
          "output_type": "stream",
          "text": [
            "10 loops, best of 5: 59.6 ms per loop\n",
            "1000 loops, best of 5: 415 µs per loop\n"
          ]
        }
      ],
      "source": [
        "%timeit min(big_array)\n",
        "%timeit np.min(big_array)"
      ]
    },
    {
      "cell_type": "code",
      "execution_count": null,
      "metadata": {
        "colab": {
          "base_uri": "https://localhost:8080/"
        },
        "id": "LgnM18dB_DXr",
        "outputId": "ec2bfe66-0a29-4b87-8551-3e05a3859e82"
      },
      "outputs": [
        {
          "name": "stdout",
          "output_type": "stream",
          "text": [
            "7.488882143302789e-07 0.9999987530563781 500314.54631960345\n"
          ]
        }
      ],
      "source": [
        "print(big_array.min(), big_array.max(), big_array.sum())"
      ]
    },
    {
      "cell_type": "markdown",
      "metadata": {
        "id": "sQya6ARVFKn6"
      },
      "source": [
        "# Операции над массивами. Транслирование"
      ]
    },
    {
      "cell_type": "markdown",
      "metadata": {
        "id": "JtuyPHJJFgyW"
      },
      "source": [
        "Еще один способ применения операций векторизации - транслирование."
      ]
    },
    {
      "cell_type": "code",
      "execution_count": null,
      "metadata": {
        "colab": {
          "base_uri": "https://localhost:8080/"
        },
        "id": "MvLTYCBDF0Js",
        "outputId": "9aad2001-f234-4bd7-c6d2-6d645a0497ab"
      },
      "outputs": [
        {
          "data": {
            "text/plain": [
              "array([5, 6, 7])"
            ]
          },
          "execution_count": 12,
          "metadata": {},
          "output_type": "execute_result"
        }
      ],
      "source": [
        "# Для массивов одного размера бинарные операции выполняются поэлементно.\n",
        "import numpy as np\n",
        "\n",
        "a = np.array([0, 1, 2])\n",
        "b = np.array([5, 5, 5])\n",
        "a + b"
      ]
    },
    {
      "cell_type": "code",
      "execution_count": null,
      "metadata": {
        "colab": {
          "base_uri": "https://localhost:8080/"
        },
        "id": "BqFfGwfGG8XG",
        "outputId": "d5c3305f-b158-4e7d-bf37-ce3d54f35320"
      },
      "outputs": [
        {
          "data": {
            "text/plain": [
              "array([5, 6, 7])"
            ]
          },
          "execution_count": 13,
          "metadata": {},
          "output_type": "execute_result"
        }
      ],
      "source": [
        "# Транслирование дает выполнять бинарные операции над массивами различных размеров:\n",
        "a + 5"
      ]
    },
    {
      "cell_type": "code",
      "execution_count": null,
      "metadata": {
        "colab": {
          "base_uri": "https://localhost:8080/"
        },
        "id": "0IeHZeYXHWal",
        "outputId": "49dc4364-3fe3-435e-ac04-2f2dee391192"
      },
      "outputs": [
        {
          "name": "stdout",
          "output_type": "stream",
          "text": [
            "[[1. 1. 1.]\n",
            " [1. 1. 1.]\n",
            " [1. 1. 1.]]\n",
            "[[1. 2. 3.]\n",
            " [1. 2. 3.]\n",
            " [1. 2. 3.]]\n"
          ]
        }
      ],
      "source": [
        "# Операция сложения одномерного и двумерного массивов:\n",
        "m = np.ones((3, 3))\n",
        "print(m)\n",
        "print(m + a)"
      ]
    },
    {
      "cell_type": "code",
      "execution_count": null,
      "metadata": {
        "colab": {
          "base_uri": "https://localhost:8080/"
        },
        "id": "hHPRDHQpH_MV",
        "outputId": "07c5afd5-bc95-48dc-8b73-8ba2da09a58b"
      },
      "outputs": [
        {
          "name": "stdout",
          "output_type": "stream",
          "text": [
            "[0 1 2]\n",
            "[[0]\n",
            " [1]\n",
            " [2]]\n"
          ]
        },
        {
          "data": {
            "text/plain": [
              "array([[0, 1, 2],\n",
              "       [1, 2, 3],\n",
              "       [2, 3, 4]])"
            ]
          },
          "execution_count": 16,
          "metadata": {},
          "output_type": "execute_result"
        }
      ],
      "source": [
        "# Более сложный случай - транслирование обоих массивов:\n",
        "a = np.arange(3)\n",
        "b = np.arange(3)[:, np.newaxis]\n",
        "\n",
        "print(a)\n",
        "print(b)\n",
        "\n",
        "a + b"
      ]
    },
    {
      "cell_type": "markdown",
      "metadata": {
        "id": "3XWIqDDgLZal"
      },
      "source": [
        "**Правила транслирования**\n",
        "\n",
        "Правило 1. Если размерность двух массивов отличается, форма массива с мешьшей размерностью дополняется единицами с ведущей (левой) стороны.\n",
        "\n",
        "Правило 2. Если форма двух массивов не совпадает в каком-то измерении, массив с формой, равной 1в данном измерении, растягивается\n",
        "вплоть до соответствия форме другого массива.\n",
        "\n",
        "Правило 3. Если в каком-то измерении размеры массивов различаются и ни один не равен 1, генерируется ошибка."
      ]
    },
    {
      "cell_type": "code",
      "execution_count": null,
      "metadata": {
        "id": "zf1Y4-oqLXzm"
      },
      "outputs": [],
      "source": [
        "# Пример 1.\n",
        "M =np.ones((2, 3))\n",
        "a = np.arange(3)\n",
        "print(M)\n",
        "print(a)\n",
        "\n",
        "print(M.shape, a.shape)\n",
        "\n",
        "M + a"
      ]
    },
    {
      "cell_type": "code",
      "execution_count": null,
      "metadata": {
        "colab": {
          "base_uri": "https://localhost:8080/"
        },
        "id": "LiPWCA9ePCMP",
        "outputId": "5bc8143f-2c97-4ece-d0ee-be42f4d95085"
      },
      "outputs": [
        {
          "name": "stdout",
          "output_type": "stream",
          "text": [
            "[[0]\n",
            " [1]\n",
            " [2]]\n",
            "[0 1 2]\n",
            "(3, 1) (3,)\n"
          ]
        },
        {
          "data": {
            "text/plain": [
              "array([[0, 1, 2],\n",
              "       [1, 2, 3],\n",
              "       [2, 3, 4]])"
            ]
          },
          "execution_count": 28,
          "metadata": {
            "tags": []
          },
          "output_type": "execute_result"
        }
      ],
      "source": [
        "# Пример 2.\n",
        "a = np.arange(3).reshape(3, 1)\n",
        "b = np.arange(3)\n",
        "print(a)\n",
        "print(b)\n",
        "\n",
        "print(a.shape, b.shape)\n",
        "a + b"
      ]
    },
    {
      "cell_type": "code",
      "execution_count": null,
      "metadata": {
        "colab": {
          "base_uri": "https://localhost:8080/"
        },
        "id": "LhOYcpauPqKD",
        "outputId": "3cf7c15b-4904-48a5-ac77-61dd81d20ec4"
      },
      "outputs": [
        {
          "name": "stdout",
          "output_type": "stream",
          "text": [
            "[[1. 1.]\n",
            " [1. 1.]\n",
            " [1. 1.]]\n",
            "[0 1 2]\n",
            "(3, 2) (3,)\n"
          ]
        },
        {
          "data": {
            "text/plain": [
              "array([[1., 1.],\n",
              "       [2., 2.],\n",
              "       [3., 3.]])"
            ]
          },
          "execution_count": 33,
          "metadata": {
            "tags": []
          },
          "output_type": "execute_result"
        }
      ],
      "source": [
        "# Пример 3.\n",
        "M = np.ones((3, 2))\n",
        "a = np.arange(3)\n",
        "print(M)\n",
        "print(a)\n",
        "\n",
        "print(M.shape, a.shape)\n",
        "\n",
        "# M + a - выдаст ошибку\n",
        "M + a[:, np.newaxis]\n"
      ]
    },
    {
      "cell_type": "markdown",
      "metadata": {
        "id": "JROw0NSASJYQ"
      },
      "source": [
        "# Сравнения, маски и булева логика"
      ]
    },
    {
      "cell_type": "markdown",
      "metadata": {
        "id": "tFKQi2A5wbQE"
      },
      "source": [
        "Маскирование удобно для извлечения, модификации, подсчета или других манипуляций со значениями в массиве по какому-либо критерию."
      ]
    },
    {
      "cell_type": "markdown",
      "metadata": {
        "id": "LIYk5kX_w-6M"
      },
      "source": [
        "**Операторы сравнения как универсальные функции**"
      ]
    },
    {
      "cell_type": "code",
      "execution_count": null,
      "metadata": {
        "id": "86dyrAXBxGW3"
      },
      "outputs": [],
      "source": [
        "# Операторы сравнения в NumPy реализованы как универсальные функции\n",
        "x = np.array([1, 2, 3, 4, 5])\n",
        "print(x < 3)\n",
        "print(x > 3)\n",
        "print(x <= 3)\n",
        "print(x >= 3)\n",
        "print(x != 3)\n",
        "print(x == 3)"
      ]
    },
    {
      "cell_type": "code",
      "execution_count": null,
      "metadata": {
        "colab": {
          "base_uri": "https://localhost:8080/"
        },
        "id": "lntV9BITyFza",
        "outputId": "f0c6f471-7494-4d6e-c3b2-1eb9fae98cfc"
      },
      "outputs": [
        {
          "name": "stdout",
          "output_type": "stream",
          "text": [
            "[[5 0 3 3]\n",
            " [7 9 3 5]\n",
            " [2 4 7 6]]\n",
            "[[ True  True  True  True]\n",
            " [False False  True  True]\n",
            " [ True  True False False]]\n"
          ]
        }
      ],
      "source": [
        "# Так же и с массивами:\n",
        "rng = np.random.RandomState(0)\n",
        "x = rng.randint(10, size=(3,4))\n",
        "print(x)\n",
        "print(x < 6)"
      ]
    },
    {
      "cell_type": "markdown",
      "metadata": {
        "id": "NthYlahByk8i"
      },
      "source": [
        "**Работа с булевыми массивами**"
      ]
    },
    {
      "cell_type": "markdown",
      "metadata": {
        "id": "cszEkenO4IPm"
      },
      "source": [
        "Подсчет количества элементов"
      ]
    },
    {
      "cell_type": "code",
      "execution_count": null,
      "metadata": {
        "id": "l4MtAgvhysXE"
      },
      "outputs": [],
      "source": [
        "count = np.count_nonzero(x < 6) # сколько значенией х < 6 в массиве?\n",
        "print(count)\n",
        "count = np.sum(x < 6)\n",
        "print(count)\n",
        "count = np.sum(x < 6, axis=1) # сколько значенией х < 6 содержится в каждой строке? как видно sum имеет преимущество\n",
        "print(count)"
      ]
    },
    {
      "cell_type": "code",
      "execution_count": null,
      "metadata": {
        "id": "2vRrEgmMz_5X"
      },
      "outputs": [],
      "source": [
        "count = np.any(x > 8) # имеются ли значения больше 8?\n",
        "print(count)\n",
        "count = np.any(x < 0)\n",
        "print(count)\n",
        "count = np.all(x < 10) # все ли значения меньше 10?\n",
        "print(count)\n",
        "count = np.all(x == 6)\n",
        "print(count)\n",
        "count = np.all(x < 8, axis=1) # все ли значения в каждой строке меньше 8?\n",
        "print(count)"
      ]
    },
    {
      "cell_type": "markdown",
      "metadata": {
        "id": "c1j9VWb_4NvQ"
      },
      "source": [
        "Булевы операторы"
      ]
    },
    {
      "cell_type": "code",
      "execution_count": null,
      "metadata": {
        "colab": {
          "base_uri": "https://localhost:8080/"
        },
        "id": "Mc2TEyJl4CDD",
        "outputId": "28246a0a-f865-4f7b-f661-be44d559fe4a"
      },
      "outputs": [
        {
          "name": "stdout",
          "output_type": "stream",
          "text": [
            "[[5 0 3 3]\n",
            " [7 9 3 5]\n",
            " [2 4 7 6]]\n",
            "6\n"
          ]
        }
      ],
      "source": [
        "rng = np.random.RandomState(0)\n",
        "x = rng.randint(10, size=(3,4))\n",
        "print(x)\n",
        "count = np.sum((x > 2) & (x < 6)) # можно использовать побитовые операторы для более сложных запросов\n",
        "print(count)"
      ]
    },
    {
      "cell_type": "markdown",
      "metadata": {
        "id": "h4pT9ao06Vji"
      },
      "source": [
        "**Булевы массивы как маски**"
      ]
    },
    {
      "cell_type": "code",
      "execution_count": null,
      "metadata": {
        "colab": {
          "base_uri": "https://localhost:8080/"
        },
        "id": "7Lf4vKI66IIG",
        "outputId": "7678f732-2bc4-46ef-cdda-5fa62955cff5"
      },
      "outputs": [
        {
          "name": "stdout",
          "output_type": "stream",
          "text": [
            "[[5 0 3 3]\n",
            " [7 9 3 5]\n",
            " [2 4 7 6]]\n",
            "[[False  True  True  True]\n",
            " [False False  True False]\n",
            " [ True  True False False]]\n",
            "[0 3 3 3 2 4]\n"
          ]
        }
      ],
      "source": [
        "rng = np.random.RandomState(0)\n",
        "x = rng.randint(10, size=(3,4))\n",
        "print(x)\n",
        "print(x < 5)\n",
        "# чтобы выбрать нужные значения из массива, нужно проиндексировать исходный массив по этому булеву массиву\n",
        "# эта операция называется маскирование\n",
        "print(x[x < 5])"
      ]
    },
    {
      "cell_type": "markdown",
      "metadata": {
        "id": "nBGdwwnN8Oo6"
      },
      "source": [
        "# \"Прихотливая\" индексация"
      ]
    },
    {
      "cell_type": "markdown",
      "metadata": {
        "id": "ijFoT32mOD57"
      },
      "source": [
        "Прихотливая индексация похожа на простую индексацию, но вместо скалярных значений передаются массивы индексов с целью одновременного доступа к нескольким элементам."
      ]
    },
    {
      "cell_type": "code",
      "execution_count": null,
      "metadata": {
        "colab": {
          "base_uri": "https://localhost:8080/"
        },
        "id": "LU17SRIFOdSA",
        "outputId": "c3a12963-404d-49ad-cd2e-5482a82c9539"
      },
      "outputs": [
        {
          "name": "stdout",
          "output_type": "stream",
          "text": [
            "[51 92 14 71 60 20 82 86 74 74]\n",
            "[71 86 60]\n",
            "[[71 86]\n",
            " [60 20]]\n"
          ]
        }
      ],
      "source": [
        "import numpy as np\n",
        "rand = np.random.RandomState(42)\n",
        "\n",
        "x = rand.randint(100, size=10)\n",
        "print(x)\n",
        "\n",
        "ind = [3, 7, 4]\n",
        "print(x[ind])\n",
        "\n",
        "ind = np.array([[3, 7],\n",
        "                [4, 5]])\n",
        "\n",
        "print(x[ind])"
      ]
    },
    {
      "cell_type": "code",
      "execution_count": null,
      "metadata": {
        "colab": {
          "base_uri": "https://localhost:8080/"
        },
        "id": "q4dSZWdPPkVD",
        "outputId": "3c551f82-ba29-4cc5-8c1a-eb1d3c0b530e"
      },
      "outputs": [
        {
          "name": "stdout",
          "output_type": "stream",
          "text": [
            "[[ 0  1  2  3]\n",
            " [ 4  5  6  7]\n",
            " [ 8  9 10 11]]\n",
            "[ 2  5 11]\n"
          ]
        }
      ],
      "source": [
        "# В случае многомерных массивов:\n",
        "x = np.arange(12).reshape((3,4))\n",
        "print(x)\n",
        "\n",
        "row = np.array([0, 1, 2])\n",
        "col = np.array([2, 1, 3])\n",
        "print(x[row, col])"
      ]
    },
    {
      "cell_type": "markdown",
      "metadata": {
        "id": "BYeMZK2WQ4Qm"
      },
      "source": [
        "**Комбинированная индексация**"
      ]
    },
    {
      "cell_type": "code",
      "execution_count": null,
      "metadata": {
        "colab": {
          "base_uri": "https://localhost:8080/"
        },
        "id": "9USeVovXQ98N",
        "outputId": "bb228f08-4cac-4d8f-afda-5ac5ec2ac716"
      },
      "outputs": [
        {
          "name": "stdout",
          "output_type": "stream",
          "text": [
            "[[ 0  1  2  3]\n",
            " [ 4  5  6  7]\n",
            " [ 8  9 10 11]]\n",
            "[10  8  9]\n",
            "[[ 6  4  5]\n",
            " [10  8  9]]\n",
            "[[ 0  2]\n",
            " [ 4  6]\n",
            " [ 8 10]]\n"
          ]
        }
      ],
      "source": [
        "x = np.arange(12).reshape((3,4))\n",
        "print(x)\n",
        "\n",
        "print(x[2, [2, 0, 1]])\n",
        "print(x[1:, [2, 0, 1]])\n",
        "\n",
        "mask = np.array([1, 0, 1, 0], dtype=bool)\n",
        "print(x[row[:, np.newaxis], mask])"
      ]
    },
    {
      "cell_type": "markdown",
      "metadata": {
        "id": "59l-9yBOktRA"
      },
      "source": [
        "**Изменение массивов с помощью прихотливой индексации**"
      ]
    },
    {
      "cell_type": "code",
      "execution_count": null,
      "metadata": {
        "colab": {
          "base_uri": "https://localhost:8080/"
        },
        "id": "M-vwa1n3lE7k",
        "outputId": "d967bd0f-9e1f-4bb4-b3d6-9cabb3db7ab4"
      },
      "outputs": [
        {
          "name": "stdout",
          "output_type": "stream",
          "text": [
            "[ 0 99 99  3 99  5  6  7 99  9]\n"
          ]
        }
      ],
      "source": [
        "x = np.arange(10)\n",
        "i = np.array([2, 1, 8, 4])\n",
        "x[i] = 99\n",
        "print(x)"
      ]
    },
    {
      "cell_type": "code",
      "execution_count": null,
      "metadata": {
        "colab": {
          "base_uri": "https://localhost:8080/"
        },
        "id": "on9SiJWilpJW",
        "outputId": "9774b76a-20e0-4ac2-ca83-75c37f90697d"
      },
      "outputs": [
        {
          "name": "stdout",
          "output_type": "stream",
          "text": [
            "[6. 0. 0. 0. 0. 0. 0. 0. 0. 0.]\n",
            "[6. 0. 1. 1. 1. 0. 0. 0. 0. 0.]\n",
            "[0. 0. 1. 2. 3. 0. 0. 0. 0. 0.]\n"
          ]
        }
      ],
      "source": [
        "# Однако если индекс повторяется, то:\n",
        "x = np.zeros(10)\n",
        "x[[0, 0]] = [4, 6]\n",
        "print(x)\n",
        "\n",
        "i = [2, 3, 3, 4, 4, 4]\n",
        "x[i] += 1\n",
        "print(x)\n",
        "\n",
        "# а если надо, чтоб инкрементировалось несколько раз:\n",
        "x = np.zeros(10)\n",
        "np.add.at(x, i, 1)\n",
        "print(x)"
      ]
    },
    {
      "cell_type": "markdown",
      "metadata": {
        "id": "NBMmCa-m3JEn"
      },
      "source": [
        "# Сортировка массивов"
      ]
    },
    {
      "cell_type": "markdown",
      "metadata": {
        "id": "nEbfV3IeUaQ8"
      },
      "source": [
        "**Быстрая сортировка**"
      ]
    },
    {
      "cell_type": "code",
      "execution_count": null,
      "metadata": {
        "colab": {
          "base_uri": "https://localhost:8080/"
        },
        "id": "VewIHhryRUV4",
        "outputId": "6d8e7faa-b03d-40e6-ff1e-7020077456d6"
      },
      "outputs": [
        {
          "name": "stdout",
          "output_type": "stream",
          "text": [
            "[1 2 3 4 5]\n",
            "[1 2 3 4 5]\n"
          ]
        }
      ],
      "source": [
        "# Сортировка входного массива без его изменения\n",
        "x = np.array([2, 1, 4, 3, 5])\n",
        "print(np.sort(x))\n",
        "\n",
        "# Сортировка с изменением имеющегося массива\n",
        "x.sort()\n",
        "print(x)"
      ]
    },
    {
      "cell_type": "code",
      "execution_count": null,
      "metadata": {
        "id": "z6MBfbZdTI6a"
      },
      "outputs": [],
      "source": [
        "# Сортирует и возвращает индексы отсортированных элементов\n",
        "x = np.array([2, 1, 4, 3, 5])\n",
        "i = np.argsort(x)\n",
        "print(i)\n",
        "\n",
        "x[i] # используя i посредством прихотливой индексации можно построить отсортированный массив:"
      ]
    },
    {
      "cell_type": "markdown",
      "metadata": {
        "id": "taHGBE5vUk-N"
      },
      "source": [
        "Сортировка по строкам и столбцам"
      ]
    },
    {
      "cell_type": "code",
      "execution_count": null,
      "metadata": {
        "id": "tryAamO1Upc3"
      },
      "outputs": [],
      "source": [
        "rand = np.random.RandomState(42)\n",
        "x = rand.randint(0, 10, (4, 6))\n",
        "print(x)\n",
        "\n",
        "# сортируем все столбцы\n",
        "print(np.sort(x, axis=0))\n",
        "\n",
        "# сортируем все строки\n",
        "print(np.sort(x, axis=1))"
      ]
    },
    {
      "cell_type": "markdown",
      "metadata": {
        "id": "AmA1J4VU7Xun"
      },
      "source": [
        "**Частичные сортировки: секционирование**"
      ]
    },
    {
      "cell_type": "code",
      "execution_count": null,
      "metadata": {
        "colab": {
          "base_uri": "https://localhost:8080/"
        },
        "id": "UN_UGFn37jXe",
        "outputId": "97fdc60a-de59-401e-d0fc-4164ad380bcf"
      },
      "outputs": [
        {
          "name": "stdout",
          "output_type": "stream",
          "text": [
            "[7 2 3 1 6 5 4]\n",
            "[2 1 3 4 6 5 7]\n",
            "[[9 9 2 6 0 3]\n",
            " [3 4 6 6 3 6]\n",
            " [2 5 1 9 8 4]\n",
            " [5 3 9 6 8 6]]\n",
            "[[0 2 3 6 9 9]\n",
            " [3 3 4 6 6 6]\n",
            " [1 2 4 9 8 5]\n",
            " [3 5 6 9 8 6]]\n"
          ]
        }
      ],
      "source": [
        "x = np.array([7, 2, 3, 1, 6, 5, 4])\n",
        "print(x)\n",
        "print(np.partition(x, 3)) # первые три значения в итоговом массиве - три наименьших значения, а на остальных - все прочие значения\n",
        "\n",
        "y = rand.randint(0, 10, (4, 6))\n",
        "print(y)\n",
        "print(np.partition(y, 2, axis=1)) # секционирование по произвольной оси многомерного массива, в результате получаем массив,у которого на первых двух позициях каждой строки наименьшие значения"
      ]
    },
    {
      "cell_type": "markdown",
      "metadata": {
        "id": "j0RU6UuDHh1B"
      },
      "source": [
        "# Структурированные данные: структурированные массивы и массивы записей"
      ]
    },
    {
      "cell_type": "code",
      "execution_count": null,
      "metadata": {
        "id": "jnNPV-LdH3mr"
      },
      "outputs": [],
      "source": [
        "name = ['Alice', 'Bob', 'Cathy', 'Doug']\n",
        "age = [25, 45, 37, 19]\n",
        "weight = [55.0, 85.5, 68.0, 61.5]\n",
        "\n",
        "data = np.zeros(4, dtype={'names':('name', 'age', 'weight'),\n",
        "                          'formats':('U10', 'i4', 'f8')})\n",
        "print(data.dtype)\n",
        "\n",
        "data['name'] = name\n",
        "data['age'] = age\n",
        "data['weight'] = weight\n",
        "print(data)\n",
        "\n",
        "print(data['name'])\n",
        "print(data[0])\n",
        "print(data[-1]['name'])\n",
        "\n",
        "print(data[data['age'] < 30]['name'])"
      ]
    },
    {
      "cell_type": "markdown",
      "metadata": {
        "id": "9kEQ0bvBVYR7"
      },
      "source": [
        "**Создание структурированных массивов**"
      ]
    },
    {
      "cell_type": "code",
      "execution_count": null,
      "metadata": {
        "colab": {
          "base_uri": "https://localhost:8080/"
        },
        "id": "aVYBJRFUVcbr",
        "outputId": "cf50edcb-beb3-4a5f-8268-b9e0d3443f17"
      },
      "outputs": [
        {
          "data": {
            "text/plain": [
              "dtype([('name', '<U10'), ('age', '<i8'), ('weight', '<f4')])"
            ]
          },
          "execution_count": 8,
          "metadata": {
            "tags": []
          },
          "output_type": "execute_result"
        }
      ],
      "source": [
        "# с использованием словаря\n",
        "np.dtype({'names':('name', 'age', 'weight'),\n",
        "          'formats':('U10', 'i4', 'f8')})\n",
        "\n",
        "np.dtype({'names':('name', 'age', 'weight'),\n",
        "          'formats': ((np.str_, 10), int, np.float32)})"
      ]
    },
    {
      "cell_type": "code",
      "execution_count": null,
      "metadata": {
        "colab": {
          "base_uri": "https://localhost:8080/"
        },
        "id": "-hEG0ePPWLnv",
        "outputId": "bb83d903-1879-43ff-d424-f959a2a3a998"
      },
      "outputs": [
        {
          "data": {
            "text/plain": [
              "dtype([('name', 'S10'), ('age', '<i4'), ('weight', '<f8')])"
            ]
          },
          "execution_count": 9,
          "metadata": {
            "tags": []
          },
          "output_type": "execute_result"
        }
      ],
      "source": [
        "# в виде списка кортежей\n",
        "np.dtype([('name', 'S10'), ('age', 'i4'), ('weight', 'f8')])"
      ]
    },
    {
      "cell_type": "code",
      "execution_count": null,
      "metadata": {
        "colab": {
          "base_uri": "https://localhost:8080/"
        },
        "id": "iTGJIdWiXlRF",
        "outputId": "f4b66b07-44ba-4574-cf4a-675129a549d4"
      },
      "outputs": [
        {
          "data": {
            "text/plain": [
              "dtype([('f0', 'S10'), ('f1', '<i4'), ('f2', '<f8')])"
            ]
          },
          "execution_count": 10,
          "metadata": {
            "tags": []
          },
          "output_type": "execute_result"
        }
      ],
      "source": [
        "# если названия типов не важны, то\n",
        "np.dtype('S10, i4, f8')"
      ]
    },
    {
      "cell_type": "markdown",
      "metadata": {
        "id": "-d00-k3rAeS6"
      },
      "source": [
        "# Полезные операции"
      ]
    },
    {
      "cell_type": "markdown",
      "metadata": {
        "id": "-jxdr_LpAl3D"
      },
      "source": [
        "## Векторизация"
      ]
    },
    {
      "cell_type": "markdown",
      "metadata": {
        "id": "9ukmczw4AqKb"
      },
      "source": [
        "Задача. Требуется применить некотору функцию к элементам массива."
      ]
    },
    {
      "cell_type": "code",
      "execution_count": null,
      "metadata": {
        "id": "JseuNIAtAofX"
      },
      "outputs": [],
      "source": [
        "import numpy as np"
      ]
    },
    {
      "cell_type": "code",
      "execution_count": null,
      "metadata": {
        "id": "LvdwcxGeA1Wc"
      },
      "outputs": [],
      "source": [
        "matrix = np.array([[1, 2, 3],\n",
        "                   [4, 5, 6],\n",
        "                   [7, 8, 9]])"
      ]
    },
    {
      "cell_type": "code",
      "execution_count": null,
      "metadata": {
        "id": "_TRZRXlYA_Lg"
      },
      "outputs": [],
      "source": [
        "add_100 = lambda i: i + 100"
      ]
    },
    {
      "cell_type": "code",
      "execution_count": null,
      "metadata": {
        "id": "Jrue0pRMBGMd"
      },
      "outputs": [],
      "source": [
        "vectorized_add_100 = np.vectorize(add_100)"
      ]
    },
    {
      "cell_type": "code",
      "execution_count": null,
      "metadata": {
        "colab": {
          "base_uri": "https://localhost:8080/"
        },
        "id": "kNe17qdKBSBK",
        "outputId": "e2fbdb99-66d6-4c0f-a2f9-94dcc8345f4d"
      },
      "outputs": [
        {
          "data": {
            "text/plain": [
              "array([[101, 102, 103],\n",
              "       [104, 105, 106],\n",
              "       [107, 108, 109]])"
            ]
          },
          "execution_count": 5,
          "metadata": {},
          "output_type": "execute_result"
        }
      ],
      "source": [
        "vectorized_add_100(matrix)"
      ]
    },
    {
      "cell_type": "markdown",
      "metadata": {
        "id": "dpIdOaLpBfXA"
      },
      "source": [
        "Эту же задачу легче сделать с помощью трансляции"
      ]
    },
    {
      "cell_type": "code",
      "execution_count": null,
      "metadata": {
        "colab": {
          "base_uri": "https://localhost:8080/"
        },
        "id": "lu4bjmaOBm1E",
        "outputId": "e5639be9-ab8c-42a0-9180-a334c2c26bc6"
      },
      "outputs": [
        {
          "data": {
            "text/plain": [
              "array([[101, 102, 103],\n",
              "       [104, 105, 106],\n",
              "       [107, 108, 109]])"
            ]
          },
          "execution_count": 6,
          "metadata": {},
          "output_type": "execute_result"
        }
      ],
      "source": [
        "matrix + 100"
      ]
    }
  ],
  "metadata": {
    "colab": {
      "collapsed_sections": [
        "pTsxXBy1KItx",
        "pB0yoA4p99tc",
        "A_zCw7aceDzW",
        "sQya6ARVFKn6",
        "JROw0NSASJYQ",
        "nBGdwwnN8Oo6",
        "NBMmCa-m3JEn"
      ],
      "provenance": [],
      "toc_visible": true
    },
    "kernelspec": {
      "display_name": "Python 3",
      "name": "python3"
    },
    "language_info": {
      "codemirror_mode": {
        "name": "ipython",
        "version": 3
      },
      "file_extension": ".py",
      "mimetype": "text/x-python",
      "name": "python",
      "nbconvert_exporter": "python",
      "pygments_lexer": "ipython3",
      "version": "3.11.7"
    }
  },
  "nbformat": 4,
  "nbformat_minor": 0
}
