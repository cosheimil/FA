{
 "cells": [
  {
   "cell_type": "markdown",
   "metadata": {},
   "source": [
    "# Тема 1.1. Библиотека Numpy"
   ]
  },
  {
   "cell_type": "code",
   "execution_count": 3,
   "metadata": {},
   "outputs": [],
   "source": [
    "import numpy as np"
   ]
  },
  {
   "cell_type": "markdown",
   "metadata": {},
   "source": [
    "## Задачи для совместного разбора на семинаре"
   ]
  },
  {
   "cell_type": "markdown",
   "metadata": {},
   "source": [
    "1. Сгенерировать двухмерный массив `arr` размерности (4, 7), состоящий из случайных действительных чисел, равномерно распределенных в диапазоне от 0 до 20. Нормализовать значения массива с помощью преобразования вида  $𝑎𝑥+𝑏$  так, что после нормализации максимальный элемент масcива будет равен 1.0, минимальный 0.0"
   ]
  },
  {
   "cell_type": "code",
   "execution_count": 17,
   "metadata": {},
   "outputs": [
    {
     "name": "stdout",
     "output_type": "stream",
     "text": [
      "[[17.50537252 13.29282348 19.8079425   1.7129567   3.29116368 18.70643515\n",
      "  13.64797056]\n",
      " [ 9.09028413  5.51685923  4.35376443  8.77088975 14.73357337 19.0054568\n",
      "  14.14153772]\n",
      " [18.69601875  0.80726624  7.47448093 16.27396776  0.53230203  4.59412055\n",
      "  16.35720479]\n",
      " [10.21026835 18.97742257 13.73280903 12.02906771  7.54609249 11.57921036\n",
      "  14.60144255]]\n"
     ]
    },
    {
     "data": {
      "text/plain": [
       "array([[0.88054509, 0.66200246, 1.        , 0.06125113, 0.14312685,\n",
       "        0.94285495, 0.68042712],\n",
       "       [0.44397913, 0.2585936 , 0.19825346, 0.42740929, 0.73674705,\n",
       "        0.95836788, 0.70603287],\n",
       "       [0.94231456, 0.01426485, 0.36015296, 0.8166611 , 0.        ,\n",
       "        0.21072288, 0.82097935],\n",
       "       [0.50208274, 0.9569135 , 0.68482845, 0.59644014, 0.36386809,\n",
       "        0.57310201, 0.72989225]])"
      ]
     },
     "execution_count": 17,
     "metadata": {},
     "output_type": "execute_result"
    }
   ],
   "source": [
    "arr = np.random.rand(4, 7) * 20\n",
    "\n",
    "max_ = arr.max()\n",
    "min_ = arr.min()\n",
    "\n",
    "scaled = (arr - min_) / (max_ - min_)\n",
    "scaled"
   ]
  },
  {
   "cell_type": "markdown",
   "metadata": {},
   "source": [
    "2. Создать матрицу 8 на 10 из случайных целых (используя модуль `numpy.random`) чисел из диапозона от 0 до 10 и найти в ней строку (ее индекс и вывести саму строку), в которой сумма значений минимальна."
   ]
  },
  {
   "cell_type": "code",
   "execution_count": 9,
   "metadata": {},
   "outputs": [
    {
     "data": {
      "text/plain": [
       "2"
      ]
     },
     "execution_count": 9,
     "metadata": {},
     "output_type": "execute_result"
    }
   ],
   "source": [
    "arr = np.random.randint(0, 10, (8, 10))\n",
    "arr.sum(axis=0).argmax()"
   ]
  },
  {
   "cell_type": "markdown",
   "metadata": {},
   "source": [
    "3. Найти евклидово расстояние между двумя одномерными векторами одинаковой размерности."
   ]
  },
  {
   "cell_type": "code",
   "execution_count": 31,
   "metadata": {},
   "outputs": [
    {
     "data": {
      "text/plain": [
       "0.9398623284089319"
      ]
     },
     "execution_count": 31,
     "metadata": {},
     "output_type": "execute_result"
    }
   ],
   "source": [
    "arr_1 = np.random.rand(5)\n",
    "arr_2 = np.random.rand(5)\n",
    "\n",
    "np.linalg.norm(arr_1 - arr_2)"
   ]
  },
  {
   "cell_type": "markdown",
   "metadata": {},
   "source": [
    "4. Решить матричное уравнение `A*X*B=-C` - найти матрицу `X`. Где `A = [[-1, 2, 4], [-3, 1, 2], [-3, 0, 1]]`, `B=[[3, -1], [2, 1]]`, `C=[[7, 21], [11, 8], [8, 4]]`."
   ]
  },
  {
   "cell_type": "code",
   "execution_count": 30,
   "metadata": {},
   "outputs": [
    {
     "data": {
      "text/plain": [
       "array([[ 7, 21],\n",
       "       [11,  8],\n",
       "       [ 8,  4]])"
      ]
     },
     "execution_count": 30,
     "metadata": {},
     "output_type": "execute_result"
    }
   ],
   "source": [
    "a = np.array([[-1, 2, 4], [-3, 1, 2], [-3, 0, 1]])\n",
    "b = np.array([[3, -1], [2, 1]])\n",
    "c = np.array([[7, 21], [11, 8], [8, 4]])"
   ]
  },
  {
   "cell_type": "code",
   "execution_count": null,
   "metadata": {},
   "outputs": [],
   "source": []
  }
 ],
 "metadata": {
  "kernelspec": {
   "display_name": "Python 3 (ipykernel)",
   "language": "python",
   "name": "python3"
  },
  "language_info": {
   "codemirror_mode": {
    "name": "ipython",
    "version": 3
   },
   "file_extension": ".py",
   "mimetype": "text/x-python",
   "name": "python",
   "nbconvert_exporter": "python",
   "pygments_lexer": "ipython3",
   "version": "3.1.0"
  }
 },
 "nbformat": 4,
 "nbformat_minor": 4
}
