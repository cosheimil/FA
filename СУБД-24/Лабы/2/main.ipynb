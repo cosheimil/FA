{
 "cells": [
  {
   "cell_type": "code",
   "execution_count": 1,
   "metadata": {},
   "outputs": [],
   "source": [
    "import pandas as pd\n",
    "from faker import Faker\n",
    "import numpy as np\n",
    "from datetime import timedelta\n",
    "fake = Faker('ru_RU')"
   ]
  },
  {
   "cell_type": "code",
   "execution_count": 2,
   "metadata": {},
   "outputs": [],
   "source": [
    "N = 100"
   ]
  },
  {
   "cell_type": "code",
   "execution_count": 3,
   "metadata": {},
   "outputs": [
    {
     "data": {
      "text/plain": [
       "['Цветков Мина Богданович',\n",
       " 'Светозар Егорович Самойлов',\n",
       " 'Елена Львовна Гуляева',\n",
       " 'Ксения Владиславовна Корнилова',\n",
       " 'Потап Вилорович Жуков']"
      ]
     },
     "execution_count": 3,
     "metadata": {},
     "output_type": "execute_result"
    }
   ],
   "source": [
    "# fake.number()\n",
    "names = [fake.name() for _ in range(N)]\n",
    "names[:5]"
   ]
  },
  {
   "cell_type": "code",
   "execution_count": 4,
   "metadata": {},
   "outputs": [
    {
     "data": {
      "text/plain": [
       "['+70131840832',\n",
       " '+7 (624) 648-6768',\n",
       " '+7 613 805 7682',\n",
       " '+78516857622',\n",
       " '+7 (350) 130-8785']"
      ]
     },
     "execution_count": 4,
     "metadata": {},
     "output_type": "execute_result"
    }
   ],
   "source": [
    "# fake.phone_number()\n",
    "phone_numbers = [fake.phone_number() for _ in range(N)]\n",
    "phone_numbers[:5]"
   ]
  },
  {
   "cell_type": "code",
   "execution_count": 5,
   "metadata": {},
   "outputs": [
    {
     "data": {
      "text/plain": [
       "['K05816870', '542223808', 'G66858683', 'D93983784', '163039124']"
      ]
     },
     "execution_count": 5,
     "metadata": {},
     "output_type": "execute_result"
    }
   ],
   "source": [
    "# fake.passport_number()\n",
    "passports = [fake.passport_number() for _ in range(N)]\n",
    "passports[:5]"
   ]
  },
  {
   "cell_type": "code",
   "execution_count": 6,
   "metadata": {},
   "outputs": [
    {
     "data": {
      "text/plain": [
       "[6729685125601, 4627939262114, 6222619234521, 5432503961939, 4587725578759]"
      ]
     },
     "execution_count": 6,
     "metadata": {},
     "output_type": "execute_result"
    }
   ],
   "source": [
    "# fake.random_number(digits=13)\n",
    "ids =[fake.random_number(digits=13) for _ in range(N)]\n",
    "ids[:5]"
   ]
  },
  {
   "cell_type": "code",
   "execution_count": 7,
   "metadata": {},
   "outputs": [
    {
     "data": {
      "text/plain": [
       "['ракетки',\n",
       " 'настольный теннис',\n",
       " 'воллейб. мяч',\n",
       " 'воллейб. мяч',\n",
       " 'настольный теннис']"
      ]
     },
     "execution_count": 7,
     "metadata": {},
     "output_type": "execute_result"
    }
   ],
   "source": [
    "all_kinds = ['лыжи', 'коньки', 'велосипед', 'футбольный мяч', 'воллейб. мяч', 'гольф', 'настольный теннис', 'ракетки']\n",
    "# fake.random_choices(all_kinds)[0]\n",
    "game_kinds = [fake.random_choices(all_kinds)[0] for _ in range(N)]\n",
    "game_kinds[:5]"
   ]
  },
  {
   "cell_type": "code",
   "execution_count": 8,
   "metadata": {},
   "outputs": [
    {
     "data": {
      "text/plain": [
       "[491, 173, 249, 208, 172]"
      ]
     },
     "execution_count": 8,
     "metadata": {},
     "output_type": "execute_result"
    }
   ],
   "source": [
    "# fake.random_int(min=100, max=500)\n",
    "price_day = [fake.random_int(min=100, max=500) for _ in range(N)]\n",
    "price_day[:5]"
   ]
  },
  {
   "cell_type": "code",
   "execution_count": 9,
   "metadata": {},
   "outputs": [
    {
     "data": {
      "text/plain": [
       "[1473, 519, 747, 624, 516]"
      ]
     },
     "execution_count": 9,
     "metadata": {},
     "output_type": "execute_result"
    }
   ],
   "source": [
    "price_three = (np.array(price_day) * 3).tolist()\n",
    "price_three[:5]"
   ]
  },
  {
   "cell_type": "code",
   "execution_count": 10,
   "metadata": {},
   "outputs": [
    {
     "data": {
      "text/plain": [
       "[3437, 1211, 1743, 1456, 1204]"
      ]
     },
     "execution_count": 10,
     "metadata": {},
     "output_type": "execute_result"
    }
   ],
   "source": [
    "price_week = (np.array(price_day) * 7).tolist()\n",
    "price_week[:5]"
   ]
  },
  {
   "cell_type": "code",
   "execution_count": 11,
   "metadata": {},
   "outputs": [
    {
     "data": {
      "text/plain": [
       "[353, 321, 465, 145, 385]"
      ]
     },
     "execution_count": 11,
     "metadata": {},
     "output_type": "execute_result"
    }
   ],
   "source": [
    "ost = [fake.random_int(min=100, max=500) for _ in range(N)]\n",
    "ost[:5]"
   ]
  },
  {
   "cell_type": "code",
   "execution_count": 12,
   "metadata": {},
   "outputs": [
    {
     "data": {
      "text/plain": [
       "[1884, 2522, 2773, 4498, 2112]"
      ]
     },
     "execution_count": 12,
     "metadata": {},
     "output_type": "execute_result"
    }
   ],
   "source": [
    "ban_day = [fake.random_int(min=1500, max=5000) for _ in range(N)]\n",
    "ban_day[:5]"
   ]
  },
  {
   "cell_type": "code",
   "execution_count": 13,
   "metadata": {},
   "outputs": [
    {
     "data": {
      "text/plain": [
       "[13188, 17654, 19411, 31486, 14784]"
      ]
     },
     "execution_count": 13,
     "metadata": {},
     "output_type": "execute_result"
    }
   ],
   "source": [
    "ban_week = (np.array(ban_day) * 7).tolist()\n",
    "ban_week[:5]"
   ]
  },
  {
   "cell_type": "code",
   "execution_count": 14,
   "metadata": {},
   "outputs": [
    {
     "data": {
      "text/plain": [
       "[datetime.date(2024, 2, 7),\n",
       " datetime.date(2024, 5, 18),\n",
       " datetime.date(2024, 8, 29),\n",
       " datetime.date(2024, 2, 2),\n",
       " datetime.date(2024, 8, 13)]"
      ]
     },
     "execution_count": 14,
     "metadata": {},
     "output_type": "execute_result"
    }
   ],
   "source": [
    "date_given = [fake.date_this_year() for _ in range(N)]\n",
    "date_given[:5]"
   ]
  },
  {
   "cell_type": "code",
   "execution_count": 15,
   "metadata": {},
   "outputs": [
    {
     "data": {
      "text/plain": [
       "[25, 8, 21, 18, 26]"
      ]
     },
     "execution_count": 15,
     "metadata": {},
     "output_type": "execute_result"
    }
   ],
   "source": [
    "durations = [fake.date_this_year().day for _ in range(N)]\n",
    "durations[:5]"
   ]
  },
  {
   "cell_type": "code",
   "execution_count": 16,
   "metadata": {},
   "outputs": [
    {
     "data": {
      "text/plain": [
       "[datetime.date(2024, 3, 9),\n",
       " datetime.date(2024, 5, 26),\n",
       " datetime.date(2024, 9, 23),\n",
       " datetime.date(2024, 2, 21),\n",
       " datetime.date(2024, 9, 15)]"
      ]
     },
     "execution_count": 16,
     "metadata": {},
     "output_type": "execute_result"
    }
   ],
   "source": [
    "fact_returned = [date + timedelta(days=fake.random_digit()+duration) for date, duration  in zip(date_given, durations)]\n",
    "fact_returned[:5]"
   ]
  },
  {
   "cell_type": "code",
   "execution_count": 17,
   "metadata": {},
   "outputs": [],
   "source": [
    "dataset = pd.DataFrame(\n",
    "    data=np.array([names, phone_numbers, passports, ids, game_kinds, price_day, price_three, price_week,\n",
    "          ost, ban_day, ban_week, date_given, durations, fact_returned]).T,\n",
    "    columns=['ФИО', 'Тел', 'Паспорт', 'Инв_ном', 'Вид', 'Аренда-сут', 'Аренда-3д', 'Аренда-нед', 'Ост', 'Штраф-сут',\n",
    "             'Штраф-нед', 'Дата-выд', 'Длит-проката', 'Факт-возврат']\n",
    ")"
   ]
  },
  {
   "cell_type": "code",
   "execution_count": 18,
   "metadata": {},
   "outputs": [
    {
     "data": {
      "text/html": [
       "<div>\n",
       "<style scoped>\n",
       "    .dataframe tbody tr th:only-of-type {\n",
       "        vertical-align: middle;\n",
       "    }\n",
       "\n",
       "    .dataframe tbody tr th {\n",
       "        vertical-align: top;\n",
       "    }\n",
       "\n",
       "    .dataframe thead th {\n",
       "        text-align: right;\n",
       "    }\n",
       "</style>\n",
       "<table border=\"1\" class=\"dataframe\">\n",
       "  <thead>\n",
       "    <tr style=\"text-align: right;\">\n",
       "      <th></th>\n",
       "      <th>ФИО</th>\n",
       "      <th>Тел</th>\n",
       "      <th>Паспорт</th>\n",
       "      <th>Инв_ном</th>\n",
       "      <th>Вид</th>\n",
       "      <th>Аренда-сут</th>\n",
       "      <th>Аренда-3д</th>\n",
       "      <th>Аренда-нед</th>\n",
       "      <th>Ост</th>\n",
       "      <th>Штраф-сут</th>\n",
       "      <th>Штраф-нед</th>\n",
       "      <th>Дата-выд</th>\n",
       "      <th>Длит-проката</th>\n",
       "      <th>Факт-возврат</th>\n",
       "    </tr>\n",
       "  </thead>\n",
       "  <tbody>\n",
       "    <tr>\n",
       "      <th>0</th>\n",
       "      <td>Цветков Мина Богданович</td>\n",
       "      <td>+70131840832</td>\n",
       "      <td>K05816870</td>\n",
       "      <td>6729685125601</td>\n",
       "      <td>ракетки</td>\n",
       "      <td>491</td>\n",
       "      <td>1473</td>\n",
       "      <td>3437</td>\n",
       "      <td>353</td>\n",
       "      <td>1884</td>\n",
       "      <td>13188</td>\n",
       "      <td>2024-02-07</td>\n",
       "      <td>25</td>\n",
       "      <td>2024-03-09</td>\n",
       "    </tr>\n",
       "    <tr>\n",
       "      <th>1</th>\n",
       "      <td>Светозар Егорович Самойлов</td>\n",
       "      <td>+7 (624) 648-6768</td>\n",
       "      <td>542223808</td>\n",
       "      <td>4627939262114</td>\n",
       "      <td>настольный теннис</td>\n",
       "      <td>173</td>\n",
       "      <td>519</td>\n",
       "      <td>1211</td>\n",
       "      <td>321</td>\n",
       "      <td>2522</td>\n",
       "      <td>17654</td>\n",
       "      <td>2024-05-18</td>\n",
       "      <td>8</td>\n",
       "      <td>2024-05-26</td>\n",
       "    </tr>\n",
       "    <tr>\n",
       "      <th>2</th>\n",
       "      <td>Елена Львовна Гуляева</td>\n",
       "      <td>+7 613 805 7682</td>\n",
       "      <td>G66858683</td>\n",
       "      <td>6222619234521</td>\n",
       "      <td>воллейб. мяч</td>\n",
       "      <td>249</td>\n",
       "      <td>747</td>\n",
       "      <td>1743</td>\n",
       "      <td>465</td>\n",
       "      <td>2773</td>\n",
       "      <td>19411</td>\n",
       "      <td>2024-08-29</td>\n",
       "      <td>21</td>\n",
       "      <td>2024-09-23</td>\n",
       "    </tr>\n",
       "    <tr>\n",
       "      <th>3</th>\n",
       "      <td>Ксения Владиславовна Корнилова</td>\n",
       "      <td>+78516857622</td>\n",
       "      <td>D93983784</td>\n",
       "      <td>5432503961939</td>\n",
       "      <td>воллейб. мяч</td>\n",
       "      <td>208</td>\n",
       "      <td>624</td>\n",
       "      <td>1456</td>\n",
       "      <td>145</td>\n",
       "      <td>4498</td>\n",
       "      <td>31486</td>\n",
       "      <td>2024-02-02</td>\n",
       "      <td>18</td>\n",
       "      <td>2024-02-21</td>\n",
       "    </tr>\n",
       "    <tr>\n",
       "      <th>4</th>\n",
       "      <td>Потап Вилорович Жуков</td>\n",
       "      <td>+7 (350) 130-8785</td>\n",
       "      <td>163039124</td>\n",
       "      <td>4587725578759</td>\n",
       "      <td>настольный теннис</td>\n",
       "      <td>172</td>\n",
       "      <td>516</td>\n",
       "      <td>1204</td>\n",
       "      <td>385</td>\n",
       "      <td>2112</td>\n",
       "      <td>14784</td>\n",
       "      <td>2024-08-13</td>\n",
       "      <td>26</td>\n",
       "      <td>2024-09-15</td>\n",
       "    </tr>\n",
       "  </tbody>\n",
       "</table>\n",
       "</div>"
      ],
      "text/plain": [
       "                              ФИО                Тел    Паспорт  \\\n",
       "0         Цветков Мина Богданович       +70131840832  K05816870   \n",
       "1      Светозар Егорович Самойлов  +7 (624) 648-6768  542223808   \n",
       "2           Елена Львовна Гуляева    +7 613 805 7682  G66858683   \n",
       "3  Ксения Владиславовна Корнилова       +78516857622  D93983784   \n",
       "4           Потап Вилорович Жуков  +7 (350) 130-8785  163039124   \n",
       "\n",
       "         Инв_ном                Вид Аренда-сут Аренда-3д Аренда-нед  Ост  \\\n",
       "0  6729685125601            ракетки        491      1473       3437  353   \n",
       "1  4627939262114  настольный теннис        173       519       1211  321   \n",
       "2  6222619234521       воллейб. мяч        249       747       1743  465   \n",
       "3  5432503961939       воллейб. мяч        208       624       1456  145   \n",
       "4  4587725578759  настольный теннис        172       516       1204  385   \n",
       "\n",
       "  Штраф-сут Штраф-нед    Дата-выд Длит-проката Факт-возврат  \n",
       "0      1884     13188  2024-02-07           25   2024-03-09  \n",
       "1      2522     17654  2024-05-18            8   2024-05-26  \n",
       "2      2773     19411  2024-08-29           21   2024-09-23  \n",
       "3      4498     31486  2024-02-02           18   2024-02-21  \n",
       "4      2112     14784  2024-08-13           26   2024-09-15  "
      ]
     },
     "execution_count": 18,
     "metadata": {},
     "output_type": "execute_result"
    }
   ],
   "source": [
    "dataset.head(8).to_csv('first_phase.csv', index=False)\n",
    "dataset.head()"
   ]
  },
  {
   "cell_type": "markdown",
   "metadata": {},
   "source": [
    "# Process"
   ]
  },
  {
   "cell_type": "code",
   "execution_count": 19,
   "metadata": {},
   "outputs": [
    {
     "name": "stderr",
     "output_type": "stream",
     "text": [
      "/tmp/ipykernel_37363/643663558.py:2: SettingWithCopyWarning: \n",
      "A value is trying to be set on a copy of a slice from a DataFrame.\n",
      "Try using .loc[row_indexer,col_indexer] = value instead\n",
      "\n",
      "See the caveats in the documentation: https://pandas.pydata.org/pandas-docs/stable/user_guide/indexing.html#returning-a-view-versus-a-copy\n",
      "  people['ID'] = people.sum(axis=1).map(hash).map(abs)\n"
     ]
    },
    {
     "data": {
      "text/html": [
       "<div>\n",
       "<style scoped>\n",
       "    .dataframe tbody tr th:only-of-type {\n",
       "        vertical-align: middle;\n",
       "    }\n",
       "\n",
       "    .dataframe tbody tr th {\n",
       "        vertical-align: top;\n",
       "    }\n",
       "\n",
       "    .dataframe thead th {\n",
       "        text-align: right;\n",
       "    }\n",
       "</style>\n",
       "<table border=\"1\" class=\"dataframe\">\n",
       "  <thead>\n",
       "    <tr style=\"text-align: right;\">\n",
       "      <th></th>\n",
       "      <th>ID</th>\n",
       "      <th>ФИО</th>\n",
       "      <th>Тел</th>\n",
       "      <th>Паспорт</th>\n",
       "    </tr>\n",
       "  </thead>\n",
       "  <tbody>\n",
       "    <tr>\n",
       "      <th>0</th>\n",
       "      <td>8498816955744471104</td>\n",
       "      <td>Цветков Мина Богданович</td>\n",
       "      <td>+70131840832</td>\n",
       "      <td>K05816870</td>\n",
       "    </tr>\n",
       "    <tr>\n",
       "      <th>1</th>\n",
       "      <td>5729044962522407338</td>\n",
       "      <td>Светозар Егорович Самойлов</td>\n",
       "      <td>+7 (624) 648-6768</td>\n",
       "      <td>542223808</td>\n",
       "    </tr>\n",
       "    <tr>\n",
       "      <th>2</th>\n",
       "      <td>820345818383865588</td>\n",
       "      <td>Елена Львовна Гуляева</td>\n",
       "      <td>+7 613 805 7682</td>\n",
       "      <td>G66858683</td>\n",
       "    </tr>\n",
       "    <tr>\n",
       "      <th>3</th>\n",
       "      <td>2014338564320398867</td>\n",
       "      <td>Ксения Владиславовна Корнилова</td>\n",
       "      <td>+78516857622</td>\n",
       "      <td>D93983784</td>\n",
       "    </tr>\n",
       "    <tr>\n",
       "      <th>4</th>\n",
       "      <td>6222190636691605281</td>\n",
       "      <td>Потап Вилорович Жуков</td>\n",
       "      <td>+7 (350) 130-8785</td>\n",
       "      <td>163039124</td>\n",
       "    </tr>\n",
       "    <tr>\n",
       "      <th>5</th>\n",
       "      <td>6311242358646181295</td>\n",
       "      <td>Ольга Игоревна Дементьева</td>\n",
       "      <td>+7 223 088 8930</td>\n",
       "      <td>D47187958</td>\n",
       "    </tr>\n",
       "    <tr>\n",
       "      <th>6</th>\n",
       "      <td>5163350604103109335</td>\n",
       "      <td>Тит Гавриилович Кононов</td>\n",
       "      <td>8 428 979 2794</td>\n",
       "      <td>M96875193</td>\n",
       "    </tr>\n",
       "    <tr>\n",
       "      <th>7</th>\n",
       "      <td>8675180921884431702</td>\n",
       "      <td>Александров Демьян Фролович</td>\n",
       "      <td>+7 776 920 6829</td>\n",
       "      <td>781352932</td>\n",
       "    </tr>\n",
       "  </tbody>\n",
       "</table>\n",
       "</div>"
      ],
      "text/plain": [
       "                    ID                             ФИО                Тел  \\\n",
       "0  8498816955744471104         Цветков Мина Богданович       +70131840832   \n",
       "1  5729044962522407338      Светозар Егорович Самойлов  +7 (624) 648-6768   \n",
       "2   820345818383865588           Елена Львовна Гуляева    +7 613 805 7682   \n",
       "3  2014338564320398867  Ксения Владиславовна Корнилова       +78516857622   \n",
       "4  6222190636691605281           Потап Вилорович Жуков  +7 (350) 130-8785   \n",
       "5  6311242358646181295       Ольга Игоревна Дементьева    +7 223 088 8930   \n",
       "6  5163350604103109335         Тит Гавриилович Кононов     8 428 979 2794   \n",
       "7  8675180921884431702     Александров Демьян Фролович    +7 776 920 6829   \n",
       "\n",
       "     Паспорт  \n",
       "0  K05816870  \n",
       "1  542223808  \n",
       "2  G66858683  \n",
       "3  D93983784  \n",
       "4  163039124  \n",
       "5  D47187958  \n",
       "6  M96875193  \n",
       "7  781352932  "
      ]
     },
     "execution_count": 19,
     "metadata": {},
     "output_type": "execute_result"
    }
   ],
   "source": [
    "people = dataset[['ФИО', 'Тел', 'Паспорт']]\n",
    "people['ID'] = people.sum(axis=1).map(hash).map(abs)\n",
    "people = people[['ID', 'ФИО', 'Тел', 'Паспорт']]\n",
    "people.head(8).to_csv('people.csv', index=False)\n",
    "people.head(8)"
   ]
  },
  {
   "cell_type": "code",
   "execution_count": 20,
   "metadata": {},
   "outputs": [
    {
     "data": {
      "text/plain": [
       "ID\n",
       "8498816955744471104    1\n",
       "5762203301331748347    1\n",
       "6872510483781606936    1\n",
       "544793368968782550     1\n",
       "6379135562013278210    1\n",
       "                      ..\n",
       "2953996939836029685    1\n",
       "1779107812807827791    1\n",
       "6236716959419593099    1\n",
       "6253577181296195555    1\n",
       "8288033323950583302    1\n",
       "Name: count, Length: 100, dtype: int64"
      ]
     },
     "execution_count": 20,
     "metadata": {},
     "output_type": "execute_result"
    }
   ],
   "source": [
    "people['ID'].value_counts()"
   ]
  },
  {
   "cell_type": "code",
   "execution_count": 21,
   "metadata": {},
   "outputs": [],
   "source": [
    "dataset['ID'] = people['ID']"
   ]
  },
  {
   "cell_type": "code",
   "execution_count": 22,
   "metadata": {},
   "outputs": [],
   "source": [
    "dataset = dataset[['ID'] + dataset.columns[:-1].to_list()]"
   ]
  },
  {
   "cell_type": "code",
   "execution_count": 23,
   "metadata": {},
   "outputs": [],
   "source": [
    "dataset.drop(columns=['ФИО', 'Тел', 'Паспорт'], inplace=True)"
   ]
  },
  {
   "cell_type": "code",
   "execution_count": 24,
   "metadata": {},
   "outputs": [
    {
     "data": {
      "text/html": [
       "<div>\n",
       "<style scoped>\n",
       "    .dataframe tbody tr th:only-of-type {\n",
       "        vertical-align: middle;\n",
       "    }\n",
       "\n",
       "    .dataframe tbody tr th {\n",
       "        vertical-align: top;\n",
       "    }\n",
       "\n",
       "    .dataframe thead th {\n",
       "        text-align: right;\n",
       "    }\n",
       "</style>\n",
       "<table border=\"1\" class=\"dataframe\">\n",
       "  <thead>\n",
       "    <tr style=\"text-align: right;\">\n",
       "      <th></th>\n",
       "      <th>ID</th>\n",
       "      <th>Инв_ном</th>\n",
       "      <th>Вид</th>\n",
       "      <th>Аренда-сут</th>\n",
       "      <th>Аренда-3д</th>\n",
       "      <th>Аренда-нед</th>\n",
       "      <th>Ост</th>\n",
       "      <th>Штраф-сут</th>\n",
       "      <th>Штраф-нед</th>\n",
       "      <th>Дата-выд</th>\n",
       "      <th>Длит-проката</th>\n",
       "      <th>Факт-возврат</th>\n",
       "    </tr>\n",
       "  </thead>\n",
       "  <tbody>\n",
       "    <tr>\n",
       "      <th>0</th>\n",
       "      <td>8498816955744471104</td>\n",
       "      <td>6729685125601</td>\n",
       "      <td>ракетки</td>\n",
       "      <td>491</td>\n",
       "      <td>1473</td>\n",
       "      <td>3437</td>\n",
       "      <td>353</td>\n",
       "      <td>1884</td>\n",
       "      <td>13188</td>\n",
       "      <td>2024-02-07</td>\n",
       "      <td>25</td>\n",
       "      <td>2024-03-09</td>\n",
       "    </tr>\n",
       "    <tr>\n",
       "      <th>1</th>\n",
       "      <td>5729044962522407338</td>\n",
       "      <td>4627939262114</td>\n",
       "      <td>настольный теннис</td>\n",
       "      <td>173</td>\n",
       "      <td>519</td>\n",
       "      <td>1211</td>\n",
       "      <td>321</td>\n",
       "      <td>2522</td>\n",
       "      <td>17654</td>\n",
       "      <td>2024-05-18</td>\n",
       "      <td>8</td>\n",
       "      <td>2024-05-26</td>\n",
       "    </tr>\n",
       "    <tr>\n",
       "      <th>2</th>\n",
       "      <td>820345818383865588</td>\n",
       "      <td>6222619234521</td>\n",
       "      <td>воллейб. мяч</td>\n",
       "      <td>249</td>\n",
       "      <td>747</td>\n",
       "      <td>1743</td>\n",
       "      <td>465</td>\n",
       "      <td>2773</td>\n",
       "      <td>19411</td>\n",
       "      <td>2024-08-29</td>\n",
       "      <td>21</td>\n",
       "      <td>2024-09-23</td>\n",
       "    </tr>\n",
       "    <tr>\n",
       "      <th>3</th>\n",
       "      <td>2014338564320398867</td>\n",
       "      <td>5432503961939</td>\n",
       "      <td>воллейб. мяч</td>\n",
       "      <td>208</td>\n",
       "      <td>624</td>\n",
       "      <td>1456</td>\n",
       "      <td>145</td>\n",
       "      <td>4498</td>\n",
       "      <td>31486</td>\n",
       "      <td>2024-02-02</td>\n",
       "      <td>18</td>\n",
       "      <td>2024-02-21</td>\n",
       "    </tr>\n",
       "    <tr>\n",
       "      <th>4</th>\n",
       "      <td>6222190636691605281</td>\n",
       "      <td>4587725578759</td>\n",
       "      <td>настольный теннис</td>\n",
       "      <td>172</td>\n",
       "      <td>516</td>\n",
       "      <td>1204</td>\n",
       "      <td>385</td>\n",
       "      <td>2112</td>\n",
       "      <td>14784</td>\n",
       "      <td>2024-08-13</td>\n",
       "      <td>26</td>\n",
       "      <td>2024-09-15</td>\n",
       "    </tr>\n",
       "  </tbody>\n",
       "</table>\n",
       "</div>"
      ],
      "text/plain": [
       "                    ID        Инв_ном                Вид Аренда-сут Аренда-3д  \\\n",
       "0  8498816955744471104  6729685125601            ракетки        491      1473   \n",
       "1  5729044962522407338  4627939262114  настольный теннис        173       519   \n",
       "2   820345818383865588  6222619234521       воллейб. мяч        249       747   \n",
       "3  2014338564320398867  5432503961939       воллейб. мяч        208       624   \n",
       "4  6222190636691605281  4587725578759  настольный теннис        172       516   \n",
       "\n",
       "  Аренда-нед  Ост Штраф-сут Штраф-нед    Дата-выд Длит-проката Факт-возврат  \n",
       "0       3437  353      1884     13188  2024-02-07           25   2024-03-09  \n",
       "1       1211  321      2522     17654  2024-05-18            8   2024-05-26  \n",
       "2       1743  465      2773     19411  2024-08-29           21   2024-09-23  \n",
       "3       1456  145      4498     31486  2024-02-02           18   2024-02-21  \n",
       "4       1204  385      2112     14784  2024-08-13           26   2024-09-15  "
      ]
     },
     "execution_count": 24,
     "metadata": {},
     "output_type": "execute_result"
    }
   ],
   "source": [
    "dataset.head()"
   ]
  },
  {
   "cell_type": "code",
   "execution_count": 25,
   "metadata": {},
   "outputs": [],
   "source": [
    "items = dataset[['Инв_ном', 'Вид', 'Аренда-сут', 'Штраф-сут']]"
   ]
  },
  {
   "cell_type": "code",
   "execution_count": 26,
   "metadata": {},
   "outputs": [],
   "source": [
    "dataset.drop(columns=['Вид', 'Аренда-сут', 'Аренда-3д', 'Аренда-нед', 'Ост', 'Штраф-сут', 'Штраф-нед'], inplace=True)"
   ]
  },
  {
   "cell_type": "code",
   "execution_count": 27,
   "metadata": {},
   "outputs": [
    {
     "data": {
      "text/html": [
       "<div>\n",
       "<style scoped>\n",
       "    .dataframe tbody tr th:only-of-type {\n",
       "        vertical-align: middle;\n",
       "    }\n",
       "\n",
       "    .dataframe tbody tr th {\n",
       "        vertical-align: top;\n",
       "    }\n",
       "\n",
       "    .dataframe thead th {\n",
       "        text-align: right;\n",
       "    }\n",
       "</style>\n",
       "<table border=\"1\" class=\"dataframe\">\n",
       "  <thead>\n",
       "    <tr style=\"text-align: right;\">\n",
       "      <th></th>\n",
       "      <th>ID</th>\n",
       "      <th>Инв_ном</th>\n",
       "      <th>Дата-выд</th>\n",
       "      <th>Длит-проката</th>\n",
       "      <th>Факт-возврат</th>\n",
       "    </tr>\n",
       "  </thead>\n",
       "  <tbody>\n",
       "    <tr>\n",
       "      <th>0</th>\n",
       "      <td>8498816955744471104</td>\n",
       "      <td>6729685125601</td>\n",
       "      <td>2024-02-07</td>\n",
       "      <td>25</td>\n",
       "      <td>2024-03-09</td>\n",
       "    </tr>\n",
       "    <tr>\n",
       "      <th>1</th>\n",
       "      <td>5729044962522407338</td>\n",
       "      <td>4627939262114</td>\n",
       "      <td>2024-05-18</td>\n",
       "      <td>8</td>\n",
       "      <td>2024-05-26</td>\n",
       "    </tr>\n",
       "    <tr>\n",
       "      <th>2</th>\n",
       "      <td>820345818383865588</td>\n",
       "      <td>6222619234521</td>\n",
       "      <td>2024-08-29</td>\n",
       "      <td>21</td>\n",
       "      <td>2024-09-23</td>\n",
       "    </tr>\n",
       "    <tr>\n",
       "      <th>3</th>\n",
       "      <td>2014338564320398867</td>\n",
       "      <td>5432503961939</td>\n",
       "      <td>2024-02-02</td>\n",
       "      <td>18</td>\n",
       "      <td>2024-02-21</td>\n",
       "    </tr>\n",
       "    <tr>\n",
       "      <th>4</th>\n",
       "      <td>6222190636691605281</td>\n",
       "      <td>4587725578759</td>\n",
       "      <td>2024-08-13</td>\n",
       "      <td>26</td>\n",
       "      <td>2024-09-15</td>\n",
       "    </tr>\n",
       "  </tbody>\n",
       "</table>\n",
       "</div>"
      ],
      "text/plain": [
       "                    ID        Инв_ном    Дата-выд Длит-проката Факт-возврат\n",
       "0  8498816955744471104  6729685125601  2024-02-07           25   2024-03-09\n",
       "1  5729044962522407338  4627939262114  2024-05-18            8   2024-05-26\n",
       "2   820345818383865588  6222619234521  2024-08-29           21   2024-09-23\n",
       "3  2014338564320398867  5432503961939  2024-02-02           18   2024-02-21\n",
       "4  6222190636691605281  4587725578759  2024-08-13           26   2024-09-15"
      ]
     },
     "execution_count": 27,
     "metadata": {},
     "output_type": "execute_result"
    }
   ],
   "source": [
    "dataset.head()"
   ]
  },
  {
   "cell_type": "code",
   "execution_count": 28,
   "metadata": {},
   "outputs": [
    {
     "data": {
      "text/html": [
       "<div>\n",
       "<style scoped>\n",
       "    .dataframe tbody tr th:only-of-type {\n",
       "        vertical-align: middle;\n",
       "    }\n",
       "\n",
       "    .dataframe tbody tr th {\n",
       "        vertical-align: top;\n",
       "    }\n",
       "\n",
       "    .dataframe thead th {\n",
       "        text-align: right;\n",
       "    }\n",
       "</style>\n",
       "<table border=\"1\" class=\"dataframe\">\n",
       "  <thead>\n",
       "    <tr style=\"text-align: right;\">\n",
       "      <th></th>\n",
       "      <th>ID</th>\n",
       "      <th>Инв_ном</th>\n",
       "      <th>Дата-выд</th>\n",
       "      <th>Факт-возврат</th>\n",
       "    </tr>\n",
       "  </thead>\n",
       "  <tbody>\n",
       "    <tr>\n",
       "      <th>0</th>\n",
       "      <td>8498816955744471104</td>\n",
       "      <td>6729685125601</td>\n",
       "      <td>2024-02-07</td>\n",
       "      <td>2024-03-09</td>\n",
       "    </tr>\n",
       "    <tr>\n",
       "      <th>1</th>\n",
       "      <td>5729044962522407338</td>\n",
       "      <td>4627939262114</td>\n",
       "      <td>2024-05-18</td>\n",
       "      <td>2024-05-26</td>\n",
       "    </tr>\n",
       "    <tr>\n",
       "      <th>2</th>\n",
       "      <td>820345818383865588</td>\n",
       "      <td>6222619234521</td>\n",
       "      <td>2024-08-29</td>\n",
       "      <td>2024-09-23</td>\n",
       "    </tr>\n",
       "    <tr>\n",
       "      <th>3</th>\n",
       "      <td>2014338564320398867</td>\n",
       "      <td>5432503961939</td>\n",
       "      <td>2024-02-02</td>\n",
       "      <td>2024-02-21</td>\n",
       "    </tr>\n",
       "    <tr>\n",
       "      <th>4</th>\n",
       "      <td>6222190636691605281</td>\n",
       "      <td>4587725578759</td>\n",
       "      <td>2024-08-13</td>\n",
       "      <td>2024-09-15</td>\n",
       "    </tr>\n",
       "    <tr>\n",
       "      <th>...</th>\n",
       "      <td>...</td>\n",
       "      <td>...</td>\n",
       "      <td>...</td>\n",
       "      <td>...</td>\n",
       "    </tr>\n",
       "    <tr>\n",
       "      <th>95</th>\n",
       "      <td>5218877798486064812</td>\n",
       "      <td>9022637947686</td>\n",
       "      <td>2024-03-06</td>\n",
       "      <td>2024-03-17</td>\n",
       "    </tr>\n",
       "    <tr>\n",
       "      <th>96</th>\n",
       "      <td>8894441630588404985</td>\n",
       "      <td>1891129914231</td>\n",
       "      <td>2024-03-22</td>\n",
       "      <td>2024-04-25</td>\n",
       "    </tr>\n",
       "    <tr>\n",
       "      <th>97</th>\n",
       "      <td>2710165900275339078</td>\n",
       "      <td>7655605133863</td>\n",
       "      <td>2024-06-17</td>\n",
       "      <td>2024-07-06</td>\n",
       "    </tr>\n",
       "    <tr>\n",
       "      <th>98</th>\n",
       "      <td>8348341127030823833</td>\n",
       "      <td>1692647885135</td>\n",
       "      <td>2024-08-12</td>\n",
       "      <td>2024-09-12</td>\n",
       "    </tr>\n",
       "    <tr>\n",
       "      <th>99</th>\n",
       "      <td>8288033323950583302</td>\n",
       "      <td>3983653319704</td>\n",
       "      <td>2024-05-23</td>\n",
       "      <td>2024-06-13</td>\n",
       "    </tr>\n",
       "  </tbody>\n",
       "</table>\n",
       "<p>100 rows × 4 columns</p>\n",
       "</div>"
      ],
      "text/plain": [
       "                     ID        Инв_ном    Дата-выд Факт-возврат\n",
       "0   8498816955744471104  6729685125601  2024-02-07   2024-03-09\n",
       "1   5729044962522407338  4627939262114  2024-05-18   2024-05-26\n",
       "2    820345818383865588  6222619234521  2024-08-29   2024-09-23\n",
       "3   2014338564320398867  5432503961939  2024-02-02   2024-02-21\n",
       "4   6222190636691605281  4587725578759  2024-08-13   2024-09-15\n",
       "..                  ...            ...         ...          ...\n",
       "95  5218877798486064812  9022637947686  2024-03-06   2024-03-17\n",
       "96  8894441630588404985  1891129914231  2024-03-22   2024-04-25\n",
       "97  2710165900275339078  7655605133863  2024-06-17   2024-07-06\n",
       "98  8348341127030823833  1692647885135  2024-08-12   2024-09-12\n",
       "99  8288033323950583302  3983653319704  2024-05-23   2024-06-13\n",
       "\n",
       "[100 rows x 4 columns]"
      ]
     },
     "execution_count": 28,
     "metadata": {},
     "output_type": "execute_result"
    }
   ],
   "source": [
    "dataset.drop(columns=['Длит-проката'])"
   ]
  },
  {
   "cell_type": "code",
   "execution_count": 29,
   "metadata": {},
   "outputs": [],
   "source": [
    "dataset.head(8).to_csv('last.csv', index=False)\n",
    "items.head(8).to_csv('items.csv', index=False)\n",
    "people.head(8).to_csv('people.csv', index=False)"
   ]
  },
  {
   "cell_type": "code",
   "execution_count": 31,
   "metadata": {},
   "outputs": [
    {
     "data": {
      "text/html": [
       "<div>\n",
       "<style scoped>\n",
       "    .dataframe tbody tr th:only-of-type {\n",
       "        vertical-align: middle;\n",
       "    }\n",
       "\n",
       "    .dataframe tbody tr th {\n",
       "        vertical-align: top;\n",
       "    }\n",
       "\n",
       "    .dataframe thead th {\n",
       "        text-align: right;\n",
       "    }\n",
       "</style>\n",
       "<table border=\"1\" class=\"dataframe\">\n",
       "  <thead>\n",
       "    <tr style=\"text-align: right;\">\n",
       "      <th></th>\n",
       "      <th>ID</th>\n",
       "      <th>Инв_ном</th>\n",
       "      <th>Дата-выд</th>\n",
       "      <th>Длит-проката</th>\n",
       "      <th>Факт-возврат</th>\n",
       "    </tr>\n",
       "  </thead>\n",
       "  <tbody>\n",
       "    <tr>\n",
       "      <th>0</th>\n",
       "      <td>8498816955744471104</td>\n",
       "      <td>6729685125601</td>\n",
       "      <td>2024-02-07</td>\n",
       "      <td>25</td>\n",
       "      <td>2024-03-09</td>\n",
       "    </tr>\n",
       "    <tr>\n",
       "      <th>1</th>\n",
       "      <td>5729044962522407338</td>\n",
       "      <td>4627939262114</td>\n",
       "      <td>2024-05-18</td>\n",
       "      <td>8</td>\n",
       "      <td>2024-05-26</td>\n",
       "    </tr>\n",
       "    <tr>\n",
       "      <th>2</th>\n",
       "      <td>820345818383865588</td>\n",
       "      <td>6222619234521</td>\n",
       "      <td>2024-08-29</td>\n",
       "      <td>21</td>\n",
       "      <td>2024-09-23</td>\n",
       "    </tr>\n",
       "    <tr>\n",
       "      <th>3</th>\n",
       "      <td>2014338564320398867</td>\n",
       "      <td>5432503961939</td>\n",
       "      <td>2024-02-02</td>\n",
       "      <td>18</td>\n",
       "      <td>2024-02-21</td>\n",
       "    </tr>\n",
       "    <tr>\n",
       "      <th>4</th>\n",
       "      <td>6222190636691605281</td>\n",
       "      <td>4587725578759</td>\n",
       "      <td>2024-08-13</td>\n",
       "      <td>26</td>\n",
       "      <td>2024-09-15</td>\n",
       "    </tr>\n",
       "    <tr>\n",
       "      <th>5</th>\n",
       "      <td>6311242358646181295</td>\n",
       "      <td>8027947857621</td>\n",
       "      <td>2024-06-18</td>\n",
       "      <td>5</td>\n",
       "      <td>2024-06-23</td>\n",
       "    </tr>\n",
       "    <tr>\n",
       "      <th>6</th>\n",
       "      <td>5163350604103109335</td>\n",
       "      <td>2946996100589</td>\n",
       "      <td>2024-04-05</td>\n",
       "      <td>5</td>\n",
       "      <td>2024-04-10</td>\n",
       "    </tr>\n",
       "    <tr>\n",
       "      <th>7</th>\n",
       "      <td>8675180921884431702</td>\n",
       "      <td>764479613937</td>\n",
       "      <td>2024-06-23</td>\n",
       "      <td>3</td>\n",
       "      <td>2024-06-29</td>\n",
       "    </tr>\n",
       "  </tbody>\n",
       "</table>\n",
       "</div>"
      ],
      "text/plain": [
       "                    ID        Инв_ном    Дата-выд Длит-проката Факт-возврат\n",
       "0  8498816955744471104  6729685125601  2024-02-07           25   2024-03-09\n",
       "1  5729044962522407338  4627939262114  2024-05-18            8   2024-05-26\n",
       "2   820345818383865588  6222619234521  2024-08-29           21   2024-09-23\n",
       "3  2014338564320398867  5432503961939  2024-02-02           18   2024-02-21\n",
       "4  6222190636691605281  4587725578759  2024-08-13           26   2024-09-15\n",
       "5  6311242358646181295  8027947857621  2024-06-18            5   2024-06-23\n",
       "6  5163350604103109335  2946996100589  2024-04-05            5   2024-04-10\n",
       "7  8675180921884431702   764479613937  2024-06-23            3   2024-06-29"
      ]
     },
     "execution_count": 31,
     "metadata": {},
     "output_type": "execute_result"
    }
   ],
   "source": [
    "dataset.head(8)"
   ]
  },
  {
   "cell_type": "code",
   "execution_count": null,
   "metadata": {},
   "outputs": [],
   "source": []
  }
 ],
 "metadata": {
  "kernelspec": {
   "display_name": "venv",
   "language": "python",
   "name": "python3"
  },
  "language_info": {
   "codemirror_mode": {
    "name": "ipython",
    "version": 3
   },
   "file_extension": ".py",
   "mimetype": "text/x-python",
   "name": "python",
   "nbconvert_exporter": "python",
   "pygments_lexer": "ipython3",
   "version": "3.11.8"
  }
 },
 "nbformat": 4,
 "nbformat_minor": 2
}
