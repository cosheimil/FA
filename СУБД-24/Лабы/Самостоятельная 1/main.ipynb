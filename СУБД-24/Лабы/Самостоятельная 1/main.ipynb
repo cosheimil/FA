{
 "cells": [
  {
   "cell_type": "code",
   "execution_count": 3,
   "metadata": {},
   "outputs": [],
   "source": [
    "import pandas as pd\n",
    "from faker import Faker\n",
    "import numpy as np\n",
    "from datetime import timedelta\n",
    "from faker_airtravel import AirTravelProvider\n",
    "fake = Faker('ru_RU')\n",
    "fake.add_provider(AirTravelProvider)"
   ]
  },
  {
   "cell_type": "code",
   "execution_count": 12,
   "metadata": {},
   "outputs": [],
   "source": [
    "N = 100"
   ]
  },
  {
   "cell_type": "code",
   "execution_count": 85,
   "metadata": {},
   "outputs": [],
   "source": [
    "generated_data = []"
   ]
  },
  {
   "cell_type": "code",
   "execution_count": 86,
   "metadata": {},
   "outputs": [],
   "source": [
    "numbers_fix = [fake.random_number(digits=5, fix_len=True) for _ in range(N)]\n",
    "generated_data.append(numbers_fix)"
   ]
  },
  {
   "cell_type": "code",
   "execution_count": 87,
   "metadata": {},
   "outputs": [],
   "source": [
    "company = [fake.airline() for _ in range(N)]\n",
    "generated_data.append(company)"
   ]
  },
  {
   "cell_type": "code",
   "execution_count": 88,
   "metadata": {},
   "outputs": [],
   "source": [
    "out_airport = [\n",
    "    fake.flight()['origin']['airport'] for _ in range(N)\n",
    "]\n",
    "generated_data.append(out_airport)"
   ]
  },
  {
   "cell_type": "code",
   "execution_count": 89,
   "metadata": {},
   "outputs": [],
   "source": [
    "in_airport = [\n",
    "    fake.flight()['destination']['airport'] for _ in range(N)\n",
    "]\n",
    "generated_data.append(in_airport)"
   ]
  },
  {
   "cell_type": "code",
   "execution_count": 90,
   "metadata": {},
   "outputs": [],
   "source": [
    "import random\n",
    "types = ['Кукурузник', 'Боинг', 'Длинный', 'Короткий']\n",
    "types_planes = [random.choice(types) for _ in range(N)]\n",
    "generated_data.append(types_planes)"
   ]
  },
  {
   "cell_type": "code",
   "execution_count": 91,
   "metadata": {},
   "outputs": [],
   "source": [
    "names = [fake.name() for _ in range(N)]\n",
    "license = [str(random.choice([False, True])) for _ in range(N)]\n",
    "phones = [fake.phone_number() for _ in range(N)]\n",
    "\n",
    "pilot = [' '.join([name, licens, phone]) for name, licens, phone in zip(names, license, phones)]\n",
    "generated_data.append(pilot)"
   ]
  },
  {
   "cell_type": "code",
   "execution_count": 92,
   "metadata": {},
   "outputs": [],
   "source": [
    "time_out = [fake.date_time_this_decade() for _ in range(N)]\n",
    "generated_data.append(time_out)"
   ]
  },
  {
   "cell_type": "code",
   "execution_count": 93,
   "metadata": {},
   "outputs": [],
   "source": [
    "time_in = [date + timedelta(days=fake.random_int()) for date in time_out]\n",
    "generated_data.append(time_in)"
   ]
  },
  {
   "cell_type": "code",
   "execution_count": 94,
   "metadata": {},
   "outputs": [],
   "source": [
    "city_out = [fake.airport_iata() for _ in range(N)]\n",
    "generated_data.append(city_out)"
   ]
  },
  {
   "cell_type": "code",
   "execution_count": 95,
   "metadata": {},
   "outputs": [],
   "source": [
    "city_in = [fake.airport_icao() for _ in range(N)]\n",
    "generated_data.append(city_in)"
   ]
  },
  {
   "cell_type": "code",
   "execution_count": 96,
   "metadata": {},
   "outputs": [],
   "source": [
    "price = [fake.flight()['price'] for _ in range(N)]\n",
    "generated_data.append(price)"
   ]
  },
  {
   "cell_type": "code",
   "execution_count": 97,
   "metadata": {},
   "outputs": [],
   "source": [
    "alphabet = [chr(s) for s in range(ord('A'), ord('Z'))]\n",
    "numbers = list(range(0, 100))"
   ]
  },
  {
   "cell_type": "code",
   "execution_count": 98,
   "metadata": {},
   "outputs": [],
   "source": [
    "place = [random.choice(alphabet) + str(random.choice(numbers)) for _ in range(N)]\n",
    "generated_data.append(place)"
   ]
  },
  {
   "cell_type": "code",
   "execution_count": 99,
   "metadata": {},
   "outputs": [],
   "source": [
    "typ = ['Эконом', 'Бизнес', 'Очень дорого', 'Багажник']\n",
    "types = [random.choice(typ) for _ in range(N)]\n",
    "generated_data.append(types)"
   ]
  },
  {
   "cell_type": "code",
   "execution_count": 100,
   "metadata": {},
   "outputs": [],
   "source": [
    "dataset = pd.DataFrame(generated_data).T\n",
    "dataset.columns = [\n",
    "    'Номер', 'Авиакомания', 'м. Вылет', 'м. Прилет',\n",
    "    'Наименование самолета', 'Пилот', 'Время вылета',\n",
    "    'Время прилета', 'Город вылета', 'Город прилета',\n",
    "    'Цена билета', 'Номер места', 'Тип места'\n",
    "]\n",
    "dataset.head(5).to_csv(\n",
    "    'airports.csv',\n",
    "    index=False\n",
    ")"
   ]
  },
  {
   "cell_type": "code",
   "execution_count": 101,
   "metadata": {},
   "outputs": [
    {
     "data": {
      "text/html": [
       "<div>\n",
       "<style scoped>\n",
       "    .dataframe tbody tr th:only-of-type {\n",
       "        vertical-align: middle;\n",
       "    }\n",
       "\n",
       "    .dataframe tbody tr th {\n",
       "        vertical-align: top;\n",
       "    }\n",
       "\n",
       "    .dataframe thead th {\n",
       "        text-align: right;\n",
       "    }\n",
       "</style>\n",
       "<table border=\"1\" class=\"dataframe\">\n",
       "  <thead>\n",
       "    <tr style=\"text-align: right;\">\n",
       "      <th></th>\n",
       "      <th>Номер</th>\n",
       "      <th>Авиакомания</th>\n",
       "      <th>м. Вылет</th>\n",
       "      <th>м. Прилет</th>\n",
       "      <th>Наименование самолета</th>\n",
       "      <th>Пилот</th>\n",
       "      <th>Время вылета</th>\n",
       "      <th>Время прилета</th>\n",
       "      <th>Город вылета</th>\n",
       "      <th>Город прилета</th>\n",
       "      <th>Цена билета</th>\n",
       "      <th>Номер места</th>\n",
       "      <th>Тип места</th>\n",
       "    </tr>\n",
       "  </thead>\n",
       "  <tbody>\n",
       "    <tr>\n",
       "      <th>0</th>\n",
       "      <td>60494</td>\n",
       "      <td>Thai AirAsia</td>\n",
       "      <td>Hamburg airport</td>\n",
       "      <td>Helsinki Vantaa airport</td>\n",
       "      <td>Боинг</td>\n",
       "      <td>Юлия Феликсовна Кудряшова False +7 190 814 0711</td>\n",
       "      <td>2022-06-25 23:17:56.051722</td>\n",
       "      <td>2029-07-14 23:17:56.051722</td>\n",
       "      <td>SEA</td>\n",
       "      <td>KLAS</td>\n",
       "      <td>618</td>\n",
       "      <td>L29</td>\n",
       "      <td>Бизнес</td>\n",
       "    </tr>\n",
       "    <tr>\n",
       "      <th>1</th>\n",
       "      <td>81957</td>\n",
       "      <td>Hawaiian Airlines</td>\n",
       "      <td>Belize</td>\n",
       "      <td>Palma de Mallorca airport</td>\n",
       "      <td>Боинг</td>\n",
       "      <td>Валентина Николаевна Панфилова True 8 357 536 ...</td>\n",
       "      <td>2020-08-19 23:47:52.967734</td>\n",
       "      <td>2047-03-22 23:47:52.967734</td>\n",
       "      <td>YUL</td>\n",
       "      <td>KORD</td>\n",
       "      <td>903</td>\n",
       "      <td>A32</td>\n",
       "      <td>Очень дорого</td>\n",
       "    </tr>\n",
       "    <tr>\n",
       "      <th>2</th>\n",
       "      <td>57215</td>\n",
       "      <td>British Airways</td>\n",
       "      <td>Chou Shui Tzu airport</td>\n",
       "      <td>Mineral'nyye Vody</td>\n",
       "      <td>Боинг</td>\n",
       "      <td>Назар Фёдорович Большаков False 8 663 608 84 73</td>\n",
       "      <td>2022-04-23 22:43:47.933599</td>\n",
       "      <td>2023-04-01 22:43:47.933599</td>\n",
       "      <td>CTG</td>\n",
       "      <td>SPIM</td>\n",
       "      <td>380</td>\n",
       "      <td>F48</td>\n",
       "      <td>Очень дорого</td>\n",
       "    </tr>\n",
       "    <tr>\n",
       "      <th>3</th>\n",
       "      <td>46409</td>\n",
       "      <td>Shenzhen Airlines</td>\n",
       "      <td>Lanzhou airport</td>\n",
       "      <td>Guizhou</td>\n",
       "      <td>Кукурузник</td>\n",
       "      <td>Федорова Фёкла Рудольфовна True 87730559307</td>\n",
       "      <td>2021-09-08 08:35:39.995025</td>\n",
       "      <td>2029-07-12 08:35:39.995025</td>\n",
       "      <td>CUZ</td>\n",
       "      <td>KGEG</td>\n",
       "      <td>532</td>\n",
       "      <td>V81</td>\n",
       "      <td>Бизнес</td>\n",
       "    </tr>\n",
       "    <tr>\n",
       "      <th>4</th>\n",
       "      <td>81683</td>\n",
       "      <td>Wings Air</td>\n",
       "      <td>Durham International airport</td>\n",
       "      <td>Dulles International airport</td>\n",
       "      <td>Кукурузник</td>\n",
       "      <td>Сила Адрианович Бобров True +7 (860) 483-26-78</td>\n",
       "      <td>2024-01-17 04:06:08.368495</td>\n",
       "      <td>2034-04-04 04:06:08.368495</td>\n",
       "      <td>DEN</td>\n",
       "      <td>VOMM</td>\n",
       "      <td>291</td>\n",
       "      <td>R18</td>\n",
       "      <td>Очень дорого</td>\n",
       "    </tr>\n",
       "  </tbody>\n",
       "</table>\n",
       "</div>"
      ],
      "text/plain": [
       "   Номер        Авиакомания                      м. Вылет  \\\n",
       "0  60494       Thai AirAsia               Hamburg airport   \n",
       "1  81957  Hawaiian Airlines                        Belize   \n",
       "2  57215    British Airways         Chou Shui Tzu airport   \n",
       "3  46409  Shenzhen Airlines               Lanzhou airport   \n",
       "4  81683          Wings Air  Durham International airport   \n",
       "\n",
       "                      м. Прилет Наименование самолета  \\\n",
       "0       Helsinki Vantaa airport                 Боинг   \n",
       "1     Palma de Mallorca airport                 Боинг   \n",
       "2             Mineral'nyye Vody                 Боинг   \n",
       "3                       Guizhou            Кукурузник   \n",
       "4  Dulles International airport            Кукурузник   \n",
       "\n",
       "                                               Пилот  \\\n",
       "0    Юлия Феликсовна Кудряшова False +7 190 814 0711   \n",
       "1  Валентина Николаевна Панфилова True 8 357 536 ...   \n",
       "2    Назар Фёдорович Большаков False 8 663 608 84 73   \n",
       "3        Федорова Фёкла Рудольфовна True 87730559307   \n",
       "4     Сила Адрианович Бобров True +7 (860) 483-26-78   \n",
       "\n",
       "                 Время вылета               Время прилета Город вылета  \\\n",
       "0  2022-06-25 23:17:56.051722  2029-07-14 23:17:56.051722          SEA   \n",
       "1  2020-08-19 23:47:52.967734  2047-03-22 23:47:52.967734          YUL   \n",
       "2  2022-04-23 22:43:47.933599  2023-04-01 22:43:47.933599          CTG   \n",
       "3  2021-09-08 08:35:39.995025  2029-07-12 08:35:39.995025          CUZ   \n",
       "4  2024-01-17 04:06:08.368495  2034-04-04 04:06:08.368495          DEN   \n",
       "\n",
       "  Город прилета Цена билета Номер места     Тип места  \n",
       "0          KLAS         618         L29        Бизнес  \n",
       "1          KORD         903         A32  Очень дорого  \n",
       "2          SPIM         380         F48  Очень дорого  \n",
       "3          KGEG         532         V81        Бизнес  \n",
       "4          VOMM         291         R18  Очень дорого  "
      ]
     },
     "execution_count": 101,
     "metadata": {},
     "output_type": "execute_result"
    }
   ],
   "source": [
    "dataset.head(5)"
   ]
  },
  {
   "cell_type": "code",
   "execution_count": 102,
   "metadata": {},
   "outputs": [
    {
     "data": {
      "text/plain": [
       "13"
      ]
     },
     "execution_count": 102,
     "metadata": {},
     "output_type": "execute_result"
    }
   ],
   "source": [
    "len(dataset.columns)"
   ]
  },
  {
   "cell_type": "code",
   "execution_count": 103,
   "metadata": {},
   "outputs": [],
   "source": [
    "airport = [\n",
    "    [s.split()[0] for s in (in_airport + out_airport)],\n",
    "    city_in  + city_out\n",
    "]\n",
    "airport = pd.DataFrame(airport).T\n",
    "airport.columns = ['Город', 'Аэропорт']\n",
    "airport.head().to_csv('airport_transformed.csv', index=False)"
   ]
  },
  {
   "cell_type": "code",
   "execution_count": 107,
   "metadata": {},
   "outputs": [],
   "source": [
    "planes = [\n",
    "    numbers_fix, company, out_airport, in_airport,\n",
    "    types_planes, phones, time_out, time_in\n",
    "]\n",
    "planes = pd.DataFrame(planes).T\n",
    "planes.columns = ['Номер рейса', 'Авиакомпания', 'Аэропорт вылета', 'Аэропорт прилета',\n",
    "'Наименование самолета', 'Закрепленный пилот', 'Время вылета', 'Время прилета'\n",
    "]\n",
    "planes.head().to_csv('planes_transformed.csv', index=False)"
   ]
  },
  {
   "cell_type": "code",
   "execution_count": 128,
   "metadata": {},
   "outputs": [
    {
     "data": {
      "text/plain": [
       "8"
      ]
     },
     "execution_count": 128,
     "metadata": {},
     "output_type": "execute_result"
    }
   ],
   "source": [
    "len(planes.columns)"
   ]
  },
  {
   "cell_type": "code",
   "execution_count": 110,
   "metadata": {},
   "outputs": [],
   "source": [
    "passenger = [\n",
    "    numbers_fix, types, place, price\n",
    "]\n",
    "passenger = pd.DataFrame(passenger).T\n",
    "passenger.columns = ['Номер рейса', 'Тип места', 'Номер места', 'Цена места']\n",
    "passenger.head().to_csv('passenger_transformed.csv', index=False)"
   ]
  },
  {
   "cell_type": "code",
   "execution_count": 126,
   "metadata": {},
   "outputs": [
    {
     "data": {
      "text/plain": [
       "4"
      ]
     },
     "execution_count": 126,
     "metadata": {},
     "output_type": "execute_result"
    }
   ],
   "source": [
    "len(passenger.columns)"
   ]
  },
  {
   "cell_type": "code",
   "execution_count": null,
   "metadata": {},
   "outputs": [],
   "source": [
    "names = [fake.name() for _ in range(N)]\n",
    "license = [str(random.choice([False, True])) for _ in range(N)]\n",
    "phones = [fake.phone_number() for _ in range(N)]\n",
    "\n",
    "pilot = [' '.join([name, licens, phone]) for name, licens, phone in zip(names, license, phones)]\n",
    "generated_data.append(pilot)"
   ]
  },
  {
   "cell_type": "code",
   "execution_count": 127,
   "metadata": {},
   "outputs": [
    {
     "data": {
      "text/plain": [
       "5"
      ]
     },
     "execution_count": 127,
     "metadata": {},
     "output_type": "execute_result"
    }
   ],
   "source": [
    "len(pilot.columns)"
   ]
  },
  {
   "cell_type": "code",
   "execution_count": 117,
   "metadata": {},
   "outputs": [],
   "source": [
    "import numpy as np"
   ]
  },
  {
   "cell_type": "code",
   "execution_count": 122,
   "metadata": {},
   "outputs": [],
   "source": [
    "v = [name.split()[::-1] for name in names]\n",
    "f = [n[0] for n in v]\n",
    "n = [_[1] for _ in v]\n",
    "m = [_[2] for _ in v]"
   ]
  },
  {
   "cell_type": "code",
   "execution_count": 125,
   "metadata": {},
   "outputs": [],
   "source": [
    "pilot = [\n",
    "    phones, f, n, m, license\n",
    "]\n",
    "pilot = pd.DataFrame(pilot).T\n",
    "pilot.columns = ['Номер телефона', 'Фамилия', 'Имя', 'Отчество', 'Лицензия']\n",
    "pilot.head().to_csv('pilot.csv', index=False)"
   ]
  },
  {
   "cell_type": "code",
   "execution_count": null,
   "metadata": {},
   "outputs": [],
   "source": []
  }
 ],
 "metadata": {
  "kernelspec": {
   "display_name": "Python 3 (ipykernel)",
   "language": "python",
   "name": "python3"
  },
  "language_info": {
   "codemirror_mode": {
    "name": "ipython",
    "version": 3
   },
   "file_extension": ".py",
   "mimetype": "text/x-python",
   "name": "python",
   "nbconvert_exporter": "python",
   "pygments_lexer": "ipython3",
   "version": "3.11.8"
  }
 },
 "nbformat": 4,
 "nbformat_minor": 2
}
