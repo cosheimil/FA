{
 "cells": [
  {
   "cell_type": "markdown",
   "metadata": {},
   "source": [
    "<big>ПМ23-1 Кульчак Александр</big>"
   ]
  },
  {
   "cell_type": "code",
   "execution_count": null,
   "metadata": {},
   "outputs": [],
   "source": [
    "import numpy as np\n",
    "def rrstr(x,n): # округление до n знаков после запятой\n",
    "    fmt = '{:.'+str(n)+'f}'\n",
    "    return fmt.format(x).replace('.',',')"
   ]
  },
  {
   "cell_type": "code",
   "execution_count": 9,
   "metadata": {},
   "outputs": [],
   "source": [
    "import numpy as np\n",
    "from scipy.stats import *"
   ]
  },
  {
   "cell_type": "markdown",
   "metadata": {},
   "source": [
    "1. События $A$, $B$ и $C$ имеют вероятности: $\\text{P}(A)=0,1$, $\\text{P}(B)=0,3$, $\\text{P}(C)=0,4$. \n",
    "Эти события попарно независимы, но все три одновременно наступить не могут.\n",
    "Пусть $X$ – индикатор $A$, $Y$ – индикатор $B$, $Z$ – индикатор $C$, а $U=2X+6Y+4Z$.\n",
    "Найдите:\n",
    "1) математическое ожидание $\\text{E}(U)$;\n",
    "2) дисперсию $\\text{V}\\!\\text{ar}(U)$.<br/>"
   ]
  },
  {
   "cell_type": "code",
   "execution_count": 3,
   "metadata": {},
   "outputs": [
    {
     "data": {
      "text/plain": [
       "3.5999999999999996"
      ]
     },
     "execution_count": 3,
     "metadata": {},
     "output_type": "execute_result"
    }
   ],
   "source": [
    "e_x = 0.1\n",
    "e_y = 0.3\n",
    "e_z = 0.4\n",
    "\n",
    "# v = 2x + 6y + 4z\n",
    "\n",
    "2 * e_x + 6 * e_y + 4 * e_z"
   ]
  },
  {
   "cell_type": "code",
   "execution_count": 7,
   "metadata": {},
   "outputs": [
    {
     "data": {
      "text/plain": [
       "24.72"
      ]
     },
     "execution_count": 7,
     "metadata": {},
     "output_type": "execute_result"
    }
   ],
   "source": [
    "e_u = 4 * e_x + 36 * e_y + 16 * e_z + 24 * e_x * e_y + 16 * e_x * e_z + 48 * e_y * e_z\n",
    "e_u"
   ]
  },
  {
   "cell_type": "code",
   "execution_count": 6,
   "metadata": {},
   "outputs": [
    {
     "data": {
      "text/plain": [
       "21.119999999999997"
      ]
     },
     "execution_count": 6,
     "metadata": {},
     "output_type": "execute_result"
    }
   ],
   "source": [
    "e_u - 3.6"
   ]
  },
  {
   "cell_type": "markdown",
   "metadata": {},
   "source": [
    "2. Внутри квадрата площади 100 расположены треугольник и круг.\n",
    "Площади этих фигур даны: треугольник – 44, круг – 42. Также известно, что\n",
    "площадь пересечения треугольника и круга равна 18. В квадрате случайным независимым образом\n",
    "выбираются точки $\\omega_1,...,\\omega_{4}$. Определим случайные величины:\n",
    "$X_i$ – индикатор попадания $\\omega_i$ в треугольник, $Y_i$ – индикатор попадания $\\omega_i$ в круг,\n",
    "$Z_i=X_i+Y_i$, $i=1,...,4$. Определим также сумму $U=Z_1+...+Z_{4}$ и произведение $V=Z_1 ... Z_{4}$.\n",
    "Найдите:\n",
    "1) математическое ожидание $\\text{E}(U)$;\n",
    "2) дисперсию $\\text{V}\\!\\text{ar}(U)$;\n",
    "3) математическое ожидание $\\text{E}(V)$;\n",
    "4) дисперсию $\\text{V}\\!\\text{ar}(V)$.<br/>"
   ]
  },
  {
   "cell_type": "code",
   "execution_count": 20,
   "metadata": {},
   "outputs": [
    {
     "data": {
      "text/plain": [
       "3.44"
      ]
     },
     "execution_count": 20,
     "metadata": {},
     "output_type": "execute_result"
    }
   ],
   "source": [
    "zk = [0, 1, 2]\n",
    "pz = [0.32, 0.5, 0.18]\n",
    "\n",
    "Z = rv_discrete(name='Z', values=(zk, pz))\n",
    " \n",
    "4 * Z.expect()\n"
   ]
  },
  {
   "cell_type": "code",
   "execution_count": 21,
   "metadata": {},
   "outputs": [
    {
     "data": {
      "text/plain": [
       "1.9216000000000002"
      ]
     },
     "execution_count": 21,
     "metadata": {},
     "output_type": "execute_result"
    }
   ],
   "source": [
    "4 * Z.var()"
   ]
  },
  {
   "cell_type": "markdown",
   "metadata": {},
   "source": [
    "3. Игрок начал игру с капиталом 13000 рублей. Известно, что в каждой партии\n",
    "вероятность выигрыша $400$ рублей равна $0,5$; вероятность проигрыша $500$ рублей равна $0,4$; \n",
    "а вероятность выигрыша $6$ рублей равна $0,1$. Пусть K – капитал игрока после $4$ партий. \n",
    "Найдите: 1) математическое ожидание капитала К; 2) стандартное отклонение К.<br/>"
   ]
  },
  {
   "cell_type": "code",
   "execution_count": 12,
   "metadata": {},
   "outputs": [
    {
     "data": {
      "text/plain": [
       "13002.4"
      ]
     },
     "execution_count": 12,
     "metadata": {},
     "output_type": "execute_result"
    }
   ],
   "source": [
    "s = 13_000\n",
    "x_values = [400, -500, 6]\n",
    "x_probabilities = [0.5, 0.4, 0.1]\n",
    "\n",
    "X_raspr = rv_discrete(values=(x_values, x_probabilities))\n",
    "\n",
    "ex = X_raspr.expect()\n",
    "s + 4 * ex"
   ]
  },
  {
   "cell_type": "code",
   "execution_count": 17,
   "metadata": {},
   "outputs": [
    {
     "data": {
      "text/plain": [
       "848.5357741427288"
      ]
     },
     "execution_count": 17,
     "metadata": {},
     "output_type": "execute_result"
    }
   ],
   "source": [
    "(4 * X_raspr.var()) ** 0.5"
   ]
  },
  {
   "cell_type": "markdown",
   "metadata": {},
   "source": [
    "4. Корзина содержит 47 шаров, на которых изображены цифры: $1$, $4$ и $5$. \n",
    "Известно, что всего имеется  20 шаров с $1$, 14 шаров с $4$ и 13 шаров с $5$.\n",
    "Из корзины без возвращения извлекаются 20 шаров. \n",
    "Цифру на первом извлеченном шаре обозначим $X_1$, на втором – $X_2$, на третьем – $X_3$, ... \n",
    "Пусть $S=X_1+...+X_{20}$. Найдите:\n",
    "1) мат. ожидание $\\text{E}(S)$;\n",
    "2) дисперсию $\\text{V}\\!\\text{ar}(S)$.<br/>"
   ]
  },
  {
   "cell_type": "code",
   "execution_count": null,
   "metadata": {},
   "outputs": [],
   "source": []
  },
  {
   "cell_type": "markdown",
   "metadata": {},
   "source": [
    "5. Ожидаемая доходность и стандартное отклонение доходности за период для акций компаний А,\n",
    "В, С составляют $2$%, $2$%, $4$% и $4$%, $4$%, $7$%, соответственно. \n",
    "1) Предполагая независимость доходностей акций А, В и С, найдите (в %) ожидаемую доходность \n",
    "портфеля, составленного из этих акций так, чтобы дисперсия его доходности была минимальной.<br/>"
   ]
  },
  {
   "cell_type": "code",
   "execution_count": null,
   "metadata": {},
   "outputs": [],
   "source": []
  }
 ],
 "metadata": {
  "kernelspec": {
   "display_name": "Python 3 (ipykernel)",
   "language": "python",
   "name": "python3"
  },
  "language_info": {
   "codemirror_mode": {
    "name": "ipython",
    "version": 3
   },
   "file_extension": ".py",
   "mimetype": "text/x-python",
   "name": "python",
   "nbconvert_exporter": "python",
   "pygments_lexer": "ipython3",
   "version": "3.11.5"
  }
 },
 "nbformat": 4,
 "nbformat_minor": 4
}
