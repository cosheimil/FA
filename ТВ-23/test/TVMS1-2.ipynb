{
 "cells": [
  {
   "cell_type": "markdown",
   "metadata": {},
   "source": [
    "<big>ПМ23-1 Штыркова Мария</big>"
   ]
  },
  {
   "cell_type": "code",
   "execution_count": 2,
   "metadata": {},
   "outputs": [],
   "source": [
    "import numpy as np\n",
    "from scipy.stats import *\n",
    "def rrstr(x,n): # округление до n знаков после запятой\n",
    "    fmt = '{:.'+str(n)+'f}'\n",
    "    return fmt.format(x).replace('.',',')"
   ]
  },
  {
   "cell_type": "markdown",
   "metadata": {},
   "source": [
    "1. Случайная величина $X$ с равной вероятностью принимает все целые значения от 1 до 128.\n",
    "Пусть $Y=|X-8,5|$. Найдите:\n",
    "1) наименьшее число $\\text{Q1Min}$, для которого $\\text{P}(Y \\le \\text{Q1Min}) \\ge 0,25$;\n",
    "2) наибольшее число $\\text{Q1Max}$, для которого $\\text{P}(Y \\ge \\text{Q1Max}) \\ge 0,75$;\n",
    "3) наименьшее число $\\text{Q3Min}$, для которого $\\text{P}(Y \\le \\text{Q3Min}) \\ge 0,75$;\n",
    "4) наибольшее число $\\text{Q3Max}$, для которого $\\text{P}(Y \\ge \\text{Q3Max}) \\ge 0,25$.<br/>"
   ]
  },
  {
   "cell_type": "code",
   "execution_count": 15,
   "metadata": {},
   "outputs": [
    {
     "name": "stdout",
     "output_type": "stream",
     "text": [
      "23.5\n"
     ]
    }
   ],
   "source": [
    "x = [x for x in range(1, 129)]\n",
    "\n",
    "y_probs= dict()\n",
    "\n",
    "for i in x:\n",
    "    y_value = abs(i - 8.5)\n",
    "    if y_value in y_probs:\n",
    "        y_probs[y_value] += 1/128\n",
    "    else:\n",
    "        y_probs[y_value] = 1/128\n",
    "\n",
    "yk = list(y_probs.keys())\n",
    "py = list(y_probs.values())\n",
    "\n",
    "Y = rv_discrete(name='Y', values=(yk, py))\n",
    "for y in sorted(yk):\n",
    "    if Y.cdf(y) >= 0.25:\n",
    "        print(y)\n",
    "        break"
   ]
  },
  {
   "cell_type": "code",
   "execution_count": 16,
   "metadata": {},
   "outputs": [
    {
     "name": "stdout",
     "output_type": "stream",
     "text": [
      "87.5\n"
     ]
    }
   ],
   "source": [
    "\n",
    "Y = rv_discrete(name='Y', values=(yk, py))\n",
    "for y in sorted(yk):\n",
    "    if Y.cdf(y) >= 0.75:\n",
    "        print(y)\n",
    "        break"
   ]
  },
  {
   "cell_type": "code",
   "execution_count": 18,
   "metadata": {},
   "outputs": [
    {
     "data": {
      "text/plain": [
       "{7.5: 0.890625,\n",
       " 6.5: 0.90625,\n",
       " 5.5: 0.921875,\n",
       " 4.5: 0.9375,\n",
       " 3.5: 0.953125,\n",
       " 2.5: 0.96875,\n",
       " 1.5: 0.984375,\n",
       " 0.5: 1.0,\n",
       " 8.5: 0.875,\n",
       " 9.5: 0.8671875,\n",
       " 10.5: 0.859375,\n",
       " 11.5: 0.8515625,\n",
       " 12.5: 0.84375,\n",
       " 13.5: 0.8359375,\n",
       " 14.5: 0.828125,\n",
       " 15.5: 0.8203125,\n",
       " 16.5: 0.8125,\n",
       " 17.5: 0.8046875,\n",
       " 18.5: 0.796875,\n",
       " 19.5: 0.7890625,\n",
       " 20.5: 0.78125,\n",
       " 21.5: 0.7734375,\n",
       " 22.5: 0.765625,\n",
       " 23.5: 0.7578125,\n",
       " 24.5: 0.75,\n",
       " 25.5: 0.7421875,\n",
       " 26.5: 0.734375,\n",
       " 27.5: 0.7265625,\n",
       " 28.5: 0.71875,\n",
       " 29.5: 0.7109375,\n",
       " 30.5: 0.703125,\n",
       " 31.5: 0.6953125,\n",
       " 32.5: 0.6875,\n",
       " 33.5: 0.6796875,\n",
       " 34.5: 0.671875,\n",
       " 35.5: 0.6640625,\n",
       " 36.5: 0.65625,\n",
       " 37.5: 0.6484375,\n",
       " 38.5: 0.640625,\n",
       " 39.5: 0.6328125,\n",
       " 40.5: 0.625,\n",
       " 41.5: 0.6171875,\n",
       " 42.5: 0.609375,\n",
       " 43.5: 0.6015625,\n",
       " 44.5: 0.59375,\n",
       " 45.5: 0.5859375,\n",
       " 46.5: 0.578125,\n",
       " 47.5: 0.5703125,\n",
       " 48.5: 0.5625,\n",
       " 49.5: 0.5546875,\n",
       " 50.5: 0.546875,\n",
       " 51.5: 0.5390625,\n",
       " 52.5: 0.53125,\n",
       " 53.5: 0.5234375,\n",
       " 54.5: 0.515625,\n",
       " 55.5: 0.5078125,\n",
       " 56.5: 0.5,\n",
       " 57.5: 0.4921875,\n",
       " 58.5: 0.484375,\n",
       " 59.5: 0.4765625,\n",
       " 60.5: 0.46875,\n",
       " 61.5: 0.4609375,\n",
       " 62.5: 0.453125,\n",
       " 63.5: 0.4453125,\n",
       " 64.5: 0.4375,\n",
       " 65.5: 0.4296875,\n",
       " 66.5: 0.421875,\n",
       " 67.5: 0.4140625,\n",
       " 68.5: 0.40625,\n",
       " 69.5: 0.3984375,\n",
       " 70.5: 0.390625,\n",
       " 71.5: 0.3828125,\n",
       " 72.5: 0.375,\n",
       " 73.5: 0.3671875,\n",
       " 74.5: 0.359375,\n",
       " 75.5: 0.3515625,\n",
       " 76.5: 0.34375,\n",
       " 77.5: 0.3359375,\n",
       " 78.5: 0.328125,\n",
       " 79.5: 0.3203125,\n",
       " 80.5: 0.3125,\n",
       " 81.5: 0.3046875,\n",
       " 82.5: 0.296875,\n",
       " 83.5: 0.2890625,\n",
       " 84.5: 0.28125,\n",
       " 85.5: 0.2734375,\n",
       " 86.5: 0.265625,\n",
       " 87.5: 0.2578125,\n",
       " 88.5: 0.25,\n",
       " 89.5: 0.2421875,\n",
       " 90.5: 0.234375,\n",
       " 91.5: 0.2265625,\n",
       " 92.5: 0.21875,\n",
       " 93.5: 0.2109375,\n",
       " 94.5: 0.203125,\n",
       " 95.5: 0.1953125,\n",
       " 96.5: 0.1875,\n",
       " 97.5: 0.1796875,\n",
       " 98.5: 0.171875,\n",
       " 99.5: 0.1640625,\n",
       " 100.5: 0.15625,\n",
       " 101.5: 0.1484375,\n",
       " 102.5: 0.140625,\n",
       " 103.5: 0.1328125,\n",
       " 104.5: 0.125,\n",
       " 105.5: 0.1171875,\n",
       " 106.5: 0.109375,\n",
       " 107.5: 0.1015625,\n",
       " 108.5: 0.09375,\n",
       " 109.5: 0.0859375,\n",
       " 110.5: 0.078125,\n",
       " 111.5: 0.0703125,\n",
       " 112.5: 0.0625,\n",
       " 113.5: 0.0546875,\n",
       " 114.5: 0.046875,\n",
       " 115.5: 0.0390625,\n",
       " 116.5: 0.03125,\n",
       " 117.5: 0.0234375,\n",
       " 118.5: 0.015625,\n",
       " 119.5: 0.0078125}"
      ]
     },
     "execution_count": 18,
     "metadata": {},
     "output_type": "execute_result"
    }
   ],
   "source": [
    "probs = {x:0 for x in yk}\n",
    "\n",
    "yk = sorted(yk, reverse=True)\n",
    "for y in yk:\n",
    "    prob = 0\n",
    "    for j in yk:\n",
    "        if j >= y:\n",
    "            prob += Y.pmf(j)\n",
    "        else:\n",
    "            break\n",
    "    probs[y] = prob\n",
    "    \n",
    "probs"
   ]
  },
  {
   "cell_type": "markdown",
   "metadata": {},
   "source": [
    "2. Внутри квадрата площади 100 расположены треугольник и круг.\n",
    "Площади этих фигур даны: треугольник – 44, круг – 60. Также известно, что\n",
    "площадь пересечения треугольника и круга равна 23. В квадрате случайным независимым образом\n",
    "выбираются точки $\\omega_1,...,\\omega_{5}$. Определим случайные величины:\n",
    "$X_i$ – индикатор попадания $\\omega_i$ в треугольник, $Y_i$ – индикатор попадания $\\omega_i$ в круг,\n",
    "$Z_i=X_i+Y_i$, $i=1,...,5$. Определим также сумму $U=Z_1+...+Z_{5}$ и произведение $V=Z_1 ... Z_{5}$.\n",
    "Найдите:\n",
    "1) математическое ожидание $\\text{E}(U)$;\n",
    "2) дисперсию $\\text{V}\\!\\text{ar}(U)$;\n",
    "3) математическое ожидание $\\text{E}(V)$;\n",
    "4) дисперсию $\\text{V}\\!\\text{ar}(V)$.<br/>"
   ]
  },
  {
   "cell_type": "code",
   "execution_count": 3,
   "metadata": {},
   "outputs": [
    {
     "data": {
      "text/plain": [
       "5.2"
      ]
     },
     "execution_count": 3,
     "metadata": {},
     "output_type": "execute_result"
    }
   ],
   "source": [
    "zk = [0, 1, 2]\n",
    "pz = [0.19, 0.58, 0.23]\n",
    "\n",
    "Z = rv_discrete(name='Z', values=(zk, pz))\n",
    " \n",
    "5 * Z.expect()"
   ]
  },
  {
   "cell_type": "code",
   "execution_count": 5,
   "metadata": {},
   "outputs": [
    {
     "data": {
      "text/plain": [
       "2.0919999999999996"
      ]
     },
     "execution_count": 5,
     "metadata": {},
     "output_type": "execute_result"
    }
   ],
   "source": [
    "5 * Z.var()"
   ]
  },
  {
   "cell_type": "code",
   "execution_count": 14,
   "metadata": {},
   "outputs": [
    {
     "data": {
      "text/plain": [
       "(1.2150629999999998, 6.858997906031)"
      ]
     },
     "execution_count": 14,
     "metadata": {},
     "output_type": "execute_result"
    }
   ],
   "source": [
    "x = rv_discrete(name='x', values=([0, 1], [56/100, 44/100]))\n",
    "y = rv_discrete(name='y', values=([0, 1], [40/100, 60/100]))\n",
    "\n",
    "x_v = np.array([x.rvs(size=2_000_000) for _ in range(5)])\n",
    "y_v = np.array([y.rvs(size=2_000_000) for _ in range(5)])\n",
    "\n",
    "l = np.prod(x_v + y_v, axis=0)\n",
    "\n",
    "zk = [0, 1, 2, 4, 8, 16, 32]\n",
    "pz = [l[l == i].size / 2_000_000 for i in zk]\n",
    "\n",
    "Z = rv_discrete(name='Z', values=(zk, pz))\n",
    "\n",
    "Z.expect(), Z.var() - 5 * 23/100"
   ]
  },
  {
   "cell_type": "code",
   "execution_count": 9,
   "metadata": {},
   "outputs": [
    {
     "data": {
      "text/plain": [
       "1.2166529024000001"
      ]
     },
     "execution_count": 9,
     "metadata": {},
     "output_type": "execute_result"
    }
   ],
   "source": [
    "E_Zi = (104/100) ** 5\n",
    "E_Zi"
   ]
  },
  {
   "cell_type": "code",
   "execution_count": 10,
   "metadata": {},
   "outputs": [
    {
     "data": {
      "text/plain": [
       "6.113505715081656"
      ]
     },
     "execution_count": 10,
     "metadata": {},
     "output_type": "execute_result"
    }
   ],
   "source": [
    "E_Zi2 = 44/100 + 60/100 + 2 * 23/100\n",
    "Var = E_Zi2 ** 5 - E_Zi ** 2\n",
    "Var"
   ]
  },
  {
   "cell_type": "markdown",
   "metadata": {},
   "source": [
    "3. Вероятность повышения цены акции (от закрытия торгов в предыдущий рабочий день до текущего закрытия)\n",
    "на $4$% равна $0,5$; вероятность повышения на $0,3$% равна $0,1$;\n",
    "а вероятность понижения на $5$% равна $0,4$. Пусть $S_{190}$ – цена акции после 190 рабочих дней.\n",
    "Предполагая, что начальная цена акции составляет $S_0=1000$ рублей, а относительные изменения цены за различные \n",
    "рабочие дни (от закрытия до закрытия) – независимые случайные величины,  найдите: \n",
    "1) математическое ожидание цены $S_{190}$; 2) стандартное отклонение цены $S_{190}$.<br/>"
   ]
  },
  {
   "cell_type": "code",
   "execution_count": 19,
   "metadata": {},
   "outputs": [
    {
     "data": {
      "text/plain": [
       "1058.6467607368884"
      ]
     },
     "execution_count": 19,
     "metadata": {},
     "output_type": "execute_result"
    }
   ],
   "source": [
    "xk = [1.04, 1.003, 0.95]\n",
    "px = [0.5, 0.1, 0.4]\n",
    "\n",
    "X = rv_discrete(values=(xk, px))\n",
    "\n",
    "1000 * X.expect() ** 190"
   ]
  },
  {
   "cell_type": "code",
   "execution_count": 20,
   "metadata": {},
   "outputs": [
    {
     "data": {
      "text/plain": [
       "42.435951739064464"
      ]
     },
     "execution_count": 20,
     "metadata": {},
     "output_type": "execute_result"
    }
   ],
   "source": [
    "X.std() * 1000"
   ]
  },
  {
   "cell_type": "markdown",
   "metadata": {},
   "source": [
    "4.  Корзина содержит $35$ пронумерованных шаров $1;2;\\ldots;35$. Из корзины без возвращения извлекаются \n",
    "$21\\leqslant 35$ шаров. Пусть $S$ обозначает сумму номеров вынутых шаров. \n",
    "1) Найдите математическое ожидание $\\text{E}(S)$.\n",
    "2) Найдите дисперсию $\\text{V}\\!\\text{ar}(S)$.<br/>"
   ]
  },
  {
   "cell_type": "code",
   "execution_count": 21,
   "metadata": {},
   "outputs": [
    {
     "data": {
      "text/plain": [
       "18.0"
      ]
     },
     "execution_count": 21,
     "metadata": {},
     "output_type": "execute_result"
    }
   ],
   "source": [
    "(1/35) * 35 * (36/2)"
   ]
  },
  {
   "cell_type": "code",
   "execution_count": 22,
   "metadata": {},
   "outputs": [
    {
     "data": {
      "text/plain": [
       "378"
      ]
     },
     "execution_count": 22,
     "metadata": {},
     "output_type": "execute_result"
    }
   ],
   "source": [
    "18 * 21"
   ]
  },
  {
   "cell_type": "markdown",
   "metadata": {},
   "source": [
    "5. Ожидаемая доходность и стандартное отклонение доходности за период для акций компаний А,\n",
    "В, С составляют $1$%, $3$%, $3$% и $3$%, $6$%, $6$%, соответственно. \n",
    "1) Предполагая независимость доходностей акций А, В и С, найдите (в %) ожидаемую доходность \n",
    "портфеля, составленного из этих акций так, чтобы дисперсия его доходности была минимальной.<br/>"
   ]
  },
  {
   "cell_type": "markdown",
   "metadata": {},
   "source": [
    "## Аналитика\n",
    "\n",
    "Пусть $R_A, R_B, R_C$ - доходность акций,  \n",
    "$\\mu(R_A) = 0.01, \\mu(R_B) = 0.03, \\mu(R_C) = 0.03$, $\\mu(R) = \\mathbb E(R)$  \n",
    "$\\sigma_A = 0.03, \\sigma_B = 0.06, \\sigma_C = 0.06$  \n",
    "Общая доходность: $R_{\\pi} = a R_A + b R_B + c R_C$, где $a, b, c$ - сколько акций купим, Составим систему:  \n",
    "$$\n",
    "\\begin{cases}\n",
    "Var(R_\\pi) \\rightarrow min \\\\\n",
    "a + b + c = 1\n",
    "\\end{cases}\n",
    "$$\n",
    "\n",
    "$c = 1 - a - b\\\\$\n",
    "\n",
    "$Var(R_\\pi) = Var(a R_A + b R_B + c R_C) = a^2 Var(R_A) + b^2 Var(R_B) + (1-a-b)^2 Var(R_C)$, тк события независимы  \n",
    "\n",
    "$$\n",
    "\\begin{cases}\n",
    "2 a \\cdot 0.0009 - 2 (1 - a - b) \\cdot 0.0036 = 0 \\\\\n",
    "2 b \\cdot 0.0036 - 2 (1 - a - b) \\cdot 0.0036 = 0 \\\\\n",
    "\\end{cases}\n",
    "\\Rightarrow\n",
    "\\begin{cases}\n",
    "a = \\frac{2}{3} \\\\\n",
    "b = \\frac{1}{6} \\\\\n",
    "c = \\frac{1}{6}\n",
    "\\end{cases}\n",
    "$$\n",
    "\n",
    "$\\mathbb E(R_\\pi) = \\mathbb E(\\frac{2}{3} R_A + \\frac{1}{6} R_B + \\frac{1}{6} c R_C) = \\frac{2}{3} \\cdot 0.01 + \\frac{1}{6} \\cdot 0.03 + \\frac{1}{6} \\cdot 0.03 \\approx 0.01616 = 1,616 \\%$"
   ]
  },
  {
   "cell_type": "code",
   "execution_count": null,
   "metadata": {},
   "outputs": [],
   "source": []
  }
 ],
 "metadata": {
  "kernelspec": {
   "display_name": "Python 3 (ipykernel)",
   "language": "python",
   "name": "python3"
  }
 },
 "nbformat": 4,
 "nbformat_minor": 4
}
