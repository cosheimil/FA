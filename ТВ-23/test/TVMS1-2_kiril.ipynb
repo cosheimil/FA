{
 "cells": [
  {
   "cell_type": "markdown",
   "metadata": {},
   "source": [
    "<big>ПМ23-1 Эткаленко Кирилл</big>"
   ]
  },
  {
   "cell_type": "code",
   "execution_count": null,
   "metadata": {},
   "outputs": [],
   "source": [
    "import numpy as np\n",
    "def rrstr(x,n): # округление до n знаков после запятой\n",
    "    fmt = '{:.'+str(n)+'f}'\n",
    "    return fmt.format(x).replace('.',',')"
   ]
  },
  {
   "cell_type": "code",
   "execution_count": 2,
   "metadata": {},
   "outputs": [],
   "source": [
    "import numpy as np\n",
    "from scipy.stats import *\n",
    "from itertools import product"
   ]
  },
  {
   "cell_type": "markdown",
   "metadata": {},
   "source": [
    "1. Распределение случайной величины $X$ задано таблицей\n",
    "$$\\begin{array}{|c|c|c|c|c|c|} \n",
    "\\hline\n",
    "X & 2 & 4 & 5 & 7 & 10 \\\\ \n",
    "\\hline\n",
    "P & 0,3 & 0,4 & 0,1 & 0,1 & 0,1 \\\\ \n",
    "\\hline\n",
    "\\end{array}.$$ Пусть $Y$ – такая случайная величина, что $Y=|X-4|$.\n",
    "Найдите:\n",
    "1) математическое ожидание $\\text{E}(X)$;\n",
    "2) математическое ожидание $\\text{E}(Y)$;\n",
    "3) математическое ожидание $\\text{E}(XY)$;\n",
    "4) дисперсию $\\text{V}\\!\\text{ar}(X)$; \n",
    "5) дисперсию $\\text{V}\\!\\text{ar}(Y)$.<br/>"
   ]
  },
  {
   "cell_type": "code",
   "execution_count": 13,
   "metadata": {},
   "outputs": [
    {
     "data": {
      "text/plain": [
       "4.4"
      ]
     },
     "execution_count": 13,
     "metadata": {},
     "output_type": "execute_result"
    }
   ],
   "source": [
    "xk = [2, 4, 5, 7, 10]\n",
    "px = [0.3, 0.4, 0.1, 0.1, 0.1]\n",
    "\n",
    "X = rv_discrete(name='X', values=(xk, px))\n",
    "X.expect()"
   ]
  },
  {
   "cell_type": "code",
   "execution_count": 14,
   "metadata": {},
   "outputs": [
    {
     "data": {
      "text/plain": [
       "5.639999999999997"
      ]
     },
     "execution_count": 14,
     "metadata": {},
     "output_type": "execute_result"
    }
   ],
   "source": [
    "X.var()"
   ]
  },
  {
   "cell_type": "code",
   "execution_count": 15,
   "metadata": {},
   "outputs": [
    {
     "data": {
      "text/plain": [
       "1.6"
      ]
     },
     "execution_count": 15,
     "metadata": {},
     "output_type": "execute_result"
    }
   ],
   "source": [
    "yk = [0, 1, 2, 3, 6]\n",
    "py = [0.4, 0.1, 0.3, 0.1, 0.1]\n",
    "\n",
    "Y = rv_discrete(name='Y', values=(yk, py))\n",
    "Y.expect()"
   ]
  },
  {
   "cell_type": "code",
   "execution_count": 16,
   "metadata": {},
   "outputs": [
    {
     "data": {
      "text/plain": [
       "3.24"
      ]
     },
     "execution_count": 16,
     "metadata": {},
     "output_type": "execute_result"
    }
   ],
   "source": [
    "Y.var()"
   ]
  },
  {
   "cell_type": "code",
   "execution_count": 18,
   "metadata": {},
   "outputs": [
    {
     "data": {
      "text/plain": [
       "6.0"
      ]
     },
     "execution_count": 18,
     "metadata": {},
     "output_type": "execute_result"
    }
   ],
   "source": [
    "sums = {}\n",
    "from itertools import product\n",
    "\n",
    "for x, y in product(xk, yk, repeat=1):\n",
    "    if x + y in sums:\n",
    "        sums[x+y] += X.pmf(x) * Y.pmf(y)\n",
    "    else:\n",
    "        sums[x+y] = X.pmf(x) * Y.pmf(y)\n",
    "        \n",
    "xyk = list(sums.keys())\n",
    "pxy = list(sums.values())\n",
    "\n",
    "XY = rv_discrete(name='XY', values=(xyk, pxy))\n",
    "XY.expect()"
   ]
  },
  {
   "cell_type": "markdown",
   "metadata": {},
   "source": [
    "2. Внутри квадрата площади 100 расположены треугольник и круг.\n",
    "Площади этих фигур даны: треугольник – 49, круг – 40. Также известно, что\n",
    "площадь пересечения треугольника и круга равна 20. В квадрате случайным независимым образом\n",
    "выбираются точки $\\omega_1,...,\\omega_{5}$. Определим случайные величины:\n",
    "$X_i$ – индикатор попадания $\\omega_i$ в треугольник, $Y_i$ – индикатор попадания $\\omega_i$ в круг,\n",
    "$Z_i=X_i+Y_i$, $i=1,...,5$. Определим также сумму $U=Z_1+...+Z_{5}$ и произведение $V=Z_1 ... Z_{5}$.\n",
    "Найдите:\n",
    "1) математическое ожидание $\\text{E}(U)$;\n",
    "2) дисперсию $\\text{V}\\!\\text{ar}(U)$;\n",
    "3) математическое ожидание $\\text{E}(V)$;\n",
    "4) дисперсию $\\text{V}\\!\\text{ar}(V)$.<br/>"
   ]
  },
  {
   "cell_type": "code",
   "execution_count": 3,
   "metadata": {},
   "outputs": [
    {
     "data": {
      "text/plain": [
       "4.45"
      ]
     },
     "execution_count": 3,
     "metadata": {},
     "output_type": "execute_result"
    }
   ],
   "source": [
    "zk = [0, 1, 2]\n",
    "pz = [0.31, 0.49, 0.20]\n",
    "\n",
    "Z = rv_discrete(name='Z', values=(zk, pz))\n",
    " \n",
    "5 * Z.expect()"
   ]
  },
  {
   "cell_type": "code",
   "execution_count": 4,
   "metadata": {},
   "outputs": [
    {
     "data": {
      "text/plain": [
       "2.4895"
      ]
     },
     "execution_count": 4,
     "metadata": {},
     "output_type": "execute_result"
    }
   ],
   "source": [
    "Z.var() * 5"
   ]
  },
  {
   "cell_type": "code",
   "execution_count": 3,
   "metadata": {},
   "outputs": [
    {
     "data": {
      "text/plain": [
       "(0.5546233333333334, 3.1181402914555556)"
      ]
     },
     "execution_count": 3,
     "metadata": {},
     "output_type": "execute_result"
    }
   ],
   "source": [
    "x = rv_discrete(name='x', values=([0, 1], [51/100, 49/100]))\n",
    "y = rv_discrete(name='y', values=([0, 1], [60/100, 40/100]))\n",
    "\n",
    "x_v = np.array([x.rvs(size=1_500_000) for _ in range(5)])\n",
    "y_v = np.array([y.rvs(size=1_500_000) for _ in range(5)])\n",
    "\n",
    "l = np.prod(x_v + y_v, axis=0)\n",
    "\n",
    "zk = [0, 1, 2, 4, 8, 16, 32]\n",
    "pz = [l[l == i].size / 1_500_000 for i in zk]\n",
    "\n",
    "Z = rv_discrete(name='Z', values=(zk, pz))\n",
    "\n",
    "Z.expect(), Z.var()"
   ]
  },
  {
   "cell_type": "code",
   "execution_count": 6,
   "metadata": {},
   "outputs": [],
   "source": [
    "E_Zi = (89/100) ** 5"
   ]
  },
  {
   "cell_type": "code",
   "execution_count": 7,
   "metadata": {},
   "outputs": [
    {
     "data": {
      "text/plain": [
       "3.2604879656003387"
      ]
     },
     "execution_count": 7,
     "metadata": {},
     "output_type": "execute_result"
    }
   ],
   "source": [
    "E_Zi2 = 40/100 + 49/100 + 2 * 20/100\n",
    "Var = E_Zi2 ** 5 - E_Zi ** 2\n",
    "Var"
   ]
  },
  {
   "cell_type": "markdown",
   "metadata": {},
   "source": [
    "3. Доход по типовому контракту (в млн. рублей) описывается дискретной случайной величиной $X$\n",
    "c распределением\n",
    "$$\\begin{array}{|c|c|c|c|c|} \n",
    "\\hline\n",
    "X & 6 & 8 & 11 & 15 & 19 \\\\ \n",
    "\\hline\n",
    "P & 0,3 & ? & 0,1 & 0,3 & 0,1 \\\\  \n",
    "\\hline\n",
    "\\end{array}.$$\n",
    "Фирма заключила $10$ типовых контрактов.\n",
    "Найдите: 1) мат. ожидание и 2) дисперсию среднего арифметического дохода по этим $10$ контрактам, считая\n",
    "доходы независимыми между собой.<br/>"
   ]
  },
  {
   "cell_type": "code",
   "execution_count": 19,
   "metadata": {},
   "outputs": [
    {
     "name": "stdout",
     "output_type": "stream",
     "text": [
      "10.9\n",
      "2.049000000000001\n"
     ]
    }
   ],
   "source": [
    "xk = [6, 8, 11, 15, 19]\n",
    "px = [0.3, 0.2, 0.1, 0.3, 0.1]\n",
    "\n",
    "x = rv_discrete(name='X', values=(xk, px))\n",
    "\n",
    "print(x.expect())\n",
    "print(x.var() / 10)"
   ]
  },
  {
   "cell_type": "markdown",
   "metadata": {},
   "source": [
    "4.  Корзина содержит $43$ пронумерованных шаров $1;2;\\ldots;43$. Из корзины без возвращения извлекаются \n",
    "$30\\leqslant 43$ шаров. Пусть $S$ обозначает сумму номеров вынутых шаров. \n",
    "1) Найдите математическое ожидание $\\text{E}(S)$.\n",
    "2) Найдите дисперсию $\\text{V}\\!\\text{ar}(S)$.<br/>"
   ]
  },
  {
   "cell_type": "code",
   "execution_count": 22,
   "metadata": {},
   "outputs": [
    {
     "data": {
      "text/plain": [
       "660.0"
      ]
     },
     "execution_count": 22,
     "metadata": {},
     "output_type": "execute_result"
    }
   ],
   "source": [
    "1/43 * 44/2 * 43 * 30"
   ]
  },
  {
   "cell_type": "markdown",
   "metadata": {},
   "source": [
    "5. Ожидаемая доходность и стандартное отклонение доходности за период для акций компаний А,\n",
    "В, С составляют $2$%, $2$%, $4$% и $3$%, $4$%, $6$%, соответственно. \n",
    "1) Предполагая независимость доходностей акций А, В и С, найдите (в %) ожидаемую доходность \n",
    "портфеля, составленного из этих акций так, чтобы дисперсия его доходности была минимальной.<br/>"
   ]
  },
  {
   "cell_type": "markdown",
   "metadata": {},
   "source": [
    "## Аналитика\n",
    "\n",
    "Пусть $R_A, R_B, R_C$ - доходность акций,  \n",
    "$\\mu(R_A) = 0.02, \\mu(R_B) = 0.02, \\mu(R_C) = 0.04$, $\\mu(R) = \\mathbb E(R)$  \n",
    "$\\sigma_A = 0.03, \\sigma_B = 0.04, \\sigma_C = 0.06$  \n",
    "Общая доходность: $R_{\\pi} = \\alpha R_A + \\beta R_B + \\gamma R_C$, где $\\alpha, \\beta, \\gamma$ - сколько акций купим, Составим систему:  \n",
    "$$\n",
    "\\begin{cases}\n",
    "Var(R_\\pi) \\rightarrow min \\\\\n",
    "\\alpha + \\beta + \\gamma = 1\n",
    "\\end{cases}\n",
    "$$\n",
    "\n",
    "$\\gamma = 1 - \\alpha - \\beta\\\\$\n",
    "\n",
    "$Var(R_\\pi) = Var(\\alpha R_A + \\beta R_B + \\gamma R_C) = \\alpha^2 Var(R_A) + \\beta^2 Var(R_B) + (1-\\alpha-\\beta)^2 Var(R_C)$, тк события независимы  \n",
    "\n",
    "$\\langle \\frac{\\partial R_\\pi}{\\partial \\alpha}; \\frac{\\partial R_\\pi}{\\partial \\beta}; \\rangle = 0 \\Rightarrow \\langle 2 \\alpha Var(R_A) - 2(1-\\alpha - \\beta)Var(R_C); 2 \\beta Var(R_B) - 2(1-\\alpha - \\beta)Var(R_C) \\rangle = 0\\\\$\n",
    "\n",
    "$$\n",
    "\\begin{cases}\n",
    "2 \\alpha \\cdot 0.0009 - 2 (1 - \\alpha - \\beta) \\cdot 0.0036 = 0 \\\\\n",
    "2 \\beta \\cdot 0.0016 - 2 (1 - \\alpha - \\beta) \\cdot 0.0036 = 0 \\\\\n",
    "\\end{cases}\n",
    "\\Rightarrow\n",
    "\\begin{cases}\n",
    "\\alpha = \\frac{16}{29} \\\\\n",
    "\\beta = \\frac{9}{29} \\\\\n",
    "\\gamma = \\frac{4}{29}\n",
    "\\end{cases}\n",
    "$$\n",
    "\n",
    "$\\mathbb E(R_\\pi) = \\mathbb E(\\frac{16}{29} R_A + \\frac{9}{29} R_B + \\frac{4}{29} \\gamma R_C) = \\frac{16}{29} \\cdot 0.02 + \\frac{9}{29} \\cdot 0.02 + \\frac{4}{29} \\cdot 0.04 \\approx 0.0228 = 2,28 \\%$"
   ]
  },
  {
   "cell_type": "code",
   "execution_count": null,
   "metadata": {},
   "outputs": [],
   "source": []
  }
 ],
 "metadata": {
  "kernelspec": {
   "display_name": "Python 3 (ipykernel)",
   "language": "python",
   "name": "python3"
  },
  "language_info": {
   "codemirror_mode": {
    "name": "ipython",
    "version": 3
   },
   "file_extension": ".py",
   "mimetype": "text/x-python",
   "name": "python",
   "nbconvert_exporter": "python",
   "pygments_lexer": "ipython3",
   "version": "3.11.8"
  }
 },
 "nbformat": 4,
 "nbformat_minor": 4
}
