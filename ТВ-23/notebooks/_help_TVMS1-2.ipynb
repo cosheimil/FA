{
 "cells": [
  {
   "cell_type": "markdown",
   "metadata": {},
   "source": [
    "<big>ПМ23-1 Варвус Артем</big>"
   ]
  },
  {
   "cell_type": "code",
   "execution_count": 2,
   "metadata": {},
   "outputs": [],
   "source": [
    "import numpy as np\n",
    "from scipy.stats import *\n",
    "def rrstr(x,n): # округление до n знаков после запятой\n",
    "    fmt = '{:.'+str(n)+'f}'\n",
    "    return fmt.format(x).replace('.',',')"
   ]
  },
  {
   "cell_type": "markdown",
   "metadata": {},
   "source": [
    "1. События $A$, $B$ и $C$ имеют вероятности: $\\text{P}(A)=0,3$, $\\text{P}(B)=0,4$, $\\text{P}(C)=0,3$. \n",
    "Эти события попарно независимы, но все три одновременно наступить не могут.\n",
    "Пусть $X$ – индикатор $A$, $Y$ – индикатор $B$, $Z$ – индикатор $C$, а $V=5X+6Y+7Z$.\n",
    "Найдите:\n",
    "1) математическое ожидание $\\text{E}(V)$;\n",
    "2) дисперсию $\\text{V}\\!\\text{ar}(V)$.<br/>"
   ]
  },
  {
   "cell_type": "markdown",
   "metadata": {},
   "source": [
    "$ E[X] = 0.3; E[Y] = 0.4; E[Z] = 0.3 $\n",
    "\n",
    "$ V = 5X + 6Y + 7Z$\n",
    "\n",
    "$ E[V] = 5 \\cdot 0.3 + 6 \\cdot 0.4 + 7 \\cdot 0.3 = 6$\n",
    "\n",
    "$ Var(V) = E[V^2] - (E[V])^2$\n",
    "\n",
    "$ E[V^2] = E[25X^2 + 36Y^2 + 49Z^2 + 60XY + 70XZ + 84YZ]$\n",
    "тк события независимы:\n",
    "\n",
    "$ E[V^2] = 25E[X^2] + 36E[Y^2] + 49E[Z^2]+ 60 E[X] E[Y] + 70 E[X] E[Z] + 84 E[Y] E[Z]$\n",
    "\n",
    "$E[V^2] = 25 \\cdot 0.3 + 36 \\cdot 0.4 + 49 \\cdot 0.3 + 60 \\cdot 0.3 \\cdot 0.4 + 70 \\cdot 0.3 \\cdot 0.3 + 84 \\cdot 0.4 \\cdot 0.3$"
   ]
  },
  {
   "cell_type": "code",
   "execution_count": 3,
   "metadata": {},
   "outputs": [
    {
     "data": {
      "text/plain": [
       "6.0"
      ]
     },
     "execution_count": 3,
     "metadata": {},
     "output_type": "execute_result"
    }
   ],
   "source": [
    "5 * 0.3 + 6 * 0.4 + 7 * 0.3"
   ]
  },
  {
   "cell_type": "code",
   "execution_count": 4,
   "metadata": {},
   "outputs": [
    {
     "data": {
      "text/plain": [
       "24.179999999999993"
      ]
     },
     "execution_count": 4,
     "metadata": {},
     "output_type": "execute_result"
    }
   ],
   "source": [
    "e_v_sq = 25 * 0.3 + 36 * 0.4 + 49 * 0.3 + 60 * 0.3 * 0.4 + 70 * 0.3 * 0.3 + 84 * 0.4 * 0.3\n",
    "e_v_sq - 36"
   ]
  },
  {
   "cell_type": "code",
   "execution_count": 5,
   "metadata": {},
   "outputs": [
    {
     "data": {
      "text/plain": [
       "24.18"
      ]
     },
     "execution_count": 5,
     "metadata": {},
     "output_type": "execute_result"
    }
   ],
   "source": [
    "24.18"
   ]
  },
  {
   "cell_type": "markdown",
   "metadata": {},
   "source": [
    "2. Внутри квадрата площади 100 расположены треугольник и круг.\n",
    "Площади этих фигур даны: треугольник – 47, круг – 40. Также известно, что\n",
    "площадь пересечения треугольника и круга равна 13. В квадрате случайным независимым образом\n",
    "выбираются точки $\\omega_1,...,\\omega_{5}$. Определим случайные величины:\n",
    "$X_i$ – индикатор попадания $\\omega_i$ в треугольник, $Y_i$ – индикатор попадания $\\omega_i$ в круг,\n",
    "$Z_i=X_i+Y_i$, $i=1,...,5$. Определим также сумму $U=Z_1+...+Z_{5}$ и произведение $V=Z_1 ... Z_{5}$.\n",
    "Найдите:\n",
    "1) математическое ожидание $\\text{E}(U)$;\n",
    "2) дисперсию $\\text{V}\\!\\text{ar}(U)$;\n",
    "3) математическое ожидание $\\text{E}(V)$;\n",
    "4) дисперсию $\\text{V}\\!\\text{ar}(V)$.<br/>"
   ]
  },
  {
   "cell_type": "code",
   "execution_count": 6,
   "metadata": {},
   "outputs": [
    {
     "data": {
      "text/plain": [
       "4.35"
      ]
     },
     "execution_count": 6,
     "metadata": {},
     "output_type": "execute_result"
    }
   ],
   "source": [
    "zk = [0, 1, 2]\n",
    "pz = [0.26, 0.61, 0.13]\n",
    "\n",
    "Z = rv_discrete(name='Z', values=(zk, pz))\n",
    " \n",
    "5 * Z.expect()"
   ]
  },
  {
   "cell_type": "code",
   "execution_count": 7,
   "metadata": {},
   "outputs": [
    {
     "data": {
      "text/plain": [
       "1.8654999999999995"
      ]
     },
     "execution_count": 7,
     "metadata": {},
     "output_type": "execute_result"
    }
   ],
   "source": [
    "Z.var() * 5"
   ]
  },
  {
   "cell_type": "code",
   "execution_count": 8,
   "metadata": {},
   "outputs": [
    {
     "ename": "ValueError",
     "evalue": "The sum of provided pk is not 1.",
     "output_type": "error",
     "traceback": [
      "\u001b[0;31m---------------------------------------------------------------------------\u001b[0m",
      "\u001b[0;31mValueError\u001b[0m                                Traceback (most recent call last)",
      "Cell \u001b[0;32mIn[8], line 12\u001b[0m\n\u001b[1;32m      9\u001b[0m zk \u001b[38;5;241m=\u001b[39m [\u001b[38;5;241m0\u001b[39m, \u001b[38;5;241m1\u001b[39m, \u001b[38;5;241m2\u001b[39m, \u001b[38;5;241m4\u001b[39m, \u001b[38;5;241m8\u001b[39m, \u001b[38;5;241m16\u001b[39m, \u001b[38;5;241m32\u001b[39m]\n\u001b[1;32m     10\u001b[0m pz \u001b[38;5;241m=\u001b[39m [l[l \u001b[38;5;241m==\u001b[39m i]\u001b[38;5;241m.\u001b[39msize \u001b[38;5;241m/\u001b[39m \u001b[38;5;241m3_000_000\u001b[39m \u001b[38;5;28;01mfor\u001b[39;00m i \u001b[38;5;129;01min\u001b[39;00m zk]\n\u001b[0;32m---> 12\u001b[0m Z \u001b[38;5;241m=\u001b[39m \u001b[43mrv_discrete\u001b[49m\u001b[43m(\u001b[49m\u001b[43mname\u001b[49m\u001b[38;5;241;43m=\u001b[39;49m\u001b[38;5;124;43m'\u001b[39;49m\u001b[38;5;124;43mZ\u001b[39;49m\u001b[38;5;124;43m'\u001b[39;49m\u001b[43m,\u001b[49m\u001b[43m \u001b[49m\u001b[43mvalues\u001b[49m\u001b[38;5;241;43m=\u001b[39;49m\u001b[43m(\u001b[49m\u001b[43mzk\u001b[49m\u001b[43m,\u001b[49m\u001b[43m \u001b[49m\u001b[43mpz\u001b[49m\u001b[43m)\u001b[49m\u001b[43m)\u001b[49m\n\u001b[1;32m     14\u001b[0m Z\u001b[38;5;241m.\u001b[39mexpect(), Z\u001b[38;5;241m.\u001b[39mvar()\n",
      "File \u001b[0;32m~/FA/venv/lib/python3.11/site-packages/scipy/stats/_distn_infrastructure.py:3897\u001b[0m, in \u001b[0;36mrv_sample.__init__\u001b[0;34m(self, a, b, name, badvalue, moment_tol, values, inc, longname, shapes, seed)\u001b[0m\n\u001b[1;32m   3895\u001b[0m     \u001b[38;5;28;01mraise\u001b[39;00m \u001b[38;5;167;01mValueError\u001b[39;00m(\u001b[38;5;124m\"\u001b[39m\u001b[38;5;124mAll elements of pk must be non-negative.\u001b[39m\u001b[38;5;124m\"\u001b[39m)\n\u001b[1;32m   3896\u001b[0m \u001b[38;5;28;01mif\u001b[39;00m \u001b[38;5;129;01mnot\u001b[39;00m np\u001b[38;5;241m.\u001b[39mallclose(np\u001b[38;5;241m.\u001b[39msum(pk), \u001b[38;5;241m1\u001b[39m):\n\u001b[0;32m-> 3897\u001b[0m     \u001b[38;5;28;01mraise\u001b[39;00m \u001b[38;5;167;01mValueError\u001b[39;00m(\u001b[38;5;124m\"\u001b[39m\u001b[38;5;124mThe sum of provided pk is not 1.\u001b[39m\u001b[38;5;124m\"\u001b[39m)\n\u001b[1;32m   3898\u001b[0m \u001b[38;5;28;01mif\u001b[39;00m \u001b[38;5;129;01mnot\u001b[39;00m \u001b[38;5;28mlen\u001b[39m(\u001b[38;5;28mset\u001b[39m(np\u001b[38;5;241m.\u001b[39mravel(xk))) \u001b[38;5;241m==\u001b[39m np\u001b[38;5;241m.\u001b[39msize(xk):\n\u001b[1;32m   3899\u001b[0m     \u001b[38;5;28;01mraise\u001b[39;00m \u001b[38;5;167;01mValueError\u001b[39;00m(\u001b[38;5;124m\"\u001b[39m\u001b[38;5;124mxk may not contain duplicate values.\u001b[39m\u001b[38;5;124m\"\u001b[39m)\n",
      "\u001b[0;31mValueError\u001b[0m: The sum of provided pk is not 1."
     ]
    }
   ],
   "source": [
    "x = rv_discrete(name='x', values=([0, 1], [53/100, 47/100]))\n",
    "y = rv_discrete(name='y', values=([0, 1], [60/100, 40/100]))\n",
    "\n",
    "x_v = np.array([x.rvs(size=1_000_000) for _ in range(5)])\n",
    "y_v = np.array([y.rvs(size=1_000_000) for _ in range(5)])\n",
    "\n",
    "l = np.prod(x_v + y_v, axis=0)\n",
    "\n",
    "zk = [0, 1, 2, 4, 8, 16, 32]\n",
    "pz = [l[l == i].size / 3_000_000 for i in zk]\n",
    "\n",
    "Z = rv_discrete(name='Z', values=(zk, pz))\n",
    "\n",
    "Z.expect(), Z.var()\n",
    "\n"
   ]
  },
  {
   "cell_type": "markdown",
   "metadata": {},
   "source": [
    "3. Доход по типовому контракту (в млн. рублей) описывается дискретной случайной величиной $X$\n",
    "c распределением\n",
    "$$\\begin{array}{|c|c|c|c|c|} \n",
    "\\hline\n",
    "X & 7 & 9 & 10 & 11 & 14 \\\\ \n",
    "\\hline\n",
    "P & 0,1 & ? & 0,2 & 0,2 & 0,3 \\\\  \n",
    "\\hline\n",
    "\\end{array}.$$\n",
    "Фирма заключила $2$ типовых контрактов.\n",
    "Найдите: 1) мат. ожидание и 2) дисперсию среднего арифметического дохода по этим $2$ контрактам, считая\n",
    "доходы независимыми между собой.<br/>"
   ]
  },
  {
   "cell_type": "code",
   "execution_count": 9,
   "metadata": {},
   "outputs": [
    {
     "name": "stdout",
     "output_type": "stream",
     "text": [
      "10.9\n",
      "2.645000000000003\n"
     ]
    }
   ],
   "source": [
    "xk = [7, 9, 10, 11, 14]\n",
    "px = [0.1, 0.2, 0.2, 0.2, 0.3]\n",
    "\n",
    "x = rv_discrete(name='X', values=(xk, px))\n",
    "\n",
    "print(x.expect())\n",
    "print(x.var() / 2)"
   ]
  },
  {
   "cell_type": "markdown",
   "metadata": {},
   "source": [
    "4. Случайные величины $X_1,...,X_{11}$ могут принимать только три значения: 0, 1 и 3.\n",
    "Известны вероятности 0 и 1: $\\text{P}(X_i = 0)=0,2$; $\\text{P}(X_i = 1)=0,2$, где $i=1,...,11$.\n",
    "Кроме того, известно, что $\\text{P}(X_i + X_j = 2)=0,05$; $\\text{P}(X_i + X_j = 4)=0,21$ и \n",
    "$\\text{P}(X_i + X_j = 6)=0,38$ для $1 \\le i < j \\le 11$. Пусть $S=X_1+...+X_{11}$.\n",
    "Найдите:\n",
    "1) ковариацию $\\text{Cov}(X_i,X_j)$, для $i \\ne j$;\n",
    "2) дисперсию $\\text{V}\\!\\text{ar}(S)$.<br/>"
   ]
  },
  {
   "cell_type": "code",
   "execution_count": null,
   "metadata": {},
   "outputs": [],
   "source": []
  },
  {
   "cell_type": "markdown",
   "metadata": {},
   "source": [
    "5. Математическое ожидание доходности акций компаний А и В составляет $2$% и $4$%, \n",
    "при этом стандартное отклонение доходности равно $3$% и $6$%, соответственно. Также известен \n",
    "коэффициент корреляции $\\rho_{AB}$ доходностей акций А и В, $\\rho_{AB}=0,38$. Найдите (короткие позиции допускаются):\n",
    "1) доли акций А и В в портфеле с минимальной дисперсией доходности;\n",
    "2) ожидаемую доходность и стандартное отклонение доходности такого портфеля. <br/>"
   ]
  },
  {
   "cell_type": "code",
   "execution_count": null,
   "metadata": {},
   "outputs": [],
   "source": []
  }
 ],
 "metadata": {
  "kernelspec": {
   "display_name": "Python 3 (ipykernel)",
   "language": "python",
   "name": "python3"
  },
  "language_info": {
   "codemirror_mode": {
    "name": "ipython",
    "version": 3
   },
   "file_extension": ".py",
   "mimetype": "text/x-python",
   "name": "python",
   "nbconvert_exporter": "python",
   "pygments_lexer": "ipython3",
   "version": "3.11.8"
  }
 },
 "nbformat": 4,
 "nbformat_minor": 4
}
