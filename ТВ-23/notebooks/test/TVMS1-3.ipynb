{
 "cells": [
  {
   "cell_type": "markdown",
   "metadata": {},
   "source": [
    "<big>ПМ23-1 Штыркова Мария</big>"
   ]
  },
  {
   "cell_type": "code",
   "execution_count": 22,
   "metadata": {},
   "outputs": [],
   "source": [
    "import numpy as np\n",
    "from scipy.stats import *\n",
    "import math\n",
    "import random\n",
    "def rrstr(x,n): # округление до n знаков после запятой\n",
    "    fmt = '{:.'+str(n)+'f}'\n",
    "    return fmt.format(x).replace('.',',')"
   ]
  },
  {
   "cell_type": "markdown",
   "metadata": {},
   "source": [
    "1. Имеется две корзины с белыми и черными шарами. \n",
    "В первой корзине количество белых – 13, количество черных – 16.\n",
    "Во второй корзине количество белых – 17, количество черных – 19.\n",
    "Из первой корзины случайно, без возвращения, излекаются 11 шаров, а из второй – 12 шаров.\n",
    "Отобранные из обеих корзин шары перекладываются в третью корзину. \n",
    "1) Какова вероятность $P(A)$, что случайно вынутый из третьей корзины шар окажется белым (событие $A$)?\n",
    "2) Найдите условную вероятность $P(H|A)$, того, что случайно вынутый из третьей корзины шар \n",
    "первоначально находился в первой корзине (событие $H$), при условии, что он белый (событие $A$)?<br/>"
   ]
  },
  {
   "cell_type": "code",
   "execution_count": 2,
   "metadata": {},
   "outputs": [
    {
     "name": "stdout",
     "output_type": "stream",
     "text": [
      "P(A) = 0.4642\n",
      "P(H|A) = 0.46507970702283497\n"
     ]
    }
   ],
   "source": [
    "urn1 = ['w1']*13 + ['b1']*16\n",
    "urn2 = ['w2']*17 + ['b2']*19\n",
    "n = 100_000\n",
    "A_count = 0 \n",
    "H_count = 0\n",
    "for k in range(0, n):\n",
    "    urn3 = list(np.random.choice(urn1, 11, replace=False)) + list(np.random.choice(urn2, 12, replace=False))\n",
    "    rez = np.random.choice(urn3, 1)\n",
    "    if rez == 'w1' or rez == 'w2':\n",
    "        A_count += 1\n",
    "        if rez == 'w1':\n",
    "            H_count += 1\n",
    "print(f'P(A) = {A_count/n}')\n",
    "print(f'P(H|A) = {H_count/A_count}')"
   ]
  },
  {
   "cell_type": "markdown",
   "metadata": {},
   "source": [
    "2. Монеты в количестве $30$ штук подбрасываются до тех пор, пока 20 раз не выпадет $17$ гербов.\n",
    "Пусть $X$ – число бросков до первого появления $17$ гербов, а  $Y$ – число бросков до последнего появления $17$ \n",
    "гербов ($Y$ = общее число бросков). Найдите: 1) математическое ожидание $X$; 2) стандартное отклонение $X$; 3) коэффициент \n",
    "корреляции между $X$ и $Y$; 4) математическое ожидание $XY$.<br/>"
   ]
  },
  {
   "cell_type": "code",
   "execution_count": 12,
   "metadata": {},
   "outputs": [
    {
     "name": "stdout",
     "output_type": "stream",
     "text": [
      "E(X) = 8.965791323208297\n",
      "sigma(X) = 8.451013118454428\n"
     ]
    }
   ],
   "source": [
    "import math\n",
    "N = 1_000_000\n",
    "n = 30\n",
    "a = 17\n",
    "b = 20\n",
    "X = geom(math.comb(n, a) * (1/2) ** a * (1/2) ** (n - a))\n",
    "print(f'E(X) = {X.expect()}')\n",
    "print(f'sigma(X) = {X.std()}')"
   ]
  },
  {
   "cell_type": "code",
   "execution_count": 13,
   "metadata": {},
   "outputs": [
    {
     "data": {
      "text/plain": [
       "array([[1.       , 0.2238294],\n",
       "       [0.2238294, 1.       ]])"
      ]
     },
     "execution_count": 13,
     "metadata": {},
     "output_type": "execute_result"
    }
   ],
   "source": [
    "X_values = X.rvs(size=N)\n",
    "Y_values = np.sum(np.vstack([X_values, [X.rvs(size=N) for _ in range(b - 1)]]), axis=0)\n",
    "\n",
    "np.corrcoef(X_values, Y_values)"
   ]
  },
  {
   "cell_type": "code",
   "execution_count": 14,
   "metadata": {},
   "outputs": [
    {
     "name": "stdout",
     "output_type": "stream",
     "text": [
      "E(XY) = 1678.02756\n"
     ]
    }
   ],
   "source": [
    "XY = X_values * Y_values\n",
    "print(f'E(XY) = {XY.mean()}')"
   ]
  },
  {
   "cell_type": "code",
   "execution_count": 15,
   "metadata": {},
   "outputs": [
    {
     "name": "stdout",
     "output_type": "stream",
     "text": [
      "E(XY) = 1679.1235587000003\n"
     ]
    }
   ],
   "source": [
    "XY = []\n",
    "\n",
    "for _ in range(10):\n",
    "    X_values = X.rvs(size=N)\n",
    "    Y_values = np.sum(np.vstack([X_values, [X.rvs(size=N) for _ in range(b - 1)]]), axis=0)\n",
    "\n",
    "    XY.append((X_values * Y_values).mean())\n",
    "XY = np.array(XY)\n",
    "print(f'E(XY) = {XY.mean()}')"
   ]
  },
  {
   "cell_type": "markdown",
   "metadata": {},
   "source": [
    "3. Несимметричная игральная кость подбрасывается до тех пор, пока не выпадут \n",
    "цифры $1$,  $2$ и $3$. Пусть $X$ — число сделанных при этом бросков. \n",
    "Даны вероятности появления цифр в одном броске: $\\text{P}(1)=0,16$, $\\text{P}(2)=0,22$ и $\\text{P}(3)=0,13$.\n",
    "Требуется найти: 1) $\\text{E}(X)$; 2) дисперсию $X$, если известно, что из $1$,  $2$ и $3$\n",
    "сначала выпала цифра $1$, затем  — $2$.<br/>"
   ]
  },
  {
   "cell_type": "code",
   "execution_count": 18,
   "metadata": {},
   "outputs": [
    {
     "name": "stdout",
     "output_type": "stream",
     "text": [
      "E(X) = 11.5585\n",
      "Var(X) = 60.168043033120234\n"
     ]
    }
   ],
   "source": [
    "X = rv_discrete(values=[(1, 2, 3, 0), (0.16, 0.22, 0.13, 0.49)])\n",
    "N = 10_000\n",
    "\n",
    "k = []\n",
    "k_var = []\n",
    "\n",
    "for _ in range(N):\n",
    "    i = 0\n",
    "    t = []\n",
    "\n",
    "    while not(1 in t and 2 in t and 3 in t):\n",
    "        value = X.rvs(size=1)[0]\n",
    "        t.append(value)\n",
    "        i += 1\n",
    "\n",
    "    t = ''.join(map(str, t))\n",
    "\n",
    "    if t.find('1') <= t.find('2') <= t.find('3'):\n",
    "        k_var.append(i)\n",
    "\n",
    "    k.append(i)\n",
    "\n",
    "k = np.array(k)\n",
    "print(f\"E(X) = {k.mean()}\")\n",
    "print(f\"Var(X) = {np.var(k_var, ddof=1)}\")"
   ]
  },
  {
   "cell_type": "code",
   "execution_count": 19,
   "metadata": {},
   "outputs": [
    {
     "name": "stdout",
     "output_type": "stream",
     "text": [
      "E(X) = 11.511548884907487\n"
     ]
    }
   ],
   "source": [
    "a = 0.16 \n",
    "b = 0.22\n",
    "c = 0.13\n",
    "\n",
    "print(f'E(X) = {1/a + 1/b + 1/c - (1/(a+b) + 1/(b+c) + 1/(a+c)) + 1/(a+b+c)}')"
   ]
  },
  {
   "cell_type": "markdown",
   "metadata": {},
   "source": [
    "4. В области, ограниченной эллипсом\n",
    "$\\left(\\frac{u}{23}\\right)^2+\\left(\\frac{v}{9}\\right)^2 = 1$,\n",
    "случайным образом выбираются две точки. Пусть $A$ и $B$ – события, состоящие в том, что:\n",
    "$A$ – расстояние между выбранными точками меньше 12; \n",
    "$B$ – координаты одной из двух точек больше 0, а координаты другой точки меньше 0.\n",
    "Найдите приближенно, методом Монте-Карло: 1) вероятность $P(A)$; 2) условную вероятность $P(A|B)$. \n",
    "Указание: получите внутри заданного эллипса 100000 пар точек и, используя все эти пары точек, \n",
    "найдите ответы, округляя их до одного знака после запятой.<br/>"
   ]
  },
  {
   "cell_type": "code",
   "execution_count": 23,
   "metadata": {},
   "outputs": [
    {
     "name": "stdout",
     "output_type": "stream",
     "text": [
      "Генерируем точки\n",
      "P(A) = 0.4148\n"
     ]
    }
   ],
   "source": [
    "# Вероятность P(A)\n",
    "a = 23\n",
    "b = 9\n",
    "\n",
    "U = uniform(loc=-a, scale=2 * a)\n",
    "V = uniform(loc=-b, scale=2 * b)\n",
    "#N = 10**5\n",
    "count = 0\n",
    "points = []\n",
    "\n",
    "print('Генерируем точки')\n",
    "while(len(points)!=100_000):\n",
    "    x = U.rvs(size=1)[0]\n",
    "    y = V.rvs(size=1)[0]\n",
    "    if x ** 2 / a ** 2 + y ** 2 / b ** 2 <= 1:\n",
    "        points.append((x, y))\n",
    "\n",
    "for i in range(N):\n",
    "    point_1 = random.choice(points)\n",
    "    point_2 = random.choice(points)\n",
    "    if ((point_1[0] - point_2[0])**2 + (point_1[1] - point_2[1])**2)**0.5 < 12:\n",
    "        count += 1\n",
    "\n",
    "print(f'P(A) = {count / N}')"
   ]
  },
  {
   "cell_type": "code",
   "execution_count": 24,
   "metadata": {},
   "outputs": [
    {
     "name": "stdout",
     "output_type": "stream",
     "text": [
      "P(A|B) = 0.10467439073112265\n"
     ]
    }
   ],
   "source": [
    "count1, count2 = 0, 0\n",
    "for i in range(N):\n",
    "    point_1 = random.choice(points)\n",
    "    point_2 = random.choice(points)\n",
    "\n",
    "    if ((point_1[0] - point_2[0])**2 + (point_1[1] - point_2[1])**2)**0.5 < 12 and point_1[0] * point_2[0] < 0 and point_1[1] * point_2[1] < 0:\n",
    "        count1 += 1\n",
    "\n",
    "    if point_1[0] * point_2[0] < 0 and point_1[1] * point_2[1] < 0:\n",
    "        count2 += 1\n",
    "\n",
    "print(f'P(A|B) = {count1 / count2}')"
   ]
  },
  {
   "cell_type": "code",
   "execution_count": null,
   "metadata": {},
   "outputs": [],
   "source": []
  }
 ],
 "metadata": {
  "kernelspec": {
   "display_name": "Python 3 (ipykernel)",
   "language": "python",
   "name": "python3"
  },
  "language_info": {
   "codemirror_mode": {
    "name": "ipython",
    "version": 3
   },
   "file_extension": ".py",
   "mimetype": "text/x-python",
   "name": "python",
   "nbconvert_exporter": "python",
   "pygments_lexer": "ipython3",
   "version": "3.12.2"
  }
 },
 "nbformat": 4,
 "nbformat_minor": 4
}
