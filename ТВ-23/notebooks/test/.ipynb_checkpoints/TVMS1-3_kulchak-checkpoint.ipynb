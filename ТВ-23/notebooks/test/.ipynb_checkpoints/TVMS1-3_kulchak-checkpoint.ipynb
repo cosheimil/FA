{
 "cells": [
  {
   "cell_type": "markdown",
   "metadata": {},
   "source": [
    "<big>ПМ23-1 Кульчак Александр</big>"
   ]
  },
  {
   "cell_type": "code",
   "execution_count": 3,
   "metadata": {},
   "outputs": [],
   "source": [
    "import numpy as np\n",
    "from scipy.stats import *\n",
    "import math\n",
    "def rrstr(x,n): # округление до n знаков после запятой\n",
    "    fmt = '{:.'+str(n)+'f}'\n",
    "    return fmt.format(x).replace('.',',')"
   ]
  },
  {
   "cell_type": "markdown",
   "metadata": {},
   "source": [
    "1. В первой корзине имеется 6 шаров, при этом количество белых шаров равно либо 2, либо 5. \n",
    "Оба варианта равновероятны. \n",
    "Во второй корзине имеется 30 шаров, а количество белых шаров равно 7, 19 или 26. \n",
    "Эти три варианта также равновероятны. \n",
    "Из обеих корзин все шары перекладываются в третью корзину. \n",
    "1) Какова вероятность $P(A)$, что случайно вынутый из третьей корзины шар окажется белым (событие $A$)?\n",
    "2) Найдите условную вероятность $P(H|A)$, того, что случайно вынутый из третьей корзины шар \n",
    "первоначально находился в первой корзине (событие $H$), при условии, что он белый (событие $A$)?<br/>"
   ]
  },
  {
   "cell_type": "code",
   "execution_count": 16,
   "metadata": {},
   "outputs": [],
   "source": [
    "A = rv_discrete(values=((2, 5), (1/2, 1/2)))\n",
    "B = rv_discrete(values=((7, 19, 26), (1/3, 1/3, 1/3)))"
   ]
  },
  {
   "cell_type": "code",
   "execution_count": 17,
   "metadata": {},
   "outputs": [
    {
     "data": {
      "text/plain": [
       "(0.5787603147322135, 0.16801465199056123)"
      ]
     },
     "execution_count": 17,
     "metadata": {},
     "output_type": "execute_result"
    }
   ],
   "source": [
    "N = 2_000\n",
    "x = []\n",
    "y = []\n",
    "z = []\n",
    "\n",
    "for i in range(1, N+1):\n",
    "    x.append(i)\n",
    "    \n",
    "    sample_a = A.rvs(size=i).mean()\n",
    "    sample_b = B.rvs(size=i).mean()\n",
    "    sample = sample_a + sample_b\n",
    "    \n",
    "    y.append(sample/36)\n",
    "    z.append(sample_a/sample)\n",
    "    \n",
    "P = sum(y)/N\n",
    "P_ = sum(z)/N\n",
    "P, P_"
   ]
  },
  {
   "cell_type": "markdown",
   "metadata": {},
   "source": [
    "2. Монеты в количестве $14$ штук подбрасываются до тех пор, пока 18 раз не выпадет $6$ гербов.\n",
    "Пусть $X$ – число бросков до первого появления $6$ гербов, а  $Y$ – число бросков до последнего появления $6$ \n",
    "гербов ($Y$ = общее число бросков). Найдите: 1) математическое ожидание $X$; 2) стандартное отклонение $X$; 3) коэффициент \n",
    "корреляции между $X$ и $Y$; 4) математическое ожидание $XY$.<br/>"
   ]
  },
  {
   "cell_type": "code",
   "execution_count": 4,
   "metadata": {},
   "outputs": [
    {
     "name": "stdout",
     "output_type": "stream",
     "text": [
      "E(X) = 5.455877455876673\n",
      "sigma(X) = 4.9305903660387775\n"
     ]
    }
   ],
   "source": [
    "import math\n",
    "N = 1_000_000\n",
    "n = 14\n",
    "a = 6\n",
    "b = 18\n",
    "X = geom(math.comb(n, a) * (1/2) ** a * (1/2) ** (n - a))\n",
    "print(f'E(X) = {X.expect()}')\n",
    "print(f'sigma(X) = {X.std()}')"
   ]
  },
  {
   "cell_type": "code",
   "execution_count": 5,
   "metadata": {},
   "outputs": [
    {
     "data": {
      "text/plain": [
       "array([[1.        , 0.23393435],\n",
       "       [0.23393435, 1.        ]])"
      ]
     },
     "execution_count": 5,
     "metadata": {},
     "output_type": "execute_result"
    }
   ],
   "source": [
    "X_values = X.rvs(size=N)\n",
    "Y_values = np.sum(np.vstack([X_values, [X.rvs(size=N) for _ in range(b - 1)]]), axis=0)\n",
    "\n",
    "np.corrcoef(X_values, Y_values)"
   ]
  },
  {
   "cell_type": "code",
   "execution_count": 6,
   "metadata": {},
   "outputs": [
    {
     "name": "stdout",
     "output_type": "stream",
     "text": [
      "E(XY) = 559.651802\n"
     ]
    }
   ],
   "source": [
    "XY = X_values * Y_values\n",
    "print(f'E(XY) = {XY.mean()}')"
   ]
  },
  {
   "cell_type": "markdown",
   "metadata": {},
   "source": [
    "3. Несимметричная игральная кость подбрасывается до тех пор, пока не выпадут \n",
    "цифры $1$ и $2$. Пусть $X$ — число сделанных при этом бросков. \n",
    "Даны вероятности появления цифр в одном броске: $\\text{P}(1)=0,12$ и $\\text{P}(2)=0,18$.\n",
    "Требуется найти: 1) $\\text{E}(X)$; 2) дисперсию $X$, если известно, что из $1$ и $2$ сначала выпала цифра $1$.\n",
    "Указание: разберите пример на применение формулы <i>полного математичекого ожидания</i>\n",
    "(лекция 14, слайд 13 из <a href=ʺhttps://kursm.ru/lib/tv2017.pdfʺ>курса ТВ-2017</a>).<br/>"
   ]
  },
  {
   "cell_type": "code",
   "execution_count": 8,
   "metadata": {},
   "outputs": [
    {
     "name": "stdout",
     "output_type": "stream",
     "text": [
      "E(X) = 10.4932\n",
      "Var(X) = 64.21487617836023\n"
     ]
    }
   ],
   "source": [
    "X = rv_discrete(values=[(1, 2, 0), (0.12, 0.18, 0.7)])\n",
    "N = 10_000\n",
    "\n",
    "k = []\n",
    "k_var = []\n",
    "\n",
    "for _ in range(N):\n",
    "    i = 0\n",
    "    t = []\n",
    "\n",
    "    while not(1 in t and 2 in t):\n",
    "        value = X.rvs(size=1)[0]\n",
    "        t.append(value)\n",
    "        i += 1\n",
    "\n",
    "    t = ''.join(map(str, t))\n",
    "\n",
    "    if t.find('2') <= t.find('1'):\n",
    "        k_var.append(i)\n",
    "\n",
    "    k.append(i)\n",
    "\n",
    "k = np.array(k)\n",
    "print(f\"E(X) = {k.mean()}\")\n",
    "print(f\"Var(X) = {np.var(k_var, ddof=1)}\")"
   ]
  },
  {
   "cell_type": "code",
   "execution_count": 13,
   "metadata": {},
   "outputs": [
    {
     "name": "stdout",
     "output_type": "stream",
     "text": [
      "E(X) = 10.555555555555555\n",
      "Var(X) = 68.88888888888889\n"
     ]
    }
   ],
   "source": [
    "a = 0.12\n",
    "b = 0.18\n",
    "\n",
    "print(f'E(X) = {1/a + 1/b - 1/(a+b)}')\n",
    "print(f'Var(X) = {(1 - (a + b))/(a+b)**2 + (1-a)/a**2}')"
   ]
  },
  {
   "cell_type": "markdown",
   "metadata": {},
   "source": [
    "4. В кубе объема 2 случайным образом выбираются точки $A$, $B$ и $C$\n",
    "Пусть $R$, $S$ и $T$ – события, состоящие в том, что:\n",
    "$R$ – в треугольнике $A\\!BC$ найдется угол меньше 44,8&deg;; \n",
    "$S$ – все углы в треугольнике $A\\!BC$ меньше 78,7&deg;;\n",
    "$T$ – треугольник $A\\!BC$ остроугольный.\n",
    "Найдите приближенно, методом Монте-Карло: 1) условную вероятность $P(R|T)$; 2) условную вероятность $P(S|T)$.\n",
    "Указание: получите 100000 остроугольных треугольников $A\\!BC$ и, используя все эти треугольники, \n",
    "найдите ответы, округляя их до одного знака после запятой.<br/>"
   ]
  },
  {
   "cell_type": "code",
   "execution_count": 15,
   "metadata": {},
   "outputs": [
    {
     "name": "stdout",
     "output_type": "stream",
     "text": [
      "P(R|T) = 0.6305650027427318\n",
      "P(S|T) = 0.5055622600109709\n"
     ]
    }
   ],
   "source": [
    "a = 2\n",
    "\n",
    "X = uniform(loc=-a, scale = 2 * a)\n",
    "Y = uniform(loc=-a, scale = 2 * a)\n",
    "Z = uniform(loc=-a, scale = 2 * a)\n",
    "\n",
    "N = 100_000\n",
    "\n",
    "count1 = 0\n",
    "count2 = 0\n",
    "count3 = 0\n",
    "\n",
    "for i in range(N):\n",
    "    \n",
    "    A = X.rvs(size = 3)\n",
    "    B = Y.rvs(size = 3)\n",
    "    C = Z.rvs(size = 3)\n",
    "    \n",
    "    AB = ((B[0]-A[0])**2 + (B[1]-A[1])**2 + (B[2]-A[2])**2)**0.5\n",
    "    AC = ((C[0]-A[0])**2 + (C[1]-A[1])**2 + (C[2]-A[2])**2)**0.5\n",
    "    BC = ((C[0]-B[0])**2 + (C[1]-B[1])**2 + (C[2]-B[2])**2)**0.5\n",
    "    \n",
    "    min_side = min(AB, AC, BC)\n",
    "    med_side = AB + BC + AC - max(AB, AC, BC) - min(AB, AC, BC)\n",
    "    max_side = max(AB, AC, BC)\n",
    "    \n",
    "    #Найдем минимальный и максимальный стороны через теорему косинусов\n",
    "    \n",
    "    min_angle = math.degrees(math.acos((max_side**2 + med_side**2 - min_side**2)/(2 * med_side * max_side)))\n",
    "    max_angle = math.degrees(math.acos((min_side**2 + med_side**2 - max_side**2)/(2 * med_side * min_side)))\n",
    "    \n",
    "    check_traingle = min_side**2 + med_side**2 > max_side**2\n",
    "\n",
    "    # Вероятность P(T)\n",
    "\n",
    "    if check_traingle:\n",
    "        count1 += 1\n",
    "\n",
    "    # Вероятность P(R*T)\n",
    "\n",
    "    if check_traingle and min_angle < 44.8:\n",
    "        count2 += 1\n",
    "\n",
    "    # Вероятность P(S*T)\n",
    "\n",
    "    if check_traingle and max_angle < 78.7:\n",
    "        count3 += 1\n",
    "\n",
    "PRT = count2 / count1\n",
    "PST = count3 / count1\n",
    "print(f'P(R|T) = {PRT}')\n",
    "print(f'P(S|T) = {PST}')"
   ]
  },
  {
   "cell_type": "code",
   "execution_count": null,
   "metadata": {},
   "outputs": [],
   "source": []
  }
 ],
 "metadata": {
  "kernelspec": {
   "display_name": "Python 3 (ipykernel)",
   "language": "python",
   "name": "python3"
  },
  "language_info": {
   "codemirror_mode": {
    "name": "ipython",
    "version": 3
   },
   "file_extension": ".py",
   "mimetype": "text/x-python",
   "name": "python",
   "nbconvert_exporter": "python",
   "pygments_lexer": "ipython3",
   "version": "3.12.2"
  }
 },
 "nbformat": 4,
 "nbformat_minor": 4
}
