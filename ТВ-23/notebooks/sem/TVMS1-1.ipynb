{
 "cells": [
  {
   "cell_type": "markdown",
   "metadata": {},
   "source": [
    "<big>ПМ23-1 Варвус Артем</big>"
   ]
  },
  {
   "cell_type": "code",
   "execution_count": 1,
   "metadata": {},
   "outputs": [],
   "source": [
    "import numpy as np\n",
    "def rrstr(x,n): # округление до n знаков после запятой\n",
    "    fmt = '{:.'+str(n)+'f}'\n",
    "    return fmt.format(x).replace('.',',')"
   ]
  },
  {
   "cell_type": "code",
   "execution_count": 14,
   "metadata": {},
   "outputs": [],
   "source": [
    "from itertools import *\n",
    "import math"
   ]
  },
  {
   "cell_type": "markdown",
   "metadata": {},
   "source": [
    "1. Независимо друг от друга $4$ человека садятся в поезд, содержащий $11$ вагонов. \n",
    "1) Найдите вероятность того, что по крайней мере двое из них окажутся в одном вагоне. <br/>"
   ]
  },
  {
   "cell_type": "markdown",
   "metadata": {},
   "source": [
    "$\\bar{A}$ - никто не будет сидеть в одном вагоне:  \n",
    "$\\mathbb P(\\bar{A}) = \\frac{11}{11} \\cdot \\frac{10}{11} \\cdot \\frac{9}{11} \\cdot \\frac{8}{11} = 0,540946656649136$  \n",
    "$\\mathbb P(A) = 1 - \\mathbb P(\\bar{A}) = 1 - 0,540946656649136 \\approx 0,459 $\n"
   ]
  },
  {
   "cell_type": "markdown",
   "metadata": {},
   "source": [
    "2. Двое договорились о встрече между $7$ и $8$ часами утра, причем договорились ждать друг\n",
    "друга не более $10$ минут. Считая, что момент прихода на встречу выбирается каждым\n",
    "наудачу в пределах указанного часа, найдите вероятность того, что встреча   состоится.<br/>"
   ]
  },
  {
   "cell_type": "markdown",
   "metadata": {},
   "source": [
    "Аналитика\n",
    "\n",
    "$\\Omega = \\{ (x, y): 0 \\leqslant x, y \\leqslant 1 \\}; \\mu(\\Omega) = 1$  \n",
    "$A = \\{ (x, y): (x, y) \\in \\Omega; |x - y| \\leqslant \\frac{10}{60} \\}; \\mu(A) = 1 - \\frac{50}{60}^2 = 0,30555555555555547$  \n",
    "$\\mathbb P(A) = \\frac{\\mu(A)}{\\mu(\\Omega)} = \\frac{1 - \\frac{50}{60}^2}{1} \\approx 0,306$"
   ]
  },
  {
   "cell_type": "code",
   "execution_count": 3,
   "metadata": {},
   "outputs": [
    {
     "data": {
      "text/plain": [
       "0.30555555555555547"
      ]
     },
     "execution_count": 3,
     "metadata": {},
     "output_type": "execute_result"
    }
   ],
   "source": [
    "1 - (5/6)**2"
   ]
  },
  {
   "cell_type": "code",
   "execution_count": 4,
   "metadata": {},
   "outputs": [
    {
     "data": {
      "text/plain": [
       "0.108"
      ]
     },
     "execution_count": 4,
     "metadata": {},
     "output_type": "execute_result"
    }
   ],
   "source": [
    "0.3 * 0.4 * 0.9"
   ]
  },
  {
   "cell_type": "markdown",
   "metadata": {},
   "source": [
    "3. События $A,B$ и $C$ независимы, $P(A)=0,3$; $P(B)=0,4$ и $P(C)=0,9$. \n",
    "1) Найдите вероятность события $D=(A+\\bar B)(B+\\bar C)(C+\\bar A)$.\n",
    "2) Найдите вероятность события $D$, если известно, что событие $A$ уже наступило.<br/>"
   ]
  },
  {
   "cell_type": "markdown",
   "metadata": {},
   "source": [
    "1. область $D$, согласно кругам эйлера, можно написать также: $D = A \\cap B \\cap C$, то  \n",
    "$\\mathbb P(D) = 0,108$  \n",
    "2. по формуле Байеса: $\\mathbb P(A|D) = \\frac{\\mathbb P(A \\cap D)}{\\mathbb P(D)} = 1$ "
   ]
  },
  {
   "cell_type": "markdown",
   "metadata": {},
   "source": [
    "4. Имеется $37$ монет, из которых $6$ бракованные: вследствие заводского \n",
    "брака на этих монетах с обеих сторон отчеканен герб. Наугад выбранную монету, не разглядывая, \n",
    "бросают несколько раз. \n",
    "1) Какова вероятность, что при $2$ бросках она ляжет гербом вверх? \n",
    "2) При $2$ бросках монета легла гербом вверх. Какова вероятность того, что была выбрана монета \n",
    "с двумя гербами?<br/>"
   ]
  },
  {
   "cell_type": "code",
   "execution_count": null,
   "metadata": {},
   "outputs": [
    {
     "data": {
      "text/plain": [
       "[('1',),\n",
       " ('1',),\n",
       " ('1',),\n",
       " ('1',),\n",
       " ('1',),\n",
       " ('1',),\n",
       " ('0.25',),\n",
       " ('0.25',),\n",
       " ('0.25',),\n",
       " ('0.25',),\n",
       " ('0.25',),\n",
       " ('0.25',),\n",
       " ('0.25',),\n",
       " ('0.25',),\n",
       " ('0.25',),\n",
       " ('0.25',),\n",
       " ('0.25',),\n",
       " ('0.25',),\n",
       " ('0.25',),\n",
       " ('0.25',),\n",
       " ('0.25',),\n",
       " ('0.25',),\n",
       " ('0.25',),\n",
       " ('0.25',),\n",
       " ('0.25',),\n",
       " ('0.25',),\n",
       " ('0.25',),\n",
       " ('0.25',),\n",
       " ('0.25',),\n",
       " ('0.25',),\n",
       " ('0.25',),\n",
       " ('0.25',),\n",
       " ('0.25',),\n",
       " ('0.25',),\n",
       " ('0.25',),\n",
       " ('0.25',),\n",
       " ('0.25',)]"
      ]
     },
     "execution_count": 5,
     "metadata": {},
     "output_type": "execute_result"
    }
   ],
   "source": [
    "Omega = list(permutations(['1'] * 7 + ['0.33333333'] * 28, r=1))\n",
    "Omega"
   ]
  },
  {
   "cell_type": "code",
   "execution_count": 6,
   "metadata": {},
   "outputs": [
    {
     "data": {
      "text/plain": [
       "0.3716216216216212"
      ]
     },
     "execution_count": 6,
     "metadata": {},
     "output_type": "execute_result"
    }
   ],
   "source": [
    "events_good = [float(event[0]) * (1/37) for event in Omega]\n",
    "sum(events_good)"
   ]
  },
  {
   "cell_type": "code",
   "execution_count": 7,
   "metadata": {},
   "outputs": [
    {
     "data": {
      "text/plain": [
       "0.43636363636363684"
      ]
     },
     "execution_count": 7,
     "metadata": {},
     "output_type": "execute_result"
    }
   ],
   "source": [
    "def p(event, good):\n",
    "    return good/sum(event)\n",
    "events_good = [float(event[0]) * (1/37) for event in Omega]\n",
    "p(events_good, Omega.count(('1',))*(1/37))"
   ]
  },
  {
   "cell_type": "code",
   "execution_count": 8,
   "metadata": {},
   "outputs": [
    {
     "data": {
      "text/plain": [
       "0.43636363636363684"
      ]
     },
     "execution_count": 8,
     "metadata": {},
     "output_type": "execute_result"
    }
   ],
   "source": [
    "6/37 / 0.3716216216216212"
   ]
  },
  {
   "cell_type": "markdown",
   "metadata": {},
   "source": [
    "5. Банк совершил $4000$ транзакций при ненадежной связи с сервером. Вероятность того, что транзакция будет\n",
    "ошибочной, равна $0,0015$. Используя приближенную формулу для числа успехов в схеме Бернулли,\n",
    "найдите вероятность того, что среди этих $n$ транзакций имеется $3$ ошибочные транзакции (не больше и не меньше).\n",
    "В решении необходимо проверить условие применимости приближенной формулы. <br/>"
   ]
  },
  {
   "cell_type": "markdown",
   "metadata": {},
   "source": [
    "$n = 4000; p = 0,0015; q = 1 - p = 0,9985$  \n",
    "$\\mathbb P(A) = \\Sigma_{k=0}^{3}C_n^k \\cdot p^k \\cdot q^{n-k} \\approx 0,9918$  "
   ]
  },
  {
   "cell_type": "code",
   "execution_count": 19,
   "metadata": {},
   "outputs": [
    {
     "data": {
      "text/plain": [
       "0.0"
      ]
     },
     "execution_count": 19,
     "metadata": {},
     "output_type": "execute_result"
    }
   ],
   "source": [
    "s = 0\n",
    "import math\n",
    "for k in range(0, 3+1):\n",
    "    s += math.comb(4_000, k) * ((0.0015) ** k) * ((0.9985) ** (4_000 - k))\n",
    "s"
   ]
  },
  {
   "cell_type": "code",
   "execution_count": 20,
   "metadata": {},
   "outputs": [
    {
     "data": {
      "text/plain": [
       "0.08916806274082135"
      ]
     },
     "execution_count": 20,
     "metadata": {},
     "output_type": "execute_result"
    }
   ],
   "source": [
    "math.comb(4_000, 3) * 0.0015 ** 3 * 0.9985 ** (4_000 - 3)"
   ]
  },
  {
   "cell_type": "code",
   "execution_count": null,
   "metadata": {},
   "outputs": [],
   "source": []
  }
 ],
 "metadata": {
  "kernelspec": {
   "display_name": "Python 3 (ipykernel)",
   "language": "python",
   "name": "python3"
  },
  "language_info": {
   "codemirror_mode": {
    "name": "ipython",
    "version": 3
   },
   "file_extension": ".py",
   "mimetype": "text/x-python",
   "name": "python",
   "nbconvert_exporter": "python",
   "pygments_lexer": "ipython3",
   "version": "3.11.8"
  }
 },
 "nbformat": 4,
 "nbformat_minor": 4
}
