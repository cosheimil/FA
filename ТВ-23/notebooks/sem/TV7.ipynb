{
 "cells": [
  {
   "cell_type": "markdown",
   "metadata": {},
   "source": [
    "# Библиотеки"
   ]
  },
  {
   "cell_type": "code",
   "execution_count": 1,
   "metadata": {},
   "outputs": [],
   "source": [
    "import numpy as np\n",
    "import pandas as pd\n",
    "from itertools import *\n",
    "from more_itertools import *\n",
    "from sympy import *\n",
    "from scipy.special import *\n",
    "import math\n",
    "from fractions import Fraction\n",
    "from scipy.stats import *\n",
    "from tqdm.notebook import tqdm"
   ]
  },
  {
   "cell_type": "markdown",
   "metadata": {},
   "source": [
    "# 1\n",
    "\n",
    "Независимые случайные величины $X, Y, X, U, V, W$ имеют дисперсию, равную $1$. Найдите $\\rho_{S,T}$ – коэффициент корреляции случайных величин $S =\n",
    "3X + 3Y + 2Z + U + V + W$ и $T = 9X + 3Y + 2Z + 2U + V + W$"
   ]
  },
  {
   "cell_type": "markdown",
   "metadata": {},
   "source": [
    "## Аналитика"
   ]
  },
  {
   "cell_type": "markdown",
   "metadata": {},
   "source": [
    "Найдем ковариацию случайных величин $S$ и $T$:\n",
    "\\begin{align*}\n",
    "\\text{cov}(S,T) &= \\text{cov}(3X + 3Y + 2Z + U + V + W, 9X + 3Y + 2Z + 2U + V + W) \\\\\n",
    "&= 3\\text{cov}(X,9X) + 3\\text{cov}(Y,3Y) + 2\\text{cov}(Z,2Z) + \\text{cov}(U,2U) + \\text{cov}(V,V) + \\text{cov}(W,W) \\\\\n",
    "&= 27\\text{var}(X) + 9\\text{var}(Y) + 4\\text{var}(Z) + 2\\text{var}(U) + \\text{var}(V) + \\text{var}(W) \\\\\n",
    "&= 27 + 9 + 4 + 2 + 1 + 1 \\\\\n",
    "&= 44\n",
    "\\end{align*}\n",
    "\n",
    "Теперь найдем дисперсии случайных величин $S$ и $T$:\n",
    "\\begin{align*}\n",
    "\\text{var}(S) &= 3^2\\text{var}(X) + 3^2\\text{var}(Y) + 2^2\\text{var}(Z) + \\text{var}(U) + \\text{var}(V) + \\text{var}(W) \\\\\n",
    "&= 9 + 9 + 4 + 1 + 1 + 1 \\\\\n",
    "&= 25 \\\\\n",
    "\\text{var}(T) &= 9^2\\text{var}(X) + 3^2\\text{var}(Y) + 2^2\\text{var}(Z) + 2^2\\text{var}(U) + \\text{var}(V) + \\text{var}(W) \\\\\n",
    "&= 81 + 9 + 4 + 4 + 1 + 1 \\\\\n",
    "&= 100\n",
    "\\end{align*}\n",
    "\n",
    "Теперь найдем коэффициент корреляции $\\rho_{S,T}$:\n",
    "\\begin{align*}\n",
    "\\rho_{S,T} &= \\frac{\\text{cov}(S,T)}{\\sqrt{\\text{var}(S)\\text{var}(T)}} \\\\\n",
    "&= \\frac{44}{\\sqrt{25\\cdot 100}} \\\\\n",
    "&= \\frac{44}{50} \\\\\n",
    "&= 0.88\n",
    "\\end{align*}\n",
    "\n",
    "Итак, $\\rho_{S,T} = 0.88$."
   ]
  },
  {
   "cell_type": "markdown",
   "metadata": {},
   "source": [
    "## Кодом"
   ]
  },
  {
   "cell_type": "markdown",
   "metadata": {},
   "source": [
    "## Нормальное распределение\n",
    "\n",
    "$\\sigma^2 = \\frac{\\Gamma(\\frac{k+1}{2})}{\\sqrt{\\pi k} \\Gamma(\\frac{k}{2})}\\\\$\n",
    "$\\Gamma = \\int_0^{+\\infty} t^{x-1} \\cdot e^{-t} \\,dx$ , $k$ — количество наблюдений."
   ]
  },
  {
   "cell_type": "code",
   "execution_count": 20,
   "metadata": {},
   "outputs": [
    {
     "name": "stdout",
     "output_type": "stream",
     "text": [
      "Дисперсия полученного распределения: 1.0016885710987946\n"
     ]
    }
   ],
   "source": [
    "random_numbers = norm.rvs(size=100_000)\n",
    "variance = np.var(random_numbers)\n",
    "print(f\"Дисперсия полученного распределения: {variance}\")"
   ]
  },
  {
   "cell_type": "code",
   "execution_count": 7,
   "metadata": {},
   "outputs": [
    {
     "data": {
      "text/plain": [
       "array([[1.        , 0.88007036],\n",
       "       [0.88007036, 1.        ]])"
      ]
     },
     "execution_count": 7,
     "metadata": {},
     "output_type": "execute_result"
    }
   ],
   "source": [
    "N = 1_000_000\n",
    "rn = [norm() for _ in range(6)]\n",
    "n = [X_i.rvs(N) for X_i in rn]\n",
    "S = 3 * n[0] + 3 * n[1] + 2 * n[2] + n[3] + n[4] + n[5]\n",
    "T = 9 * n[0] + 3 * n[1] + 2 * n[2] + 2 * n[3] + n[4] + n[5]\n",
    "np.corrcoef(S, T)"
   ]
  },
  {
   "cell_type": "markdown",
   "metadata": {},
   "source": [
    "# 2\n",
    "\n",
    "Дисперсии независимых случайных величин $U, V$ равны $1$. Для случайных величин $X = U + V$, $Y = 7U + V$, $Z = 7U − V$ найдите: \n",
    "а) корреляционную матрицу;   \n",
    "б) определитель корреляционной матрицы."
   ]
  },
  {
   "cell_type": "markdown",
   "metadata": {},
   "source": [
    "## Аналитика"
   ]
  },
  {
   "cell_type": "markdown",
   "metadata": {},
   "source": [
    "$$\n",
    "R = \n",
    "\\begin{pmatrix}\n",
    "1 & \\rho(X, Y) & \\rho(X, Z) \\\\\n",
    "\\rho(Y, X) & 1 & \\rho(Y, Z) \\\\\n",
    "\\rho(Z, X) & \\rho(Z, Y) & 1 \\\\\n",
    "\\end{pmatrix}\n",
    "$$\n",
    "\n",
    "$$\\rho(X, Y) = \\frac{cov(X, Y)}{\\delta(X) \\delta(Y)} = \\frac{8}{\\sqrt{100}} = 0.8\\\\$$\n",
    "$cov(X, Y) = cov(U + V, 7U+V) = cov(U, 7U+V) + cov(V, 7U+V) = cov(7U+V, U) + cov(7U+V, V) = cov(7U, U) + cov(V, U) + cov(7U, V) + cov(V, V) = 7Var(U) + Var(V) = 8 \\\\$\n",
    "$\\delta(X) = \\sqrt{Var(U + V)} = \\sqrt{Var(U) + Var(V) + cov(U, V)} = \\sqrt{Var(U) + Var(V)} = \\sqrt{2}\\\\$\n",
    "$\\delta(Y) = \\sqrt{Var(7U + V)} = \\sqrt{Var(7U) + Var(V) + 7cov(U,V)} = \\sqrt{49Var(U)+Var(V)} = \\sqrt{50}\\\\$\n",
    "\n",
    "$$\\rho(Y, Z) = \\frac{cov(Y, Z)}{\\delta(X) \\delta(Y)} = \\frac{48}{\\sqrt{50} \\sqrt{50}} = 0.96\\\\$$\n",
    "$cov(Y, Z) = cov(7U + V, 7U - V) = 49Var(U) - Var(V) = 48\\\\$\n",
    "$\\delta(Y) = \\sqrt{Var(7U + V)} = \\sqrt{Var(7U) + Var(V) + 7cov(U,V)} = \\sqrt{49Var(U)+Var(V)} = \\sqrt{50}\\\\$\n",
    "$\\delta(Z) = \\sqrt{Var(7U - V)} = \\sqrt{(Var(7U) + Var(V) - cov(7U, -V))} = \\sqrt{49Var(U)+Var(V)} = \\sqrt{50}\\\\$\n",
    "\n",
    "$$\\rho(X, Z) = \\frac{cov(X, Z)}{\\delta(X) \\delta(Z)} = \\frac{6}{\\sqrt{2}\\sqrt{50}} = 0.6$$\n",
    "$cov(X, Z) = cov(U + V, 7U - V) = 7Var(U) - Var(V) = 6\\\\$\n",
    "$\\delta(X) = \\sqrt{Var(U + V)} = \\sqrt{Var(U) + Var(V) + cov(U, V)} = \\sqrt{Var(U) + Var(V)} = \\sqrt{2}$\n",
    "$\\delta(Z) = \\sqrt{Var(7U - V)} = \\sqrt{(Var(7U) + Var(V) - cov(7U, -V))} = \\sqrt{49Var(U)+Var(V)} = \\sqrt{50}\\\\$\n",
    "\n",
    "$$\n",
    "R = \n",
    "\\begin{pmatrix}\n",
    "1 & 0.8 & 0.6 \\\\\n",
    "0.8 & 1 & 0.96\\\\\n",
    "0.6 & 0.96 & 1 \\\\\n",
    "\\end{pmatrix}\n",
    "$$\n",
    "\n",
    "$$det(A) = 0$$"
   ]
  },
  {
   "cell_type": "code",
   "execution_count": 9,
   "metadata": {},
   "outputs": [
    {
     "data": {
      "text/plain": [
       "-5.32907051820077e-17"
      ]
     },
     "execution_count": 9,
     "metadata": {},
     "output_type": "execute_result"
    }
   ],
   "source": [
    "A = np.matrix('1 0.8 0.6; 0.8 1 0.96; 0.6 0.96 1')\n",
    "np.linalg.det(A)"
   ]
  },
  {
   "cell_type": "markdown",
   "metadata": {},
   "source": [
    "## Кодом"
   ]
  },
  {
   "cell_type": "code",
   "execution_count": 8,
   "metadata": {},
   "outputs": [
    {
     "data": {
      "text/plain": [
       "(array([[1.        , 0.79970491, 0.59952142],\n",
       "        [0.79970491, 1.        , 0.95997019],\n",
       "        [0.59952142, 0.95997019, 1.        ]]),\n",
       " -1.600486299497035e-16)"
      ]
     },
     "execution_count": 8,
     "metadata": {},
     "output_type": "execute_result"
    }
   ],
   "source": [
    "N = 1_000_000\n",
    "U = norm().rvs(N)\n",
    "V = norm().rvs(N)\n",
    "X = U + V\n",
    "Y = 7 * U + V\n",
    "Z = 7 * U - V\n",
    "\n",
    "data = np.vstack([X, Y, Z])\n",
    "correlation_matrix = np.corrcoef(data)\n",
    "\n",
    "correlation_matrix, np.linalg.det(correlation_matrix)"
   ]
  },
  {
   "cell_type": "markdown",
   "metadata": {},
   "source": [
    "# 3\n",
    "\n",
    "Инвестор сформировал портфель $x$ из акций компаний $A$ и $B$, затратив\n",
    "на приобретение акций $A$ в $10$ раз больше средств, чем на покупку акций\n",
    "$B$. Ожидаемая доходность за период владения акциями $A$ и $B$ составляет $2\\%$ и $5\\%$, при этом стандартное отклонение доходности равно $3\\%$ и $8\\%$,\n",
    "соответственно. Найдите (в $\\%$) ожидаемую доходность $\\mathbb E(R_x)$ и стандартное отклонение $\\delta(R_x)$ доходности портфеля инвестора, если известно, что\n",
    "коэффициент корреляции доходностей акций $A$ и $B$ равен $0,1$."
   ]
  },
  {
   "cell_type": "markdown",
   "metadata": {},
   "source": [
    "## Аналитика\n",
    "\n",
    "Пусть $R_A, R_B$ - доходы с акций $A, B$ соответсвенно   \n",
    "$\\mathbb E_A = 0.02; \\mathbb E_B = 0.05$  \n",
    "$\\delta = 0.03; \\delta = 0.08$  \n",
    "$\\rho = \\rho(R_A, R_B) = 0.1$  \n",
    "$R_X = \\alpha R_A + \\beta R_B$. Значит $\\alpha = \\frac{10}{11}, \\beta = \\frac{10}{11}$  \n",
    "$Var(R_X) = \\alpha^2 \\delta_A^2 + \\beta^2 \\delta_B^2 + 2 \\alpha \\beta \\rho \\delta_A \\delta_B = \\frac{23}{27500}$   \n",
    "$\\delta(R_X) = \\frac{1}{50} \\sqrt{\\frac{23}{11}}$  \n",
    "$\\mathbb E(R_X) = \\alpha E_A + \\beta E_B = \\frac{1}{44}$"
   ]
  },
  {
   "cell_type": "markdown",
   "metadata": {},
   "source": [
    "# 4\n",
    "\n",
    "Ожидаемая доходность и стандартное отклонение доходности за период\n",
    "для акций компаний $A, B$ и $C$ составляют $2\\%$, $2\\%$, $3\\%$ и $3\\%$, $4\\%$, $6\\%$, соответственно. Предполагая независимость доходностей акций $A, B$ и $C$,\n",
    "найдите (в $\\%$) ожидаемую доходность $\\mathbb (R_x)$ портфеля $x$, составленного из\n",
    "этих акций так, чтобы дисперсия $Var(R_x)$ его доходности была минимальной. В ответе укажите также стоимостные доли $(в \\%)$ акций $A, B$ и $C$ в\n",
    "портфеле $x$."
   ]
  },
  {
   "cell_type": "markdown",
   "metadata": {},
   "source": [
    "## Аналитика\n",
    "\n",
    "Пусть $R_A, R_B, R_C$ - доходность акций,  \n",
    "$\\mu(R_A) = 0.02, \\mu(R_B) = 0.02, \\mu(R_C) = 0.03$, $\\mu(R) = \\mathbb E(R)$  \n",
    "$\\delta_A = 0.03, \\delta_B = 0.04, \\delta_C = 0.06$  \n",
    "Общая доходность: $R_{\\pi} = \\alpha R_A + \\beta R_B + \\gamma R_C$, где $\\alpha, \\beta, \\gamma$ - сколько акций купим, Составим систему:  \n",
    "$$\n",
    "\\begin{cases}\n",
    "Var(R_\\pi) \\rightarrow min \\\\\n",
    "\\alpha + \\beta + \\gamma = 1\n",
    "\\end{cases}\n",
    "$$\n",
    "\n",
    "$\\gamma = 1 - \\alpha - \\beta\\\\$\n",
    "\n",
    "$Var(R_\\pi) = Var(\\alpha R_A + \\beta R_B + \\gamma R_C) = \\alpha^2 Var(R_A) + \\beta^2 Var(R_B) + (1-\\alpha-\\beta)^2 Var(R_C)$, тк события независимы  \n",
    "\n",
    "$\\langle \\frac{\\partial R_\\pi}{\\partial \\alpha}; \\frac{\\partial R_\\pi}{\\partial \\beta}; \\rangle = 0 \\Rightarrow \\langle 2 \\alpha Var(R_A) - 2(1-\\alpha - \\beta)Var(R_C); 2 \\beta Var(R_B) - 2(1-\\alpha - \\beta)Var(R_C) \\rangle = 0\\\\$\n",
    "\n",
    "$$\n",
    "\\begin{cases}\n",
    "2 \\alpha \\cdot 0.0009 - 2 (1 - \\alpha - \\beta) \\cdot 0.0036 = 0 \\\\\n",
    "2 \\beta \\cdot 0.0016 - 2 (1 - \\alpha - \\beta) \\cdot 0.0036 = 0 \\\\\n",
    "\\end{cases}\n",
    "\\Rightarrow\n",
    "\\begin{cases}\n",
    "\\alpha = \\frac{16}{29} \\\\\n",
    "\\beta = \\frac{9}{29} \\\\\n",
    "\\gamma = \\frac{4}{29}\n",
    "\\end{cases}\n",
    "$$\n",
    "\n",
    "$\\mathbb E(R_\\pi) = \\mathbb E(\\frac{16}{29} R_A + \\frac{9}{29} R_B + \\frac{4}{29} \\gamma R_C) = \\frac{16}{29} \\cdot 0.02 + \\frac{9}{29} \\cdot 0.02 + \\frac{4}{29} \\cdot 0.03 \\approx 0.021$"
   ]
  },
  {
   "cell_type": "markdown",
   "metadata": {},
   "source": [
    "# 5\n",
    "Пусть $R_1, R_2$ – доходности ценных бумаг двух видов, $\\rho = \\rho(R_1,R_2), \\mu_i =\n",
    "\\mathbb E(R_i), \\delta_i = \\delta(R_i), i = 1,2$. Пусть $X$ – портфель, составленный из бумаг\n",
    "данного вида. Найдите математическое ожидание портфеля $X$ с наименьшей дисперсией доходности, если $\\mu_1 = 7\\%, \\delta_1 = 1\\%, \\mu_2 = 14\\%, \\delta_2 = 2\\%,\n",
    "\\rho = −0,5$. Укажите также стандартное отклонение полученной доходности"
   ]
  },
  {
   "cell_type": "markdown",
   "metadata": {},
   "source": [
    "## Аналитика\n",
    "\n",
    "$X = \\alpha R_1 + \\beta R_2$, где $\\alpha, \\beta$ - сколько бумаг купили в долях   \n",
    "$$\n",
    "\\begin{cases}\n",
    "Var(X) \\rightarrow min \\\\\n",
    "\\alpha + \\beta = 1\n",
    "\\end{cases}\n",
    "$$  \n",
    "$\\beta = 1 - \\alpha$   \n",
    "$Var(X) = Var(\\alpha R_1 + (1 - \\alpha) R_2) = \\alpha^2 Var(R_1) + (1-\\alpha)^2 Var(R_2) + cov(\\alpha R_1, (1-\\alpha) R_2) = ...$   \n",
    "$cov(\\alpha R_1, (1-\\alpha) R_2) = \\rho(\\alpha R_1, (1-\\alpha) R_2) \\cdot \\delta(\\alpha R_1) \\cdot \\delta((1-\\alpha) R_2) = -0.5 \\alpha \\cdot 0.01 \\cdot (1 - \\alpha) \\cdot 0.02 = -0.0001 \\alpha (1-\\alpha)$  \n",
    "$Var(X) = \\alpha^2 \\cdot 0.0001  + (1-\\alpha)^2 \\cdot 0.0004 - 0.0001 \\alpha (1-\\alpha)$  \n",
    "$\\frac{\\,d Var(X)}{\\,d \\alpha}: 2 \\alpha \\cdot 0.0001 - 2 (1 - \\alpha) \\cdot 0.0004 - 0.0001 \\cdot (1 - \\alpha - \\alpha) = 0 \\Rightarrow \\alpha = \\frac{3}{4}$  \n",
    "\n",
    "$\\mathbb E(X) = \\mathbb E(\\frac{3}{4} R_1 + \\frac{1}{4} R_2) = \\frac{3}{4} \\cdot 0.07 + \\frac{1}{4} \\cdot 0.14 = 0.0875$  \n",
    "\n",
    "$\\delta(X) = \\sqrt{\\alpha^2 \\cdot 0.0001  + (1-\\alpha)^2 \\cdot 0.0004 - 0.0001 \\alpha (1-\\alpha)} \\approx 0.009$  "
   ]
  },
  {
   "cell_type": "markdown",
   "metadata": {},
   "source": [
    "# 6"
   ]
  },
  {
   "cell_type": "markdown",
   "metadata": {},
   "source": [
    "## Аналитика\n",
    "$$\\mathbb E(X_n) = 1 \\cdot \\mathbb P(X_n = 1) + 0 \\cdot \\mathbb P(X_n = 0) = \\frac{1}{n} \\cdot 1 + (1 - \\frac{1}{n}) \\cdot 0 = \\frac{1}{n}$$\n",
    "$$VarX = \\mathbb E(X^2) - \\mathbb E^2(X)$$\n",
    "\n",
    "Для нашей случайной величины $X_i$, имеющей два возможных значения 0 и 1, $\\mathbb E(X\\_i^2) = \\mathbb P(X_i = 1) = \\frac{1}{n}$, так как $X_i^2 = X_i$. Таким образом, дисперсия одного события равна:\n",
    "$$Var(X_i) = \\mathbb E(X_i^2) - \\mathbb E^2(X_i) = \\frac{1}{n} - (\\frac{1}{n})^2 = \\frac{1}{n} - \\frac{1}{n^2}$$\n",
    "\n",
    "Таким образом, общая дисперсия для $n$ событий будет:\n",
    "$$Var(X_n) = n \\cdot (\\frac{1}{n} - \\frac{1}{n^2}) = 1 - \\frac{1}{n}$$\n",
    "\n",
    "$$\\lim_{n \\rightarrow + \\infty} Var(X_n) = \\lim_{n \\rightarrow + \\infty} 1 - \\frac{1}{n} = 1$$\n",
    "$$\\lim_{n \\rightarrow + \\infty} \\mathbb E(X_n) = \\sum_{i=1}^n \\frac{1}{n} = 1$$"
   ]
  },
  {
   "cell_type": "markdown",
   "metadata": {},
   "source": [
    "# 7\n",
    "\n",
    "Корзина содержит $N$ пронумерованных шаров $1; 2; \\ldots ; N$ . Из корзины без\n",
    "возвращения извлекаются $n \\leqslant N$ шаров. Пусть $S$ обозначает сумму номеров вынутых шаров. Найдите математическое ожидание $\\mathbb E(S)$ и дисперсию $Var(S)$ этой суммы."
   ]
  },
  {
   "cell_type": "markdown",
   "metadata": {},
   "source": [
    "$$\\mathbb{E}(S) = \\sum_{i=1}^N \\mathbb{E}(X_i) = \\sum_{i=1}^N i = \\frac{N(N + 1)}{2}.$$\n",
    "\n",
    "Тк события _независимы_:\n",
    "$$Var(S) = \\sum_{i=1}^N Var(X_i)$$\n",
    "Таким образом, дисперсия суммы будет равна сумме квадратов всех чисел минус квадрат суммы этих чисел:\n",
    "$$Var(S) = \\sum_{i=1}^N (i)^2 + \\left(\\sum_{i=1}^N i\\right)^2 - \\left(\\sum_{i=1}^N i\\right)^2.$$\n",
    "Первая часть этого выражения представляет собой квадраты чисел от 1 до $N$, что также является суммой квадратов первых $N$ целых чисел:\n",
    "$$\\sum_{i=1}^N (i)^2 = \\frac{N(N+1)(2N+1)}{6}.$$\n",
    "Вторая часть выражения — это квадрат суммы первых $N$ целых чисел, который равен:\n",
    "$$\\left(\\sum_{i=1}^N i\\right)^2 = \\left(\\frac{N(N+1)}{2}\\right)^2.$$\n",
    "Теперь мы можем записать дисперсию $S$:\n",
    "$$Var(S) = \\frac{N(N+1)(2N+1)}{6} + \\left(\\frac{N(N+1)}{2}\\right)^2 - \\left(\\frac{N(N+1)}{2}\\right)^2.$$\n",
    "Упрощая это выражение, получаем:\n",
    "$$Var(S) = \\frac{N(N+1)(2N+1)}{6} - \\frac{(N(N+1)/2)^2}{4}.$$\n",
    "Раскрыв скобки и упростив, получим:\n",
    "$$Var(S) = \\frac{N(N+1)(2N+1) - N^2(N+1)^2/4}{12} = \\frac{3N^4 + 6N^3 + 2N^2 - N^4 - 2N^3 - N^2/4}{12} = \\frac{2N^4 + 4N^3 + N^2/4}{12} = \\frac{N^2(2N + 1)^2}{12}.$$\n",
    "\n",
    "Правильный ответ: Математическое ожидание $\\mathbb{E}(S) = \\frac{N(N + 1)}{2}$, дисперсия $Var(S) = \\frac{N^2(2N + 1)^2}{12}$."
   ]
  },
  {
   "cell_type": "markdown",
   "metadata": {},
   "source": [
    "# 9\n",
    "Пусть $X_1, X_2, \\ldots , X_n$ – случайные величины, коэффициент корреляции\n",
    "любых двух из них равен $q \\\\$ Показать, что $ q \\geqslant -\\frac{1}{n-1}$"
   ]
  },
  {
   "cell_type": "markdown",
   "metadata": {},
   "source": [
    "## Аналитика\n",
    "\n",
    "$$Var(\\sum_{i=1}^{n} X_i) = \\sum_{i=1}^{n} Var(X_i) + 2 \\sum_{1 \\leqslant i < j \\leqslant n} Cov(X_i, X_j)$$\n",
    "\n",
    "$$Cov(X_i, X_j) = \\rho(X_i, X_j) \\sigma_{X_i} \\sigma_{X_j} = q \\sigma^2$$\n",
    "\n",
    "$$Var(\\sum_{i=1}^{n} X_i) \\geqslant 0$$\n",
    "\n",
    "$$\\sum_{i=1}^{n} Var(X_i) + 2 \\sum_{1 \\leqslant i < j \\leqslant n} Cov(X_i, X_j) \\geqslant 0$$\n",
    "\n",
    "$$n \\sigma^2 + 2 q \\sigma^2 \\frac{n(n-1)}{2} \\geqslant 0$$\n",
    "\n",
    "$$n + q n (n-1) \\geqslant$$\n",
    "\n",
    "$$q \\geqslant - \\frac{1}{n-1}$$"
   ]
  },
  {
   "cell_type": "markdown",
   "metadata": {},
   "source": [
    "# 10\n",
    "\n",
    "Найти коэффициент корреляции между числом единиц и числом шестерок при $n$ бросаниях игрального кубика."
   ]
  },
  {
   "cell_type": "markdown",
   "metadata": {},
   "source": [
    "## Аналитика\n",
    "\n",
    "Составим распределение случайной величины $X$:\n",
    "\n",
    "|1|2|$\\ldots$|n|\n",
    "|:-:|:-:|:-:|:-:|\n",
    "|$\\frac{1}{6} \\cdot \\frac{5}{6} (n-1)$|$C_n^2 \\frac{1}{6}^2 \\frac{5}{6}^{n-2}$|$\\ldots$|$\\frac{1}{6}^n$| то\n",
    "\n",
    "$\\mathbb E(X) = \\frac{n}{6}, Var(X) = n \\frac{1}{6} \\frac{5}{6}$\n",
    "\n",
    "то распределение случайной величины $Y$ то же что и X, значит $\\mathbb E(Y)$ и $Var(Y)$ совпадает с X\n",
    "\n",
    "значит $\\rho(X, Y) = 1$"
   ]
  },
  {
   "cell_type": "code",
   "execution_count": 18,
   "metadata": {},
   "outputs": [
    {
     "data": {
      "application/vnd.jupyter.widget-view+json": {
       "model_id": "a4638d6ee85140ed9de401f720271ed9",
       "version_major": 2,
       "version_minor": 0
      },
      "text/plain": [
       "  0%|          | 0/10000 [00:00<?, ?it/s]"
      ]
     },
     "metadata": {},
     "output_type": "display_data"
    }
   ],
   "source": [
    "val_1 = []\n",
    "val_6 = []\n",
    "X = rv_discrete(name=\"X\", values=[list(range(1, 6+1)), [1/6 for _ in range(6)]])\n",
    "for N in tqdm(range(10_000)):\n",
    "    vals = X.rvs(size=10_000)\n",
    "    val_1.append(vals[vals == 1].size)\n",
    "    val_6.append(vals[vals == 6].size)\n"
   ]
  },
  {
   "cell_type": "code",
   "execution_count": 19,
   "metadata": {},
   "outputs": [
    {
     "data": {
      "text/plain": [
       "array([[ 1.        , -0.20574364],\n",
       "       [-0.20574364,  1.        ]])"
      ]
     },
     "execution_count": 19,
     "metadata": {},
     "output_type": "execute_result"
    }
   ],
   "source": [
    "np.corrcoef(val_1, val_6)"
   ]
  },
  {
   "cell_type": "markdown",
   "metadata": {},
   "source": []
  }
 ],
 "metadata": {
  "kernelspec": {
   "display_name": "Python 3 (ipykernel)",
   "language": "python",
   "name": "python3"
  },
  "language_info": {
   "codemirror_mode": {
    "name": "ipython",
    "version": 3
   },
   "file_extension": ".py",
   "mimetype": "text/x-python",
   "name": "python",
   "nbconvert_exporter": "python",
   "pygments_lexer": "ipython3",
   "version": "3.11.8"
  }
 },
 "nbformat": 4,
 "nbformat_minor": 2
}
