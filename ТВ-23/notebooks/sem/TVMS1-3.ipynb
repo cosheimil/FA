{
 "cells": [
  {
   "cell_type": "markdown",
   "metadata": {},
   "source": [
    "<big>ПМ23-1 Варвус Артем</big>"
   ]
  },
  {
   "cell_type": "code",
   "execution_count": 11,
   "metadata": {},
   "outputs": [],
   "source": [
    "import numpy as np\n",
    "from scipy.stats import *\n",
    "from tqdm.notebook import tqdm\n",
    "import random\n",
    "import math\n",
    "def rrstr(x,n): # округление до n знаков после запятой\n",
    "    fmt = '{:.'+str(n)+'f}'\n",
    "    return fmt.format(x).replace('.',',')"
   ]
  },
  {
   "cell_type": "markdown",
   "metadata": {},
   "source": [
    "1. Имеется две корзины с белыми и черными шарами. \n",
    "В первой корзине всего 6 шаров, при этом количество белых шаров распределено по биномиальному закону с параметрами\n",
    "n = 5 и p = 0,8. \n",
    "Во второй корзине имеется всего 9 шаров, при этом количество белых шаров распределено по биномиальному закону \n",
    "с параметрами n = 4 и p = 0,1. Из обеих корзин все шары перекладываются в третью корзину. \n",
    "1) Какова вероятность $P(A)$, что случайно вынутый из третьей корзины шар окажется белым (событие $A$)?\n",
    "2) Найдите условную вероятность $P(H|A)$, того, что случайно вынутый из третьей корзины шар \n",
    "первоначально находился в первой корзине (событие $H$), при условии, что он белый (событие $A$)?<br/>"
   ]
  },
  {
   "cell_type": "code",
   "execution_count": 22,
   "metadata": {},
   "outputs": [
    {
     "data": {
      "text/plain": [
       "4.40178"
      ]
     },
     "execution_count": 22,
     "metadata": {},
     "output_type": "execute_result"
    }
   ],
   "source": [
    "p=0.8\n",
    "n=6\n",
    "A = rv_discrete(values=[\n",
    "    list(range(n), [math.comb(n, i) for i in range(n)]])"
   ]
  },
  {
   "cell_type": "code",
   "execution_count": 28,
   "metadata": {},
   "outputs": [
    {
     "data": {
      "text/plain": [
       "0.298"
      ]
     },
     "execution_count": 28,
     "metadata": {},
     "output_type": "execute_result"
    }
   ],
   "source": [
    "A = binom(n=5, p=0.8)\n",
    "B = binom(n=4, p=0.1)\n",
    "\n",
    "A.pmf(1) + B.pmf(1)"
   ]
  },
  {
   "cell_type": "code",
   "execution_count": 32,
   "metadata": {},
   "outputs": [
    {
     "data": {
      "text/plain": [
       "0.9122085048010974"
      ]
     },
     "execution_count": 32,
     "metadata": {},
     "output_type": "execute_result"
    }
   ],
   "source": [
    "1 - A.pmf(1) * B.ppf(1) / B.pmf(1)"
   ]
  },
  {
   "cell_type": "markdown",
   "metadata": {},
   "source": [
    "2. Монеты в количестве $9$ штук подбрасываются до тех пор, пока 12 раз не выпадет $6$ гербов.\n",
    "Пусть $X$ – число бросков до первого появления $6$ гербов, а  $Y$ – число бросков до последнего появления $6$ \n",
    "гербов ($Y$ = общее число бросков). Найдите: 1) математическое ожидание $X$; 2) стандартное отклонение $X$; 3) коэффициент \n",
    "корреляции между $X$ и $Y$; 4) математическое ожидание $XY$.<br/>"
   ]
  },
  {
   "cell_type": "code",
   "execution_count": 3,
   "metadata": {},
   "outputs": [
    {
     "name": "stdout",
     "output_type": "stream",
     "text": [
      "E(X) = 6.095238095237962\n",
      "sigma(X) = 5.57285289079154\n"
     ]
    }
   ],
   "source": [
    "import math\n",
    "N = 1_000_000\n",
    "n = 9\n",
    "a = 6\n",
    "b = 12\n",
    "X = geom(math.comb(n, a) * (1/2) ** a * (1/2) ** (n - a))\n",
    "print(f'E(X) = {X.expect()}')\n",
    "print(f'sigma(X) = {X.std()}')"
   ]
  },
  {
   "cell_type": "code",
   "execution_count": 4,
   "metadata": {},
   "outputs": [
    {
     "data": {
      "text/plain": [
       "array([[1.        , 0.28951386],\n",
       "       [0.28951386, 1.        ]])"
      ]
     },
     "execution_count": 4,
     "metadata": {},
     "output_type": "execute_result"
    }
   ],
   "source": [
    "X_values = X.rvs(size=N)\n",
    "Y_values = np.sum(np.vstack([X_values, [X.rvs(size=N) for _ in range(b - 1)]]), axis=0)\n",
    "\n",
    "np.corrcoef(X_values, Y_values)"
   ]
  },
  {
   "cell_type": "code",
   "execution_count": 5,
   "metadata": {},
   "outputs": [
    {
     "name": "stdout",
     "output_type": "stream",
     "text": [
      "E(XY) = 476.74222\n"
     ]
    }
   ],
   "source": [
    "XY = X_values * Y_values\n",
    "print(f'E(XY) = {XY.mean()}')"
   ]
  },
  {
   "cell_type": "markdown",
   "metadata": {},
   "source": [
    "3. Несимметричная игральная кость подбрасывается до тех пор, пока не выпадут \n",
    "цифры $2$,  $3$ и $4$. Пусть $X$ — число сделанных при этом бросков. \n",
    "Даны вероятности появления цифр в одном броске: $\\text{P}(2)=0,16$, $\\text{P}(3)=0,12$ и $\\text{P}(4)=0,13$.\n",
    "Требуется найти: 1) $\\text{E}(X)$; 2) дисперсию $X$, если известно, что из $2$,  $3$ и $4$\n",
    "сначала выпала цифра $2$, затем  — $3$.<br/>"
   ]
  },
  {
   "cell_type": "code",
   "execution_count": 9,
   "metadata": {},
   "outputs": [
    {
     "data": {
      "application/vnd.jupyter.widget-view+json": {
       "model_id": "a72e64e875de4207a321da04dfb6a65b",
       "version_major": 2,
       "version_minor": 0
      },
      "text/plain": [
       "  0%|          | 0/10000 [00:00<?, ?it/s]"
      ]
     },
     "metadata": {},
     "output_type": "display_data"
    },
    {
     "name": "stdout",
     "output_type": "stream",
     "text": [
      "E(X) = 13.6791\n",
      "Var(X) = 75.23006153198023\n"
     ]
    },
    {
     "name": "stderr",
     "output_type": "stream",
     "text": [
      "IOStream.flush timed out\n"
     ]
    }
   ],
   "source": [
    "X = rv_discrete(values=[(2, 3, 4, 0), (0.16, 0.12, 0.13, 0.59)])\n",
    "N = 10_000\n",
    "\n",
    "k = []\n",
    "k_var = []\n",
    "\n",
    "for _ in tqdm(range(N)):\n",
    "    i = 0\n",
    "    t = []\n",
    "\n",
    "    while not(2 in t and 3 in t and 4 in t):\n",
    "        value = X.rvs(size=1)[0]\n",
    "        t.append(value)\n",
    "        i += 1\n",
    "\n",
    "    t = ''.join(map(str, t))\n",
    "\n",
    "    if t.find('2') <= t.find('3') <= t.find('4'):\n",
    "        k_var.append(i)\n",
    "\n",
    "    k.append(i)\n",
    "\n",
    "k = np.array(k)\n",
    "print(f\"E(X) = {k.mean()}\")\n",
    "print(f\"Var(X) = {np.var(k_var, ddof=1)}\")"
   ]
  },
  {
   "cell_type": "markdown",
   "metadata": {},
   "source": [
    "4. В области, ограниченной эллипсом\n",
    "$\\left(\\frac{u}{26}\\right)^2+\\left(\\frac{v}{8}\\right)^2 = 1$,\n",
    "случайным образом выбираются две точки. Пусть $A$ и $B$ – события, состоящие в том, что:\n",
    "$A$ – расстояние между выбранными точками меньше 16,5; \n",
    "$B$ – координаты одной из двух точек больше 0, а координаты другой точки меньше 0.\n",
    "Найдите приближенно, методом Монте-Карло: 1) вероятность $P(A)$; 2) условную вероятность $P(A|B)$. \n",
    "Указание: получите внутри заданного эллипса 100000 пар точек и, используя все эти пары точек, \n",
    "найдите ответы, округляя их до одного знака после запятой.<br/>"
   ]
  },
  {
   "cell_type": "code",
   "execution_count": 12,
   "metadata": {},
   "outputs": [
    {
     "name": "stdout",
     "output_type": "stream",
     "text": [
      "Генерируем точки\n"
     ]
    },
    {
     "data": {
      "application/vnd.jupyter.widget-view+json": {
       "model_id": "59b3ff13bc9b4012a2cb0266a25c7246",
       "version_major": 2,
       "version_minor": 0
      },
      "text/plain": [
       "  0%|          | 0/10000 [00:00<?, ?it/s]"
      ]
     },
     "metadata": {},
     "output_type": "display_data"
    },
    {
     "name": "stdout",
     "output_type": "stream",
     "text": [
      "P(A) = 0.5708\n"
     ]
    }
   ],
   "source": [
    "a = 26\n",
    "b = 8\n",
    "\n",
    "U = uniform(loc=-a, scale=2 * a)\n",
    "V = uniform(loc=-b, scale=2 * b)\n",
    "count = 0\n",
    "points = []\n",
    "\n",
    "print('Генерируем точки')\n",
    "while(len(points)!=100_000):\n",
    "    x = U.rvs(size=1)[0]\n",
    "    y = V.rvs(size=1)[0]\n",
    "    if x ** 2 / a ** 2 + y ** 2 / b ** 2 <= 1:\n",
    "        points.append((x, y))\n",
    "\n",
    "for i in tqdm(range(N)):\n",
    "    point_1 = random.choice(points)\n",
    "    point_2 = random.choice(points)\n",
    "    if ((point_1[0] - point_2[0])**2 + (point_1[1] - point_2[1])**2)**0.5 < 16.5:\n",
    "        count += 1\n",
    "\n",
    "print(f'P(A) = {count / N}')"
   ]
  },
  {
   "cell_type": "code",
   "execution_count": 13,
   "metadata": {},
   "outputs": [
    {
     "data": {
      "application/vnd.jupyter.widget-view+json": {
       "model_id": "ae752f270bcd4577bbc63a3d939d36b3",
       "version_major": 2,
       "version_minor": 0
      },
      "text/plain": [
       "  0%|          | 0/10000 [00:00<?, ?it/s]"
      ]
     },
     "metadata": {},
     "output_type": "display_data"
    },
    {
     "name": "stdout",
     "output_type": "stream",
     "text": [
      "P(A|B) = 0.2311111111111111\n"
     ]
    }
   ],
   "source": [
    "count1, count2 = 0, 0\n",
    "for i in tqdm(range(N)):\n",
    "    point_1 = random.choice(points)\n",
    "    point_2 = random.choice(points)\n",
    "\n",
    "    if ((point_1[0] - point_2[0])**2 + (point_1[1] - point_2[1])**2)**0.5 < 16.5 and point_1[0] * point_2[0] < 0 and point_1[1] * point_2[1] < 0:\n",
    "        count1 += 1\n",
    "\n",
    "    if point_1[0] * point_2[0] < 0 and point_1[1] * point_2[1] < 0:\n",
    "        count2 += 1\n",
    "\n",
    "print(f'P(A|B) = {count1 / count2}')"
   ]
  },
  {
   "cell_type": "code",
   "execution_count": null,
   "metadata": {},
   "outputs": [],
   "source": []
  }
 ],
 "metadata": {
  "kernelspec": {
   "display_name": "Python 3 (ipykernel)",
   "language": "python",
   "name": "python3"
  },
  "language_info": {
   "codemirror_mode": {
    "name": "ipython",
    "version": 3
   },
   "file_extension": ".py",
   "mimetype": "text/x-python",
   "name": "python",
   "nbconvert_exporter": "python",
   "pygments_lexer": "ipython3",
   "version": "3.12.2"
  }
 },
 "nbformat": 4,
 "nbformat_minor": 4
}
