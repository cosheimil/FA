{
 "cells": [
  {
   "cell_type": "markdown",
   "id": "2eb2cf54",
   "metadata": {},
   "source": [
    "# Библиотеки"
   ]
  },
  {
   "cell_type": "code",
   "execution_count": 1,
   "id": "68f97824",
   "metadata": {},
   "outputs": [],
   "source": [
    "import numpy as np\n",
    "from itertools import *\n",
    "from more_itertools import *\n",
    "from sympy import *\n",
    "from scipy.special import *\n",
    "import math\n",
    "\n",
    "init_printing()"
   ]
  },
  {
   "cell_type": "markdown",
   "id": "86121682",
   "metadata": {},
   "source": [
    "## Перестановки"
   ]
  },
  {
   "cell_type": "code",
   "execution_count": 2,
   "id": "4f7f8b57",
   "metadata": {},
   "outputs": [],
   "source": [
    "Omega = 'abcd'"
   ]
  },
  {
   "cell_type": "code",
   "execution_count": 3,
   "id": "bed76bd5",
   "metadata": {},
   "outputs": [
    {
     "data": {
      "text/plain": [
       "[('a', 'b'),\n",
       " ('a', 'c'),\n",
       " ('a', 'd'),\n",
       " ('b', 'a'),\n",
       " ('b', 'c'),\n",
       " ('b', 'd'),\n",
       " ('c', 'a'),\n",
       " ('c', 'b'),\n",
       " ('c', 'd'),\n",
       " ('d', 'a'),\n",
       " ('d', 'b'),\n",
       " ('d', 'c')]"
      ]
     },
     "execution_count": 3,
     "metadata": {},
     "output_type": "execute_result"
    }
   ],
   "source": [
    "list(permutations(Omega, 2))"
   ]
  },
  {
   "cell_type": "code",
   "execution_count": 4,
   "id": "435a9fc2",
   "metadata": {},
   "outputs": [
    {
     "data": {
      "image/png": "[encoded data removed]",
      "text/latex": [
       "$\\displaystyle 12$"
      ],
      "text/plain": [
       "12"
      ]
     },
     "execution_count": 4,
     "metadata": {},
     "output_type": "execute_result"
    }
   ],
   "source": [
    "math.perm(4, 2)"
   ]
  },
  {
   "cell_type": "code",
   "execution_count": 5,
   "id": "6523bd75",
   "metadata": {},
   "outputs": [
    {
     "data": {
      "image/png": "[encoded data removed]",
      "text/latex": [
       "$\\displaystyle 12$"
      ],
      "text/plain": [
       "12"
      ]
     },
     "execution_count": 5,
     "metadata": {},
     "output_type": "execute_result"
    }
   ],
   "source": [
    "len(list(permutations(Omega, 2)))"
   ]
  },
  {
   "cell_type": "markdown",
   "id": "4ae86e8e",
   "metadata": {},
   "source": [
    "# Задачи"
   ]
  },
  {
   "cell_type": "markdown",
   "id": "c1e89a14",
   "metadata": {},
   "source": [
    "## 1\n",
    "Сколько трехзначных чисел из цифр 1, 2, 3, 4, 5 если каждую цифру не более одного раза?"
   ]
  },
  {
   "cell_type": "code",
   "execution_count": 6,
   "id": "34b16838",
   "metadata": {},
   "outputs": [
    {
     "data": {
      "image/png": "[encoded data removed]",
      "text/latex": [
       "$\\displaystyle 60$"
      ],
      "text/plain": [
       "60"
      ]
     },
     "execution_count": 6,
     "metadata": {},
     "output_type": "execute_result"
    }
   ],
   "source": [
    "math.perm(5, 3)"
   ]
  },
  {
   "cell_type": "code",
   "execution_count": 7,
   "id": "77525288",
   "metadata": {},
   "outputs": [
    {
     "data": {
      "text/plain": [
       "[('1', '2', '3'),\n",
       " ('1', '2', '4'),\n",
       " ('1', '2', '5'),\n",
       " ('1', '3', '2'),\n",
       " ('1', '3', '4'),\n",
       " ('1', '3', '5'),\n",
       " ('1', '4', '2'),\n",
       " ('1', '4', '3'),\n",
       " ('1', '4', '5'),\n",
       " ('1', '5', '2'),\n",
       " ('1', '5', '3'),\n",
       " ('1', '5', '4'),\n",
       " ('2', '1', '3'),\n",
       " ('2', '1', '4'),\n",
       " ('2', '1', '5'),\n",
       " ('2', '3', '1'),\n",
       " ('2', '3', '4'),\n",
       " ('2', '3', '5'),\n",
       " ('2', '4', '1'),\n",
       " ('2', '4', '3'),\n",
       " ('2', '4', '5'),\n",
       " ('2', '5', '1'),\n",
       " ('2', '5', '3'),\n",
       " ('2', '5', '4'),\n",
       " ('3', '1', '2'),\n",
       " ('3', '1', '4'),\n",
       " ('3', '1', '5'),\n",
       " ('3', '2', '1'),\n",
       " ('3', '2', '4'),\n",
       " ('3', '2', '5'),\n",
       " ('3', '4', '1'),\n",
       " ('3', '4', '2'),\n",
       " ('3', '4', '5'),\n",
       " ('3', '5', '1'),\n",
       " ('3', '5', '2'),\n",
       " ('3', '5', '4'),\n",
       " ('4', '1', '2'),\n",
       " ('4', '1', '3'),\n",
       " ('4', '1', '5'),\n",
       " ('4', '2', '1'),\n",
       " ('4', '2', '3'),\n",
       " ('4', '2', '5'),\n",
       " ('4', '3', '1'),\n",
       " ('4', '3', '2'),\n",
       " ('4', '3', '5'),\n",
       " ('4', '5', '1'),\n",
       " ('4', '5', '2'),\n",
       " ('4', '5', '3'),\n",
       " ('5', '1', '2'),\n",
       " ('5', '1', '3'),\n",
       " ('5', '1', '4'),\n",
       " ('5', '2', '1'),\n",
       " ('5', '2', '3'),\n",
       " ('5', '2', '4'),\n",
       " ('5', '3', '1'),\n",
       " ('5', '3', '2'),\n",
       " ('5', '3', '4'),\n",
       " ('5', '4', '1'),\n",
       " ('5', '4', '2'),\n",
       " ('5', '4', '3')]"
      ]
     },
     "execution_count": 7,
     "metadata": {},
     "output_type": "execute_result"
    }
   ],
   "source": [
    "Omega = '12345'\n",
    "list(permutations(Omega, 3))"
   ]
  },
  {
   "cell_type": "markdown",
   "id": "745060fa",
   "metadata": {},
   "source": [
    "## 2\n",
    "В группе изучают 10 предметов. В понедельник 6 занятий, причем все разные. Сколькими способами можно составить расписание\n",
    "\n",
    "Нам нужно разместить без повторений предметы в расписание:\n",
    "\n",
    "Код:\n",
    "```python\n",
    "math.perm(10, 6)\n",
    "```\n",
    "\n",
    "Аналитика:\n",
    "**$A_{10}^{6} = \\frac{10!}{(10-6)!} = 151200$**"
   ]
  },
  {
   "cell_type": "code",
   "execution_count": 9,
   "id": "1f936d37",
   "metadata": {},
   "outputs": [
    {
     "data": {
      "image/png": "[encoded data removed]",
      "text/latex": [
       "$\\displaystyle 151200$"
      ],
      "text/plain": [
       "151200"
      ]
     },
     "execution_count": 9,
     "metadata": {},
     "output_type": "execute_result"
    }
   ],
   "source": [
    "math.perm(10, 6)"
   ]
  },
  {
   "cell_type": "markdown",
   "id": "9d528e2d",
   "metadata": {},
   "source": [
    "## 3\n",
    "Сколько четырехзначных чисел, в которых нет 0, 1, 2, а все цифры различны\n",
    "\n",
    "Можем составить число из любых цифр кроме 0, 1, 2, поэтому их 7. Значит должны их _разместить_ по числу\n",
    "\n",
    "Код:\n",
    "```python\n",
    "math.perm(7, 4)\n",
    "```\n",
    "\n",
    "Аналитика:\n",
    "**$A_7^4 = \\frac{7!}{(7 - 4)!} = 840$**"
   ]
  },
  {
   "cell_type": "markdown",
   "id": "e215790b",
   "metadata": {},
   "source": [
    "## 4\n",
    "Сколько пятизначных палиндромов"
   ]
  },
  {
   "cell_type": "markdown",
   "id": "c3bc6fff",
   "metadata": {},
   "source": [
    "На первое место можем поставить все кроме 0, на второе и третье место все цифры, остальные цифры будут определены, так как число - палиндром.\n",
    "\n",
    "Код:\n",
    "\n",
    "```python\n",
    "count = 0\n",
    "for number in range(10_000, 99_999 + 1):\n",
    "    if str(number) == str(number)[::-1]:\n",
    "        count += 1\n",
    "count\n",
    "```\n",
    "\n",
    "Аналитика:\n",
    "**$9 * 10 * 10 = 900$**"
   ]
  },
  {
   "cell_type": "markdown",
   "id": "48f438f4",
   "metadata": {},
   "source": [
    "## 5\n",
    "5 юношей и 5 девушек садятся в ряд на 10 расположенных подряд стульев,\n",
    "причем юноши садятся на места с нечетными номерами, а девушки – на\n",
    "места с четными номерами. Сколькими способами это можно сделать?\n",
    "\n",
    "Сначала рассадим мальчиков, а когда все они сели будем рассаживать девочек. Чтобы рассадить мальчиков, мы должны их рассадить по порядку. Чтобы рассадить мальчиков мы воспльзуемся кол-вом размещений. Также с девочками\n",
    "\n",
    "Аналитика: \n",
    "**$P_5^5 * P_5^5 = \\frac{5!}{(5-5)!} * \\frac{5!}{(5-5)!} = 5! * 5! = (5!)^2$**"
   ]
  },
  {
   "cell_type": "markdown",
   "id": "fdee8f38",
   "metadata": {},
   "source": [
    "## 6\n",
    "Автомобильные номера составляются из одной, двух или трех букв и че-\n",
    "тырех цифр. Найти число таких номеров, используя 32 буквы русского\n",
    "алфавита.\n",
    "\n",
    "Из одной буквы можем составить: **$32 \\cdot 10^4$**\n",
    "\n",
    "Из двух букв можем составить: **$32^2 \\cdot 10^4$**\n",
    "И т.д.\n",
    "\n",
    "Итого вариантов: **$32 \\cdot 10^4 + 32^2 \\cdot 10^4 + 32^3 \\cdot 10^4 = 338240000$**"
   ]
  },
  {
   "cell_type": "markdown",
   "id": "5b86d11c",
   "metadata": {},
   "source": [
    "## 7\n",
    "\n",
    "В селении живут $1500$ жителей. Покажите, что по крайней мере двое из\n",
    "них имеют одинаковые инициалы.\n",
    "\n",
    "Будем считать, что жители говорят по-русски, тогда в алфавите - $33$ буквы. Значит различных инициалов:\n",
    "**$33 \\cdot 32 = 1056$**, что значит точно $1057$-й селянин будет иметь тот же инициал, что и другой поселенец"
   ]
  },
  {
   "cell_type": "markdown",
   "id": "312c6c85",
   "metadata": {},
   "source": [
    "## 8\n",
    "a. Сколько различных делителей имеет число $3^5 \\cdot 5^4$?  \n",
    "Аналитическое решение:\n",
    "Так как $3$ и $5$ взаимно простые числа, то посчитаем все возможные делители состоящие из одного множителя:\n",
    "\n",
    "прежде всего 1   \n",
    "также $5$ \"троек\" + $4$ \"пятерки\" = $9$\n",
    "и комбинации троек и пятерок: $5 \\cdot 4 = 20$\n",
    "\n",
    "$20 + 9 + 1 = 30$\n",
    "\n",
    "b. Пусть $p_1, p_2, \\dots , p_n$\n",
    "– различные простые числа. Сколько делителей имеет число\n",
    "\n",
    "$$m = p_1^{\\alpha_1} \\cdot p_2^{\\alpha_2} \\cdot \\dots \\cdot p_n^{\\alpha_n},$$\n",
    "где $\\alpha_1, \\alpha_2, \\dots, \\alpha_n$ - некоторые натуральные числа\n",
    "Ответом будет всевохможные комбинации этих множителей в некоторых степенях, то есть мы выбираем все возможные число от $0$ до $\\alpha_i$, тогда всего вариантов:\n",
    "$$(\\alpha_1 + 1) \\cdot (\\alpha_2 + 2) \\cdot \\dots \\cdot (\\alpha_2 + 1)$$\n",
    "\n",
    "c. Сколько делителей имеет число 13499773954411572828000."
   ]
  },
  {
   "cell_type": "code",
   "execution_count": 18,
   "id": "b13ec4f2",
   "metadata": {},
   "outputs": [],
   "source": [
    "from numba import njit, int64"
   ]
  },
  {
   "cell_type": "code",
   "execution_count": 3,
   "id": "a2f70f66",
   "metadata": {},
   "outputs": [
    {
     "ename": "KeyboardInterrupt",
     "evalue": "",
     "output_type": "error",
     "traceback": [
      "\u001b[0;31m---------------------------------------------------------------------------\u001b[0m",
      "\u001b[0;31mKeyboardInterrupt\u001b[0m                         Traceback (most recent call last)",
      "\u001b[1;32m/home/artem/FA/ТВ-23/notebooks/sem/TV1.ipynb Cell 22\u001b[0m line \u001b[0;36m1\n\u001b[1;32m     <a href='vscode-notebook-cell:/home/artem/FA/%D0%A2%D0%92-23/notebooks/sem/TV1.ipynb#X30sZmlsZQ%3D%3D?line=9'>10</a>\u001b[0m     \u001b[39mfor\u001b[39;00m divisor \u001b[39min\u001b[39;00m \u001b[39mreversed\u001b[39m(large_divisors):\n\u001b[1;32m     <a href='vscode-notebook-cell:/home/artem/FA/%D0%A2%D0%92-23/notebooks/sem/TV1.ipynb#X30sZmlsZQ%3D%3D?line=10'>11</a>\u001b[0m         \u001b[39myield\u001b[39;00m divisor\n\u001b[0;32m---> <a href='vscode-notebook-cell:/home/artem/FA/%D0%A2%D0%92-23/notebooks/sem/TV1.ipynb#X30sZmlsZQ%3D%3D?line=12'>13</a>\u001b[0m \u001b[39mprint\u001b[39m(\u001b[39mlist\u001b[39;49m(divisorGenerator(\u001b[39m13499773954411572828000\u001b[39;49m)))\n",
      "\u001b[1;32m/home/artem/FA/ТВ-23/notebooks/sem/TV1.ipynb Cell 22\u001b[0m line \u001b[0;36m6\n\u001b[1;32m      <a href='vscode-notebook-cell:/home/artem/FA/%D0%A2%D0%92-23/notebooks/sem/TV1.ipynb#X30sZmlsZQ%3D%3D?line=3'>4</a>\u001b[0m large_divisors \u001b[39m=\u001b[39m []\n\u001b[1;32m      <a href='vscode-notebook-cell:/home/artem/FA/%D0%A2%D0%92-23/notebooks/sem/TV1.ipynb#X30sZmlsZQ%3D%3D?line=4'>5</a>\u001b[0m \u001b[39mfor\u001b[39;00m i \u001b[39min\u001b[39;00m \u001b[39mrange\u001b[39m(\u001b[39m1\u001b[39m, \u001b[39mint\u001b[39m(math\u001b[39m.\u001b[39msqrt(n) \u001b[39m+\u001b[39m \u001b[39m1\u001b[39m)):\n\u001b[0;32m----> <a href='vscode-notebook-cell:/home/artem/FA/%D0%A2%D0%92-23/notebooks/sem/TV1.ipynb#X30sZmlsZQ%3D%3D?line=5'>6</a>\u001b[0m     \u001b[39mif\u001b[39;00m n \u001b[39m%\u001b[39;49m i \u001b[39m==\u001b[39m \u001b[39m0\u001b[39m:\n\u001b[1;32m      <a href='vscode-notebook-cell:/home/artem/FA/%D0%A2%D0%92-23/notebooks/sem/TV1.ipynb#X30sZmlsZQ%3D%3D?line=6'>7</a>\u001b[0m         \u001b[39myield\u001b[39;00m i\n\u001b[1;32m      <a href='vscode-notebook-cell:/home/artem/FA/%D0%A2%D0%92-23/notebooks/sem/TV1.ipynb#X30sZmlsZQ%3D%3D?line=7'>8</a>\u001b[0m         \u001b[39mif\u001b[39;00m i\u001b[39m*\u001b[39mi \u001b[39m!=\u001b[39m n:\n",
      "\u001b[0;31mKeyboardInterrupt\u001b[0m: "
     ]
    }
   ],
   "source": [
    "import math\n",
    "\n",
    "def divisorGenerator(n):\n",
    "    large_divisors = []\n",
    "    for i in range(1, int(math.sqrt(n) + 1)):\n",
    "        if n % i == 0:\n",
    "            yield i\n",
    "            if i*i != n:\n",
    "                large_divisors.append(n / i)\n",
    "    for divisor in reversed(large_divisors):\n",
    "        yield divisor\n",
    "\n",
    "print(list(divisorGenerator(13499773954411572828000)))"
   ]
  },
  {
   "cell_type": "markdown",
   "id": "142596b7",
   "metadata": {},
   "source": [
    "## 9\n",
    "Пассажир оставил вещи в автоматической камере хранения, а когда при-\n",
    "шел получать вещи, выяснилось, что он забыл номер. Он только помнит,\n",
    "что в номере были числа 23 и 37. Чтобы открыть камеру, необходимо пра-\n",
    "вильно набрать пятизначный номер. Какое наибольшее количество номе-\n",
    "ров нужно перебрать, чтобы открыть камеру? (Числа 23 и 37 можно уви-\n",
    "деть и в числе 237.)\n",
    "\n",
    "```python\n",
    "from itertools import product\n",
    "count = 0\n",
    "for a, b, c, d, e in product(range(10), repeat=5):\n",
    "    number = ''.join(map(str, [a, b, c, d, e]))\n",
    "    if '23' in number and '37' in number:\n",
    "        count += 1\n",
    "print(count)\n",
    "```\n",
    "$356$"
   ]
  },
  {
   "cell_type": "markdown",
   "id": "a23cd55f",
   "metadata": {},
   "source": [
    "## 10\n",
    "a. Сколько положительных целых чисел, меньших 1000, которые делятся на\n",
    "2, 3 или 5?   \n",
    "Всего чисел, которые делятся на 2: $\\frac{1000}{2} = 500$   \n",
    "Всего чисел, которые делятся на 3: $[\\frac{1000}{3}] = 333$   \n",
    "Всего чисел, которые делятся на 5: $\\frac{1000}{5} = 200$   \n",
    "Всего таких чисел: $500 + 333 + 200 = 1033$    \n",
    "b. Сколько положительных целых чисел, меньших 1001, которые\n",
    "не делятся ни на одно из чисел 2, 3, 5?\n",
    "```python\n",
    "count = 0\n",
    "for i in range(1001):\n",
    "    if i % 2 != 0 and i % 3 != 0 and i % 5 != 0:\n",
    "        count += 1\n",
    "count # 266\n",
    "```"
   ]
  },
  {
   "cell_type": "markdown",
   "id": "8f84a34e",
   "metadata": {},
   "source": [
    "## 11\n",
    "Сколько чисел, заключенных между 1000 и 9999, содержат цифру 3?\n",
    "```python\n",
    "count = 0\n",
    "for i in range(1_000, 10_000):\n",
    "    if '3' in str(i):\n",
    "        count += 1\n",
    "print(count)\n",
    "```\n",
    "$3168$"
   ]
  },
  {
   "cell_type": "markdown",
   "id": "317f5e37",
   "metadata": {},
   "source": [
    "## 12\n",
    "На сколько нулей оканчиваются числа:    \n",
    "\n",
    "a) 30!;  \n",
    "Двое в факториале всегда больше чем пятерок, поэтому будем считать только кол-во пятерок:\n",
    "$$[\\frac{30}{5}] + [\\frac{30}{5^2}] = 6 + 1 = 7$$\n",
    "б) 200!\n",
    "Аналогично:\n",
    "$$[\\frac{200}{5}] + [\\frac{200}{5^2}] + \\dots = 40 + 8 + 1 = 49$$\n",
    "Здесь через n! (читается n- факториал) обозначено выражение n! = 1 · 2 · . . . · n; 0! = 1."
   ]
  },
  {
   "cell_type": "markdown",
   "id": "bac4c467",
   "metadata": {},
   "source": [
    "## 13\n",
    "Код замка состоит из 4 цифр, в которой однократно входят цифры 1, 3, 7.\n",
    "Найдите число возможных кодов.\n",
    "\n",
    "$P_3^3 \\cdot 7$ - это кол-во вариантов просто расставить однократно 1, 3, 7 и всего вариантов $4 \\cdot P_3^3 \\cdot 7 = 168$ \n",
    "\n",
    "```python\n",
    "count = 0\n",
    "for number in product(range(10), repeat=4):\n",
    "    number = ''.join(map(str, number))\n",
    "    if number.count('1') == 1 and number.count('3') == 1 and number.count('7') == 1:\n",
    "       count += 1\n",
    "count \n",
    "```\n",
    "$168$"
   ]
  },
  {
   "cell_type": "markdown",
   "id": "a77ed4d3",
   "metadata": {},
   "source": []
  },
  {
   "cell_type": "markdown",
   "id": "1f6c7c8a",
   "metadata": {},
   "source": [
    "## 14\n",
    "Сколькими способами можно расставить на шахматной доске размером\n",
    "n × n две разноцветные ладьи, так чтобы они не били друг друга?\n",
    "\n",
    "В любом состоянии ладья \"закрывает\" $2n-1$ клеток. Значит на все оставшиеся клетки можно поставить вторую ладью:    \n",
    "$n ^ 2 - 2 \\cdot n + 1 = (n - 1) ^ 2$"
   ]
  },
  {
   "cell_type": "markdown",
   "id": "f3e267c7",
   "metadata": {},
   "source": [
    "## 15\n",
    "На одной из боковых сторон треугольника взято $n$ точек, на другой – $m$ точек. Каждая вершина при основании треугольника соединена прямыми с\n",
    "точками, взятыми на противоположной боковой стороне. На сколько частей будет разбит треугольник?\n",
    "\n",
    "Сначала разделим треугольник по \"прямым\", которые побили на $n$-частей треугольник. Получаем $n + 1$ частей\n",
    "\n",
    "Если проведем какую то одну прямую, которая поделит все эти части, то всего частей получится $(n + 1) \\cdot 2$. То есть всего частей будет: $$(n + 1) \\cdot (m + 1)$$"
   ]
  },
  {
   "cell_type": "markdown",
   "id": "496175c6",
   "metadata": {},
   "source": [
    "## 16\n",
    "Квадрат разделен на 16 равных квадратов. Сколькими способами можно\n",
    "раскрасить их в белый, черный, красный и синий цвета так, чтобы в каж-\n",
    "дом горизонтальном и каждом вертикальном ряду были все четыре цве-\n",
    "та?\n",
    "\n",
    "Первый ряд выберем полностью произвольно, так как на его выбор ничего не влияет: $P_4^4 = 24$    \n",
    "Второй ряд же можем выбрать точно также только сдвинув один цвет: $P_3^3 = 6$   \n",
    "Третирий ряд можем выбрать первый цвет только $2$ способами, второй - $1$. Остальные также: $2 \\cdot 1 + 1 \\cdot 2 = 4$\n",
    "$$24 \\cdot 6 \\cdot 4 = 576$$"
   ]
  },
  {
   "cell_type": "markdown",
   "id": "628a5da0",
   "metadata": {},
   "source": [
    "## 17\n",
    "Трое юношей и две девушки выбирают себе место работы. В городе есть\n",
    "три завода, где требуются рабочие (туда берут лишь мужчин), два магази-\n",
    "на, куда берут лишь женщин, и две фирмы, куда требуются и мужчины, и\n",
    "женщины. Сколькими способами они могут распределиться между этими\n",
    "предприятиями?\n",
    "\n",
    "Каждому мужчине мы можем предложить 5 фабрик. То есть для мужчин: $5^3$   \n",
    "Каждой девушке мы можем предложить 4 фабрики. То есть для девушек: $4^2$\n",
    "\n",
    "Итого: $5^2 + 4^2$"
   ]
  },
  {
   "cell_type": "markdown",
   "id": "fdddc348",
   "metadata": {},
   "source": [
    "## 18\n",
    "Сколько существует семизначных телефонных номеров, в первых трех\n",
    "цифрах которых не встречаются цифры 0 и 9?\n",
    "\n",
    "$8^3 \\cdot 10^4$"
   ]
  },
  {
   "cell_type": "markdown",
   "id": "7cd30a42",
   "metadata": {},
   "source": []
  },
  {
   "cell_type": "code",
   "execution_count": 2,
   "id": "c4c21e81",
   "metadata": {},
   "outputs": [
    {
     "data": {
      "text/plain": [
       "((-1, 0), (8, 4))"
      ]
     },
     "execution_count": 2,
     "metadata": {},
     "output_type": "execute_result"
    }
   ],
   "source": [
    "def get_min_max(arr):\n",
    "    min_elem, min_ind = float('inf'), 0\n",
    "    max_elem, max_ind = -float('inf'), 0\n",
    "\n",
    "    for ind, elem in enumerate(arr):\n",
    "        if elem < min_elem:\n",
    "            min_elem = elem\n",
    "            min_ind = ind\n",
    "        \n",
    "        if elem > max_elem:\n",
    "            max_elem = elem\n",
    "            max_ind = ind\n",
    "    \n",
    "    return ((min_elem, min_ind), (max_elem, max_ind))\n",
    "\n",
    "get_min_max([-1, 0, 5, 7, 8])"
   ]
  },
  {
   "cell_type": "code",
   "execution_count": null,
   "id": "42d853d0",
   "metadata": {},
   "outputs": [],
   "source": []
  }
 ],
 "metadata": {
  "kernelspec": {
   "display_name": "Python 3 (ipykernel)",
   "language": "python",
   "name": "python3"
  },
  "language_info": {
   "codemirror_mode": {
    "name": "ipython",
    "version": 3
   },
   "file_extension": ".py",
   "mimetype": "text/x-python",
   "name": "python",
   "nbconvert_exporter": "python",
   "pygments_lexer": "ipython3",
   "version": "3.12.2"
  }
 },
 "nbformat": 4,
 "nbformat_minor": 5
}
