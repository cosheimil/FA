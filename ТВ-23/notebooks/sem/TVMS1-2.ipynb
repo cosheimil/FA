{
 "cells": [
  {
   "cell_type": "markdown",
   "metadata": {},
   "source": [
    "<big>ПМ23-1 Варвус Артем</big>"
   ]
  },
  {
   "cell_type": "code",
   "execution_count": null,
   "metadata": {},
   "outputs": [],
   "source": [
    "import numpy as np\n",
    "def rrstr(x,n): # округление до n знаков после запятой\n",
    "    fmt = '{:.'+str(n)+'f}'\n",
    "    return fmt.format(x).replace('.',',')"
   ]
  },
  {
   "cell_type": "code",
   "execution_count": 1,
   "metadata": {},
   "outputs": [],
   "source": [
    "import numpy as np\n",
    "import pandas as pd\n",
    "from itertools import *\n",
    "from more_itertools import *\n",
    "from sympy import *\n",
    "from scipy.special import *\n",
    "import math\n",
    "from fractions import Fraction\n",
    "from scipy.stats import *\n",
    "from tqdm.notebook import tqdm\n",
    "import matplotlib.pyplot as plt"
   ]
  },
  {
   "cell_type": "markdown",
   "metadata": {},
   "source": [
    "1. События $A$, $B$ и $C$ имеют вероятности: $\\text{P}(A)=0,3$, $\\text{P}(B)=0,4$, $\\text{P}(C)=0,3$. \n",
    "Эти события попарно независимы, но все три одновременно наступить не могут.\n",
    "Пусть $X$ – индикатор $A$, $Y$ – индикатор $B$, $Z$ – индикатор $C$, а $V=5X+6Y+7Z$.\n",
    "Найдите:\n",
    "1) математическое ожидание $\\text{E}(V)$;\n",
    "2) дисперсию $\\text{V}\\!\\text{ar}(V)$.<br/>"
   ]
  },
  {
   "cell_type": "markdown",
   "metadata": {},
   "source": [
    "$ E[X] = 0.3; E[Y] = 0.4; E[Z] = 0.3 $\n",
    "\n",
    "$ V = 5X + 6Y + 7Z$\n",
    "\n",
    "$ E[V] = 5 \\cdot 0.3 + 6 \\cdot 0.4 + 7 \\cdot 0.3 = 6$\n",
    "\n",
    "$ Var(V) = E[V^2] - (E[V])^2$\n",
    "\n",
    "$ E[V^2] = E[25X^2 + 36Y^2 + 49Z^2 + 60XY + 70XZ + 84YZ]$\n",
    "тк события независимы:\n",
    "\n",
    "$ E[V^2] = 25E[X^2] + 36E[Y^2] + 49E[Z^2]+ 60 E[X] E[Y] + 70 E[X] E[Z] + 84 E[Y] E[Z]$\n",
    "\n",
    "$E[V^2] = 25 \\cdot 0.3 + 36 \\cdot 0.4 + 49 \\cdot 0.3 + 60 \\cdot 0.3 \\cdot 0.4 + 70 \\cdot 0.3 \\cdot 0.3 + 84 \\cdot 0.4 \\cdot 0.3$"
   ]
  },
  {
   "cell_type": "code",
   "execution_count": 3,
   "metadata": {},
   "outputs": [
    {
     "data": {
      "text/plain": [
       "6.0"
      ]
     },
     "execution_count": 3,
     "metadata": {},
     "output_type": "execute_result"
    }
   ],
   "source": [
    "5 * 0.3 + 6 * 0.4 + 7 * 0.3"
   ]
  },
  {
   "cell_type": "code",
   "execution_count": 4,
   "metadata": {},
   "outputs": [
    {
     "data": {
      "text/plain": [
       "24.179999999999993"
      ]
     },
     "execution_count": 4,
     "metadata": {},
     "output_type": "execute_result"
    }
   ],
   "source": [
    "e_v_sq = 25 * 0.3 + 36 * 0.4 + 49 * 0.3 + 60 * 0.3 * 0.4 + 70 * 0.3 * 0.3 + 84 * 0.4 * 0.3\n",
    "e_v_sq - 36"
   ]
  },
  {
   "cell_type": "markdown",
   "metadata": {},
   "source": [
    "2. Внутри квадрата площади 100 расположены треугольник и круг.\n",
    "Площади этих фигур даны: треугольник – 47, круг – 40. Также известно, что\n",
    "площадь пересечения треугольника и круга равна 13. В квадрате случайным независимым образом\n",
    "выбираются точки $\\omega_1,...,\\omega_{5}$. Определим случайные величины:\n",
    "$X_i$ – индикатор попадания $\\omega_i$ в треугольник, $Y_i$ – индикатор попадания $\\omega_i$ в круг,\n",
    "$Z_i=X_i+Y_i$, $i=1,...,5$. Определим также сумму $U=Z_1+...+Z_{5}$ и произведение $V=Z_1 ... Z_{5}$.\n",
    "Найдите:\n",
    "1) математическое ожидание $\\text{E}(U)$;\n",
    "2) дисперсию $\\text{V}\\!\\text{ar}(U)$;\n",
    "3) математическое ожидание $\\text{E}(V)$;\n",
    "4) дисперсию $\\text{V}\\!\\text{ar}(V)$.<br/>"
   ]
  },
  {
   "cell_type": "code",
   "execution_count": 5,
   "metadata": {},
   "outputs": [
    {
     "data": {
      "text/plain": [
       "4.35"
      ]
     },
     "execution_count": 5,
     "metadata": {},
     "output_type": "execute_result"
    }
   ],
   "source": [
    "zk = [0, 1, 2]\n",
    "pz = [0.26, 0.61, 0.13]\n",
    "\n",
    "Z = rv_discrete(name='Z', values=(zk, pz))\n",
    " \n",
    "5 * Z.expect()"
   ]
  },
  {
   "cell_type": "code",
   "execution_count": 6,
   "metadata": {},
   "outputs": [
    {
     "data": {
      "text/plain": [
       "1.8654999999999995"
      ]
     },
     "execution_count": 6,
     "metadata": {},
     "output_type": "execute_result"
    }
   ],
   "source": [
    "Z.var() * 5"
   ]
  },
  {
   "cell_type": "code",
   "execution_count": 7,
   "metadata": {},
   "outputs": [
    {
     "data": {
      "text/plain": [
       "(0.49804166666666666, 2.745058831597222)"
      ]
     },
     "execution_count": 7,
     "metadata": {},
     "output_type": "execute_result"
    }
   ],
   "source": [
    "x = rv_discrete(name='x', values=([0, 1], [53/100, 47/100]))\n",
    "y = rv_discrete(name='y', values=([0, 1], [60/100, 40/100]))\n",
    "\n",
    "x_v = np.array([x.rvs(size=3_000_000) for _ in range(5)])\n",
    "y_v = np.array([y.rvs(size=3_000_000) for _ in range(5)])\n",
    "\n",
    "l = np.prod(x_v + y_v, axis=0)\n",
    "\n",
    "zk = [0, 1, 2, 4, 8, 16, 32]\n",
    "pz = [l[l == i].size / 3_000_000 for i in zk]\n",
    "\n",
    "Z = rv_discrete(name='Z', values=(zk, pz))\n",
    "\n",
    "Z.expect(), Z.var()\n",
    "\n"
   ]
  },
  {
   "cell_type": "markdown",
   "metadata": {},
   "source": [
    "3. Доход по типовому контракту (в млн. рублей) описывается дискретной случайной величиной $X$\n",
    "c распределением\n",
    "$$\\begin{array}{|c|c|c|c|c|} \n",
    "\\hline\n",
    "X & 7 & 9 & 10 & 11 & 14 \\\\ \n",
    "\\hline\n",
    "P & 0,1 & ? & 0,2 & 0,2 & 0,3 \\\\  \n",
    "\\hline\n",
    "\\end{array}.$$\n",
    "Фирма заключила $2$ типовых контрактов.\n",
    "Найдите: 1) мат. ожидание и 2) дисперсию среднего арифметического дохода по этим $2$ контрактам, считая\n",
    "доходы независимыми между собой.<br/>"
   ]
  },
  {
   "cell_type": "code",
   "execution_count": 8,
   "metadata": {},
   "outputs": [
    {
     "name": "stdout",
     "output_type": "stream",
     "text": [
      "10.9\n",
      "5.290000000000006\n"
     ]
    }
   ],
   "source": [
    "xk = [7, 9, 10, 11, 14]\n",
    "px = [0.1, 0.2, 0.2, 0.2, 0.3]\n",
    "\n",
    "x = rv_discrete(name='X', values=(xk, px))\n",
    "\n",
    "print(x.expect())\n",
    "print(x.var())"
   ]
  },
  {
   "cell_type": "markdown",
   "metadata": {},
   "source": [
    "4. Случайные величины $X_1,...,X_{11}$ могут принимать только три значения: 0, 1 и 3.\n",
    "Известны вероятности 0 и 1: $\\text{P}(X_i = 0)=0,2$; $\\text{P}(X_i = 1)=0,2$, где $i=1,...,11$.\n",
    "Кроме того, известно, что $\\text{P}(X_i + X_j = 2)=0,05$; $\\text{P}(X_i + X_j = 4)=0,21$ и \n",
    "$\\text{P}(X_i + X_j = 6)=0,38$ для $1 \\le i < j \\le 11$. Пусть $S=X_1+...+X_{11}$.\n",
    "Найдите:\n",
    "1) ковариацию $\\text{Cov}(X_i,X_j)$, для $i \\ne j$;\n",
    "2) дисперсию $\\text{V}\\!\\text{ar}(S)$.<br/>"
   ]
  },
  {
   "cell_type": "code",
   "execution_count": 9,
   "metadata": {},
   "outputs": [
    {
     "data": {
      "text/plain": [
       "0.05980000000000185"
      ]
     },
     "execution_count": 9,
     "metadata": {},
     "output_type": "execute_result"
    }
   ],
   "source": [
    "x_ij = rv_discrete('X_i X_j', values=([0, 1, 2, 3, 4, 6], [0.04, 0.08, 0.05, 0.24, 0.21, 0.38]))\n",
    "# x_ij.var()\n",
    "x_i = rv_discrete('X_i', values=([0, 1, 3], [0.2, 0.2, 0.6]))\n",
    "(x_ij.var() - 2 * x_i.var()) / 2"
   ]
  },
  {
   "cell_type": "markdown",
   "metadata": {},
   "source": [
    "5. Математическое ожидание доходности акций компаний А и В составляет $2$% и $4$%, \n",
    "при этом стандартное отклонение доходности равно $3$% и $6$%, соответственно. Также известен \n",
    "коэффициент корреляции $\\rho_{AB}$ доходностей акций А и В, $\\rho_{AB}=0,38$. Найдите (короткие позиции допускаются):\n",
    "1) доли акций А и В в портфеле с минимальной дисперсией доходности;\n",
    "2) ожидаемую доходность и стандартное отклонение доходности такого портфеля. <br/>"
   ]
  },
  {
   "cell_type": "markdown",
   "metadata": {},
   "source": [
    "## Аналитика\n",
    "\n",
    "Пусть $R_A, R_B$ - доходность акций,  \n",
    "$\\mu(R_A) = 0.02, \\mu(R_B) = 0.04$  \n",
    "$\\sigma_A = 0.03, \\sigma_B = 0.06, \\rho(A, B) = 0,38$  \n",
    "Общая доходность: $R_{\\pi} = \\alpha R_A + \\beta R_B$, где $\\alpha, \\beta$ - сколько акций купим в _долях_, Составим систему:  \n",
    "$$\n",
    "\\begin{cases}\n",
    "Var(R_\\pi) \\rightarrow min \\\\\n",
    "\\alpha + \\beta = 1\n",
    "\\end{cases}\n",
    "$$\n",
    "\n",
    "$\\beta = 1 - \\alpha\\\\$\n",
    "\n",
    "$Var(R_\\pi) = Var(\\alpha R_A + \\beta R_B) = \\alpha^2 Var(R_A) + \\beta^2 Var(R_B) + 2 \\cdot cov(\\alpha R_A, \\beta R_B) = \\alpha^2 Var(R_A) + \\beta^2 Var(R_B) + 2 \\cdot \\rho(A, B) \\sigma_{R_A} \\sigma_{R_B} \\alpha \\beta \\Rightarrow \n",
    "\\alpha^2 Var(R_A) + (1-\\alpha)^2 Var(R_B) + 2 \\cdot \\rho(A, B) \\sigma_{R_A} \\sigma_{R_B} \\alpha (1-\\alpha) \\\\$\n",
    "\n",
    "$\\frac{\\, d Var(R_\\pi)}{\\, d x} = 0 \\Rightarrow 2 \\alpha Var(R_A) - 2 (1 - \\alpha) Var(R_B) + 2 \\cdot \\rho(A, B) \\sigma_{R_A} \\sigma_{R_B} \\cdot (1 - 2 \\alpha) = 0; \\alpha = \\frac{\\sigma_B ^ 2}{\\sigma_A ^ 2 - 2 \\sigma_A \\sigma_B \\rho(A, B) + \\sigma_B ^ 2} = \\frac{0.0036}{0.0009 - 2 \\cdot 0.03 \\cdot 0.06 \\cdot 0.38 + 0.0036}$\n",
    "\n",
    "$\\mathbb E(R_\\pi) = \\mathbb E(\\frac{16}{29} R_A + \\frac{9}{29} R_B + \\frac{4}{29} \\gamma R_C) = \\frac{16}{29} \\cdot 0.02 + \\frac{9}{29} \\cdot 0.02 + \\frac{4}{29} \\cdot 0.03 \\approx 0.021$"
   ]
  },
  {
   "cell_type": "code",
   "execution_count": 2,
   "metadata": {},
   "outputs": [
    {
     "data": {
      "text/plain": [
       "2.5"
      ]
     },
     "execution_count": 2,
     "metadata": {},
     "output_type": "execute_result"
    }
   ],
   "source": [
    "0.05/0.02"
   ]
  },
  {
   "cell_type": "code",
   "execution_count": null,
   "metadata": {},
   "outputs": [],
   "source": []
  }
 ],
 "metadata": {
  "kernelspec": {
   "display_name": "Python 3 (ipykernel)",
   "language": "python",
   "name": "python3"
  },
  "language_info": {
   "codemirror_mode": {
    "name": "ipython",
    "version": 3
   },
   "file_extension": ".py",
   "mimetype": "text/x-python",
   "name": "python",
   "nbconvert_exporter": "python",
   "pygments_lexer": "ipython3",
   "version": "3.11.8"
  }
 },
 "nbformat": 4,
 "nbformat_minor": 4
}
