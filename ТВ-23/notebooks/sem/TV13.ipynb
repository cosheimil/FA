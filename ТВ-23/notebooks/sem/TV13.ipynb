{
 "cells": [
  {
   "cell_type": "markdown",
   "metadata": {},
   "source": [
    "# Библиотеки"
   ]
  },
  {
   "cell_type": "code",
   "execution_count": 1,
   "metadata": {},
   "outputs": [],
   "source": [
    "from sympy import *\n",
    "from sympy.solvers.inequalities import reduce_inequalities\n",
    "from scipy.stats import *\n",
    "from fractions import Fraction"
   ]
  },
  {
   "cell_type": "markdown",
   "metadata": {},
   "source": [
    "# 1\n",
    "\n",
    "Случайный вектор $(X,Y)$ равномерно распределен в треугольнике\n",
    "\n",
    "$$x \\geqslant 0; y \\geqslant 0; 5x + 12y \\leqslant 60.$$\n",
    "\n",
    "1) Найдите значение функции распределения $F_X(4)$. \n",
    "2) Найдите $\\mathbb E(X), Var(X)$ и $\\mathbb E(X^9 Y)$.\n",
    "3) Найдите $Cov(X, Y)$ и $\\rho (X, Y)$"
   ]
  },
  {
   "cell_type": "markdown",
   "metadata": {},
   "source": [
    "## Аналитика\n",
    "\n",
    "Вершины треугольника: $(0, 0); (12, 0); (0, 5)$\n",
    "\n",
    "Найдем $F_X(4)$:  \n",
    "$F_X(x) = \\mathbb P(X \\leqslant x) \\\\$\n",
    "$S = \\frac{1}{2} \\cdot 12 \\cdot 5 = 30 \\Rightarrow f_{X, Y}(x, y) = \\frac{1}{S} = \\frac{1}{30} \\\\$\n",
    "$X \\leqslant 4\n",
    "\\Rightarrow\n",
    "\\begin{cases}\n",
    "5x + 12y &= 60, \\\\\n",
    "x &=4\n",
    "\\end{cases}\n",
    "\\Rightarrow\n",
    "y = \\frac{10}{3} \\\\$ \n",
    "Значит $\\hat{S} = \\frac{1}{2} \\cdot 4 \\cdot \\frac{10}{3} = \\frac{20}{3} \\\\$\n",
    "$F_X(4) = \\frac{\\hat{S}}{S} = \\frac{\\frac{20}{3}}{30} = \\frac{2}{9}$ \n",
    "\n",
    "Найдем $\\mathbb E(X)$:  \n",
    "$\\mathbb E(X) = \\int_{- \\infty}^{+\\infty} x f_X(x) \\,dx = \\frac{1}{S} \\int_{0}^{12} x \\,dx \\int_{0}^{\\frac{60-5x}{12}} \\,dy = \\frac{1}{30} \\int_{0}^{12} \\frac{60x-5x^2}{12} \\,dx = \\frac{1}{360} \\cdot (30x^2 - \\frac{5x^3}{3}) \\bigg|_{0}^{12} = 4$\n",
    "\n",
    "Найдем $Var(X)$:  \n",
    "$Var(X) = \\int_{- \\infty}^{+\\infty} x^2 f_X(x) \\,dx - \\mathbb E^2(X) = \\frac{1}{S} \\int_{0}^{12} x^2 \\,dx \\int_{0}^{\\frac{60-5x}{12}} \\,dy - 16 = \\frac{1}{30} \\int_{0}^{12} \\frac{60x^2-5x^3}{12} \\,dx = 24$\n",
    "\n",
    "Найдем $\\mathbb E(X^9 Y)$:  \n",
    "$\\mathbb E(Z = X^9 Y) = \\int_{-\\infty}^{+\\infty} \\int_{-\\infty}^{+\\infty} \\phi(X, Y) f_{X, Y}(x, y) \\, dx \\, dy = \\frac{1}{S} \\int_{0}^{12} \\,dx \\int_{0}^{\\frac{60-5x}{12}} x^9 \\cdot y \\,dy \\approx 3,91 \\cdot 10^7$\n",
    "\n",
    "Найдем $Cov(X, Y)$:  \n",
    "$Cov(X, Y) = \\int_{-\\infty}^{+\\infty} \\int_{-\\infty}^{+\\infty} (x - \\mathbb E(X)) \\cdot (y - \\mathbb E(Y)) f_{X, Y}(x, y) \\, dx \\, dy$  \n",
    "$\\mathbb E(Y) = \\frac{1}{S} \\int_{0}^{12} \\,dx \\int_{0}^{\\frac{60-5x}{12}} y \\,dy = \\frac{5}{3}$  \n",
    "$Cov(X, Y) = \\frac{1}{30} \\int_{0}^{12} \\int_{0}^{\\frac{60-5x}{12}} (x - 4) \\cdot (y - \\frac{5}{3}) \\, dx \\, dy \\approx -1,67$  \n",
    "\n",
    "Найдем $\\rho (X, Y)$:  \n",
    "$\\rho(X, Y) = \\frac{Cov(X, Y)}{\\sqrt{Var(X)} \\cdot \\sqrt{Var(Y)}} = \\frac{-1,67}{\\sqrt{24} \\cdot \\sqrt{1,39}} \\approx -0,289$  \n",
    "$Var(Y) = \\int_{- \\infty}^{+\\infty} y^2 f_Y(y) \\,dx - \\mathbb E^2(Y) = \\frac{1}{30} \\int_{0}^{12} \\,dx \\int_{0}^{\\frac{60-5x}{12}} y^2 \\,dy - \\frac{25}{9} \\approx 1,39 $"
   ]
  },
  {
   "cell_type": "markdown",
   "metadata": {},
   "source": [
    "## Кодом"
   ]
  },
  {
   "cell_type": "code",
   "execution_count": 2,
   "metadata": {},
   "outputs": [],
   "source": [
    "x, y = symbols('x, y')"
   ]
  },
  {
   "cell_type": "markdown",
   "metadata": {},
   "source": [
    "1. $\\mathbb E(X)$"
   ]
  },
  {
   "cell_type": "code",
   "execution_count": 3,
   "metadata": {},
   "outputs": [
    {
     "data": {
      "text/latex": [
       "$\\displaystyle 4$"
      ],
      "text/plain": [
       "4"
      ]
     },
     "execution_count": 3,
     "metadata": {},
     "output_type": "execute_result"
    }
   ],
   "source": [
    "expr = x / 30\n",
    "integrate(integrate(expr, [y, 0, (60 - 5*x)/12]), [x, 0, 12])"
   ]
  },
  {
   "cell_type": "code",
   "execution_count": 4,
   "metadata": {},
   "outputs": [
    {
     "data": {
      "text/latex": [
       "$\\displaystyle \\frac{5}{3}$"
      ],
      "text/plain": [
       "5/3"
      ]
     },
     "execution_count": 4,
     "metadata": {},
     "output_type": "execute_result"
    }
   ],
   "source": [
    "expr = y / 30\n",
    "integrate(integrate(expr, [y, 0, (60 - 5*x)/12]), [x, 0, 12])"
   ]
  },
  {
   "cell_type": "code",
   "execution_count": 5,
   "metadata": {},
   "outputs": [
    {
     "data": {
      "text/latex": [
       "$\\displaystyle \\frac{429981696}{11}$"
      ],
      "text/plain": [
       "429981696/11"
      ]
     },
     "execution_count": 5,
     "metadata": {},
     "output_type": "execute_result"
    }
   ],
   "source": [
    "expr = x ** 9 * y\n",
    "integrate(integrate(expr, [y, 0, (60 - 5*x)/12]), [x, 0, 12]) / 30"
   ]
  },
  {
   "cell_type": "code",
   "execution_count": 6,
   "metadata": {},
   "outputs": [
    {
     "data": {
      "text/latex": [
       "$\\displaystyle -1.66666666666667$"
      ],
      "text/plain": [
       "-1.66666666666667"
      ]
     },
     "execution_count": 6,
     "metadata": {},
     "output_type": "execute_result"
    }
   ],
   "source": [
    "expr = (x - 4) * (y - 5/3)\n",
    "1/30 * integrate(integrate(expr, [y, 0, (60-5*x)/12]), [x, 0, 12])"
   ]
  },
  {
   "cell_type": "code",
   "execution_count": 7,
   "metadata": {},
   "outputs": [
    {
     "data": {
      "text/latex": [
       "$\\displaystyle 1.38888888888889$"
      ],
      "text/plain": [
       "1.38888888888889"
      ]
     },
     "execution_count": 7,
     "metadata": {},
     "output_type": "execute_result"
    }
   ],
   "source": [
    "expr = y ** 2\n",
    "integrate(integrate(expr, [y, 0, (60-5*x)/12]), [x, 0, 12]) / 30 - 25/9"
   ]
  },
  {
   "cell_type": "code",
   "execution_count": 8,
   "metadata": {},
   "outputs": [
    {
     "data": {
      "text/plain": [
       "-0.28913685324440525"
      ]
     },
     "execution_count": 8,
     "metadata": {},
     "output_type": "execute_result"
    }
   ],
   "source": [
    "-1.67 / (24 ** 0.5 * 1.39 ** 0.5)"
   ]
  },
  {
   "cell_type": "markdown",
   "metadata": {},
   "source": [
    "# 12\n",
    "\n",
    "Для нормального случайного вектора $(X,Y) \\sim N(−7; 17; 81; 16; 0,6)$   \n",
    "найдите\n",
    "вероятность $\\mathbb P ((X −4)(Y −3) < 0)$"
   ]
  },
  {
   "cell_type": "markdown",
   "metadata": {},
   "source": [
    "## Кодом"
   ]
  },
  {
   "cell_type": "markdown",
   "metadata": {},
   "source": [
    "$x > 4, y < 3; \\\\ x < 4, y > 3$"
   ]
  },
  {
   "cell_type": "code",
   "execution_count": 2,
   "metadata": {},
   "outputs": [],
   "source": [
    "mu_X = -7\n",
    "mu_Y = 17\n",
    "sigma_X = 81 ** 0.5\n",
    "sigma_Y = 16 ** 0.5\n",
    "rho = 0.6\n",
    "\n",
    "Cov_XY = rho * sigma_X * sigma_Y\n",
    "mu = [mu_X, mu_Y]\n",
    "C = [[sigma_X ** 2, Cov_XY], [Cov_XY, sigma_Y ** 2]]\n",
    "\n",
    "XY = multivariate_normal(mean=mu, cov=C)\n",
    "X = norm(mu_X, sigma_X)\n",
    "Y = norm(mu_Y, sigma_Y)"
   ]
  },
  {
   "cell_type": "code",
   "execution_count": 3,
   "metadata": {},
   "outputs": [
    {
     "data": {
      "text/plain": [
       "0.888955573790622"
      ]
     },
     "execution_count": 3,
     "metadata": {},
     "output_type": "execute_result"
    }
   ],
   "source": [
    "X.cdf(4) - 2 * XY.cdf([4, 3]) + Y.cdf(3)"
   ]
  },
  {
   "cell_type": "code",
   "execution_count": null,
   "metadata": {},
   "outputs": [],
   "source": [
    "sample = XY.rvs(size=10_000_000)"
   ]
  },
  {
   "cell_type": "code",
   "execution_count": null,
   "metadata": {},
   "outputs": [],
   "source": [
    "c = 0\n",
    "for x, y in sample:\n",
    "    if (x - 4) * (y - 3) < 0:\n",
    "        c += 1"
   ]
  },
  {
   "cell_type": "code",
   "execution_count": null,
   "metadata": {},
   "outputs": [
    {
     "data": {
      "text/plain": [
       "0.8890183"
      ]
     },
     "execution_count": 34,
     "metadata": {},
     "output_type": "execute_result"
    }
   ],
   "source": [
    "c / 10_000_000"
   ]
  },
  {
   "cell_type": "markdown",
   "metadata": {},
   "source": [
    "## 2\n",
    "Плотность распределения случайного вектора $(X, Y)$ имеет вид:\n",
    "\n",
    "$$ f_{X, Y}(x, y) = \\frac{12}{\\pi} e^{-\\frac{51}{2} x^2 - 45xy - 9x -\\frac{51}{2}y^2 - 7y - \\frac{5}{6}} $$\n",
    "\n",
    "1. Найдите $\\mathbb E(X)$, $\\mathbb E(Y)$, $Var(X)$, $Var(Y)$, $Cov(X, Y)$ и $\\rho(X, Y)$.\n",
    "2. Найдите $\\mathbb P(2X - 3Y > 1)$"
   ]
  },
  {
   "cell_type": "markdown",
   "metadata": {},
   "source": [
    "## Аналитика\n",
    "\n",
    "1. Найдите $\\mathbb E(X)$, $\\mathbb E(Y)$, $Var(X)$, $Var(Y)$, $Cov(X, Y)$ и $\\rho(X, Y)$.\n",
    "\n",
    "$\\mathbb E(X) = \\int_{-\\infty}^{+\\infty} x \\, dx \\int_{-\\infty}^{+\\infty} f_{X, Y}(x, y) \\, dy = -\\frac{1}{4}$\n",
    "\n",
    "$\\mathbb E(Y) = \\int_{-\\infty}^{+\\infty} y \\, dy \\int_{-\\infty}^{+\\infty} f_{X, Y}(x, y) \\, dx = \\frac{1}{12}$\n",
    "\n",
    "$Var(X) = \\int_{-\\infty}^{+\\infty} x^2 \\, dx \\int_{-\\infty}^{+\\infty} f_{X, Y}(x, y) \\, dy - \\mathbb E^2(X) = \\frac{17}{192}$\n",
    "\n",
    "$Var(Y) = \\int_{-\\infty}^{+\\infty} y^2 \\, dy \\int_{-\\infty}^{+\\infty} f_{X, Y}(x, y) \\, dx - \\mathbb E^2(Y) = \\frac{17}{192}$\n",
    "\n",
    "$Cov(X, Y) = $"
   ]
  },
  {
   "cell_type": "markdown",
   "metadata": {},
   "source": [
    "## Кодом"
   ]
  },
  {
   "cell_type": "code",
   "execution_count": 29,
   "metadata": {},
   "outputs": [
    {
     "data": {
      "text/latex": [
       "$\\displaystyle \\frac{5.21517850208494 e^{- 25.5 x^{2} - 45 x y - 9 x - 25.5 y^{2} - 7 y}}{\\pi}$"
      ],
      "text/plain": [
       "5.21517850208494*exp(-25.5*x**2 - 45*x*y - 9*x - 25.5*y**2 - 7*y)/pi"
      ]
     },
     "execution_count": 29,
     "metadata": {},
     "output_type": "execute_result"
    }
   ],
   "source": [
    "expr = 12 / pi * exp(1) ** (-51/2 * x ** 2 - 45 * x * y - 9 * x - 51/2 * y ** 2 - 7 * y - 5/6)\n",
    "expr"
   ]
  },
  {
   "cell_type": "code",
   "execution_count": 14,
   "metadata": {},
   "outputs": [
    {
     "data": {
      "text/latex": [
       "$\\displaystyle -0.25$"
      ],
      "text/plain": [
       "-0.250000000000000"
      ]
     },
     "execution_count": 14,
     "metadata": {},
     "output_type": "execute_result"
    }
   ],
   "source": [
    "simplify(integrate(x * integrate(expr, [y, [-oo, +oo]]), [x, -oo, +oo]))"
   ]
  },
  {
   "cell_type": "code",
   "execution_count": 15,
   "metadata": {},
   "outputs": [
    {
     "data": {
      "text/latex": [
       "$\\displaystyle \\frac{8.32667268468867 \\cdot 10^{-17}}{\\sqrt{\\pi}} + 0.0833333333333336$"
      ],
      "text/plain": [
       "8.32667268468867e-17/sqrt(pi) + 0.0833333333333336"
      ]
     },
     "execution_count": 15,
     "metadata": {},
     "output_type": "execute_result"
    }
   ],
   "source": [
    "simplify(integrate(y * integrate(expr, [x, [-oo, +oo]]), [y, -oo, +oo]))"
   ]
  },
  {
   "cell_type": "code",
   "execution_count": 17,
   "metadata": {},
   "outputs": [
    {
     "data": {
      "text/latex": [
       "$\\displaystyle 0.0885416666666666$"
      ],
      "text/plain": [
       "0.0885416666666666"
      ]
     },
     "execution_count": 17,
     "metadata": {},
     "output_type": "execute_result"
    }
   ],
   "source": [
    "simplify(integrate(x ** 2 * integrate(expr, [y, [-oo, +oo]]), [x, -oo, +oo])) - 1/16"
   ]
  },
  {
   "cell_type": "code",
   "execution_count": 19,
   "metadata": {},
   "outputs": [
    {
     "data": {
      "text/latex": [
       "$\\displaystyle 0.0885416666666668 - \\frac{6.93889390390723 \\cdot 10^{-18}}{\\sqrt{\\pi}}$"
      ],
      "text/plain": [
       "0.0885416666666668 - 6.93889390390723e-18/sqrt(pi)"
      ]
     },
     "execution_count": 19,
     "metadata": {},
     "output_type": "execute_result"
    }
   ],
   "source": [
    "simplify(integrate(y ** 2 * integrate(expr, [x, [-oo, +oo]]), [y, -oo, +oo])) - 1/144"
   ]
  },
  {
   "cell_type": "code",
   "execution_count": 30,
   "metadata": {},
   "outputs": [
    {
     "data": {
      "text/latex": [
       "$\\displaystyle \\frac{5.21517850208494 \\left(x + 0.25\\right) \\left(y - 0.0833333333333333\\right) e^{- 25.5 x^{2} - 45 x y - 9 x - 25.5 y^{2} - 7 y}}{\\pi}$"
      ],
      "text/plain": [
       "5.21517850208494*(x + 0.25)*(y - 0.0833333333333333)*exp(-25.5*x**2 - 45*x*y - 9*x - 25.5*y**2 - 7*y)/pi"
      ]
     },
     "execution_count": 30,
     "metadata": {},
     "output_type": "execute_result"
    }
   ],
   "source": [
    "expr = (x + 1/4) * (y - 1/12) * expr\n",
    "expr"
   ]
  },
  {
   "cell_type": "code",
   "execution_count": 34,
   "metadata": {},
   "outputs": [
    {
     "ename": "KeyboardInterrupt",
     "evalue": "",
     "output_type": "error",
     "traceback": [
      "\u001b[0;31m---------------------------------------------------------------------------\u001b[0m",
      "\u001b[0;31mKeyboardInterrupt\u001b[0m                         Traceback (most recent call last)",
      "Cell \u001b[0;32mIn[34], line 1\u001b[0m\n\u001b[0;32m----> 1\u001b[0m \u001b[43mintegrate\u001b[49m\u001b[43m(\u001b[49m\u001b[43mintegrate\u001b[49m\u001b[43m(\u001b[49m\u001b[43mexpr\u001b[49m\u001b[43m,\u001b[49m\u001b[43m \u001b[49m\u001b[43m[\u001b[49m\u001b[43mx\u001b[49m\u001b[43m,\u001b[49m\u001b[43m \u001b[49m\u001b[38;5;241;43m-\u001b[39;49m\u001b[43moo\u001b[49m\u001b[43m,\u001b[49m\u001b[43m \u001b[49m\u001b[38;5;241;43m+\u001b[39;49m\u001b[43moo\u001b[49m\u001b[43m]\u001b[49m\u001b[43m)\u001b[49m\u001b[43m,\u001b[49m\u001b[43m \u001b[49m\u001b[43m[\u001b[49m\u001b[43my\u001b[49m\u001b[43m,\u001b[49m\u001b[43m \u001b[49m\u001b[38;5;241;43m-\u001b[39;49m\u001b[43moo\u001b[49m\u001b[43m,\u001b[49m\u001b[43m \u001b[49m\u001b[38;5;241;43m+\u001b[39;49m\u001b[43moo\u001b[49m\u001b[43m]\u001b[49m\u001b[43m)\u001b[49m\n",
      "File \u001b[0;32m/nix/store/m5gcfw8lrrmy5jqabfxmmxjp9msqnasj-python3-3.11.9-env/lib/python3.11/site-packages/sympy/integrals/integrals.py:1567\u001b[0m, in \u001b[0;36mintegrate\u001b[0;34m(meijerg, conds, risch, heurisch, manual, *args, **kwargs)\u001b[0m\n\u001b[1;32m   1564\u001b[0m integral \u001b[38;5;241m=\u001b[39m Integral(\u001b[38;5;241m*\u001b[39margs, \u001b[38;5;241m*\u001b[39m\u001b[38;5;241m*\u001b[39mkwargs)\n\u001b[1;32m   1566\u001b[0m \u001b[38;5;28;01mif\u001b[39;00m \u001b[38;5;28misinstance\u001b[39m(integral, Integral):\n\u001b[0;32m-> 1567\u001b[0m     \u001b[38;5;28;01mreturn\u001b[39;00m \u001b[43mintegral\u001b[49m\u001b[38;5;241;43m.\u001b[39;49m\u001b[43mdoit\u001b[49m\u001b[43m(\u001b[49m\u001b[38;5;241;43m*\u001b[39;49m\u001b[38;5;241;43m*\u001b[39;49m\u001b[43mdoit_flags\u001b[49m\u001b[43m)\u001b[49m\n\u001b[1;32m   1568\u001b[0m \u001b[38;5;28;01melse\u001b[39;00m:\n\u001b[1;32m   1569\u001b[0m     new_args \u001b[38;5;241m=\u001b[39m [a\u001b[38;5;241m.\u001b[39mdoit(\u001b[38;5;241m*\u001b[39m\u001b[38;5;241m*\u001b[39mdoit_flags) \u001b[38;5;28;01mif\u001b[39;00m \u001b[38;5;28misinstance\u001b[39m(a, Integral) \u001b[38;5;28;01melse\u001b[39;00m a\n\u001b[1;32m   1570\u001b[0m         \u001b[38;5;28;01mfor\u001b[39;00m a \u001b[38;5;129;01min\u001b[39;00m integral\u001b[38;5;241m.\u001b[39margs]\n",
      "File \u001b[0;32m/nix/store/m5gcfw8lrrmy5jqabfxmmxjp9msqnasj-python3-3.11.9-env/lib/python3.11/site-packages/sympy/integrals/integrals.py:612\u001b[0m, in \u001b[0;36mIntegral.doit\u001b[0;34m(self, **hints)\u001b[0m\n\u001b[1;32m    610\u001b[0m     antideriv \u001b[38;5;241m=\u001b[39m \u001b[38;5;28;01mNone\u001b[39;00m\n\u001b[1;32m    611\u001b[0m \u001b[38;5;28;01melse\u001b[39;00m:\n\u001b[0;32m--> 612\u001b[0m     antideriv \u001b[38;5;241m=\u001b[39m \u001b[38;5;28;43mself\u001b[39;49m\u001b[38;5;241;43m.\u001b[39;49m\u001b[43m_eval_integral\u001b[49m\u001b[43m(\u001b[49m\n\u001b[1;32m    613\u001b[0m \u001b[43m        \u001b[49m\u001b[43mfunction\u001b[49m\u001b[43m,\u001b[49m\u001b[43m \u001b[49m\u001b[43mxab\u001b[49m\u001b[43m[\u001b[49m\u001b[38;5;241;43m0\u001b[39;49m\u001b[43m]\u001b[49m\u001b[43m,\u001b[49m\u001b[43m \u001b[49m\u001b[38;5;241;43m*\u001b[39;49m\u001b[38;5;241;43m*\u001b[39;49m\u001b[43meval_kwargs\u001b[49m\u001b[43m)\u001b[49m\n\u001b[1;32m    614\u001b[0m     \u001b[38;5;28;01mif\u001b[39;00m antideriv \u001b[38;5;129;01mis\u001b[39;00m \u001b[38;5;28;01mNone\u001b[39;00m \u001b[38;5;129;01mand\u001b[39;00m meijerg \u001b[38;5;129;01mis\u001b[39;00m \u001b[38;5;28;01mTrue\u001b[39;00m:\n\u001b[1;32m    615\u001b[0m         ret \u001b[38;5;241m=\u001b[39m try_meijerg(function, xab)\n",
      "File \u001b[0;32m/nix/store/m5gcfw8lrrmy5jqabfxmmxjp9msqnasj-python3-3.11.9-env/lib/python3.11/site-packages/sympy/integrals/integrals.py:1084\u001b[0m, in \u001b[0;36mIntegral._eval_integral\u001b[0;34m(self, f, x, meijerg, risch, manual, heurisch, conds, final)\u001b[0m\n\u001b[1;32m   1082\u001b[0m \u001b[38;5;28;01mtry\u001b[39;00m:\n\u001b[1;32m   1083\u001b[0m     \u001b[38;5;28;01mif\u001b[39;00m conds \u001b[38;5;241m==\u001b[39m \u001b[38;5;124m'\u001b[39m\u001b[38;5;124mpiecewise\u001b[39m\u001b[38;5;124m'\u001b[39m:\n\u001b[0;32m-> 1084\u001b[0m         h \u001b[38;5;241m=\u001b[39m \u001b[43mheurisch_wrapper\u001b[49m\u001b[43m(\u001b[49m\u001b[43mg\u001b[49m\u001b[43m,\u001b[49m\u001b[43m \u001b[49m\u001b[43mx\u001b[49m\u001b[43m,\u001b[49m\u001b[43m \u001b[49m\u001b[43mhints\u001b[49m\u001b[38;5;241;43m=\u001b[39;49m\u001b[43m[\u001b[49m\u001b[43m]\u001b[49m\u001b[43m)\u001b[49m\n\u001b[1;32m   1085\u001b[0m     \u001b[38;5;28;01melse\u001b[39;00m:\n\u001b[1;32m   1086\u001b[0m         h \u001b[38;5;241m=\u001b[39m heurisch_(g, x, hints\u001b[38;5;241m=\u001b[39m[])\n",
      "File \u001b[0;32m/nix/store/m5gcfw8lrrmy5jqabfxmmxjp9msqnasj-python3-3.11.9-env/lib/python3.11/site-packages/sympy/integrals/heurisch.py:143\u001b[0m, in \u001b[0;36mheurisch_wrapper\u001b[0;34m(f, x, rewrite, hints, mappings, retries, degree_offset, unnecessary_permutations, _try_heurisch)\u001b[0m\n\u001b[1;32m    140\u001b[0m \u001b[38;5;28;01mif\u001b[39;00m \u001b[38;5;129;01mnot\u001b[39;00m f\u001b[38;5;241m.\u001b[39mhas_free(x):\n\u001b[1;32m    141\u001b[0m     \u001b[38;5;28;01mreturn\u001b[39;00m f\u001b[38;5;241m*\u001b[39mx\n\u001b[0;32m--> 143\u001b[0m res \u001b[38;5;241m=\u001b[39m \u001b[43mheurisch\u001b[49m\u001b[43m(\u001b[49m\u001b[43mf\u001b[49m\u001b[43m,\u001b[49m\u001b[43m \u001b[49m\u001b[43mx\u001b[49m\u001b[43m,\u001b[49m\u001b[43m \u001b[49m\u001b[43mrewrite\u001b[49m\u001b[43m,\u001b[49m\u001b[43m \u001b[49m\u001b[43mhints\u001b[49m\u001b[43m,\u001b[49m\u001b[43m \u001b[49m\u001b[43mmappings\u001b[49m\u001b[43m,\u001b[49m\u001b[43m \u001b[49m\u001b[43mretries\u001b[49m\u001b[43m,\u001b[49m\u001b[43m \u001b[49m\u001b[43mdegree_offset\u001b[49m\u001b[43m,\u001b[49m\n\u001b[1;32m    144\u001b[0m \u001b[43m               \u001b[49m\u001b[43munnecessary_permutations\u001b[49m\u001b[43m,\u001b[49m\u001b[43m \u001b[49m\u001b[43m_try_heurisch\u001b[49m\u001b[43m)\u001b[49m\n\u001b[1;32m    145\u001b[0m \u001b[38;5;28;01mif\u001b[39;00m \u001b[38;5;129;01mnot\u001b[39;00m \u001b[38;5;28misinstance\u001b[39m(res, Basic):\n\u001b[1;32m    146\u001b[0m     \u001b[38;5;28;01mreturn\u001b[39;00m res\n",
      "File \u001b[0;32m/nix/store/m5gcfw8lrrmy5jqabfxmmxjp9msqnasj-python3-3.11.9-env/lib/python3.11/site-packages/sympy/integrals/heurisch.py:516\u001b[0m, in \u001b[0;36mheurisch\u001b[0;34m(f, x, rewrite, hints, mappings, retries, degree_offset, unnecessary_permutations, _try_heurisch)\u001b[0m\n\u001b[1;32m    514\u001b[0m mapping \u001b[38;5;241m=\u001b[39m \u001b[38;5;28mlist\u001b[39m(mapping)\n\u001b[1;32m    515\u001b[0m mapping \u001b[38;5;241m=\u001b[39m mapping \u001b[38;5;241m+\u001b[39m unnecessary_permutations\n\u001b[0;32m--> 516\u001b[0m diffs \u001b[38;5;241m=\u001b[39m \u001b[43m[\u001b[49m\u001b[43m \u001b[49m\u001b[43m_substitute\u001b[49m\u001b[43m(\u001b[49m\u001b[43mdcache\u001b[49m\u001b[38;5;241;43m.\u001b[39;49m\u001b[43mget_diff\u001b[49m\u001b[43m(\u001b[49m\u001b[43mg\u001b[49m\u001b[43m)\u001b[49m\u001b[43m)\u001b[49m\u001b[43m \u001b[49m\u001b[38;5;28;43;01mfor\u001b[39;49;00m\u001b[43m \u001b[49m\u001b[43mg\u001b[49m\u001b[43m \u001b[49m\u001b[38;5;129;43;01min\u001b[39;49;00m\u001b[43m \u001b[49m\u001b[43mterms\u001b[49m\u001b[43m \u001b[49m\u001b[43m]\u001b[49m\n\u001b[1;32m    517\u001b[0m denoms \u001b[38;5;241m=\u001b[39m [ g\u001b[38;5;241m.\u001b[39mas_numer_denom()[\u001b[38;5;241m1\u001b[39m] \u001b[38;5;28;01mfor\u001b[39;00m g \u001b[38;5;129;01min\u001b[39;00m diffs ]\n\u001b[1;32m    518\u001b[0m \u001b[38;5;28;01mif\u001b[39;00m \u001b[38;5;28mall\u001b[39m(h\u001b[38;5;241m.\u001b[39mis_polynomial(\u001b[38;5;241m*\u001b[39mV) \u001b[38;5;28;01mfor\u001b[39;00m h \u001b[38;5;129;01min\u001b[39;00m denoms) \u001b[38;5;129;01mand\u001b[39;00m _substitute(f)\u001b[38;5;241m.\u001b[39mis_rational_function(\u001b[38;5;241m*\u001b[39mV):\n",
      "File \u001b[0;32m/nix/store/m5gcfw8lrrmy5jqabfxmmxjp9msqnasj-python3-3.11.9-env/lib/python3.11/site-packages/sympy/integrals/heurisch.py:516\u001b[0m, in \u001b[0;36m<listcomp>\u001b[0;34m(.0)\u001b[0m\n\u001b[1;32m    514\u001b[0m mapping \u001b[38;5;241m=\u001b[39m \u001b[38;5;28mlist\u001b[39m(mapping)\n\u001b[1;32m    515\u001b[0m mapping \u001b[38;5;241m=\u001b[39m mapping \u001b[38;5;241m+\u001b[39m unnecessary_permutations\n\u001b[0;32m--> 516\u001b[0m diffs \u001b[38;5;241m=\u001b[39m [ \u001b[43m_substitute\u001b[49m\u001b[43m(\u001b[49m\u001b[43mdcache\u001b[49m\u001b[38;5;241;43m.\u001b[39;49m\u001b[43mget_diff\u001b[49m\u001b[43m(\u001b[49m\u001b[43mg\u001b[49m\u001b[43m)\u001b[49m\u001b[43m)\u001b[49m \u001b[38;5;28;01mfor\u001b[39;00m g \u001b[38;5;129;01min\u001b[39;00m terms ]\n\u001b[1;32m    517\u001b[0m denoms \u001b[38;5;241m=\u001b[39m [ g\u001b[38;5;241m.\u001b[39mas_numer_denom()[\u001b[38;5;241m1\u001b[39m] \u001b[38;5;28;01mfor\u001b[39;00m g \u001b[38;5;129;01min\u001b[39;00m diffs ]\n\u001b[1;32m    518\u001b[0m \u001b[38;5;28;01mif\u001b[39;00m \u001b[38;5;28mall\u001b[39m(h\u001b[38;5;241m.\u001b[39mis_polynomial(\u001b[38;5;241m*\u001b[39mV) \u001b[38;5;28;01mfor\u001b[39;00m h \u001b[38;5;129;01min\u001b[39;00m denoms) \u001b[38;5;129;01mand\u001b[39;00m _substitute(f)\u001b[38;5;241m.\u001b[39mis_rational_function(\u001b[38;5;241m*\u001b[39mV):\n",
      "File \u001b[0;32m/nix/store/m5gcfw8lrrmy5jqabfxmmxjp9msqnasj-python3-3.11.9-env/lib/python3.11/site-packages/sympy/integrals/heurisch.py:511\u001b[0m, in \u001b[0;36mheurisch.<locals>._substitute\u001b[0;34m(expr)\u001b[0m\n\u001b[1;32m    510\u001b[0m \u001b[38;5;28;01mdef\u001b[39;00m \u001b[38;5;21m_substitute\u001b[39m(expr):\n\u001b[0;32m--> 511\u001b[0m     \u001b[38;5;28;01mreturn\u001b[39;00m \u001b[43mexpr\u001b[49m\u001b[38;5;241;43m.\u001b[39;49m\u001b[43msubs\u001b[49m\u001b[43m(\u001b[49m\u001b[43mmapping\u001b[49m\u001b[43m)\u001b[49m\n",
      "File \u001b[0;32m/nix/store/m5gcfw8lrrmy5jqabfxmmxjp9msqnasj-python3-3.11.9-env/lib/python3.11/site-packages/sympy/core/basic.py:961\u001b[0m, in \u001b[0;36mBasic.subs\u001b[0;34m(self, *args, **kwargs)\u001b[0m\n\u001b[1;32m    959\u001b[0m \u001b[38;5;28;01mif\u001b[39;00m \u001b[38;5;28misinstance\u001b[39m(sequence, \u001b[38;5;28mset\u001b[39m):\n\u001b[1;32m    960\u001b[0m     unordered \u001b[38;5;241m=\u001b[39m \u001b[38;5;28;01mTrue\u001b[39;00m\n\u001b[0;32m--> 961\u001b[0m \u001b[38;5;28;01melif\u001b[39;00m \u001b[38;5;28misinstance\u001b[39m(sequence, (Dict, Mapping)):\n\u001b[1;32m    962\u001b[0m     unordered \u001b[38;5;241m=\u001b[39m \u001b[38;5;28;01mTrue\u001b[39;00m\n\u001b[1;32m    963\u001b[0m     sequence \u001b[38;5;241m=\u001b[39m sequence\u001b[38;5;241m.\u001b[39mitems()\n",
      "File \u001b[0;32m<frozen abc>:117\u001b[0m, in \u001b[0;36m__instancecheck__\u001b[0;34m(cls, instance)\u001b[0m\n",
      "\u001b[0;31mKeyboardInterrupt\u001b[0m: "
     ]
    }
   ],
   "source": [
    "integrate(integrate(expr, [x, -oo, +oo]), [y, -oo, +oo])"
   ]
  },
  {
   "cell_type": "code",
   "execution_count": null,
   "metadata": {},
   "outputs": [],
   "source": []
  }
 ],
 "metadata": {
  "kernelspec": {
   "display_name": "Python 3",
   "language": "python",
   "name": "python3"
  },
  "language_info": {
   "codemirror_mode": {
    "name": "ipython",
    "version": 3
   },
   "file_extension": ".py",
   "mimetype": "text/x-python",
   "name": "python",
   "nbconvert_exporter": "python",
   "pygments_lexer": "ipython3",
   "version": "3.11.9"
  }
 },
 "nbformat": 4,
 "nbformat_minor": 2
}
