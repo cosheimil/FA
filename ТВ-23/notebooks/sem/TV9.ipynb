{
 "cells": [
  {
   "cell_type": "markdown",
   "metadata": {},
   "source": [
    "# Библиотеки"
   ]
  },
  {
   "cell_type": "code",
   "execution_count": 1,
   "metadata": {},
   "outputs": [],
   "source": [
    "import numpy as np\n",
    "from scipy.stats import *"
   ]
  },
  {
   "cell_type": "markdown",
   "metadata": {},
   "source": [
    "# 1\n",
    "\n",
    "Найдите распределение случайной величины $Z = X + Y$ и $\\mathbb E(Z)$, если известно распределение случайного дискретного вектора $(X, Y)$\n",
    "\n",
    "||$X = 3$|$X = 4$|$X = 5$|\n",
    "|:-:|:-:|:-:|:-:|\n",
    "|$Y = -3$|$\\frac{1}{6}$|$\\frac{1}{24}$|$\\frac{1}{6}$|\n",
    "|$Y = -2$|$\\frac{5}{24}$|$\\frac{1}{12}$|$\\frac{1}{3}$|"
   ]
  },
  {
   "cell_type": "markdown",
   "metadata": {},
   "source": [
    "## Аналитика\n",
    "\n",
    "$\\mathbb E(Z) = \\mathbb E(X + Y) = \\mathbb E(X) + \\mathbb E(Y)$  \n",
    "\n",
    "||$X = 3$|$X = 4$|$X = 5$|\n",
    "|:-:|:-:|:-:|:-:|\n",
    "|$\\mathbb P(X)$|$\\frac{1}{6} + \\frac{5}{24} = \\frac{9}{24}$|$\\frac{1}{24} + \\frac{1}{12} = \\frac{3}{24}$|$\\frac{1}{6} + \\frac{1}{3} = \\frac{3}{6}$|\n",
    "\n",
    "$\\mathbb E(X) = 4,125$\n",
    "\n",
    "||$Y = -3$|$Y = -2$|\n",
    "|:-:|:-:|:-:|\n",
    "|$\\mathbb E(Y)$|$\\frac{1}{6} + \\frac{1}{24} + \\frac{1}{6} = \\frac{9}{24}$|$\\frac{5}{24} + \\frac{1}{12} + \\frac{1}{3} = \\frac{15}{24}$|\n",
    "\n",
    "$\\mathbb E(Y) = -2,375$  \n",
    "\n",
    "$\\mathbb E(Z) = 4,125 - 2,375 = 1,75$"
   ]
  },
  {
   "cell_type": "markdown",
   "metadata": {},
   "source": [
    "## Стохастически"
   ]
  },
  {
   "cell_type": "code",
   "execution_count": null,
   "metadata": {},
   "outputs": [],
   "source": []
  },
  {
   "cell_type": "code",
   "execution_count": 7,
   "metadata": {},
   "outputs": [],
   "source": [
    "X = rv_discrete(name='X', values=[[3, 4, 5], [9/24, 3/24, 3/6]])\n",
    "Y = rv_discrete(name='Y', values=[[-3, -2], [9/24, 15/24]])"
   ]
  },
  {
   "cell_type": "code",
   "execution_count": 8,
   "metadata": {},
   "outputs": [
    {
     "data": {
      "text/plain": [
       "1.75167"
      ]
     },
     "execution_count": 8,
     "metadata": {},
     "output_type": "execute_result"
    }
   ],
   "source": [
    "N = 100_000\n",
    "(X.rvs(size=N) + Y.rvs(size=N)).mean()"
   ]
  },
  {
   "cell_type": "markdown",
   "metadata": {},
   "source": [
    "# 2\n",
    "\n",
    "Найдите распределение случайной величины $Z = min(6, X − Y)$ и $\\mathbb E(Z)$,\n",
    "если известно распределение дискретного случайного вектора $(X, Y)$\n",
    "\n",
    "||$X = 3$|$X = 4$|$X = 5$|\n",
    "|:-:|:-:|:-:|:-:|\n",
    "|$Y = -2$|$\\frac{1}{4}$|$\\frac{1}{6}$|$\\frac{1}{8}$|\n",
    "|$Y = -1$|$\\frac{1}{8}$|$\\frac{1}{4}$|$\\frac{1}{12}$|"
   ]
  },
  {
   "cell_type": "markdown",
   "metadata": {},
   "source": [
    "## Аналитика\n",
    "\n"
   ]
  },
  {
   "cell_type": "markdown",
   "metadata": {},
   "source": [
    "случаи, если $X - Y < 6$:  \n",
    "$X = 3, Y = -2; X = 3, Y = -1; X = 4, Y = -1$  \n",
    "Мат ожидание данного случая: $5 \\cdot \\frac{1}{4} + 4 \\cdot \\frac{1}{8} + 5 \\cdot \\frac{1}{4} = 3$\n",
    "\n",
    "случаи, если $X - Y \\geqslant 6$, то $Z = 6$:\n",
    "$X = 4, Y = -2; X = 5, Y = -2; X = 5, Y = -1$\n",
    "Мат ожидание данного случая: $6 \\cdot (\\frac{1}{6} + \\frac{1}{8} + \\frac{1}{12}) = 2,25$\n",
    "\n",
    "То $\\mathbb E(Z) = 3 + 2,25 = 5,25$"
   ]
  },
  {
   "cell_type": "markdown",
   "metadata": {},
   "source": [
    "## Стохастический"
   ]
  },
  {
   "cell_type": "code",
   "execution_count": 6,
   "metadata": {},
   "outputs": [],
   "source": [
    "N = 100_000\n",
    "px = [1/4 + 1/8, 1/6 + 1/4, 1/8 + 1/12]\n",
    "py = [1/4 + 1/6 + 1/8, 1/8 + 1/4 + 1/12]\n",
    "X = rv_discrete(name=\"X\", values=[[3, 4, 5], px])\n",
    "Y = rv_discrete(name=\"Y\", values=[[-2, -1], py])"
   ]
  },
  {
   "cell_type": "code",
   "execution_count": 8,
   "metadata": {},
   "outputs": [
    {
     "data": {
      "text/plain": [
       "5.25656"
      ]
     },
     "execution_count": 8,
     "metadata": {},
     "output_type": "execute_result"
    }
   ],
   "source": [
    "np.fmin(X.rvs(size=N) - Y.rvs(size=N), [6] * N).mean()"
   ]
  },
  {
   "cell_type": "markdown",
   "metadata": {},
   "source": [
    "# 3\n",
    "\n",
    "Для случайного дискретного вектора $(X, Y)$, распределенного по закону\n",
    "||$X = -1$|$X = 0$|$X = 1$|\n",
    "|:-:|:-:|:-:|:-:|\n",
    "|$Y = -1$|$\\frac{1}{28}$|$\\frac{3}{14}$|$\\frac{1}{28}$|\n",
    "|$Y = 0$|$\\frac{3}{14}$|$\\frac{13}{28}$|$\\frac{1}{28}$|\n",
    "\n",
    "выясните, зависимы или нет события $A = \\{X \\cdot Y \\neq 0\\}$ и $B = \\{X + Y = 0\\}$."
   ]
  },
  {
   "cell_type": "markdown",
   "metadata": {},
   "source": [
    "## Аналитика\n",
    "\n",
    "две случайные величины независимы, если:  \n",
    "$Var(A + B) = Var(A) + Var(B)$\n",
    "распределение величины $A$:  \n",
    "|$X \\cdot Y$|$-1$|$1$|$0$|\n",
    "|:-:|:-:|:-:|:-:|\n",
    "|$\\mathbb P$|$\\frac{1}{28}$|$\\frac{1}{28}$|$\\frac{26}{28}$|\n",
    "\n",
    "$Var(A) = \\frac{1}{28}$\n",
    "\n",
    "распределение величины $B$:\n",
    "|$X + Y$|$-2$|$-1$|$0$|$1$|\n",
    "|:-:|:-:|:-:|:-:|:-:|\n",
    "|$\\mathbb P$|$\\frac{1}{28}$|$\\frac{6}{14}$|$\\frac{14}{28}$|$\\frac{1}{28}$|\n",
    "\n",
    "$Var(B) = 0$\n",
    "\n",
    "независимы"
   ]
  },
  {
   "cell_type": "markdown",
   "metadata": {},
   "source": [
    "## Стохастически"
   ]
  },
  {
   "cell_type": "code",
   "execution_count": 4,
   "metadata": {},
   "outputs": [],
   "source": [
    "N = 100_000\n",
    "\n",
    "px = [1/28+3/14, 3/14+13/28, 1/28+1/28]\n",
    "X = rv_discrete(name=\"X\", values=[[-1, 0, 1], px])\n",
    "\n",
    "py = [1/28+3/14+1/28, 3/14+13/28+1/28]\n",
    "Y = rv_discrete(name=\"Y\", values=[[-1, 0], py])"
   ]
  },
  {
   "cell_type": "code",
   "execution_count": 8,
   "metadata": {},
   "outputs": [
    {
     "data": {
      "text/plain": [
       "(0.6873980084100131, 0.6873980084100131)"
      ]
     },
     "execution_count": 8,
     "metadata": {},
     "output_type": "execute_result"
    }
   ],
   "source": [
    "A = X.rvs(size=N) * Y.rvs(size=N)\n",
    "A = A[A != 0]\n",
    "\n",
    "B = X.rvs(size=N) * Y.rvs(size=N)\n",
    "B = B[B == 0]\n",
    "\n",
    "shorten = min(A.size, B.size)\n",
    "\n",
    "(A[:shorten] + B[:shorten]).var(), A.var() + B.var()"
   ]
  },
  {
   "cell_type": "markdown",
   "metadata": {},
   "source": [
    "# 5\n",
    "\n",
    "На отрезке $[0; 5]$ случайным независимым образом выбирается $n$ точек.\n",
    "Пусть $X$ – число точек, попавших в промежуток $[0; 2]$, а $Y$ – число точек,\n",
    "попавших в промежуток $[1; 4]$. Найдите коэффициент корреляции $\\rho(X; Y )$."
   ]
  },
  {
   "cell_type": "markdown",
   "metadata": {},
   "source": [
    "## Аналитика"
   ]
  },
  {
   "cell_type": "code",
   "execution_count": null,
   "metadata": {},
   "outputs": [],
   "source": []
  },
  {
   "cell_type": "markdown",
   "metadata": {},
   "source": [
    "## Стохастически"
   ]
  },
  {
   "cell_type": "code",
   "execution_count": 28,
   "metadata": {},
   "outputs": [
    {
     "data": {
      "text/plain": [
       "array([[1.       , 0.0013822],\n",
       "       [0.0013822, 1.       ]])"
      ]
     },
     "execution_count": 28,
     "metadata": {},
     "output_type": "execute_result"
    }
   ],
   "source": [
    "A = uniform(loc=0, scale=5)\n",
    "\n",
    "A_el = A.rvs(size=1_000_000)\n",
    "\n",
    "X = A_el[A_el <= 2]\n",
    "Y = A_el[(1 <= A_el) & (A_el <= 4)]\n",
    "\n",
    "shorten = min(X.size, Y.size)\n",
    "\n",
    "np.corrcoef(X[:shorten], Y[:shorten])"
   ]
  },
  {
   "cell_type": "markdown",
   "metadata": {},
   "source": [
    "# 6\n",
    "\n",
    "Дискретная случайная величина $X$ принимает только целые значения $1; 2;\n",
    "3; 4; 5$ и $6$, при этом вероятности $\\{X = k\\}$ пропорциональны принимаемым\n",
    "значениям, т.е. $\\mathbb P(X = k) = A \\cdot k, k = 1, \\dots , 6$. Пусть $Y_n$ – остаток от деления\n",
    "$X$ на $n$ ($n$ = $2$ или $n$ = $3$). Найдите:\n",
    "1) распределение $(Y_2; Y_3)$; \n",
    "2) Ковариационную и коррелляционную матрицы."
   ]
  },
  {
   "cell_type": "markdown",
   "metadata": {},
   "source": [
    "## Аналитика"
   ]
  },
  {
   "cell_type": "markdown",
   "metadata": {},
   "source": [
    "$k = \\frac{2}{7}$ "
   ]
  },
  {
   "cell_type": "markdown",
   "metadata": {},
   "source": [
    "## Стохастически"
   ]
  },
  {
   "cell_type": "code",
   "execution_count": 45,
   "metadata": {},
   "outputs": [],
   "source": [
    "px = [i/6 * 2/7 for i in range(1, 6+1)]\n",
    "X = rv_discrete(name=\"X\", values=[list(range(1, 6+1)), px])"
   ]
  },
  {
   "cell_type": "code",
   "execution_count": 33,
   "metadata": {},
   "outputs": [
    {
     "data": {
      "text/plain": [
       "{0: [2, 4, 6], 1: [1, 3, 5]}"
      ]
     },
     "execution_count": 33,
     "metadata": {},
     "output_type": "execute_result"
    }
   ],
   "source": [
    "y2_vals = {0: [], 1: []}\n",
    "for i in range(1, 6+1):\n",
    "    y2_vals[i % 2].append(i)\n",
    "y2_vals"
   ]
  },
  {
   "cell_type": "code",
   "execution_count": 38,
   "metadata": {},
   "outputs": [],
   "source": [
    "Y2 = rv_discrete(name=\"Y2\", values=[list(range(1, 6+1)), px[1::2] + px[::2]])"
   ]
  },
  {
   "cell_type": "code",
   "execution_count": 39,
   "metadata": {},
   "outputs": [
    {
     "data": {
      "text/plain": [
       "{0: [3, 6], 1: [1, 4], 2: [2, 5]}"
      ]
     },
     "execution_count": 39,
     "metadata": {},
     "output_type": "execute_result"
    }
   ],
   "source": [
    "y3_vals = {0: [], 1: [], 2: []}\n",
    "for i in range(1, 6+1):\n",
    "    y3_vals[i % 3].append(i)\n",
    "y3_vals"
   ]
  },
  {
   "cell_type": "code",
   "execution_count": 42,
   "metadata": {},
   "outputs": [],
   "source": [
    "Y3 = rv_discrete(name=\"Y3\", values=[list(range(1, 6+1)), px[2::3] + px[::3] + px[1::3]])"
   ]
  },
  {
   "cell_type": "code",
   "execution_count": 51,
   "metadata": {},
   "outputs": [
    {
     "data": {
      "text/plain": [
       "array([[ 2.88305639, -0.00641706],\n",
       "       [-0.00641706,  3.2953047 ]])"
      ]
     },
     "execution_count": 51,
     "metadata": {},
     "output_type": "execute_result"
    }
   ],
   "source": [
    "np.cov(Y2.rvs(size=100_000), Y3.rvs(size=100_000))"
   ]
  },
  {
   "cell_type": "code",
   "execution_count": 52,
   "metadata": {},
   "outputs": [
    {
     "data": {
      "text/plain": [
       "array([[ 1.00000000e+00, -9.79811609e-04],\n",
       "       [-9.79811609e-04,  1.00000000e+00]])"
      ]
     },
     "execution_count": 52,
     "metadata": {},
     "output_type": "execute_result"
    }
   ],
   "source": [
    "np.corrcoef(Y2.rvs(size=100_000), Y3.rvs(size=100_000))"
   ]
  },
  {
   "cell_type": "code",
   "execution_count": null,
   "metadata": {},
   "outputs": [],
   "source": []
  }
 ],
 "metadata": {
  "kernelspec": {
   "display_name": "Python 3 (ipykernel)",
   "language": "python",
   "name": "python3"
  }
 },
 "nbformat": 4,
 "nbformat_minor": 2
}
