{
 "cells": [
  {
   "cell_type": "markdown",
   "metadata": {},
   "source": [
    "# Бибилиотеки"
   ]
  },
  {
   "cell_type": "code",
   "execution_count": 1,
   "metadata": {},
   "outputs": [],
   "source": [
    "from sympy import *\n",
    "import numpy as np\n",
    "from scipy.stats import *\n",
    "import matplotlib.pyplot as plt\n",
    "init_printing(use_latex=True)"
   ]
  },
  {
   "cell_type": "markdown",
   "metadata": {},
   "source": [
    "# 1\n",
    "\n",
    "Плотность распределения случайной величины $X$ имеет вид: $f(x) = ae^{−\\lambda |x|}$.\n",
    "\n",
    "Найдите:   \n",
    "a) коэффициент a;   \n",
    "б) функцию распределения случайной величины X;   \n",
    "в) $\\mathbb E(X)$ и $Var(X)$.   "
   ]
  },
  {
   "cell_type": "markdown",
   "metadata": {},
   "source": [
    "$\\int_{- \\infty}^{+ \\infty} f(x) \\,dx = 1\n",
    "\\Rightarrow\n",
    "\\int_{- \\infty}^{+ \\infty} ae^{−\\lambda |x|} \\,dx = 1 \\Rightarrow 2a \\frac{1}{-\\lambda e^{\\lambda x}} \\bigg|_{0}^{+ \\infty} = 1 \\Rightarrow \\frac{2a}{\\lambda} = 1 \\Rightarrow a = \\frac{\\lambda}{2}$  \n",
    "\n",
    "$f(x) = \\frac{\\lambda}{2} e^{-\\lambda |x|}$\n",
    "\n",
    "$F_X(x) = \\int_{- \\infty}^{x} f(x) \\,dx= \\frac{\\lambda}{2} \\int_{- \\infty}^{x} e^{-\\lambda |x|} \\,dx= $  \n",
    "\n",
    "\n",
    "$$\n",
    "\\begin{cases}\n",
    "- \\frac{\\lambda}{2} \\frac{1}{\\lambda e^{\\lambda x}}, & x \\geqslant 0 \\\\\n",
    "\\frac{\\lambda}{2} \\frac{e^{\\lambda x}}{\\lambda}, & x < 0 \\\\\n",
    "\\end{cases}\n",
    "\n",
    "\\Rightarrow\n",
    "\n",
    "\\begin{cases}\n",
    "- \\frac{1}{2 e^{\\lambda x}}, & x \\geqslant 0 \\\\\n",
    "\\frac{e^{\\lambda x}}{2}, & x < 0 \\\\\n",
    "\\end{cases}\n",
    "$$\n",
    "\n",
    "$\\mathbb E(x) = \\int_{- \\infty}^{+ \\infty} xf(x) \\,dx = \\frac{\\lambda}{2} \\int_{- \\infty}^{+ \\infty} x e^{-\\lambda |x|}\\,dx= - \\frac{x}{\\lambda e^{\\lambda x}} \\bigg|_{-\\infty}^{\\infty} - \\frac{1}{\\lambda^2 e^{\\lambda x}} \\bigg|_{-\\infty}^{\\infty} = 0$  \n",
    "\n",
    "$Var(X) = \\int_{- \\infty}^{\\infty} x^2 f(x) \\,dx = \\frac{\\lambda}{2} \\int_{- \\infty}^{\\infty} x^2 e^{-\\lambda |x|} \\,dx =  \\frac{2}{\\lambda ^ 2}$"
   ]
  },
  {
   "cell_type": "markdown",
   "metadata": {},
   "source": [
    "## Кодом"
   ]
  },
  {
   "cell_type": "code",
   "execution_count": 45,
   "metadata": {},
   "outputs": [
    {
     "data": {
      "text/latex": [
       "$\\displaystyle \\begin{cases} \\frac{2 a}{\\lambda} & \\text{for}\\: \\left|{\\arg{\\left(\\lambda \\right)}}\\right| < \\frac{\\pi}{2} \\\\\\int\\limits_{-\\infty}^{\\infty} a e^{- \\lambda \\left|{x}\\right|}\\, dx & \\text{otherwise} \\end{cases}$"
      ],
      "text/plain": [
       "⎧      2⋅a                       π\n",
       "⎪      ───        for │arg(λ)│ < ─\n",
       "⎪       λ                        2\n",
       "⎪                                 \n",
       "⎪∞                                \n",
       "⎨⌠                                \n",
       "⎪⎮     -λ⋅│x│                     \n",
       "⎪⎮  a⋅ℯ       dx     otherwise    \n",
       "⎪⌡                                \n",
       "⎪-∞                               \n",
       "⎩                                 "
      ]
     },
     "execution_count": 45,
     "metadata": {},
     "output_type": "execute_result"
    }
   ],
   "source": [
    "x, a = symbols('x, a')\n",
    "l = Symbol('lambda', real=True)\n",
    "\n",
    "f = a * exp(-l * abs(x))\n",
    "\n",
    "integrate(f,(x,-oo,oo))"
   ]
  },
  {
   "cell_type": "code",
   "execution_count": 46,
   "metadata": {},
   "outputs": [
    {
     "data": {
      "image/png": "[encoded data removed]",
      "text/latex": [
       "$\\displaystyle \\left[ \\frac{\\lambda}{2}\\right]$"
      ],
      "text/plain": [
       "⎡λ⎤\n",
       "⎢─⎥\n",
       "⎣2⎦"
      ]
     },
     "execution_count": 46,
     "metadata": {},
     "output_type": "execute_result"
    }
   ],
   "source": [
    "solve(2 * a / l - 1, a)"
   ]
  },
  {
   "cell_type": "code",
   "execution_count": 51,
   "metadata": {},
   "outputs": [
    {
     "data": {
      "text/latex": [
       "$\\displaystyle \\begin{cases} 0 & \\text{for}\\: \\left|{\\arg{\\left(\\lambda \\right)}}\\right| < \\frac{\\pi}{2} \\\\\\int\\limits_{-\\infty}^{\\infty} \\frac{\\lambda x e^{- \\lambda \\left|{x}\\right|}}{2}\\, dx & \\text{otherwise} \\end{cases}$"
      ],
      "text/plain": [
       "⎧                                  π\n",
       "⎪        0          for │arg(λ)│ < ─\n",
       "⎪                                  2\n",
       "⎪                                   \n",
       "⎪∞                                  \n",
       "⎪⌠                                  \n",
       "⎨⎮       -λ⋅│x│                     \n",
       "⎪⎮  λ⋅x⋅ℯ                           \n",
       "⎪⎮  ─────────── dx     otherwise    \n",
       "⎪⎮       2                          \n",
       "⎪⌡                                  \n",
       "⎪-∞                                 \n",
       "⎩                                   "
      ]
     },
     "execution_count": 51,
     "metadata": {},
     "output_type": "execute_result"
    }
   ],
   "source": [
    "f = x * l / 2 * exp(-l * abs(x))\n",
    "integrate(f, (x, -oo, oo))"
   ]
  },
  {
   "cell_type": "code",
   "execution_count": 53,
   "metadata": {},
   "outputs": [
    {
     "data": {
      "text/latex": [
       "$\\displaystyle \\begin{cases} \\frac{2}{\\lambda^{2}} & \\text{for}\\: \\left|{\\arg{\\left(\\lambda \\right)}}\\right| < \\frac{\\pi}{2} \\\\\\int\\limits_{-\\infty}^{\\infty} \\frac{\\lambda x^{2} e^{- \\lambda \\left|{x}\\right|}}{2}\\, dx & \\text{otherwise} \\end{cases}$"
      ],
      "text/plain": [
       "⎧        2                          π\n",
       "⎪        ──          for │arg(λ)│ < ─\n",
       "⎪         2                         2\n",
       "⎪        λ                           \n",
       "⎪                                    \n",
       "⎪∞                                   \n",
       "⎨⌠                                   \n",
       "⎪⎮     2  -λ⋅│x│                     \n",
       "⎪⎮  λ⋅x ⋅ℯ                           \n",
       "⎪⎮  ──────────── dx     otherwise    \n",
       "⎪⎮       2                           \n",
       "⎪⌡                                   \n",
       "⎩-∞                                  "
      ]
     },
     "execution_count": 53,
     "metadata": {},
     "output_type": "execute_result"
    }
   ],
   "source": [
    "f = x ** 2 * l / 2 * exp(-l * abs(x))\n",
    "integrate(f, (x, -oo, oo))"
   ]
  },
  {
   "cell_type": "markdown",
   "metadata": {},
   "source": [
    "# 2\n",
    "\n",
    "Случайная величина $X$ имеет плотность распределения $f(x) = \\frac{1}{\\pi} \\frac{1}{1 + x^2}$\n",
    "стандартное распределение Коши $Co(0; 1)$.  \n",
    "Найдите вероятности:   \n",
    "a) $\\mathbb P(X > 1)$;  \n",
    "б) $\\mathbb P(|X| > 1)$."
   ]
  },
  {
   "cell_type": "markdown",
   "metadata": {},
   "source": [
    "## Аналитика\n",
    "\n",
    "$\\mathbb P(X > 1) = \\int_{1}^{+ \\infty} f(x) = \\frac{1}{\\pi} \\int_{1}^{+\\infty} \\frac{1}{1 + x^2} = \\frac{1}{\\pi} arctg(x) \\bigg|_{1}^{+\\infty} = \\frac{1}{\\pi} \\cdot (\\frac{\\pi}{2} - \\frac{\\pi}{4}) = \\frac{1}{4}$  \n",
    "$\\mathbb P(|X| > 1) = \\mathbb P(X > 1) + \\mathbb P(X < -1) = \\frac{1}{4} + \\frac{1}{\\pi} arctg(x) \\bigg|_{- \\infty}^{-1} = \\frac{1}{4} + \\frac{1}{\\pi} \\cdot (- \\frac{\\pi}{4} - - \\frac{\\pi}{2}) = \\frac{1}{2}$"
   ]
  },
  {
   "cell_type": "markdown",
   "metadata": {},
   "source": [
    "## Кодом"
   ]
  },
  {
   "cell_type": "code",
   "execution_count": 63,
   "metadata": {},
   "outputs": [
    {
     "data": {
      "image/png": "[encoded data removed]",
      "text/latex": [
       "$\\displaystyle \\frac{1}{4}$"
      ],
      "text/plain": [
       "1/4"
      ]
     },
     "execution_count": 63,
     "metadata": {},
     "output_type": "execute_result"
    }
   ],
   "source": [
    "f = 1 / pi * 1 / (1 + x ** 2)\n",
    "integrate(f, (x, 1, oo))"
   ]
  },
  {
   "cell_type": "code",
   "execution_count": 65,
   "metadata": {},
   "outputs": [
    {
     "data": {
      "image/png": "[encoded data removed]",
      "text/latex": [
       "$\\displaystyle \\frac{1}{2}$"
      ],
      "text/plain": [
       "1/2"
      ]
     },
     "execution_count": 65,
     "metadata": {},
     "output_type": "execute_result"
    }
   ],
   "source": [
    "integrate(f, (x, 1, oo)) + integrate(f, (x, -oo, -1))"
   ]
  },
  {
   "cell_type": "code",
   "execution_count": 69,
   "metadata": {},
   "outputs": [
    {
     "data": {
      "image/png": "[encoded data removed]",
      "text/latex": [
       "$\\displaystyle 0.25$"
      ],
      "text/plain": [
       "0.25"
      ]
     },
     "execution_count": 69,
     "metadata": {},
     "output_type": "execute_result"
    }
   ],
   "source": [
    "X = cauchy(loc=0, scale=1)\n",
    "X.sf(1)"
   ]
  },
  {
   "cell_type": "code",
   "execution_count": 68,
   "metadata": {},
   "outputs": [
    {
     "data": {
      "image/png": "[encoded data removed]",
      "text/latex": [
       "$\\displaystyle 0.5$"
      ],
      "text/plain": [
       "0.5"
      ]
     },
     "execution_count": 68,
     "metadata": {},
     "output_type": "execute_result"
    }
   ],
   "source": [
    "X.cdf(-1) + X.sf(1)"
   ]
  },
  {
   "cell_type": "markdown",
   "metadata": {},
   "source": [
    "## 3\n",
    "\n",
    "Пусть случайные величины $X$ имеет показательное распределение с параметром $ \\lambda = \\frac{1}{3} $\n",
    "Найдите вероятности:   \n",
    "а) $\\mathbb P(X > 3)$   \n",
    "б) $\\mathbb P(X > 6 | X > 3)$   \n",
    "в) $\\mathbb P(X > t + 3 | X > t)$"
   ]
  },
  {
   "cell_type": "markdown",
   "metadata": {},
   "source": [
    "## Аналитика\n",
    "\n",
    "$ F_X(x) = \n",
    "\\begin{cases}\n",
    "0, & x \\leqslant 0 \\\\\n",
    "1 - e^{-\\frac{1}{3} x}, & x \\geqslant 0\n",
    "\\end{cases}$  \n",
    "\n",
    "$\\mathbb P(X > 3) = \\mathbb F_X(+ \\infty) - \\mathbb F_X(3) = 1 - e^{-\\frac{1}{3} \\cdot 3} = 1 - \\frac{1}{e}$\n",
    "\n",
    "$\\mathbb P(X > 6 | X > 3) = \\frac{\\mathbb P(X > 3 \\cap X > 6)}{\\mathbb P(X > 3)} = \\frac{\\mathbb P(X > 6)}{\\mathbb P(X > 3)} = \\frac{1 - \\frac{1}{e^2}}{1 - \\frac{1}{e}} = \\frac{1}{e} + 1$  \n",
    "\n",
    "$\\mathbb P(X > 6) = \\mathbb F_X(+ \\infty) - \\mathbb F_X(6) = 1 - e^{-\\frac{1}{3} \\cdot 6} = 1 - \\frac{1}{e^2}$  \n",
    "$\\mathbb P(X > 3) = 1 - \\frac{1}{e}$\n",
    "\n",
    "$\\mathbb P(X > t + 3 | X > t) = \\frac{\\mathbb P((X > t + 3) \\cap (X > t))}{\\mathbb P(X > t)} = \\frac{\\mathbb P(X > t + 3)}{\\mathbb P(X > t)} = \\frac{1 - \\frac{1}{e^\\frac{t + 3}{3}}}{1 - \\frac{1}{e^\\frac{t}{3}}} = \\frac{e^\\frac{t+3}{3} - 1}{e^{\\frac{t}{3} + 1} - 3}$\n",
    "\n",
    "$\\mathbb P(X > t) = 1 - \\frac{1}{e^\\frac{t}{3}}, \\mathbb P(X > t + 3) = 1 - \\frac{1}{e^\\frac{t + 3}{3}}$"
   ]
  },
  {
   "cell_type": "markdown",
   "metadata": {},
   "source": [
    "# 4\n",
    "\n",
    "Пусть $X$ – случайная величина, равномерно распределенная на $[−1; 1]$. Найдите распределение случайной величины $Y = |X|$."
   ]
  },
  {
   "cell_type": "markdown",
   "metadata": {},
   "source": [
    "## Аналитика\n",
    "$F_Y(y) = \\mathbb P(Y \\leqslant y) = \\mathbb P(|X| \\leqslant y)$\n",
    "\n",
    "$|X| \\leqslant y \\Rightarrow -y \\leqslant X \\leqslant y$.\n",
    "\n",
    "Таким образом, $F_Y(y) = P(-y \\leqslant X \\leqslant y) = \\frac{y - (-y)}{2} = \\frac{2y}{2} = y$ для $0 \\leqslant y \\leqslant 1$.\n",
    "\n",
    "Итак, распределение случайной величины $Y = |X|$:\n",
    "$$\n",
    "F_Y(y) = \n",
    "\\begin{cases} \n",
    "0, & y < 0, \\\\\n",
    "y, & 0 \\leqslant y \\leqslant 1, \\\\\n",
    "1, & y > 1.\n",
    "\\end{cases}\n",
    "$$"
   ]
  },
  {
   "cell_type": "markdown",
   "metadata": {},
   "source": [
    "$\\mathbb P(a \\leqslant X \\leqslant b) = F_X(b) - F_X(a)$"
   ]
  },
  {
   "cell_type": "markdown",
   "metadata": {},
   "source": [
    "# 5\n",
    "\n",
    "Случайная величина $X$ равномерно распределена на отрезке $[0; 1]$. Найдите плотность распределения случайной величины:\n",
    "- $Y = X^2$;\n",
    "- $Y = \\frac{1}{X}$;\n",
    "- $Y = e^X$ и построить их графики"
   ]
  },
  {
   "cell_type": "markdown",
   "metadata": {},
   "source": [
    "## Аналитика\n",
    "\n",
    "$$F_X(x) = \n",
    "\\begin{cases}\n",
    "0, & x < 0 \\\\\n",
    "x, & 0 \\leqslant x \\leqslant 1 \\\\\n",
    "1, & x > 1\n",
    "\\end{cases}\n",
    "$$\n",
    "\n",
    "1. $Y = X^2$  \n",
    "\n",
    "$F_Y(y) = \\mathbb P(Y \\leqslant y) = \\mathbb P(X^2 \\leqslant y)$    \n",
    "$F_Y(y) = \\mathbb P(-sqrt{y} \\leqslant X \\leqslant \\sqrt{y}) = F_X(\\sqrt{y}) - F_X(- \\sqrt{y}) = F_X(2 \\sqrt{y}) = \n",
    "\\begin{cases}\n",
    "0, & y < 0 \\\\\n",
    "2 \\sqrt{y}, & 0 \\leqslant y \\leqslant 1 \\\\\n",
    "1, & y > 1\n",
    "\\end{cases}\n",
    "$  \n",
    "$f_Y(y) = \\frac{d}{dy} F_Y(y) = \\frac{1}{\\sqrt{y}}$\n",
    "\n",
    "\n",
    "2. $Y = \\frac{1}{X}$  \n",
    "\n",
    "$F_Y(y) = \\mathbb P(Y \\leqslant y) = \\mathbb P(\\frac{1}{X} \\leqslant y) = \\mathbb P(X \\geqslant \\frac{1}{y}) = 1 - \\frac{1}{y}$  \n",
    "$f_Y(y) = \\frac{d}{dy} F_Y(y) = \\frac{1}{y^2}$\n",
    "\n",
    "3. $Y = e^X$\n",
    "\n",
    "$F_Y(y) = \\mathbb P(Y \\leqslant y) = \\mathbb P(e^X \\leqslant y) = \\mathbb P(X \\leqslant ln y) = ln y$  \n",
    "$f_Y(y) = \\frac{d}{dy} F_Y(y) = \\frac{1}{y}$"
   ]
  },
  {
   "cell_type": "markdown",
   "metadata": {},
   "source": [
    "## Кодом"
   ]
  },
  {
   "cell_type": "code",
   "execution_count": 105,
   "metadata": {},
   "outputs": [
    {
     "data": {
      "text/plain": [
       "(array([15861., 13573., 11969., 10915.,  9741.,  8959.,  8103.,  7400.,\n",
       "         6975.,  6504.]),\n",
       " array([1.0000115 , 1.17183593, 1.34366035, 1.51548478, 1.68730921,\n",
       "        1.85913364, 2.03095807, 2.20278249, 2.37460692, 2.54643135,\n",
       "        2.71825578]),\n",
       " <BarContainer object of 10 artists>)"
      ]
     },
     "execution_count": 105,
     "metadata": {},
     "output_type": "execute_result"
    },
    {
     "data": {
      "image/png": "[encoded data removed]",
      "text/plain": [
       "<Figure size 800x1000 with 4 Axes>"
      ]
     },
     "metadata": {},
     "output_type": "display_data"
    }
   ],
   "source": [
    "X = uniform()\n",
    "xax = np.linspace(0, 1, 100_000)\n",
    "\n",
    "fig, (ax1, ax2, ax3, ax4) = plt.subplots(4, 1, figsize=(8, 10))\n",
    "\n",
    "X_values = X.rvs(size=100_000)\n",
    "\n",
    "ax1.hist(X_values, bins=10)\n",
    "\n",
    "Y_values = X_values ** 2\n",
    "\n",
    "ax2.hist(Y_values, bins=10)\n",
    "\n",
    "Y_values = 1 / X_values\n",
    "\n",
    "ax3.hist(Y_values, bins=10)\n",
    "\n",
    "Y_values = np.e ** X_values\n",
    "\n",
    "ax4.hist(Y_values, bins=10)"
   ]
  },
  {
   "cell_type": "markdown",
   "metadata": {},
   "source": [
    "# 6\n",
    "\n",
    "Плотность распределения случайной величины $X$ равна $f(x) = \\frac{1}{\\pi} \\frac{1}{1 + x^2}$. Найдите распределение случайной величины $Y = arctg(X)$."
   ]
  },
  {
   "cell_type": "markdown",
   "metadata": {},
   "source": [
    "## Аналитика\n",
    "\n",
    "$F_X(x) = \\frac{1}{\\pi} arctg(x) \\bigg|_{- \\infty}^{+ \\infty} = \\frac{1}{\\pi} \\cdot (\\frac{\\pi}{2} - -\\frac{\\pi}{2}) = 1$\n",
    "\n",
    "$F_Y(y) = \\mathbb P(Y \\leqslant y) = \\mathbb P(arctg(X) \\leqslant y) = \\mathbb P(X \\leqslant arctg(y)) = F_X(arctg(y)) - F_X(- \\infty) = 0$"
   ]
  },
  {
   "cell_type": "markdown",
   "metadata": {},
   "source": [
    "# 7\n",
    "\n",
    "Случайная величина $X$ равномерно распределена на отрезке $[0; 2]$. Найдите функцию распределения случайной величины $Y = |X − 1|$"
   ]
  },
  {
   "cell_type": "markdown",
   "metadata": {},
   "source": [
    "## Аналитика\n",
    "$F_Y(y) = \\mathbb P(Y \\leqslant y) = \\mathbb P(|X - 1| \\leqslant y)$\n",
    "\n",
    "$|X - 1| \\leqslant y \\Rightarrow -y \\leqslant X - 1 \\leqslant y \\Rightarrow 1-y \\leqslant X \\leqslant y+1$.\n",
    "\n",
    "Таким образом, $F_Y(y) = P(1-y \\leqslant X \\leqslant y+1) = \\frac{x - 0}{1} \\bigg|_{1-y}^{y+1} = 2y$ для $0 \\leqslant y \\leqslant 1$.\n",
    "\n",
    "Итак, распределение случайной величины $Y = |X|$:\n",
    "$$\n",
    "F_Y(y) = \n",
    "\\begin{cases} \n",
    "0, & y < 0, \\\\\n",
    "2y, & 0 \\leqslant y \\leqslant 1, \\\\\n",
    "1, & y > 1.\n",
    "\\end{cases}\n",
    "$$"
   ]
  },
  {
   "cell_type": "markdown",
   "metadata": {},
   "source": [
    "# 8\n",
    "\n",
    "Случайная величина $X$ равномерно распределена на отрезке $[a; b]$. Найдите $a$ и $b$, если $\\mathbb E(X^2) = 1$ и $\\mathbb E(X) = -\\mathbb E(X^3)$."
   ]
  },
  {
   "cell_type": "markdown",
   "metadata": {},
   "source": [
    "## Аналитика\n",
    "$f(x) = \\frac{1}{b-a}$\n",
    "\n",
    "\n",
    "$\\mathbb E(X^2) = \\int_{- \\infty}^{+ \\infty} x^2 f(x) \\,dx = \\frac{1}{b-a} \\int_{a}^{b} x^2 \\,dx = \\frac{1}{b-a} \\cdot \\frac{b^3 - a^3}{3} = \\frac{a^2 + ab + b^2}{3} = 1$\n",
    "\n",
    "$\\mathbb E(X) = -\\mathbb E(X^3)$ \n",
    "\n",
    "$\\mathbb E(X^3) = \\int_{- \\infty}^{+ \\infty} x^3 f(x) \\,dx = \\frac{1}{b-a} \\int_{a}^{b} x^3 \\,dx = \\frac{1}{b-a} \\cdot \\frac{b^4 - a^4}{4} = \\frac{(a^2 + b^2) \\cdot (a + b)}{4}$\n",
    "\n",
    "$\\mathbb E(X) = \\int_{- \\infty}^{+ \\infty} x f(x) \\,dx = \\frac{1}{b-a} \\int_{a}^{b} x \\,dx = \\frac{1}{b-a} \\cdot \\frac{b^2 - a^2}{2} = \\frac{a + b}{2}$\n",
    "\n",
    "$\n",
    "\\begin{cases}\n",
    "\\frac{a^2 + ab + b^2}{3} = 1 \\\\\n",
    "\\frac{(a^2 + b^2) \\cdot (a + b)}{4} = - \\frac{a + b}{2}\n",
    "\\end{cases} \n",
    "\\Rightarrow\n",
    "\\begin{cases}\n",
    "a = -\\sqrt{3} \\\\\n",
    "b = \\sqrt{3}\n",
    "\\end{cases}\n",
    "$"
   ]
  },
  {
   "cell_type": "markdown",
   "metadata": {},
   "source": [
    "# 9 \n",
    "\n",
    "Случайная величина $X$ равномерно распределена на отрезке $[0; 1]$. Найдите $\\rho(X; X^3)$."
   ]
  },
  {
   "cell_type": "code",
   "execution_count": 37,
   "metadata": {},
   "outputs": [],
   "source": [
    "X = uniform(loc=0, scale=1)"
   ]
  },
  {
   "cell_type": "code",
   "execution_count": 38,
   "metadata": {},
   "outputs": [
    {
     "data": {
      "text/plain": [
       "array([[1.       , 0.9163068],\n",
       "       [0.9163068, 1.       ]])"
      ]
     },
     "execution_count": 38,
     "metadata": {},
     "output_type": "execute_result"
    }
   ],
   "source": [
    "X_values = X.rvs(size=100_000)\n",
    "\n",
    "np.corrcoef(X_values, X_values ** 3)"
   ]
  },
  {
   "cell_type": "markdown",
   "metadata": {},
   "source": [
    "# 12\n",
    "\n",
    "Случайная величина $X$ распределена по показательному закону. Найдите\n",
    "математическое ожидание $\\mathbb E[(X−9)(10−X)]$, если дисперсия $\\mathbb Var[10 − 4X] = 9$"
   ]
  },
  {
   "cell_type": "markdown",
   "metadata": {},
   "source": [
    "## Аналитика\n",
    "\n",
    "$\\mathbb Var(10-4X) = 9 \\Rightarrow \\mathbb Var(10) + \\mathbb Var(4X) = 9 \\Rightarrow 16 \\mathbb Var(X) = 9 \\Rightarrow \\lambda = \\frac{4}{3}$\n",
    "\n",
    "$\\mathbb E[(X-9)(10-X)] = \\mathbb E[-X^2+19X-90] = 19 \\mathbb E(X) - \\mathbb E(90) - \\mathbb E(X^2) = 19 \\cdot \\frac{1}{\\lambda} - 90 - \\frac{1}{\\lambda^2} = \\frac{19}{\\lambda} - \\frac{1}{\\lambda^2} - 90$"
   ]
  },
  {
   "cell_type": "markdown",
   "metadata": {},
   "source": [
    "# 13\n",
    "\n",
    "Случайная величина $X$ имеет распределение Коши с плотностью распределения $f(x) = \\frac{b}{\\pi [b^2 + (x - a)^2]}$ . Найдите плотность распределения случайной\n",
    "величины $Y = \\frac{1}{X}$"
   ]
  },
  {
   "cell_type": "markdown",
   "metadata": {},
   "source": [
    "# Аналитика\n",
    "\n",
    "$\\int f(x) \\,dx = -\\frac{1}{\\pi} \\cdot arctg(\\frac{a-x}{b})$\n",
    "\n",
    "$F_Y(y) = \\mathbb P(Y \\leqslant y) = \\mathbb P(\\frac{1}{X} \\leqslant y)$\n",
    "\n",
    "$\\frac{1}{X} \\leqslant y \\Rightarrow \\frac{1 - X \\cdot y}{X} \\leqslant 0 \\Rightarrow$\n",
    "$\n",
    "\\begin{cases}\n",
    "y = 0, X < 0 \\\\\n",
    "y > 0, X \\in (-\\infty; 0) \\cup [\\frac{1}{y}; \\infty) \\\\\n",
    "y < 0, X \\in [\\frac{1}{y}; 0)\n",
    "\\end{cases}\n",
    "$\n",
    "\n",
    "$F_Y(y) = \n",
    "\\begin{cases}\n",
    "y = 0, \\int_{-\\infty}^0 f(x) \\,dx \\\\\n",
    "y > 0, \\int_{-\\infty}^0 f(x) \\,dx + \\int_{-\\frac{1}{y}}^{+\\infty} f(x) \\,dx  \\\\\n",
    "y < 0, \\int_{-\\frac{1}{y}}^0 f(x) \\,dx\n",
    "\\end{cases}\n",
    "\\Rightarrow\n",
    "\\begin{cases}\n",
    "y = 0,  -\\frac{1}{\\pi} \\cdot arctg(\\frac{a-x}{b}) \\bigg|_{-\\infty}^0 \\\\\n",
    "y > 0, -\\frac{1}{\\pi} \\cdot arctg(\\frac{a-x}{b}) \\bigg|_{-\\infty}^0 + -\\frac{1}{\\pi} \\cdot arctg(\\frac{a-x}{b}) \\bigg|_{-\\frac{1}{y}}^{+\\infty}  \\\\\n",
    "y < 0, -\\frac{1}{\\pi} \\cdot arctg(\\frac{a-x}{b}) \\bigg|_{-\\frac{1}{y}}^0\n",
    "\\end{cases} \n",
    "\\Rightarrow \\\\\n",
    "\\Rightarrow\n",
    "\\begin{cases}\n",
    "y = 0,  -\\frac{1}{\\pi} \\cdot (arctg(\\frac{a}{b}) + \\frac{1}{2}) \\\\\n",
    "y > 0, -\\frac{1}{\\pi} \\cdot (arctg(\\frac{a}{b}) + \\frac{1}{2}) + +\\frac{1}{\\pi} \\cdot (\\frac{1}{2} + \\frac{\\pi}{2}) \\\\\n",
    "y < 0, -\\frac{1}{\\pi} \\cdot (arctg(\\frac{a}{b}) - ...)arctg(\\frac{a-x}{b}) \\bigg|_{-\\frac{1}{y}}^0\n",
    "\\end{cases} $"
   ]
  },
  {
   "cell_type": "markdown",
   "metadata": {},
   "source": [
    "# 14\n",
    "\n",
    "Пусть с.в. $X \\sim Ca(1; 2)$. Найдите вероятность $\\mathbb P(\\frac{1}{X} > 3)$ и покажите статистическую устойчивость полученной вероятности."
   ]
  },
  {
   "cell_type": "markdown",
   "metadata": {},
   "source": [
    "## Аналитика\n",
    "\n",
    "$\\frac{1}{X} \\sim Ca(\\frac{a}{a^2 + b^2}; \\frac{b}{a^2 + b^2}) = Ca(\\frac{1}{5}; \\frac{2}{5})$\n",
    "\n",
    "$f_Y(y) = \\frac{\\frac{2}{5}}{\\pi \\cdot ((x - \\frac{1}{5})^2 + \\frac{2}{5}^2)}$\n",
    "\n",
    "$\\mathbb P(\\frac{1}{X} > 3) = \\int_3^{\\infty} \\frac{\\frac{2}{5}}{\\pi \\cdot ((x - \\frac{1}{5})^2 + \\frac{2}{5}^2)} \\,dx = \\frac{1}{\\pi} \\cdot arctg(\\frac{5x-1}{2}) \\bigg|_3^{\\infty} = \\frac{1}{2} - \\frac{1}{\\pi} arctg(7)$"
   ]
  },
  {
   "cell_type": "code",
   "execution_count": 41,
   "metadata": {},
   "outputs": [
    {
     "data": {
      "image/png": "[encoded data removed]",
      "text/latex": [
       "$\\displaystyle 0.0451672353008665$"
      ],
      "text/plain": [
       "0.045167235300866526"
      ]
     },
     "execution_count": 41,
     "metadata": {},
     "output_type": "execute_result"
    }
   ],
   "source": [
    "X = cauchy(1, 2)\n",
    "\n",
    "X.cdf(1/3) - X.cdf(0)"
   ]
  },
  {
   "cell_type": "code",
   "execution_count": 44,
   "metadata": {},
   "outputs": [],
   "source": [
    "from tqdm.notebook import tqdm"
   ]
  },
  {
   "cell_type": "code",
   "execution_count": 45,
   "metadata": {},
   "outputs": [
    {
     "data": {
      "application/vnd.jupyter.widget-view+json": {
       "model_id": "b2ecc16308ba40d4830379e1a0ffd9e8",
       "version_major": 2,
       "version_minor": 0
      },
      "text/plain": [
       "  0%|          | 0/10000 [00:00<?, ?it/s]"
      ]
     },
     "metadata": {},
     "output_type": "display_data"
    }
   ],
   "source": [
    "N = 10_000\n",
    "x = np.arange(1, N+1)\n",
    "y = []\n",
    "\n",
    "for n in tqdm(range(1,N+1)):\n",
    "    X_values = X.rvs(size=n)\n",
    "\n",
    "    X_values = 1/X_values\n",
    "\n",
    "    y.append(X_values[X_values > 3].size / n)"
   ]
  },
  {
   "cell_type": "code",
   "execution_count": 54,
   "metadata": {},
   "outputs": [
    {
     "data": {
      "text/plain": [
       "[<matplotlib.lines.Line2D at 0x7f30ca2d0bc0>]"
      ]
     },
     "execution_count": 54,
     "metadata": {},
     "output_type": "execute_result"
    },
    {
     "data": {
      "image/png": "[encoded data removed]",
      "text/plain": [
       "<Figure size 1500x600 with 1 Axes>"
      ]
     },
     "metadata": {},
     "output_type": "display_data"
    }
   ],
   "source": [
    "plt.figure(figsize=(15, 6))\n",
    "plt.plot(x, y)\n",
    "plt.plot(x, [0.045167] * N, color='r', linestyle='dotted')"
   ]
  },
  {
   "cell_type": "markdown",
   "metadata": {},
   "source": [
    "# 15\n",
    "На окружности радиуса $R$ берут две точки с равномерным распределением. Найдите функцию распределения расстояния $\\gamma$ между ними и вычислите $\\mathbb E(\\gamma)$. Используя инструментарий IPython, постройте график зависи-\n",
    "мости среднего значения расстояния от числа экспериментов для $R = 1$."
   ]
  },
  {
   "cell_type": "markdown",
   "metadata": {},
   "source": [
    "## Аналитика\n",
    "\n",
    "Зададим распределение для каждой из координаты, тогда:   \n",
    "\n",
    "$X_1 \\sim U([-R; R]); X_2 \\sim U([-R; R]); Y_1 \\sim U([-R; R]); Y_2 \\sim U([-R; R])$\n",
    "\n",
    "$A = (X_1; Y_1); B = (X_2; Y_2)$\n",
    "\n",
    "$\\gamma = \\sqrt{A^2 - B^2} = \\sqrt{(X_1^2 - X_2^2) + (Y_1^2 - Y_2^2)}$"
   ]
  },
  {
   "cell_type": "markdown",
   "metadata": {},
   "source": [
    "# 18\n",
    "\n",
    "Абсолютно непрерывная случайная величина $X$ может принимать значения только в отрезке $[4; 7]$. На этом отрезке плотность распределения случайной величины X имеет вид: $f(x) = C (1 + 3x^{0,5} + 6x^{0,7} + 9x^{0,9})^{1,5}$, где $C$ – положительная константа. Найдите:\n",
    "1) константу $C$;\n",
    "2) математическое ожидание $\\mathbb E(X)$;\n",
    "3) стандартное отклонение $\\sigma_X$ ;\n",
    "4) квантиль уровня $0,8$ распределения $X$."
   ]
  },
  {
   "cell_type": "markdown",
   "metadata": {},
   "source": [
    "## Аналитикой\n",
    "\n",
    "$\\int_{4}^{7} f(x) \\,dx = 1 \\Rightarrow C \\int_{4}^{7} (1 + 3x^{0,5} + 6x^{0,7} + 9x^{0,9})^{1,5} \\,dx = 1 \\Rightarrow C = 0,000573$\n",
    "\n",
    "$\\mathbb E(X) = \\int_{4}^{7} x f(x) \\,dx = 5,6608$\n",
    "\n",
    "$\\sigma_X = \\sqrt{Var(X)} = \\sqrt{\\int_{4}^{7} x^2 f(x) \\,dx - \\mathbb E^2(X)} = \\sqrt{32,77117 - 32,04512} = 0,8521$"
   ]
  },
  {
   "cell_type": "code",
   "execution_count": 3,
   "metadata": {},
   "outputs": [],
   "source": [
    "def f(x):\n",
    "    return (1 + 3 * x ** 0.5 + 6 * x ** 0.7 + 9 * x ** 0.9) ** 1.5"
   ]
  },
  {
   "cell_type": "code",
   "execution_count": 9,
   "metadata": {},
   "outputs": [
    {
     "data": {
      "image/png": "[encoded data removed]",
      "text/latex": [
       "$\\displaystyle 0.000572651472639077$"
      ],
      "text/plain": [
       "0.0005726514726390773"
      ]
     },
     "execution_count": 9,
     "metadata": {},
     "output_type": "execute_result"
    }
   ],
   "source": [
    "from scipy import integrate\n",
    "C = 1 / integrate.quad(f, 4, 7)[0]\n",
    "C"
   ]
  },
  {
   "cell_type": "code",
   "execution_count": 14,
   "metadata": {},
   "outputs": [],
   "source": [
    "def xf(x):\n",
    "    return C * x * (1 + 3 * x ** 0.5 + 6 * x ** 0.7 + 9 * x ** 0.9) ** 1.5"
   ]
  },
  {
   "cell_type": "code",
   "execution_count": 20,
   "metadata": {},
   "outputs": [
    {
     "data": {
      "image/png": "[encoded data removed]",
      "text/latex": [
       "$\\displaystyle 5.66084050152096$"
      ],
      "text/plain": [
       "5.660840501520957"
      ]
     },
     "execution_count": 20,
     "metadata": {},
     "output_type": "execute_result"
    }
   ],
   "source": [
    "integrate.quad(xf, 4, 7)[0]"
   ]
  },
  {
   "cell_type": "code",
   "execution_count": 17,
   "metadata": {},
   "outputs": [],
   "source": [
    "def x2f(x):\n",
    "    return C * x ** 2 * (1 + 3 * x ** 0.5 + 6 * x ** 0.7 + 9 * x ** 0.9) ** 1.5"
   ]
  },
  {
   "cell_type": "code",
   "execution_count": 18,
   "metadata": {},
   "outputs": [
    {
     "data": {
      "image/png": "[encoded data removed]",
      "text/latex": [
       "$\\displaystyle 32.7711783239396$"
      ],
      "text/plain": [
       "32.77117832393955"
      ]
     },
     "execution_count": 18,
     "metadata": {},
     "output_type": "execute_result"
    }
   ],
   "source": [
    "integrate.quad(x2f, 4, 7)[0]"
   ]
  },
  {
   "cell_type": "code",
   "execution_count": null,
   "metadata": {},
   "outputs": [],
   "source": [
    "a, b = 4, 7\n",
    "\n",
    "while abs(b - a) >= 0.00001:\n",
    "    p = (a + b) / 2\n",
    "    q = integrate.quad(f, 4, p)[0]\n",
    "\n",
    "    if q > 0.8:\n",
    "        b = p\n",
    "    \n",
    "    elif q == 0.8:\n",
    "        break\n",
    "\n",
    "    else:\n",
    "        a = p "
   ]
  },
  {
   "cell_type": "code",
   "execution_count": null,
   "metadata": {},
   "outputs": [],
   "source": [
    "p"
   ]
  },
  {
   "cell_type": "markdown",
   "metadata": {},
   "source": [
    "# 19\n",
    "\n",
    "Случайная величина $X$ равномерно распределена на отрезке $[4; 8]$. Случайная величина $Y$ выражается через $X$ следующим образом:\n",
    "$Y = (1 + 6X^{0,5} + 4X^{0,7} + 5X^{0,9})^{1,3}$.\n",
    "Найдите:\n",
    "1) математическое ожидание $\\mathbb E(Y)$;\n",
    "2) стандартное отклонение $\\sigma_Y$ ;\n",
    "3) асимметрию $As(Y)$;\n",
    "4) квантиль уровня $0,8$ распределения $Y$ ."
   ]
  },
  {
   "cell_type": "markdown",
   "metadata": {},
   "source": [
    "## Аналитика\n",
    "$$"
   ]
  },
  {
   "cell_type": "markdown",
   "metadata": {},
   "source": [
    "## Стохастически"
   ]
  },
  {
   "cell_type": "code",
   "execution_count": 29,
   "metadata": {},
   "outputs": [],
   "source": [
    "X = uniform(loc=4, scale=4)"
   ]
  },
  {
   "cell_type": "code",
   "execution_count": 32,
   "metadata": {},
   "outputs": [],
   "source": [
    "X_values = X.rvs(size=1_000_000)\n",
    "\n",
    "Y_values = (1 + 6 * X_values ** 0.5 + 4 * X_values ** 0.7 + 5 * X_values ** 0.9) ** 1.3"
   ]
  },
  {
   "cell_type": "code",
   "execution_count": 33,
   "metadata": {},
   "outputs": [
    {
     "data": {
      "image/png": "[encoded data removed]",
      "text/latex": [
       "$\\displaystyle 182.088103398216$"
      ],
      "text/plain": [
       "182.08810339821642"
      ]
     },
     "execution_count": 33,
     "metadata": {},
     "output_type": "execute_result"
    }
   ],
   "source": [
    "Y_values.mean()"
   ]
  },
  {
   "cell_type": "code",
   "execution_count": 34,
   "metadata": {},
   "outputs": [
    {
     "data": {
      "image/png": "[encoded data removed]",
      "text/latex": [
       "$\\displaystyle 33.0768252298481$"
      ],
      "text/plain": [
       "33.0768252298481"
      ]
     },
     "execution_count": 34,
     "metadata": {},
     "output_type": "execute_result"
    }
   ],
   "source": [
    "np.std(Y_values)"
   ]
  },
  {
   "cell_type": "code",
   "execution_count": 35,
   "metadata": {},
   "outputs": [
    {
     "data": {
      "image/png": "[encoded data removed]",
      "text/latex": [
       "$\\displaystyle -0.00206953983169974$"
      ],
      "text/plain": [
       "-0.0020695398316997377"
      ]
     },
     "execution_count": 35,
     "metadata": {},
     "output_type": "execute_result"
    }
   ],
   "source": [
    "skew(Y_values)"
   ]
  },
  {
   "cell_type": "code",
   "execution_count": 36,
   "metadata": {},
   "outputs": [
    {
     "data": {
      "image/png": "[encoded data removed]",
      "text/latex": [
       "$\\displaystyle 216.452017766855$"
      ],
      "text/plain": [
       "216.45201776685542"
      ]
     },
     "execution_count": 36,
     "metadata": {},
     "output_type": "execute_result"
    }
   ],
   "source": [
    "np.quantile(Y_values, 0.8)"
   ]
  },
  {
   "cell_type": "code",
   "execution_count": null,
   "metadata": {},
   "outputs": [],
   "source": []
  }
 ],
 "metadata": {
  "kernelspec": {
   "display_name": "Python 3 (ipykernel)",
   "language": "python",
   "name": "python3"
  }
 },
 "nbformat": 4,
 "nbformat_minor": 2
}
