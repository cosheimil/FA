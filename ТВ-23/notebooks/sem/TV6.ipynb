{
 "cells": [
  {
   "cell_type": "markdown",
   "metadata": {},
   "source": [
    "# Библиотеки"
   ]
  },
  {
   "cell_type": "code",
   "execution_count": 1,
   "metadata": {},
   "outputs": [],
   "source": [
    "import numpy as np\n",
    "from itertools import *\n",
    "from more_itertools import *\n",
    "from sympy import *\n",
    "from scipy.special import *\n",
    "import math\n",
    "from fractions import Fraction\n",
    "from scipy.stats import *\n",
    "from tqdm.notebook import tqdm"
   ]
  },
  {
   "cell_type": "markdown",
   "metadata": {},
   "source": [
    "# 1\n",
    "Распределение случайной величины $X$ задано таблицей:\n",
    "\n",
    "|$X$|7|8|11|14|15|\n",
    "|:-:|:-:|:-:|:-:|:-:|:-:|\n",
    "|$\\mathbb P$|0,25|0,2|0,1|0,2|0,25|\n",
    "\n",
    "Найдите $\\mu = \\mathbb E(X), \\delta = \\delta_x, \\mathbb P(|X - \\mu| < \\delta)$\n"
   ]
  },
  {
   "cell_type": "markdown",
   "metadata": {},
   "source": [
    "## Аналитика\n",
    "$\\mathbb E(X) = \\sum_{i=1}^{n} X_i \\cdot \\mathbb P(X_i)$   \n",
    "$\\mu = \\mathbb E(X) = 7 \\cdot 0,25 + 8 \\cdot 0,2 + 11 \\cdot 0,1 + 14 \\cdot 0,2 + 15 \\cdot 0,25 = 11$  \n",
    "$Var(X) = \\mathbb E(X^2) - [E(X)]^2$  \n",
    "$Var(X) = 7^2 \\cdot 0,25 + 8^2 \\cdot 0,2 + 11^2 \\cdot 0,1 + 14^2 \\cdot 0,2 + 15^2 \\cdot 0,25 - 11^2= 132,6 - 121 = 11,6$  \n",
    "$\\delta = \\sqrt{D(X)} = \\sqrt{11,6} \\approx 3,4$   \n",
    "$\\mathbb P(|X - \\mu| < \\delta) = 0,25 + 0,25 = 0,5$"
   ]
  },
  {
   "cell_type": "markdown",
   "metadata": {},
   "source": [
    "## Кодом"
   ]
  },
  {
   "cell_type": "code",
   "execution_count": 4,
   "metadata": {},
   "outputs": [
    {
     "data": {
      "text/plain": [
       "0.5"
      ]
     },
     "execution_count": 4,
     "metadata": {},
     "output_type": "execute_result"
    }
   ],
   "source": [
    "x_val = [7, 8, 11, 14, 15]\n",
    "p_x = [0.25, 0.2, 0.1, 0.2, 0.25]\n",
    "\n",
    "X = rv_discrete(name='X', values=(x_val, p_x))\n",
    "\n",
    "X.expect(), X.std()\n",
    "\n",
    "prob = 0\n",
    "for i in x_val:\n",
    "    if abs(i - X.expect()) < X.std():\n",
    "        prob += X.pmf(i)\n",
    "prob"
   ]
  },
  {
   "cell_type": "code",
   "execution_count": 5,
   "metadata": {},
   "outputs": [
    {
     "data": {
      "text/plain": [
       "(11.0, 3.4058772731852835)"
      ]
     },
     "execution_count": 5,
     "metadata": {},
     "output_type": "execute_result"
    }
   ],
   "source": [
    "X.expect(), X.std()"
   ]
  },
  {
   "cell_type": "markdown",
   "metadata": {},
   "source": [
    "# 2\n",
    "\n",
    "Независимые случайные величины $X_1,\\ldots,X_4$ могут принимать только значения 0 и 1. При этом $\\mathbb P(X_i = 0) = 0,4, i = 1,\\ldots,4$. Найдите математическое\n",
    "ожидание $\\mathbb E[2^{X_1+\\ldots+X_4}]$"
   ]
  },
  {
   "cell_type": "markdown",
   "metadata": {},
   "source": [
    "## Аналитика\n",
    "\n",
    "$\\mathbb E[\\alpha X] = \\alpha \\mathbb E[X]$  \n",
    "\n",
    "$\\mathbb E[2^{X_1+\\ldots+X_4}] = \\mathbb E[2^{X_1}] \\cdot \\mathbb E[2^{X_2}] \\cdot \\mathbb E[2^{X_3}] \\cdot \\mathbb E[2^{X_4}]$.\n",
    "\n",
    "$\\mathbb E[2^{X_i}] = 2^0 \\cdot \\mathbb P(X_i = 0) + 2^1 \\cdot \\mathbb P(X_i = 1) = 0.6 \\cdot 2^0 + 0.4 \\cdot 2^1 = 1.6$.\n",
    "\n",
    "$\\mathbb E[2^{X_1+\\ldots+X_4}] = 1.6^4 = 6.5536$."
   ]
  },
  {
   "cell_type": "markdown",
   "metadata": {},
   "source": [
    "## Кодом"
   ]
  },
  {
   "cell_type": "code",
   "execution_count": 10,
   "metadata": {},
   "outputs": [
    {
     "data": {
      "text/plain": [
       "6.553600000000002"
      ]
     },
     "execution_count": 10,
     "metadata": {},
     "output_type": "execute_result"
    }
   ],
   "source": [
    "x_val = np.array([0, 1])\n",
    "p_x = [0.4, 0.6]\n",
    "\n",
    "X1 = rv_discrete(name='X1', values=(2 ** x_val, p_x))\n",
    "X2 = rv_discrete(name='X2', values=(2 ** x_val, p_x))\n",
    "X3 = rv_discrete(name='X3', values=(2 ** x_val, p_x))\n",
    "X4 = rv_discrete(name='X4', values=(2 ** x_val, p_x))\n",
    "\n",
    "X1.expect() * X2.expect() * X3.expect() * X4.expect()"
   ]
  },
  {
   "cell_type": "markdown",
   "metadata": {},
   "source": [
    "# 3\n",
    "\n",
    "Независимые случайные величины $X_1,X_2,\\ldots,X_{10}$ принимают только целые значения $−6,−5,\\ldots,3,4$. Найдите математическое ожидание $\\mathbb E(X_1 \\cdot X_2 \\dotsi X_{10})$, если известно, что возможные значения равновероятны."
   ]
  },
  {
   "cell_type": "markdown",
   "metadata": {},
   "source": [
    "## Аналитика\n",
    "\n",
    "$\\mathbb P(X_i) = \\frac{1}{11}$   \n",
    "\n",
    "$\\mathbb E(X_i) = -6 \\cdot \\frac{1}{11} + {-5} \\cdot \\frac{1}{11} + \\ldots + 4 \\cdot \\frac{1}{11} = -1$   \n",
    "\n",
    "тк независимые:  \n",
    "$\\mathbb E(X_1 \\cdot X_2 \\dotsi X_{10}) = \\mathbb E(X_1) \\cdot \\mathbb E(X_2) \\dotsi E(X_{10}) = (-1)^{10} = 1$"
   ]
  },
  {
   "cell_type": "markdown",
   "metadata": {},
   "source": [
    "## Код"
   ]
  },
  {
   "cell_type": "code",
   "execution_count": 48,
   "metadata": {},
   "outputs": [
    {
     "data": {
      "text/plain": [
       "292.542996"
      ]
     },
     "execution_count": 48,
     "metadata": {},
     "output_type": "execute_result"
    }
   ],
   "source": [
    "from functools import reduce\n",
    "import operator\n",
    "N = 1_000_000\n",
    "x_val = list(range(-6, 4+1))\n",
    "p_x = [1/len(x_val) for _ in range(len(x_val))]\n",
    "\n",
    "X = [rv_discrete(name=f'X_{i}', values=(x_val, p_x)) for i in range(1, 10+1)]\n",
    "\n",
    "X_sample = [X_i.rvs(size=N) for X_i in X]\n",
    "np.prod(X_sample, axis=0).mean()"
   ]
  },
  {
   "cell_type": "markdown",
   "metadata": {},
   "source": [
    "# 4\n",
    "Независимые случайные величины $X_1,\\ldots,X_{90}$ могут принимать только\n",
    "значения $0$ и $1$. При этом $\\mathbb P(X_i = 0) = 0,7, i = 1,\\ldots,90$. Найдите математическое ожидание $\\mathbb E[(X_1 + \\ldots + X_{90})^2]$"
   ]
  },
  {
   "cell_type": "markdown",
   "metadata": {},
   "source": [
    "## Аналитика\n",
    "\n",
    "$\\mathbb E[X+Y] = \\mathbb E[X] + \\mathbb E[Y]$  \n",
    "\n",
    "$\\mathbb E[X^2] = \\text{Var}(X) + (\\mathbb E[X])^2$  \n",
    "\n",
    "$\\mathbb E[(X_1 + \\ldots + X_{90})^2] = \\mathbb E[X_1^2 + \\ldots + X_{90}^2 + 2(X_1X_2 + X_1X_3 + \\ldots + X_{89}X_{90})]$.\n",
    "\n",
    "Так как $X_i$ могут принимать только значения 0 и 1, то $X_i^2 = X_i$.   \n",
    "\n",
    "$\\mathbb E[X_iX_j] = \\mathbb E[X_i] \\cdot \\mathbb E[X_j] = 0.3 \\cdot 0.3 = 0.09$ для $i \\neq j$.   \n",
    "\n",
    "$\\mathbb E[(X_1 + \\ldots + X_{90})^2] = 90 \\cdot 0.3 + 90 \\cdot 89 \\cdot 0.09 = 747,9$.   "
   ]
  },
  {
   "cell_type": "code",
   "execution_count": 2,
   "metadata": {},
   "outputs": [
    {
     "data": {
      "text/plain": [
       "748.148535"
      ]
     },
     "execution_count": 2,
     "metadata": {},
     "output_type": "execute_result"
    }
   ],
   "source": [
    "N = 1_000_000\n",
    "x_val = [0, 1]\n",
    "p_x = [0.7, 0.3]\n",
    "\n",
    "X = [rv_discrete(name=f'X_{i}', values=(x_val, p_x)) for i in range(1, 90+1)]\n",
    "\n",
    "X_sample = [X_i.rvs(size=N) for X_i in X]\n",
    "(np.sum(X_sample, axis=0) ** 2).mean()"
   ]
  },
  {
   "cell_type": "markdown",
   "metadata": {},
   "source": [
    "# 5\n",
    "\n",
    "Для независимых случайных величин $X_1, \\ldots, X_4$ известно, что их математические ожидания $\\mathbb E(X_i) = −1$, дисперсии $Var(X_i) = 3, i = 1, \\ldots , 4$. Найдите дисперсию произведения $Var(X_1 \\dotsi X_4)$."
   ]
  },
  {
   "cell_type": "markdown",
   "metadata": {},
   "source": [
    "## Аналитика\n",
    "\n",
    "$\\delta = \\sqrt{Var{X_i}} = \\sqrt{3}$  \n",
    "$Var(X_1 \\dotsi X_4) = \\prod_{i=1}^{4} (\\delta_i^2 + \\mathbb E(X_i)^2) - \\prod_{i=1}^4 (\\mathbb E(X_i)^2) = (\\sqrt{3}^2 + (-1)^2)^4 - (-1)^8 = 256 - 1 = 255$"
   ]
  },
  {
   "cell_type": "markdown",
   "metadata": {},
   "source": [
    "# 6"
   ]
  },
  {
   "cell_type": "markdown",
   "metadata": {},
   "source": [
    "## Аналитика\n",
    "$X$ - четыре грани, $Y$ - шесть граней, $Z$ - 12 граней\n",
    "$X + Y + Z$"
   ]
  },
  {
   "cell_type": "markdown",
   "metadata": {},
   "source": [
    "## Код"
   ]
  },
  {
   "cell_type": "code",
   "execution_count": 6,
   "metadata": {},
   "outputs": [],
   "source": [
    "X_ = [rv_discrete(name=f'{i}', values=((list(range(1, 6+1))), [1/6 for _ in range(6)])) for i in range(1,6+1)]"
   ]
  },
  {
   "cell_type": "code",
   "execution_count": 17,
   "metadata": {},
   "outputs": [
    {
     "data": {
      "text/plain": [
       "19.565643"
      ]
     },
     "execution_count": 17,
     "metadata": {},
     "output_type": "execute_result"
    }
   ],
   "source": [
    "X_sample = [X_i.rvs(size=1_000_000) for X_i in X_]\n",
    "(np.sum(X_sample, axis=0) - np.min(X_sample, axis=0)).mean()"
   ]
  },
  {
   "cell_type": "code",
   "execution_count": 21,
   "metadata": {},
   "outputs": [
    {
     "data": {
      "text/plain": [
       "1.0008000000000001"
      ]
     },
     "execution_count": 21,
     "metadata": {},
     "output_type": "execute_result"
    }
   ],
   "source": [
    "1.02 * 0.4 + 1.002 * 0.4 + 0.96 * 0.2"
   ]
  },
  {
   "cell_type": "markdown",
   "metadata": {},
   "source": []
  }
 ],
 "metadata": {
  "kernelspec": {
   "display_name": "Python 3 (ipykernel)",
   "language": "python",
   "name": "python3"
  },
  "language_info": {
   "codemirror_mode": {
    "name": "ipython",
    "version": 3
   },
   "file_extension": ".py",
   "mimetype": "text/x-python",
   "name": "python",
   "nbconvert_exporter": "python",
   "pygments_lexer": "ipython3",
   "version": "3.11.8"
  }
 },
 "nbformat": 4,
 "nbformat_minor": 2
}
